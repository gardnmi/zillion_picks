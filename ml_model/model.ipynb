{
 "cells": [
  {
   "cell_type": "code",
   "execution_count": 1,
   "metadata": {},
   "outputs": [],
   "source": [
    "import pandas as pd\n",
    "import numpy as np\n",
    "from pathlib import Path\n",
    "from sklearn.preprocessing import OrdinalEncoder\n",
    "from sklearn.compose import make_column_transformer\n",
    "from sklearn.model_selection import TimeSeriesSplit, GridSearchCV\n",
    "from sklearn.metrics import mean_squared_error, accuracy_score\n",
    "from xgboost import XGBRegressor, XGBClassifier\n",
    "from load import dataset"
   ]
  },
  {
   "cell_type": "code",
   "execution_count": 18,
   "metadata": {},
   "outputs": [],
   "source": [
    "# setup\n",
    "predict_week = 2\n",
    "predict_season = 2020"
   ]
  },
  {
   "cell_type": "code",
   "execution_count": 19,
   "metadata": {},
   "outputs": [],
   "source": [
    "# Load\n",
    "df = dataset(predict_season=predict_season, predict_week=predict_week, window_size=4, update_data=True, update_seasons=[pd.to_datetime('today').year])"
   ]
  },
  {
   "cell_type": "code",
   "execution_count": 20,
   "metadata": {},
   "outputs": [],
   "source": [
    "# Clean Up\n",
    "df[df.columns[df.columns.str.contains('home|Home')]] = df[df.columns[df.columns.str.contains(\n",
    "    'home|Home')]].groupby('home_team', as_index=False, group_keys=False).apply(lambda x: x.fillna(x.mean()))\n",
    "\n",
    "df[df.columns[df.columns.str.contains('away|Away')]] = df[df.columns[df.columns.str.contains(\n",
    "    'away|Away')]].groupby('away_team', as_index=False, group_keys=False).apply(lambda x: x.fillna(x.mean()))\n",
    "\n",
    "df = df.dropna(axis=1, thresh=int(len(df) * .9))\n",
    "\n",
    "df = df.fillna(0)\n",
    "\n",
    "df[df.select_dtypes('bool').columns] = df.select_dtypes('bool').astype('int')"
   ]
  },
  {
   "cell_type": "code",
   "execution_count": 22,
   "metadata": {
    "tags": []
   },
   "outputs": [],
   "source": [
    "# Model\n",
    "ct = make_column_transformer(\n",
    "    (OrdinalEncoder(), ['season_type', 'home_conference', 'away_conference']),\n",
    "    remainder='passthrough'\n",
    ")\n",
    "\n",
    "drop_columns =  ['game_id', 'season', 'venue', 'start_date', 'home_team', 'away_team', 'start_date', 'spread_target']\n",
    "\n",
    "X_train = df[df.start_date.dt.tz_convert('US/Central').dt.date < pd.to_datetime('today')].drop(drop_columns, axis=1)  \n",
    "y_train = df[df.start_date.dt.tz_convert('US/Central').dt.date < pd.to_datetime('today')][['spread_target']] \n",
    "\n",
    "X_pred = df[df.start_date.dt.tz_convert('US/Central').dt.date >= pd.to_datetime('today')].drop(drop_columns, axis=1) \n",
    "# y_pred = y[X.start_date.dt.date >= pd.to_datetime('today')]\n",
    "\n",
    "if len(X_pred) > 0:\n",
    "\n",
    "    spread_model = XGBRegressor(learning_rate=0.1, \n",
    "                                    colsample_bytree=1.0,\n",
    "                                    gamma=0.5,\n",
    "                                    max_depth=5,\n",
    "                                    min_child_weight=8,\n",
    "                                    n_estimators=100,\n",
    "                                    subsample=1.0)\n",
    "\n",
    "    spread_model.fit(ct.fit_transform(X_train), y_train['spread_target'])\n",
    "    y_spread_pred = np.around(spread_model.predict(ct.fit_transform(X_pred))/.5, decimals=0)*.5\n",
    "\n",
    "    final_columns = ['game_id', 'season', 'week', 'season_type', 'home_team',\n",
    "                    'home_conference', 'away_team', 'away_conference',  'pre_game_spread',\n",
    "                    'predicted_spread']\n",
    "\n",
    "    X_pred = pd.concat([\n",
    "                        X_pred, \n",
    "                        df[df.start_date.dt.tz_convert('US/Central').dt.date >= pd.to_datetime('today')].drop([col for col in df.columns if col not in drop_columns], axis=1) \n",
    "                        ], \n",
    "                        axis=1)\n",
    "\n",
    "    predict_df = pd.concat([\n",
    "            X_pred.reset_index(drop=True), \n",
    "            pd.Series(y_spread_pred, name='predicted_spread'),\n",
    "        ], axis=1)\n",
    "\n",
    "    predict_df = predict_df[final_columns]\n",
    "\n",
    "    predict_df['spread_pick'] = np.where(predict_df['predicted_spread'] <= predict_df['pre_game_spread'], predict_df['home_team'], predict_df['away_team'])\n",
    "    predict_df['straight_pick'] = np.where(predict_df['predicted_spread'] < 0, predict_df['home_team'], predict_df['away_team'])\n",
    "\n",
    "    predict_df = predict_df[predict_df['week'] == predict_week]\n",
    "    predict_df\n",
    "\n",
    "else:\n",
    "    print('Nothing to Predict')\n",
    "    pass\n"
   ]
  },
  {
   "cell_type": "code",
   "execution_count": 6,
   "metadata": {
    "tags": []
   },
   "outputs": [],
   "source": [
    "# Pull in games that have occurred within the current week to append to the predictions\n",
    "filepath = Path('../zillion_picks/picks')\n",
    "\n",
    "result_dfs = []\n",
    "\n",
    "for file in filepath.rglob('*.csv'):\n",
    "    result_df = pd.read_csv(file)\n",
    "\n",
    "\n",
    "    result_dfs.append(result_df)\n",
    "\n",
    "result_df = pd.concat(result_dfs)\n",
    "\n",
    "result_df = result_df[(result_df['week'] == predict_week) & (result_df['season'] == predict_season)]\n",
    "\n",
    "try:\n",
    "    result_df = result_df[~result_df.game_id.isin(predict_df.game_id)]\n",
    "    result_df = result_df.drop(['actual_spread', 'spread_result', 'straight_result', 'start_date'], axis=1)\n",
    "\n",
    "except:\n",
    "        result_df = result_df.drop(['actual_spread', 'spread_result', 'straight_result', 'start_date'], axis=1)"
   ]
  },
  {
   "cell_type": "code",
   "execution_count": 23,
   "metadata": {},
   "outputs": [
    {
     "output_type": "execute_result",
     "data": {
      "text/plain": "Empty DataFrame\nColumns: [game_id, season, week, season_type, home_team, home_conference, away_team, away_conference, pre_game_spread, predicted_spread, spread_pick, straight_pick]\nIndex: []",
      "text/html": "<div>\n<style scoped>\n    .dataframe tbody tr th:only-of-type {\n        vertical-align: middle;\n    }\n\n    .dataframe tbody tr th {\n        vertical-align: top;\n    }\n\n    .dataframe thead th {\n        text-align: right;\n    }\n</style>\n<table border=\"1\" class=\"dataframe\">\n  <thead>\n    <tr style=\"text-align: right;\">\n      <th></th>\n      <th>game_id</th>\n      <th>season</th>\n      <th>week</th>\n      <th>season_type</th>\n      <th>home_team</th>\n      <th>home_conference</th>\n      <th>away_team</th>\n      <th>away_conference</th>\n      <th>pre_game_spread</th>\n      <th>predicted_spread</th>\n      <th>spread_pick</th>\n      <th>straight_pick</th>\n    </tr>\n  </thead>\n  <tbody>\n  </tbody>\n</table>\n</div>"
     },
     "metadata": {},
     "execution_count": 23
    }
   ],
   "source": [
    "result_df"
   ]
  },
  {
   "cell_type": "code",
   "execution_count": 8,
   "metadata": {},
   "outputs": [],
   "source": [
    "# Merge Predit and Result Dataframes\n",
    "try:\n",
    "    predict_df = pd.concat([result_df, predict_df])\n",
    "except:\n",
    "    predict_df = result_df"
   ]
  },
  {
   "cell_type": "code",
   "execution_count": 9,
   "metadata": {},
   "outputs": [],
   "source": [
    "# Add spread target in case the game is complete\n",
    "predict_df = predict_df.merge(df[['game_id', 'spread_target', 'start_date']], on='game_id', how='left')"
   ]
  },
  {
   "cell_type": "code",
   "execution_count": 24,
   "metadata": {},
   "outputs": [
    {
     "output_type": "execute_result",
     "data": {
      "text/plain": "      game_id  season  week season_type          home_team   home_conference  \\\n0   401234559    2020     2     regular              Miami               ACC   \n1   401236081    2020     2     regular  Appalachian State          Sun Belt   \n2   401234565    2020     2     regular     North Carolina               ACC   \n3   401236221    2020     2     regular         Iowa State            Big 12   \n4   401236053    2020     2     regular       Kansas State            Big 12   \n5   401240296    2020     2     regular             Baylor            Big 12   \n6   401240113    2020     2     regular               Army  FBS Independents   \n7   401234574    2020     2     regular         Notre Dame  FBS Independents   \n8   401207113    2020     2     regular        Texas State          Sun Belt   \n9   401234563    2020     2     regular      Florida State               ACC   \n10  401234562    2020     2     regular        Wake Forest               ACC   \n11  401236041    2020     2     regular     Oklahoma State            Big 12   \n12  401239973    2020     2     regular      South Alabama          Sun Belt   \n13  401234564    2020     2     regular         Louisville               ACC   \n14  401236222    2020     2     regular              Texas            Big 12   \n15  401236658    2020     2     regular             Kansas            Big 12   \n\n           away_team    away_conference  pre_game_spread  predicted_spread  \\\n0                UAB     Conference USA            -14.5             -20.5   \n1          Charlotte     Conference USA            -17.0             -25.0   \n2           Syracuse                ACC            -23.0             -24.5   \n3          Louisiana           Sun Belt            -11.0             -19.0   \n4     Arkansas State           Sun Belt            -10.5             -19.5   \n5     Louisiana Tech     Conference USA            -18.5             -24.0   \n6   Louisiana Monroe           Sun Belt            -21.0             -29.5   \n7               Duke                ACC            -20.0             -25.5   \n8     UT San Antonio     Conference USA             -9.5             -18.0   \n9       Georgia Tech                ACC            -12.5             -19.5   \n10           Clemson                ACC             33.0              37.0   \n11             Tulsa  American Athletic            -22.0             -23.0   \n12            Tulane  American Athletic              8.0              15.0   \n13  Western Kentucky     Conference USA            -12.0             -14.0   \n14              UTEP     Conference USA            -43.0             -43.5   \n15  Coastal Carolina           Sun Belt             -7.0             -15.5   \n\n          spread_pick      straight_pick  \n0               Miami              Miami  \n1   Appalachian State  Appalachian State  \n2      North Carolina     North Carolina  \n3          Iowa State         Iowa State  \n4        Kansas State       Kansas State  \n5              Baylor             Baylor  \n6                Army               Army  \n7          Notre Dame         Notre Dame  \n8         Texas State        Texas State  \n9       Florida State      Florida State  \n10            Clemson            Clemson  \n11     Oklahoma State     Oklahoma State  \n12             Tulane             Tulane  \n13         Louisville         Louisville  \n14              Texas              Texas  \n15             Kansas             Kansas  ",
      "text/html": "<div>\n<style scoped>\n    .dataframe tbody tr th:only-of-type {\n        vertical-align: middle;\n    }\n\n    .dataframe tbody tr th {\n        vertical-align: top;\n    }\n\n    .dataframe thead th {\n        text-align: right;\n    }\n</style>\n<table border=\"1\" class=\"dataframe\">\n  <thead>\n    <tr style=\"text-align: right;\">\n      <th></th>\n      <th>game_id</th>\n      <th>season</th>\n      <th>week</th>\n      <th>season_type</th>\n      <th>home_team</th>\n      <th>home_conference</th>\n      <th>away_team</th>\n      <th>away_conference</th>\n      <th>pre_game_spread</th>\n      <th>predicted_spread</th>\n      <th>spread_pick</th>\n      <th>straight_pick</th>\n    </tr>\n  </thead>\n  <tbody>\n    <tr>\n      <th>0</th>\n      <td>401234559</td>\n      <td>2020</td>\n      <td>2</td>\n      <td>regular</td>\n      <td>Miami</td>\n      <td>ACC</td>\n      <td>UAB</td>\n      <td>Conference USA</td>\n      <td>-14.5</td>\n      <td>-20.5</td>\n      <td>Miami</td>\n      <td>Miami</td>\n    </tr>\n    <tr>\n      <th>1</th>\n      <td>401236081</td>\n      <td>2020</td>\n      <td>2</td>\n      <td>regular</td>\n      <td>Appalachian State</td>\n      <td>Sun Belt</td>\n      <td>Charlotte</td>\n      <td>Conference USA</td>\n      <td>-17.0</td>\n      <td>-25.0</td>\n      <td>Appalachian State</td>\n      <td>Appalachian State</td>\n    </tr>\n    <tr>\n      <th>2</th>\n      <td>401234565</td>\n      <td>2020</td>\n      <td>2</td>\n      <td>regular</td>\n      <td>North Carolina</td>\n      <td>ACC</td>\n      <td>Syracuse</td>\n      <td>ACC</td>\n      <td>-23.0</td>\n      <td>-24.5</td>\n      <td>North Carolina</td>\n      <td>North Carolina</td>\n    </tr>\n    <tr>\n      <th>3</th>\n      <td>401236221</td>\n      <td>2020</td>\n      <td>2</td>\n      <td>regular</td>\n      <td>Iowa State</td>\n      <td>Big 12</td>\n      <td>Louisiana</td>\n      <td>Sun Belt</td>\n      <td>-11.0</td>\n      <td>-19.0</td>\n      <td>Iowa State</td>\n      <td>Iowa State</td>\n    </tr>\n    <tr>\n      <th>4</th>\n      <td>401236053</td>\n      <td>2020</td>\n      <td>2</td>\n      <td>regular</td>\n      <td>Kansas State</td>\n      <td>Big 12</td>\n      <td>Arkansas State</td>\n      <td>Sun Belt</td>\n      <td>-10.5</td>\n      <td>-19.5</td>\n      <td>Kansas State</td>\n      <td>Kansas State</td>\n    </tr>\n    <tr>\n      <th>5</th>\n      <td>401240296</td>\n      <td>2020</td>\n      <td>2</td>\n      <td>regular</td>\n      <td>Baylor</td>\n      <td>Big 12</td>\n      <td>Louisiana Tech</td>\n      <td>Conference USA</td>\n      <td>-18.5</td>\n      <td>-24.0</td>\n      <td>Baylor</td>\n      <td>Baylor</td>\n    </tr>\n    <tr>\n      <th>6</th>\n      <td>401240113</td>\n      <td>2020</td>\n      <td>2</td>\n      <td>regular</td>\n      <td>Army</td>\n      <td>FBS Independents</td>\n      <td>Louisiana Monroe</td>\n      <td>Sun Belt</td>\n      <td>-21.0</td>\n      <td>-29.5</td>\n      <td>Army</td>\n      <td>Army</td>\n    </tr>\n    <tr>\n      <th>7</th>\n      <td>401234574</td>\n      <td>2020</td>\n      <td>2</td>\n      <td>regular</td>\n      <td>Notre Dame</td>\n      <td>FBS Independents</td>\n      <td>Duke</td>\n      <td>ACC</td>\n      <td>-20.0</td>\n      <td>-25.5</td>\n      <td>Notre Dame</td>\n      <td>Notre Dame</td>\n    </tr>\n    <tr>\n      <th>8</th>\n      <td>401207113</td>\n      <td>2020</td>\n      <td>2</td>\n      <td>regular</td>\n      <td>Texas State</td>\n      <td>Sun Belt</td>\n      <td>UT San Antonio</td>\n      <td>Conference USA</td>\n      <td>-9.5</td>\n      <td>-18.0</td>\n      <td>Texas State</td>\n      <td>Texas State</td>\n    </tr>\n    <tr>\n      <th>9</th>\n      <td>401234563</td>\n      <td>2020</td>\n      <td>2</td>\n      <td>regular</td>\n      <td>Florida State</td>\n      <td>ACC</td>\n      <td>Georgia Tech</td>\n      <td>ACC</td>\n      <td>-12.5</td>\n      <td>-19.5</td>\n      <td>Florida State</td>\n      <td>Florida State</td>\n    </tr>\n    <tr>\n      <th>10</th>\n      <td>401234562</td>\n      <td>2020</td>\n      <td>2</td>\n      <td>regular</td>\n      <td>Wake Forest</td>\n      <td>ACC</td>\n      <td>Clemson</td>\n      <td>ACC</td>\n      <td>33.0</td>\n      <td>37.0</td>\n      <td>Clemson</td>\n      <td>Clemson</td>\n    </tr>\n    <tr>\n      <th>11</th>\n      <td>401236041</td>\n      <td>2020</td>\n      <td>2</td>\n      <td>regular</td>\n      <td>Oklahoma State</td>\n      <td>Big 12</td>\n      <td>Tulsa</td>\n      <td>American Athletic</td>\n      <td>-22.0</td>\n      <td>-23.0</td>\n      <td>Oklahoma State</td>\n      <td>Oklahoma State</td>\n    </tr>\n    <tr>\n      <th>12</th>\n      <td>401239973</td>\n      <td>2020</td>\n      <td>2</td>\n      <td>regular</td>\n      <td>South Alabama</td>\n      <td>Sun Belt</td>\n      <td>Tulane</td>\n      <td>American Athletic</td>\n      <td>8.0</td>\n      <td>15.0</td>\n      <td>Tulane</td>\n      <td>Tulane</td>\n    </tr>\n    <tr>\n      <th>13</th>\n      <td>401234564</td>\n      <td>2020</td>\n      <td>2</td>\n      <td>regular</td>\n      <td>Louisville</td>\n      <td>ACC</td>\n      <td>Western Kentucky</td>\n      <td>Conference USA</td>\n      <td>-12.0</td>\n      <td>-14.0</td>\n      <td>Louisville</td>\n      <td>Louisville</td>\n    </tr>\n    <tr>\n      <th>14</th>\n      <td>401236222</td>\n      <td>2020</td>\n      <td>2</td>\n      <td>regular</td>\n      <td>Texas</td>\n      <td>Big 12</td>\n      <td>UTEP</td>\n      <td>Conference USA</td>\n      <td>-43.0</td>\n      <td>-43.5</td>\n      <td>Texas</td>\n      <td>Texas</td>\n    </tr>\n    <tr>\n      <th>15</th>\n      <td>401236658</td>\n      <td>2020</td>\n      <td>2</td>\n      <td>regular</td>\n      <td>Kansas</td>\n      <td>Big 12</td>\n      <td>Coastal Carolina</td>\n      <td>Sun Belt</td>\n      <td>-7.0</td>\n      <td>-15.5</td>\n      <td>Kansas</td>\n      <td>Kansas</td>\n    </tr>\n  </tbody>\n</table>\n</div>"
     },
     "metadata": {},
     "execution_count": 24
    }
   ],
   "source": [
    "predict_df"
   ]
  },
  {
   "cell_type": "code",
   "execution_count": 11,
   "metadata": {},
   "outputs": [],
   "source": [
    "# Convert spread_target games that have not occurred to Null\n",
    "predict_df['spread_target']  = np.where(pd.to_datetime(predict_df['start_date']).dt.date > pd.to_datetime('today').date(), np.nan, predict_df['spread_target'] )"
   ]
  },
  {
   "cell_type": "code",
   "execution_count": 12,
   "metadata": {},
   "outputs": [
    {
     "output_type": "execute_result",
     "data": {
      "text/plain": "      game_id  season  week season_type          home_team   home_conference  \\\n0   401234559    2020     2     regular              Miami               ACC   \n1   401236053    2020     2     regular       Kansas State            Big 12   \n2   401234565    2020     2     regular     North Carolina               ACC   \n3   401236221    2020     2     regular         Iowa State            Big 12   \n4   401236081    2020     2     regular  Appalachian State          Sun Belt   \n5   401240296    2020     2     regular             Baylor            Big 12   \n6   401240113    2020     2     regular               Army  FBS Independents   \n7   401234574    2020     2     regular         Notre Dame  FBS Independents   \n8   401207113    2020     2     regular        Texas State          Sun Belt   \n9   401234563    2020     2     regular      Florida State               ACC   \n10  401236041    2020     2     regular     Oklahoma State            Big 12   \n11  401234562    2020     2     regular        Wake Forest               ACC   \n12  401239973    2020     2     regular      South Alabama          Sun Belt   \n13  401234564    2020     2     regular         Louisville               ACC   \n14  401236222    2020     2     regular              Texas            Big 12   \n15  401236658    2020     2     regular             Kansas            Big 12   \n\n           away_team    away_conference  pre_game_spread  predicted_spread  \\\n0                UAB     Conference USA            -14.0             -20.5   \n1     Arkansas State           Sun Belt            -10.5             -19.5   \n2           Syracuse                ACC            -22.5             -24.5   \n3          Louisiana           Sun Belt            -11.0             -19.0   \n4          Charlotte     Conference USA            -17.0             -25.0   \n5     Louisiana Tech     Conference USA            -18.5             -24.0   \n6   Louisiana Monroe           Sun Belt            -19.5             -29.5   \n7               Duke                ACC            -19.5             -25.5   \n8     UT San Antonio     Conference USA             -8.0             -17.0   \n9       Georgia Tech                ACC            -12.5             -19.5   \n10             Tulsa  American Athletic            -22.0             -23.0   \n11           Clemson                ACC             33.0              37.0   \n12            Tulane  American Athletic              8.0              15.0   \n13  Western Kentucky     Conference USA            -12.0             -14.0   \n14              UTEP     Conference USA            -43.0             -43.5   \n15  Coastal Carolina           Sun Belt             -7.0             -15.5   \n\n          spread_pick      straight_pick  spread_target  \\\n0               Miami              Miami            NaN   \n1        Kansas State       Kansas State            NaN   \n2      North Carolina     North Carolina            NaN   \n3          Iowa State         Iowa State            NaN   \n4   Appalachian State  Appalachian State            NaN   \n5              Baylor             Baylor            NaN   \n6                Army               Army            NaN   \n7          Notre Dame         Notre Dame            NaN   \n8         Texas State        Texas State            NaN   \n9       Florida State      Florida State            NaN   \n10     Oklahoma State     Oklahoma State            NaN   \n11            Clemson            Clemson            NaN   \n12             Tulane             Tulane            NaN   \n13         Louisville         Louisville            NaN   \n14              Texas              Texas            NaN   \n15             Kansas             Kansas            NaN   \n\n                  start_date  \n0  2020-09-11 00:00:00+00:00  \n1  2020-09-12 16:00:00+00:00  \n2  2020-09-12 16:00:00+00:00  \n3  2020-09-12 16:00:00+00:00  \n4  2020-09-12 16:00:00+00:00  \n5  2020-09-12 16:00:00+00:00  \n6  2020-09-12 17:30:00+00:00  \n7  2020-09-12 18:30:00+00:00  \n8  2020-09-12 19:30:00+00:00  \n9  2020-09-12 19:30:00+00:00  \n10 2020-09-12 23:30:00+00:00  \n11 2020-09-12 23:30:00+00:00  \n12 2020-09-12 23:30:00+00:00  \n13 2020-09-13 00:00:00+00:00  \n14 2020-09-13 00:00:00+00:00  \n15 2020-09-13 02:00:00+00:00  ",
      "text/html": "<div>\n<style scoped>\n    .dataframe tbody tr th:only-of-type {\n        vertical-align: middle;\n    }\n\n    .dataframe tbody tr th {\n        vertical-align: top;\n    }\n\n    .dataframe thead th {\n        text-align: right;\n    }\n</style>\n<table border=\"1\" class=\"dataframe\">\n  <thead>\n    <tr style=\"text-align: right;\">\n      <th></th>\n      <th>game_id</th>\n      <th>season</th>\n      <th>week</th>\n      <th>season_type</th>\n      <th>home_team</th>\n      <th>home_conference</th>\n      <th>away_team</th>\n      <th>away_conference</th>\n      <th>pre_game_spread</th>\n      <th>predicted_spread</th>\n      <th>spread_pick</th>\n      <th>straight_pick</th>\n      <th>spread_target</th>\n      <th>start_date</th>\n    </tr>\n  </thead>\n  <tbody>\n    <tr>\n      <th>0</th>\n      <td>401234559</td>\n      <td>2020</td>\n      <td>2</td>\n      <td>regular</td>\n      <td>Miami</td>\n      <td>ACC</td>\n      <td>UAB</td>\n      <td>Conference USA</td>\n      <td>-14.0</td>\n      <td>-20.5</td>\n      <td>Miami</td>\n      <td>Miami</td>\n      <td>NaN</td>\n      <td>2020-09-11 00:00:00+00:00</td>\n    </tr>\n    <tr>\n      <th>1</th>\n      <td>401236053</td>\n      <td>2020</td>\n      <td>2</td>\n      <td>regular</td>\n      <td>Kansas State</td>\n      <td>Big 12</td>\n      <td>Arkansas State</td>\n      <td>Sun Belt</td>\n      <td>-10.5</td>\n      <td>-19.5</td>\n      <td>Kansas State</td>\n      <td>Kansas State</td>\n      <td>NaN</td>\n      <td>2020-09-12 16:00:00+00:00</td>\n    </tr>\n    <tr>\n      <th>2</th>\n      <td>401234565</td>\n      <td>2020</td>\n      <td>2</td>\n      <td>regular</td>\n      <td>North Carolina</td>\n      <td>ACC</td>\n      <td>Syracuse</td>\n      <td>ACC</td>\n      <td>-22.5</td>\n      <td>-24.5</td>\n      <td>North Carolina</td>\n      <td>North Carolina</td>\n      <td>NaN</td>\n      <td>2020-09-12 16:00:00+00:00</td>\n    </tr>\n    <tr>\n      <th>3</th>\n      <td>401236221</td>\n      <td>2020</td>\n      <td>2</td>\n      <td>regular</td>\n      <td>Iowa State</td>\n      <td>Big 12</td>\n      <td>Louisiana</td>\n      <td>Sun Belt</td>\n      <td>-11.0</td>\n      <td>-19.0</td>\n      <td>Iowa State</td>\n      <td>Iowa State</td>\n      <td>NaN</td>\n      <td>2020-09-12 16:00:00+00:00</td>\n    </tr>\n    <tr>\n      <th>4</th>\n      <td>401236081</td>\n      <td>2020</td>\n      <td>2</td>\n      <td>regular</td>\n      <td>Appalachian State</td>\n      <td>Sun Belt</td>\n      <td>Charlotte</td>\n      <td>Conference USA</td>\n      <td>-17.0</td>\n      <td>-25.0</td>\n      <td>Appalachian State</td>\n      <td>Appalachian State</td>\n      <td>NaN</td>\n      <td>2020-09-12 16:00:00+00:00</td>\n    </tr>\n    <tr>\n      <th>5</th>\n      <td>401240296</td>\n      <td>2020</td>\n      <td>2</td>\n      <td>regular</td>\n      <td>Baylor</td>\n      <td>Big 12</td>\n      <td>Louisiana Tech</td>\n      <td>Conference USA</td>\n      <td>-18.5</td>\n      <td>-24.0</td>\n      <td>Baylor</td>\n      <td>Baylor</td>\n      <td>NaN</td>\n      <td>2020-09-12 16:00:00+00:00</td>\n    </tr>\n    <tr>\n      <th>6</th>\n      <td>401240113</td>\n      <td>2020</td>\n      <td>2</td>\n      <td>regular</td>\n      <td>Army</td>\n      <td>FBS Independents</td>\n      <td>Louisiana Monroe</td>\n      <td>Sun Belt</td>\n      <td>-19.5</td>\n      <td>-29.5</td>\n      <td>Army</td>\n      <td>Army</td>\n      <td>NaN</td>\n      <td>2020-09-12 17:30:00+00:00</td>\n    </tr>\n    <tr>\n      <th>7</th>\n      <td>401234574</td>\n      <td>2020</td>\n      <td>2</td>\n      <td>regular</td>\n      <td>Notre Dame</td>\n      <td>FBS Independents</td>\n      <td>Duke</td>\n      <td>ACC</td>\n      <td>-19.5</td>\n      <td>-25.5</td>\n      <td>Notre Dame</td>\n      <td>Notre Dame</td>\n      <td>NaN</td>\n      <td>2020-09-12 18:30:00+00:00</td>\n    </tr>\n    <tr>\n      <th>8</th>\n      <td>401207113</td>\n      <td>2020</td>\n      <td>2</td>\n      <td>regular</td>\n      <td>Texas State</td>\n      <td>Sun Belt</td>\n      <td>UT San Antonio</td>\n      <td>Conference USA</td>\n      <td>-8.0</td>\n      <td>-17.0</td>\n      <td>Texas State</td>\n      <td>Texas State</td>\n      <td>NaN</td>\n      <td>2020-09-12 19:30:00+00:00</td>\n    </tr>\n    <tr>\n      <th>9</th>\n      <td>401234563</td>\n      <td>2020</td>\n      <td>2</td>\n      <td>regular</td>\n      <td>Florida State</td>\n      <td>ACC</td>\n      <td>Georgia Tech</td>\n      <td>ACC</td>\n      <td>-12.5</td>\n      <td>-19.5</td>\n      <td>Florida State</td>\n      <td>Florida State</td>\n      <td>NaN</td>\n      <td>2020-09-12 19:30:00+00:00</td>\n    </tr>\n    <tr>\n      <th>10</th>\n      <td>401236041</td>\n      <td>2020</td>\n      <td>2</td>\n      <td>regular</td>\n      <td>Oklahoma State</td>\n      <td>Big 12</td>\n      <td>Tulsa</td>\n      <td>American Athletic</td>\n      <td>-22.0</td>\n      <td>-23.0</td>\n      <td>Oklahoma State</td>\n      <td>Oklahoma State</td>\n      <td>NaN</td>\n      <td>2020-09-12 23:30:00+00:00</td>\n    </tr>\n    <tr>\n      <th>11</th>\n      <td>401234562</td>\n      <td>2020</td>\n      <td>2</td>\n      <td>regular</td>\n      <td>Wake Forest</td>\n      <td>ACC</td>\n      <td>Clemson</td>\n      <td>ACC</td>\n      <td>33.0</td>\n      <td>37.0</td>\n      <td>Clemson</td>\n      <td>Clemson</td>\n      <td>NaN</td>\n      <td>2020-09-12 23:30:00+00:00</td>\n    </tr>\n    <tr>\n      <th>12</th>\n      <td>401239973</td>\n      <td>2020</td>\n      <td>2</td>\n      <td>regular</td>\n      <td>South Alabama</td>\n      <td>Sun Belt</td>\n      <td>Tulane</td>\n      <td>American Athletic</td>\n      <td>8.0</td>\n      <td>15.0</td>\n      <td>Tulane</td>\n      <td>Tulane</td>\n      <td>NaN</td>\n      <td>2020-09-12 23:30:00+00:00</td>\n    </tr>\n    <tr>\n      <th>13</th>\n      <td>401234564</td>\n      <td>2020</td>\n      <td>2</td>\n      <td>regular</td>\n      <td>Louisville</td>\n      <td>ACC</td>\n      <td>Western Kentucky</td>\n      <td>Conference USA</td>\n      <td>-12.0</td>\n      <td>-14.0</td>\n      <td>Louisville</td>\n      <td>Louisville</td>\n      <td>NaN</td>\n      <td>2020-09-13 00:00:00+00:00</td>\n    </tr>\n    <tr>\n      <th>14</th>\n      <td>401236222</td>\n      <td>2020</td>\n      <td>2</td>\n      <td>regular</td>\n      <td>Texas</td>\n      <td>Big 12</td>\n      <td>UTEP</td>\n      <td>Conference USA</td>\n      <td>-43.0</td>\n      <td>-43.5</td>\n      <td>Texas</td>\n      <td>Texas</td>\n      <td>NaN</td>\n      <td>2020-09-13 00:00:00+00:00</td>\n    </tr>\n    <tr>\n      <th>15</th>\n      <td>401236658</td>\n      <td>2020</td>\n      <td>2</td>\n      <td>regular</td>\n      <td>Kansas</td>\n      <td>Big 12</td>\n      <td>Coastal Carolina</td>\n      <td>Sun Belt</td>\n      <td>-7.0</td>\n      <td>-15.5</td>\n      <td>Kansas</td>\n      <td>Kansas</td>\n      <td>NaN</td>\n      <td>2020-09-13 02:00:00+00:00</td>\n    </tr>\n  </tbody>\n</table>\n</div>"
     },
     "metadata": {},
     "execution_count": 12
    }
   ],
   "source": [
    "predict_df"
   ]
  },
  {
   "cell_type": "code",
   "execution_count": 13,
   "metadata": {},
   "outputs": [],
   "source": [
    "# Spread Result Calculation\n",
    "won = ((predict_df['predicted_spread'] > predict_df['pre_game_spread']) & (predict_df['spread_target'].fillna(0) > predict_df['pre_game_spread'])) | (\n",
    "    (predict_df['predicted_spread'] < predict_df['pre_game_spread']) & (predict_df['spread_target'].fillna(0) < predict_df['pre_game_spread']))\n",
    "\n",
    "push = predict_df['spread_target'].fillna(0) == predict_df['pre_game_spread']\n",
    "\n",
    "conditions = [won, push]\n",
    "choices = ['Won', 'Push']\n",
    "\n",
    "predict_df['spread_result'] = np.select(condlist=conditions, choicelist=choices, default='Lost')\n",
    "predict_df['spread_result'] = np.where(predict_df['spread_target'].isnull(), np.nan, predict_df['spread_result'])"
   ]
  },
  {
   "cell_type": "code",
   "execution_count": 14,
   "metadata": {},
   "outputs": [],
   "source": [
    "# Straight Up Result Calculation\n",
    "result = predict_df['spread_target'].fillna(1) * predict_df['predicted_spread']\n",
    "\n",
    "predict_df['straight_result'] = np.where(result > 0, 'Won', 'Lost')\n",
    "predict_df['straight_result'] = np.where(predict_df['spread_target'].isnull(), np.nan, predict_df['straight_result'])"
   ]
  },
  {
   "cell_type": "code",
   "execution_count": 15,
   "metadata": {},
   "outputs": [],
   "source": [
    "# Rename Column\n",
    "predict_df = predict_df.rename(columns={'spread_target':'actual_spread'})"
   ]
  },
  {
   "cell_type": "code",
   "execution_count": 16,
   "metadata": {},
   "outputs": [
    {
     "output_type": "execute_result",
     "data": {
      "text/plain": "      game_id  season  week season_type          home_team   home_conference  \\\n0   401234559    2020     2     regular              Miami               ACC   \n1   401236053    2020     2     regular       Kansas State            Big 12   \n2   401234565    2020     2     regular     North Carolina               ACC   \n3   401236221    2020     2     regular         Iowa State            Big 12   \n4   401236081    2020     2     regular  Appalachian State          Sun Belt   \n5   401240296    2020     2     regular             Baylor            Big 12   \n6   401240113    2020     2     regular               Army  FBS Independents   \n7   401234574    2020     2     regular         Notre Dame  FBS Independents   \n8   401207113    2020     2     regular        Texas State          Sun Belt   \n9   401234563    2020     2     regular      Florida State               ACC   \n10  401236041    2020     2     regular     Oklahoma State            Big 12   \n11  401234562    2020     2     regular        Wake Forest               ACC   \n12  401239973    2020     2     regular      South Alabama          Sun Belt   \n13  401234564    2020     2     regular         Louisville               ACC   \n14  401236222    2020     2     regular              Texas            Big 12   \n15  401236658    2020     2     regular             Kansas            Big 12   \n\n           away_team    away_conference  pre_game_spread  predicted_spread  \\\n0                UAB     Conference USA            -14.0             -20.5   \n1     Arkansas State           Sun Belt            -10.5             -19.5   \n2           Syracuse                ACC            -22.5             -24.5   \n3          Louisiana           Sun Belt            -11.0             -19.0   \n4          Charlotte     Conference USA            -17.0             -25.0   \n5     Louisiana Tech     Conference USA            -18.5             -24.0   \n6   Louisiana Monroe           Sun Belt            -19.5             -29.5   \n7               Duke                ACC            -19.5             -25.5   \n8     UT San Antonio     Conference USA             -8.0             -17.0   \n9       Georgia Tech                ACC            -12.5             -19.5   \n10             Tulsa  American Athletic            -22.0             -23.0   \n11           Clemson                ACC             33.0              37.0   \n12            Tulane  American Athletic              8.0              15.0   \n13  Western Kentucky     Conference USA            -12.0             -14.0   \n14              UTEP     Conference USA            -43.0             -43.5   \n15  Coastal Carolina           Sun Belt             -7.0             -15.5   \n\n          spread_pick      straight_pick  actual_spread  \\\n0               Miami              Miami            NaN   \n1        Kansas State       Kansas State            NaN   \n2      North Carolina     North Carolina            NaN   \n3          Iowa State         Iowa State            NaN   \n4   Appalachian State  Appalachian State            NaN   \n5              Baylor             Baylor            NaN   \n6                Army               Army            NaN   \n7          Notre Dame         Notre Dame            NaN   \n8         Texas State        Texas State            NaN   \n9       Florida State      Florida State            NaN   \n10     Oklahoma State     Oklahoma State            NaN   \n11            Clemson            Clemson            NaN   \n12             Tulane             Tulane            NaN   \n13         Louisville         Louisville            NaN   \n14              Texas              Texas            NaN   \n15             Kansas             Kansas            NaN   \n\n                  start_date spread_result straight_result  \n0  2020-09-11 00:00:00+00:00           NaN             NaN  \n1  2020-09-12 16:00:00+00:00           NaN             NaN  \n2  2020-09-12 16:00:00+00:00           NaN             NaN  \n3  2020-09-12 16:00:00+00:00           NaN             NaN  \n4  2020-09-12 16:00:00+00:00           NaN             NaN  \n5  2020-09-12 16:00:00+00:00           NaN             NaN  \n6  2020-09-12 17:30:00+00:00           NaN             NaN  \n7  2020-09-12 18:30:00+00:00           NaN             NaN  \n8  2020-09-12 19:30:00+00:00           NaN             NaN  \n9  2020-09-12 19:30:00+00:00           NaN             NaN  \n10 2020-09-12 23:30:00+00:00           NaN             NaN  \n11 2020-09-12 23:30:00+00:00           NaN             NaN  \n12 2020-09-12 23:30:00+00:00           NaN             NaN  \n13 2020-09-13 00:00:00+00:00           NaN             NaN  \n14 2020-09-13 00:00:00+00:00           NaN             NaN  \n15 2020-09-13 02:00:00+00:00           NaN             NaN  ",
      "text/html": "<div>\n<style scoped>\n    .dataframe tbody tr th:only-of-type {\n        vertical-align: middle;\n    }\n\n    .dataframe tbody tr th {\n        vertical-align: top;\n    }\n\n    .dataframe thead th {\n        text-align: right;\n    }\n</style>\n<table border=\"1\" class=\"dataframe\">\n  <thead>\n    <tr style=\"text-align: right;\">\n      <th></th>\n      <th>game_id</th>\n      <th>season</th>\n      <th>week</th>\n      <th>season_type</th>\n      <th>home_team</th>\n      <th>home_conference</th>\n      <th>away_team</th>\n      <th>away_conference</th>\n      <th>pre_game_spread</th>\n      <th>predicted_spread</th>\n      <th>spread_pick</th>\n      <th>straight_pick</th>\n      <th>actual_spread</th>\n      <th>start_date</th>\n      <th>spread_result</th>\n      <th>straight_result</th>\n    </tr>\n  </thead>\n  <tbody>\n    <tr>\n      <th>0</th>\n      <td>401234559</td>\n      <td>2020</td>\n      <td>2</td>\n      <td>regular</td>\n      <td>Miami</td>\n      <td>ACC</td>\n      <td>UAB</td>\n      <td>Conference USA</td>\n      <td>-14.0</td>\n      <td>-20.5</td>\n      <td>Miami</td>\n      <td>Miami</td>\n      <td>NaN</td>\n      <td>2020-09-11 00:00:00+00:00</td>\n      <td>NaN</td>\n      <td>NaN</td>\n    </tr>\n    <tr>\n      <th>1</th>\n      <td>401236053</td>\n      <td>2020</td>\n      <td>2</td>\n      <td>regular</td>\n      <td>Kansas State</td>\n      <td>Big 12</td>\n      <td>Arkansas State</td>\n      <td>Sun Belt</td>\n      <td>-10.5</td>\n      <td>-19.5</td>\n      <td>Kansas State</td>\n      <td>Kansas State</td>\n      <td>NaN</td>\n      <td>2020-09-12 16:00:00+00:00</td>\n      <td>NaN</td>\n      <td>NaN</td>\n    </tr>\n    <tr>\n      <th>2</th>\n      <td>401234565</td>\n      <td>2020</td>\n      <td>2</td>\n      <td>regular</td>\n      <td>North Carolina</td>\n      <td>ACC</td>\n      <td>Syracuse</td>\n      <td>ACC</td>\n      <td>-22.5</td>\n      <td>-24.5</td>\n      <td>North Carolina</td>\n      <td>North Carolina</td>\n      <td>NaN</td>\n      <td>2020-09-12 16:00:00+00:00</td>\n      <td>NaN</td>\n      <td>NaN</td>\n    </tr>\n    <tr>\n      <th>3</th>\n      <td>401236221</td>\n      <td>2020</td>\n      <td>2</td>\n      <td>regular</td>\n      <td>Iowa State</td>\n      <td>Big 12</td>\n      <td>Louisiana</td>\n      <td>Sun Belt</td>\n      <td>-11.0</td>\n      <td>-19.0</td>\n      <td>Iowa State</td>\n      <td>Iowa State</td>\n      <td>NaN</td>\n      <td>2020-09-12 16:00:00+00:00</td>\n      <td>NaN</td>\n      <td>NaN</td>\n    </tr>\n    <tr>\n      <th>4</th>\n      <td>401236081</td>\n      <td>2020</td>\n      <td>2</td>\n      <td>regular</td>\n      <td>Appalachian State</td>\n      <td>Sun Belt</td>\n      <td>Charlotte</td>\n      <td>Conference USA</td>\n      <td>-17.0</td>\n      <td>-25.0</td>\n      <td>Appalachian State</td>\n      <td>Appalachian State</td>\n      <td>NaN</td>\n      <td>2020-09-12 16:00:00+00:00</td>\n      <td>NaN</td>\n      <td>NaN</td>\n    </tr>\n    <tr>\n      <th>5</th>\n      <td>401240296</td>\n      <td>2020</td>\n      <td>2</td>\n      <td>regular</td>\n      <td>Baylor</td>\n      <td>Big 12</td>\n      <td>Louisiana Tech</td>\n      <td>Conference USA</td>\n      <td>-18.5</td>\n      <td>-24.0</td>\n      <td>Baylor</td>\n      <td>Baylor</td>\n      <td>NaN</td>\n      <td>2020-09-12 16:00:00+00:00</td>\n      <td>NaN</td>\n      <td>NaN</td>\n    </tr>\n    <tr>\n      <th>6</th>\n      <td>401240113</td>\n      <td>2020</td>\n      <td>2</td>\n      <td>regular</td>\n      <td>Army</td>\n      <td>FBS Independents</td>\n      <td>Louisiana Monroe</td>\n      <td>Sun Belt</td>\n      <td>-19.5</td>\n      <td>-29.5</td>\n      <td>Army</td>\n      <td>Army</td>\n      <td>NaN</td>\n      <td>2020-09-12 17:30:00+00:00</td>\n      <td>NaN</td>\n      <td>NaN</td>\n    </tr>\n    <tr>\n      <th>7</th>\n      <td>401234574</td>\n      <td>2020</td>\n      <td>2</td>\n      <td>regular</td>\n      <td>Notre Dame</td>\n      <td>FBS Independents</td>\n      <td>Duke</td>\n      <td>ACC</td>\n      <td>-19.5</td>\n      <td>-25.5</td>\n      <td>Notre Dame</td>\n      <td>Notre Dame</td>\n      <td>NaN</td>\n      <td>2020-09-12 18:30:00+00:00</td>\n      <td>NaN</td>\n      <td>NaN</td>\n    </tr>\n    <tr>\n      <th>8</th>\n      <td>401207113</td>\n      <td>2020</td>\n      <td>2</td>\n      <td>regular</td>\n      <td>Texas State</td>\n      <td>Sun Belt</td>\n      <td>UT San Antonio</td>\n      <td>Conference USA</td>\n      <td>-8.0</td>\n      <td>-17.0</td>\n      <td>Texas State</td>\n      <td>Texas State</td>\n      <td>NaN</td>\n      <td>2020-09-12 19:30:00+00:00</td>\n      <td>NaN</td>\n      <td>NaN</td>\n    </tr>\n    <tr>\n      <th>9</th>\n      <td>401234563</td>\n      <td>2020</td>\n      <td>2</td>\n      <td>regular</td>\n      <td>Florida State</td>\n      <td>ACC</td>\n      <td>Georgia Tech</td>\n      <td>ACC</td>\n      <td>-12.5</td>\n      <td>-19.5</td>\n      <td>Florida State</td>\n      <td>Florida State</td>\n      <td>NaN</td>\n      <td>2020-09-12 19:30:00+00:00</td>\n      <td>NaN</td>\n      <td>NaN</td>\n    </tr>\n    <tr>\n      <th>10</th>\n      <td>401236041</td>\n      <td>2020</td>\n      <td>2</td>\n      <td>regular</td>\n      <td>Oklahoma State</td>\n      <td>Big 12</td>\n      <td>Tulsa</td>\n      <td>American Athletic</td>\n      <td>-22.0</td>\n      <td>-23.0</td>\n      <td>Oklahoma State</td>\n      <td>Oklahoma State</td>\n      <td>NaN</td>\n      <td>2020-09-12 23:30:00+00:00</td>\n      <td>NaN</td>\n      <td>NaN</td>\n    </tr>\n    <tr>\n      <th>11</th>\n      <td>401234562</td>\n      <td>2020</td>\n      <td>2</td>\n      <td>regular</td>\n      <td>Wake Forest</td>\n      <td>ACC</td>\n      <td>Clemson</td>\n      <td>ACC</td>\n      <td>33.0</td>\n      <td>37.0</td>\n      <td>Clemson</td>\n      <td>Clemson</td>\n      <td>NaN</td>\n      <td>2020-09-12 23:30:00+00:00</td>\n      <td>NaN</td>\n      <td>NaN</td>\n    </tr>\n    <tr>\n      <th>12</th>\n      <td>401239973</td>\n      <td>2020</td>\n      <td>2</td>\n      <td>regular</td>\n      <td>South Alabama</td>\n      <td>Sun Belt</td>\n      <td>Tulane</td>\n      <td>American Athletic</td>\n      <td>8.0</td>\n      <td>15.0</td>\n      <td>Tulane</td>\n      <td>Tulane</td>\n      <td>NaN</td>\n      <td>2020-09-12 23:30:00+00:00</td>\n      <td>NaN</td>\n      <td>NaN</td>\n    </tr>\n    <tr>\n      <th>13</th>\n      <td>401234564</td>\n      <td>2020</td>\n      <td>2</td>\n      <td>regular</td>\n      <td>Louisville</td>\n      <td>ACC</td>\n      <td>Western Kentucky</td>\n      <td>Conference USA</td>\n      <td>-12.0</td>\n      <td>-14.0</td>\n      <td>Louisville</td>\n      <td>Louisville</td>\n      <td>NaN</td>\n      <td>2020-09-13 00:00:00+00:00</td>\n      <td>NaN</td>\n      <td>NaN</td>\n    </tr>\n    <tr>\n      <th>14</th>\n      <td>401236222</td>\n      <td>2020</td>\n      <td>2</td>\n      <td>regular</td>\n      <td>Texas</td>\n      <td>Big 12</td>\n      <td>UTEP</td>\n      <td>Conference USA</td>\n      <td>-43.0</td>\n      <td>-43.5</td>\n      <td>Texas</td>\n      <td>Texas</td>\n      <td>NaN</td>\n      <td>2020-09-13 00:00:00+00:00</td>\n      <td>NaN</td>\n      <td>NaN</td>\n    </tr>\n    <tr>\n      <th>15</th>\n      <td>401236658</td>\n      <td>2020</td>\n      <td>2</td>\n      <td>regular</td>\n      <td>Kansas</td>\n      <td>Big 12</td>\n      <td>Coastal Carolina</td>\n      <td>Sun Belt</td>\n      <td>-7.0</td>\n      <td>-15.5</td>\n      <td>Kansas</td>\n      <td>Kansas</td>\n      <td>NaN</td>\n      <td>2020-09-13 02:00:00+00:00</td>\n      <td>NaN</td>\n      <td>NaN</td>\n    </tr>\n  </tbody>\n</table>\n</div>"
     },
     "metadata": {},
     "execution_count": 16
    }
   ],
   "source": [
    "predict_df"
   ]
  },
  {
   "cell_type": "code",
   "execution_count": 17,
   "metadata": {},
   "outputs": [],
   "source": [
    "# Export\n",
    "filepath = Path('../zillion_picks/picks')\n",
    "\n",
    "for key, group in predict_df.groupby(['season', 'week', 'season_type']):\n",
    "    if group.season_type.unique() == 'postseason':\n",
    "        group.to_csv(filepath/f'premium/{key[0]}_postseason.csv', index=False)\n",
    "    else:\n",
    "        group.to_csv(filepath/f'premium/{key[0]}_{str(key[1]).rjust(2, \"0\")}.csv', index=False)"
   ]
  },
  {
   "cell_type": "code",
   "execution_count": 25,
   "metadata": {},
   "outputs": [],
   "source": []
  },
  {
   "cell_type": "code",
   "execution_count": 30,
   "metadata": {
    "tags": []
   },
   "outputs": [],
   "source": []
  },
  {
   "cell_type": "code",
   "execution_count": 32,
   "metadata": {},
   "outputs": [],
   "source": []
  },
  {
   "cell_type": "code",
   "execution_count": null,
   "metadata": {},
   "outputs": [],
   "source": []
  }
 ],
 "metadata": {
  "language_info": {
   "name": "python",
   "codemirror_mode": {
    "name": "ipython",
    "version": 3
   },
   "version": "3.8.2-final"
  },
  "orig_nbformat": 2,
  "file_extension": ".py",
  "mimetype": "text/x-python",
  "name": "python",
  "npconvert_exporter": "python",
  "pygments_lexer": "ipython3",
  "version": 3,
  "kernelspec": {
   "name": "python38264bitzillionpickscondadd1d5d1f064048d389c34f4ee92c62eb",
   "display_name": "Python 3.8.2 64-bit ('zillion_picks': conda)"
  }
 },
 "nbformat": 4,
 "nbformat_minor": 2
}