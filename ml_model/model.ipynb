{
 "cells": [
  {
   "cell_type": "code",
   "execution_count": 1,
   "metadata": {},
   "outputs": [],
   "source": [
    "import pandas as pd\n",
    "import numpy as np\n",
    "from pathlib import Path\n",
    "from sklearn.preprocessing import OrdinalEncoder\n",
    "from sklearn.compose import make_column_transformer\n",
    "from sklearn.model_selection import TimeSeriesSplit, GridSearchCV\n",
    "from sklearn.metrics import mean_squared_error, accuracy_score\n",
    "from xgboost import XGBRegressor, XGBClassifier\n",
    "from load import dataset"
   ]
  },
  {
   "cell_type": "code",
   "execution_count": 2,
   "metadata": {},
   "outputs": [],
   "source": [
    "# TODO\n",
    "#"
   ]
  },
  {
   "cell_type": "code",
   "execution_count": 67,
   "metadata": {},
   "outputs": [],
   "source": [
    "# Load\n",
    "df = dataset(predict_season=2020, predict_week=1, window_size=4, update_data=True, update_seasons=[pd.to_datetime('today').year])"
   ]
  },
  {
   "cell_type": "code",
   "execution_count": 68,
   "metadata": {},
   "outputs": [],
   "source": [
    "# Clean Up\n",
    "df[df.columns[df.columns.str.contains('home|Home')]] = df[df.columns[df.columns.str.contains(\n",
    "    'home|Home')]].groupby('home_team', as_index=False, group_keys=False).apply(lambda x: x.fillna(x.mean()))\n",
    "\n",
    "df[df.columns[df.columns.str.contains('away|Away')]] = df[df.columns[df.columns.str.contains(\n",
    "    'away|Away')]].groupby('away_team', as_index=False, group_keys=False).apply(lambda x: x.fillna(x.mean()))\n",
    "\n",
    "df = df.dropna(axis=1, thresh=int(len(df) * .9))\n",
    "\n",
    "df = df.fillna(0)\n",
    "\n",
    "df[df.select_dtypes('bool').columns] = df.select_dtypes('bool').astype('int')"
   ]
  },
  {
   "cell_type": "code",
   "execution_count": 69,
   "metadata": {},
   "outputs": [
    {
     "output_type": "execute_result",
     "data": {
      "text/plain": "     game_id  season  week season_type home_team    home_conference away_team  \\\n0  401234576    2020     1     regular      Navy  American Athletic       BYU   \n\n    away_conference  pre_game_spread  predicted_spread spread_pick  \\\n0  FBS Independents              1.0              -8.0        Navy   \n\n  straight_pick  \n0          Navy  ",
      "text/html": "<div>\n<style scoped>\n    .dataframe tbody tr th:only-of-type {\n        vertical-align: middle;\n    }\n\n    .dataframe tbody tr th {\n        vertical-align: top;\n    }\n\n    .dataframe thead th {\n        text-align: right;\n    }\n</style>\n<table border=\"1\" class=\"dataframe\">\n  <thead>\n    <tr style=\"text-align: right;\">\n      <th></th>\n      <th>game_id</th>\n      <th>season</th>\n      <th>week</th>\n      <th>season_type</th>\n      <th>home_team</th>\n      <th>home_conference</th>\n      <th>away_team</th>\n      <th>away_conference</th>\n      <th>pre_game_spread</th>\n      <th>predicted_spread</th>\n      <th>spread_pick</th>\n      <th>straight_pick</th>\n    </tr>\n  </thead>\n  <tbody>\n    <tr>\n      <th>0</th>\n      <td>401234576</td>\n      <td>2020</td>\n      <td>1</td>\n      <td>regular</td>\n      <td>Navy</td>\n      <td>American Athletic</td>\n      <td>BYU</td>\n      <td>FBS Independents</td>\n      <td>1.0</td>\n      <td>-8.0</td>\n      <td>Navy</td>\n      <td>Navy</td>\n    </tr>\n  </tbody>\n</table>\n</div>"
     },
     "metadata": {},
     "execution_count": 69
    }
   ],
   "source": [
    "# Model\n",
    "ct = make_column_transformer(\n",
    "    (OrdinalEncoder(), ['season_type', 'home_conference', 'away_conference']),\n",
    "    remainder='passthrough'\n",
    ")\n",
    "\n",
    "drop_columns =  ['game_id', 'season', 'venue', 'start_date', 'home_team', 'away_team', 'start_date', 'spread_target']\n",
    "\n",
    "X_train = df[df.start_date.dt.date < pd.to_datetime('today')].drop(drop_columns, axis=1)  \n",
    "y_train = df[df.start_date.dt.date < pd.to_datetime('today')][['spread_target']] \n",
    "\n",
    "X_pred = df[df.start_date.dt.date >= pd.to_datetime('today')].drop(drop_columns, axis=1) \n",
    "# y_pred = y[X.start_date.dt.date >= pd.to_datetime('today')]\n",
    "\n",
    "spread_model = XGBRegressor(learning_rate=0.1, \n",
    "                                colsample_bytree=1.0,\n",
    "                                gamma=0.5,\n",
    "                                max_depth=5,\n",
    "                                min_child_weight=8,\n",
    "                                n_estimators=100,\n",
    "                                subsample=1.0)\n",
    "\n",
    "spread_model.fit(ct.fit_transform(X_train), y_train['spread_target'])\n",
    "y_spread_pred = np.around(spread_model.predict(ct.fit_transform(X_pred))/.5, decimals=0)*.5\n",
    "\n",
    "final_columns = ['game_id', 'season', 'week', 'season_type', 'home_team',\n",
    "                'home_conference', 'away_team', 'away_conference',  'pre_game_spread',\n",
    "                'predicted_spread']\n",
    "\n",
    "X_pred = pd.concat([\n",
    "                    X_pred, \n",
    "                    df[df.start_date.dt.date >= pd.to_datetime('today')].drop([col for col in df.columns if col not in drop_columns], axis=1) \n",
    "                    ], \n",
    "                    axis=1)\n",
    "\n",
    "predict_df = pd.concat([\n",
    "        X_pred.reset_index(drop=True), \n",
    "        pd.Series(y_spread_pred, name='predicted_spread'),\n",
    "     ], axis=1)\n",
    "\n",
    "predict_df = predict_df[final_columns]\n",
    "\n",
    "predict_df['spread_pick'] = np.where(predict_df['predicted_spread'] <= predict_df['pre_game_spread'], predict_df['home_team'], predict_df['away_team'])\n",
    "predict_df['straight_pick'] = np.where(predict_df['predicted_spread'] < 0, predict_df['home_team'], predict_df['away_team'])\n",
    "\n",
    "predict_df"
   ]
  },
  {
   "cell_type": "code",
   "execution_count": 70,
   "metadata": {},
   "outputs": [],
   "source": [
    "# Pull in games that have occurred within the current week to append to the predictions\n",
    "filepath = Path('../zillion_picks/picks')\n",
    "\n",
    "result_dfs = []\n",
    "\n",
    "for file in filepath.rglob('*.csv'):\n",
    "    result_df = pd.read_csv(file)\n",
    "\n",
    "    result_dfs.append(file_df)\n",
    "\n",
    "result_df = pd.concat(file_dfs)\n",
    "\n",
    "result_df = result_df[(result_df['week'] == predict_df['week'][0]) & (result_df['season'] == predict_df['season'][0])]\n",
    "\n",
    "result_df = result_df[~result_df.game_id.isin(predict_df.game_id)]\n",
    "result_df = result_df.drop(['actual_spread', 'spread_result', 'straight_result', 'start_date'], axis=1)\n"
   ]
  },
  {
   "cell_type": "code",
   "execution_count": 73,
   "metadata": {},
   "outputs": [],
   "source": [
    "# Merge Predit and Result Dataframes\n",
    "\n",
    "predict_df = pd.concat([result_df, predict_df])"
   ]
  },
  {
   "cell_type": "code",
   "execution_count": 74,
   "metadata": {},
   "outputs": [],
   "source": [
    "# Add spread target in case the game is complete\n",
    "predict_df = predict_df.merge(df[['game_id', 'spread_target', 'start_date']], on='game_id', how='left')"
   ]
  },
  {
   "cell_type": "code",
   "execution_count": 75,
   "metadata": {},
   "outputs": [
    {
     "output_type": "execute_result",
     "data": {
      "text/plain": "     game_id  season  week season_type             home_team  \\\n0  401238035    2020     1     regular                   UAB   \n1  401207101    2020     1     regular  Southern Mississippi   \n2  401235700    2020     1     regular                  Army   \n3  401212484    2020     1     regular           Texas State   \n4  401234576    2020     1     regular                  Navy   \n\n     home_conference         away_team    away_conference  pre_game_spread  \\\n0     Conference USA  Central Arkansas            MISSING            -21.0   \n1     Conference USA     South Alabama           Sun Belt            -12.5   \n2   FBS Independents  Middle Tennessee     Conference USA             -4.0   \n3           Sun Belt               SMU  American Athletic             23.0   \n4  American Athletic               BYU   FBS Independents              1.0   \n\n   predicted_spread    spread_pick         straight_pick  spread_target  \\\n0             -29.0            UAB                   UAB          -10.0   \n1              -2.5  South Alabama  Southern Mississippi           11.0   \n2             -16.5           Army                  Army          -42.0   \n3              29.5            SMU                   SMU            7.0   \n4              -8.0           Navy                  Navy            0.0   \n\n                 start_date  \n0 2020-09-04 00:00:00+00:00  \n1 2020-09-04 01:00:00+00:00  \n2 2020-09-05 17:30:00+00:00  \n3 2020-09-05 20:30:00+00:00  \n4 2020-09-08 00:00:00+00:00  ",
      "text/html": "<div>\n<style scoped>\n    .dataframe tbody tr th:only-of-type {\n        vertical-align: middle;\n    }\n\n    .dataframe tbody tr th {\n        vertical-align: top;\n    }\n\n    .dataframe thead th {\n        text-align: right;\n    }\n</style>\n<table border=\"1\" class=\"dataframe\">\n  <thead>\n    <tr style=\"text-align: right;\">\n      <th></th>\n      <th>game_id</th>\n      <th>season</th>\n      <th>week</th>\n      <th>season_type</th>\n      <th>home_team</th>\n      <th>home_conference</th>\n      <th>away_team</th>\n      <th>away_conference</th>\n      <th>pre_game_spread</th>\n      <th>predicted_spread</th>\n      <th>spread_pick</th>\n      <th>straight_pick</th>\n      <th>spread_target</th>\n      <th>start_date</th>\n    </tr>\n  </thead>\n  <tbody>\n    <tr>\n      <th>0</th>\n      <td>401238035</td>\n      <td>2020</td>\n      <td>1</td>\n      <td>regular</td>\n      <td>UAB</td>\n      <td>Conference USA</td>\n      <td>Central Arkansas</td>\n      <td>MISSING</td>\n      <td>-21.0</td>\n      <td>-29.0</td>\n      <td>UAB</td>\n      <td>UAB</td>\n      <td>-10.0</td>\n      <td>2020-09-04 00:00:00+00:00</td>\n    </tr>\n    <tr>\n      <th>1</th>\n      <td>401207101</td>\n      <td>2020</td>\n      <td>1</td>\n      <td>regular</td>\n      <td>Southern Mississippi</td>\n      <td>Conference USA</td>\n      <td>South Alabama</td>\n      <td>Sun Belt</td>\n      <td>-12.5</td>\n      <td>-2.5</td>\n      <td>South Alabama</td>\n      <td>Southern Mississippi</td>\n      <td>11.0</td>\n      <td>2020-09-04 01:00:00+00:00</td>\n    </tr>\n    <tr>\n      <th>2</th>\n      <td>401235700</td>\n      <td>2020</td>\n      <td>1</td>\n      <td>regular</td>\n      <td>Army</td>\n      <td>FBS Independents</td>\n      <td>Middle Tennessee</td>\n      <td>Conference USA</td>\n      <td>-4.0</td>\n      <td>-16.5</td>\n      <td>Army</td>\n      <td>Army</td>\n      <td>-42.0</td>\n      <td>2020-09-05 17:30:00+00:00</td>\n    </tr>\n    <tr>\n      <th>3</th>\n      <td>401212484</td>\n      <td>2020</td>\n      <td>1</td>\n      <td>regular</td>\n      <td>Texas State</td>\n      <td>Sun Belt</td>\n      <td>SMU</td>\n      <td>American Athletic</td>\n      <td>23.0</td>\n      <td>29.5</td>\n      <td>SMU</td>\n      <td>SMU</td>\n      <td>7.0</td>\n      <td>2020-09-05 20:30:00+00:00</td>\n    </tr>\n    <tr>\n      <th>4</th>\n      <td>401234576</td>\n      <td>2020</td>\n      <td>1</td>\n      <td>regular</td>\n      <td>Navy</td>\n      <td>American Athletic</td>\n      <td>BYU</td>\n      <td>FBS Independents</td>\n      <td>1.0</td>\n      <td>-8.0</td>\n      <td>Navy</td>\n      <td>Navy</td>\n      <td>0.0</td>\n      <td>2020-09-08 00:00:00+00:00</td>\n    </tr>\n  </tbody>\n</table>\n</div>"
     },
     "metadata": {},
     "execution_count": 75
    }
   ],
   "source": [
    "predict_df"
   ]
  },
  {
   "cell_type": "code",
   "execution_count": 76,
   "metadata": {},
   "outputs": [],
   "source": [
    "# Convert spread_target games that have not occurred to Null\n",
    "predict_df['spread_target']  = np.where(pd.to_datetime(predict_df['start_date']).dt.date > pd.to_datetime('today').date(), np.nan, predict_df['spread_target'] )"
   ]
  },
  {
   "cell_type": "code",
   "execution_count": 77,
   "metadata": {},
   "outputs": [
    {
     "output_type": "execute_result",
     "data": {
      "text/plain": "     game_id  season  week season_type             home_team  \\\n0  401238035    2020     1     regular                   UAB   \n1  401207101    2020     1     regular  Southern Mississippi   \n2  401235700    2020     1     regular                  Army   \n3  401212484    2020     1     regular           Texas State   \n4  401234576    2020     1     regular                  Navy   \n\n     home_conference         away_team    away_conference  pre_game_spread  \\\n0     Conference USA  Central Arkansas            MISSING            -21.0   \n1     Conference USA     South Alabama           Sun Belt            -12.5   \n2   FBS Independents  Middle Tennessee     Conference USA             -4.0   \n3           Sun Belt               SMU  American Athletic             23.0   \n4  American Athletic               BYU   FBS Independents              1.0   \n\n   predicted_spread    spread_pick         straight_pick  spread_target  \\\n0             -29.0            UAB                   UAB          -10.0   \n1              -2.5  South Alabama  Southern Mississippi           11.0   \n2             -16.5           Army                  Army          -42.0   \n3              29.5            SMU                   SMU            7.0   \n4              -8.0           Navy                  Navy            NaN   \n\n                 start_date  \n0 2020-09-04 00:00:00+00:00  \n1 2020-09-04 01:00:00+00:00  \n2 2020-09-05 17:30:00+00:00  \n3 2020-09-05 20:30:00+00:00  \n4 2020-09-08 00:00:00+00:00  ",
      "text/html": "<div>\n<style scoped>\n    .dataframe tbody tr th:only-of-type {\n        vertical-align: middle;\n    }\n\n    .dataframe tbody tr th {\n        vertical-align: top;\n    }\n\n    .dataframe thead th {\n        text-align: right;\n    }\n</style>\n<table border=\"1\" class=\"dataframe\">\n  <thead>\n    <tr style=\"text-align: right;\">\n      <th></th>\n      <th>game_id</th>\n      <th>season</th>\n      <th>week</th>\n      <th>season_type</th>\n      <th>home_team</th>\n      <th>home_conference</th>\n      <th>away_team</th>\n      <th>away_conference</th>\n      <th>pre_game_spread</th>\n      <th>predicted_spread</th>\n      <th>spread_pick</th>\n      <th>straight_pick</th>\n      <th>spread_target</th>\n      <th>start_date</th>\n    </tr>\n  </thead>\n  <tbody>\n    <tr>\n      <th>0</th>\n      <td>401238035</td>\n      <td>2020</td>\n      <td>1</td>\n      <td>regular</td>\n      <td>UAB</td>\n      <td>Conference USA</td>\n      <td>Central Arkansas</td>\n      <td>MISSING</td>\n      <td>-21.0</td>\n      <td>-29.0</td>\n      <td>UAB</td>\n      <td>UAB</td>\n      <td>-10.0</td>\n      <td>2020-09-04 00:00:00+00:00</td>\n    </tr>\n    <tr>\n      <th>1</th>\n      <td>401207101</td>\n      <td>2020</td>\n      <td>1</td>\n      <td>regular</td>\n      <td>Southern Mississippi</td>\n      <td>Conference USA</td>\n      <td>South Alabama</td>\n      <td>Sun Belt</td>\n      <td>-12.5</td>\n      <td>-2.5</td>\n      <td>South Alabama</td>\n      <td>Southern Mississippi</td>\n      <td>11.0</td>\n      <td>2020-09-04 01:00:00+00:00</td>\n    </tr>\n    <tr>\n      <th>2</th>\n      <td>401235700</td>\n      <td>2020</td>\n      <td>1</td>\n      <td>regular</td>\n      <td>Army</td>\n      <td>FBS Independents</td>\n      <td>Middle Tennessee</td>\n      <td>Conference USA</td>\n      <td>-4.0</td>\n      <td>-16.5</td>\n      <td>Army</td>\n      <td>Army</td>\n      <td>-42.0</td>\n      <td>2020-09-05 17:30:00+00:00</td>\n    </tr>\n    <tr>\n      <th>3</th>\n      <td>401212484</td>\n      <td>2020</td>\n      <td>1</td>\n      <td>regular</td>\n      <td>Texas State</td>\n      <td>Sun Belt</td>\n      <td>SMU</td>\n      <td>American Athletic</td>\n      <td>23.0</td>\n      <td>29.5</td>\n      <td>SMU</td>\n      <td>SMU</td>\n      <td>7.0</td>\n      <td>2020-09-05 20:30:00+00:00</td>\n    </tr>\n    <tr>\n      <th>4</th>\n      <td>401234576</td>\n      <td>2020</td>\n      <td>1</td>\n      <td>regular</td>\n      <td>Navy</td>\n      <td>American Athletic</td>\n      <td>BYU</td>\n      <td>FBS Independents</td>\n      <td>1.0</td>\n      <td>-8.0</td>\n      <td>Navy</td>\n      <td>Navy</td>\n      <td>NaN</td>\n      <td>2020-09-08 00:00:00+00:00</td>\n    </tr>\n  </tbody>\n</table>\n</div>"
     },
     "metadata": {},
     "execution_count": 77
    }
   ],
   "source": [
    "predict_df"
   ]
  },
  {
   "cell_type": "code",
   "execution_count": 78,
   "metadata": {},
   "outputs": [],
   "source": [
    "# Spread Result Calculation\n",
    "won = ((predict_df['predicted_spread'] > predict_df['pre_game_spread']) & (predict_df['spread_target'].fillna(0) > predict_df['pre_game_spread'])) | (\n",
    "    (predict_df['predicted_spread'] < predict_df['pre_game_spread']) & (predict_df['spread_target'].fillna(0) < predict_df['pre_game_spread']))\n",
    "\n",
    "push = predict_df['spread_target'].fillna(0) == predict_df['pre_game_spread']\n",
    "\n",
    "conditions = [won, push]\n",
    "choices = ['Won', 'Push']\n",
    "\n",
    "predict_df['spread_result'] = np.select(condlist=conditions, choicelist=choices, default='Lost')\n",
    "predict_df['spread_result'] = np.where(predict_df['spread_target'].isnull(), np.nan, predict_df['spread_result'])"
   ]
  },
  {
   "cell_type": "code",
   "execution_count": 79,
   "metadata": {},
   "outputs": [],
   "source": [
    "# Straight Up Result Calculation\n",
    "result = predict_df['spread_target'].fillna(1) * predict_df['predicted_spread']\n",
    "\n",
    "predict_df['straight_result'] = np.where(result > 0, 'Won', 'Lost')\n",
    "predict_df['straight_result'] = np.where(predict_df['spread_target'].isnull(), np.nan, predict_df['straight_result'])"
   ]
  },
  {
   "cell_type": "code",
   "execution_count": 80,
   "metadata": {},
   "outputs": [],
   "source": [
    "# Rename Column\n",
    "predict_df = predict_df.rename(columns={'spread_target':'actual_spread'})"
   ]
  },
  {
   "cell_type": "code",
   "execution_count": 81,
   "metadata": {},
   "outputs": [
    {
     "output_type": "execute_result",
     "data": {
      "text/plain": "     game_id  season  week season_type             home_team  \\\n0  401238035    2020     1     regular                   UAB   \n1  401207101    2020     1     regular  Southern Mississippi   \n2  401235700    2020     1     regular                  Army   \n3  401212484    2020     1     regular           Texas State   \n4  401234576    2020     1     regular                  Navy   \n\n     home_conference         away_team    away_conference  pre_game_spread  \\\n0     Conference USA  Central Arkansas            MISSING            -21.0   \n1     Conference USA     South Alabama           Sun Belt            -12.5   \n2   FBS Independents  Middle Tennessee     Conference USA             -4.0   \n3           Sun Belt               SMU  American Athletic             23.0   \n4  American Athletic               BYU   FBS Independents              1.0   \n\n   predicted_spread    spread_pick         straight_pick  actual_spread  \\\n0             -29.0            UAB                   UAB          -10.0   \n1              -2.5  South Alabama  Southern Mississippi           11.0   \n2             -16.5           Army                  Army          -42.0   \n3              29.5            SMU                   SMU            7.0   \n4              -8.0           Navy                  Navy            NaN   \n\n                 start_date spread_result straight_result  \n0 2020-09-04 00:00:00+00:00          Lost             Won  \n1 2020-09-04 01:00:00+00:00           Won            Lost  \n2 2020-09-05 17:30:00+00:00           Won             Won  \n3 2020-09-05 20:30:00+00:00          Lost             Won  \n4 2020-09-08 00:00:00+00:00           NaN             NaN  ",
      "text/html": "<div>\n<style scoped>\n    .dataframe tbody tr th:only-of-type {\n        vertical-align: middle;\n    }\n\n    .dataframe tbody tr th {\n        vertical-align: top;\n    }\n\n    .dataframe thead th {\n        text-align: right;\n    }\n</style>\n<table border=\"1\" class=\"dataframe\">\n  <thead>\n    <tr style=\"text-align: right;\">\n      <th></th>\n      <th>game_id</th>\n      <th>season</th>\n      <th>week</th>\n      <th>season_type</th>\n      <th>home_team</th>\n      <th>home_conference</th>\n      <th>away_team</th>\n      <th>away_conference</th>\n      <th>pre_game_spread</th>\n      <th>predicted_spread</th>\n      <th>spread_pick</th>\n      <th>straight_pick</th>\n      <th>actual_spread</th>\n      <th>start_date</th>\n      <th>spread_result</th>\n      <th>straight_result</th>\n    </tr>\n  </thead>\n  <tbody>\n    <tr>\n      <th>0</th>\n      <td>401238035</td>\n      <td>2020</td>\n      <td>1</td>\n      <td>regular</td>\n      <td>UAB</td>\n      <td>Conference USA</td>\n      <td>Central Arkansas</td>\n      <td>MISSING</td>\n      <td>-21.0</td>\n      <td>-29.0</td>\n      <td>UAB</td>\n      <td>UAB</td>\n      <td>-10.0</td>\n      <td>2020-09-04 00:00:00+00:00</td>\n      <td>Lost</td>\n      <td>Won</td>\n    </tr>\n    <tr>\n      <th>1</th>\n      <td>401207101</td>\n      <td>2020</td>\n      <td>1</td>\n      <td>regular</td>\n      <td>Southern Mississippi</td>\n      <td>Conference USA</td>\n      <td>South Alabama</td>\n      <td>Sun Belt</td>\n      <td>-12.5</td>\n      <td>-2.5</td>\n      <td>South Alabama</td>\n      <td>Southern Mississippi</td>\n      <td>11.0</td>\n      <td>2020-09-04 01:00:00+00:00</td>\n      <td>Won</td>\n      <td>Lost</td>\n    </tr>\n    <tr>\n      <th>2</th>\n      <td>401235700</td>\n      <td>2020</td>\n      <td>1</td>\n      <td>regular</td>\n      <td>Army</td>\n      <td>FBS Independents</td>\n      <td>Middle Tennessee</td>\n      <td>Conference USA</td>\n      <td>-4.0</td>\n      <td>-16.5</td>\n      <td>Army</td>\n      <td>Army</td>\n      <td>-42.0</td>\n      <td>2020-09-05 17:30:00+00:00</td>\n      <td>Won</td>\n      <td>Won</td>\n    </tr>\n    <tr>\n      <th>3</th>\n      <td>401212484</td>\n      <td>2020</td>\n      <td>1</td>\n      <td>regular</td>\n      <td>Texas State</td>\n      <td>Sun Belt</td>\n      <td>SMU</td>\n      <td>American Athletic</td>\n      <td>23.0</td>\n      <td>29.5</td>\n      <td>SMU</td>\n      <td>SMU</td>\n      <td>7.0</td>\n      <td>2020-09-05 20:30:00+00:00</td>\n      <td>Lost</td>\n      <td>Won</td>\n    </tr>\n    <tr>\n      <th>4</th>\n      <td>401234576</td>\n      <td>2020</td>\n      <td>1</td>\n      <td>regular</td>\n      <td>Navy</td>\n      <td>American Athletic</td>\n      <td>BYU</td>\n      <td>FBS Independents</td>\n      <td>1.0</td>\n      <td>-8.0</td>\n      <td>Navy</td>\n      <td>Navy</td>\n      <td>NaN</td>\n      <td>2020-09-08 00:00:00+00:00</td>\n      <td>NaN</td>\n      <td>NaN</td>\n    </tr>\n  </tbody>\n</table>\n</div>"
     },
     "metadata": {},
     "execution_count": 81
    }
   ],
   "source": [
    "predict_df"
   ]
  },
  {
   "cell_type": "code",
   "execution_count": 82,
   "metadata": {},
   "outputs": [],
   "source": [
    "# Export\n",
    "filepath = Path('../zillion_picks/picks')\n",
    "\n",
    "for key, group in predict_df.groupby(['season', 'week', 'season_type']):\n",
    "    if group.season_type.unique() == 'postseason':\n",
    "        group.to_csv(filepath/f'premium/{key[0]}_postseason.csv', index=False)\n",
    "    else:\n",
    "        group.to_csv(filepath/f'premium/{key[0]}_{str(key[1]).rjust(2, \"0\")}.csv', index=False)"
   ]
  },
  {
   "cell_type": "code",
   "execution_count": 25,
   "metadata": {},
   "outputs": [],
   "source": []
  },
  {
   "cell_type": "code",
   "execution_count": 30,
   "metadata": {
    "tags": []
   },
   "outputs": [],
   "source": []
  },
  {
   "cell_type": "code",
   "execution_count": 32,
   "metadata": {},
   "outputs": [],
   "source": []
  },
  {
   "cell_type": "code",
   "execution_count": null,
   "metadata": {},
   "outputs": [],
   "source": []
  }
 ],
 "metadata": {
  "language_info": {
   "name": "python",
   "codemirror_mode": {
    "name": "ipython",
    "version": 3
   },
   "version": "3.8.2-final"
  },
  "orig_nbformat": 2,
  "file_extension": ".py",
  "mimetype": "text/x-python",
  "name": "python",
  "npconvert_exporter": "python",
  "pygments_lexer": "ipython3",
  "version": 3,
  "kernelspec": {
   "name": "python38264bitzillionpickscondadd1d5d1f064048d389c34f4ee92c62eb",
   "display_name": "Python 3.8.2 64-bit ('zillion_picks': conda)"
  }
 },
 "nbformat": 4,
 "nbformat_minor": 2
}