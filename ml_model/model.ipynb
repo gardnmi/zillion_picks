{
 "cells": [
  {
   "cell_type": "code",
   "execution_count": 10,
   "metadata": {},
   "outputs": [],
   "source": [
    "import pandas as pd\n",
    "import numpy as np\n",
    "from pathlib import Path\n",
    "from sklearn.preprocessing import OrdinalEncoder\n",
    "from sklearn.compose import make_column_transformer\n",
    "from sklearn.model_selection import TimeSeriesSplit, GridSearchCV\n",
    "from sklearn.metrics import mean_squared_error, accuracy_score\n",
    "from xgboost import XGBRegressor, XGBClassifier\n",
    "from load import dataset"
   ]
  },
  {
   "cell_type": "code",
   "execution_count": 11,
   "metadata": {},
   "outputs": [],
   "source": [
    "# Initialize Variables\n",
    "predict_week = 3\n",
    "predict_season = 2020\n",
    "today_localize = pd.to_datetime('today').tz_localize('US/Central') - pd.Timedelta(hours=3)\n",
    "\n",
    "final_columns = ['game_id', 'season', 'week', 'season_type', 'home_team',\n",
    "                'home_conference', 'away_team', 'away_conference',  'pre_game_spread',\n",
    "                'predicted_spread', 'regression_spread_pred', 'classification_spread_pred', 'classification_confidence']"
   ]
  },
  {
   "cell_type": "code",
   "execution_count": 105,
   "metadata": {},
   "outputs": [],
   "source": [
    "# Load Dataset\n",
    "df = dataset(predict_season=predict_season, predict_week=predict_week, window_size=4, update_data=True, update_seasons=[pd.to_datetime('today').year])\n",
    "\n",
    "# Prep for ML Models\n",
    "df[df.columns[df.columns.str.contains('home|Home')]] = df[df.columns[df.columns.str.contains(\n",
    "    'home|Home')]].groupby('home_team', as_index=False, group_keys=False).apply(lambda x: x.fillna(x.mean()))\n",
    "\n",
    "df[df.columns[df.columns.str.contains('away|Away')]] = df[df.columns[df.columns.str.contains(\n",
    "    'away|Away')]].groupby('away_team', as_index=False, group_keys=False).apply(lambda x: x.fillna(x.mean()))\n",
    "\n",
    "df = df.dropna(axis=1, thresh=int(len(df) * .9))\n",
    "\n",
    "df = df.fillna(0)\n",
    "\n",
    "df[df.select_dtypes('bool').columns] = df.select_dtypes('bool').astype('int')\n",
    "\n",
    "ct = make_column_transformer(\n",
    "    (OrdinalEncoder(), ['season_type', 'home_conference', 'away_conference']),\n",
    "    remainder='passthrough'\n",
    ")\n",
    "\n",
    "drop_columns =  ['game_id', 'season', 'venue', 'start_date', 'home_team', 'away_team', \n",
    "                'start_date', 'spread_target', 'pre_game_spread' , 'pre_game_home_win_prob', 'pre_game_away_win_prob'\n",
    "                ]\n"
   ]
  },
  {
   "cell_type": "code",
   "execution_count": 106,
   "metadata": {},
   "outputs": [],
   "source": [
    "# Use in production\n",
    "X_train = df[(df.start_date.dt.tz_convert('US/Central') < today_localize)]\n",
    "X_test = df[(df.start_date.dt.tz_convert('US/Central') >= today_localize)] \n",
    "\n",
    "# Use in development\n",
    "# X_train = df[(df['week'] < predict_week) | (df['season'] < predict_season)] \n",
    "# X_test = df[(df['week'] == predict_week) & (df['season'] == predict_season)] \n",
    "\n",
    "model_regressor = XGBRegressor(learning_rate=0.1, \n",
    "                                colsample_bytree=0.9,\n",
    "                                gamma=0.5,\n",
    "                                max_depth=2,\n",
    "                                min_child_weight=4,\n",
    "                                n_estimators=100,\n",
    "                                subsample=0.8)\n",
    "\n",
    "model_regressor.fit(\n",
    "    ct.fit_transform(\n",
    "        X_train.drop(drop_columns, axis=1)), \n",
    "        X_train['spread_target']\n",
    "        )\n",
    "\n",
    "X_train['predicted_spread'] = model_regressor.predict(ct.fit_transform(X_train.drop(drop_columns, axis=1)))\n",
    "X_test['predicted_spread'] = model_regressor.predict(ct.fit_transform(X_test.drop(drop_columns, axis=1)))\n",
    "\n",
    "# Clean Up\n",
    "X_train['predicted_spread'] = np.around(X_train['predicted_spread'] / .5, decimals=0) * .5\n",
    "X_test['predicted_spread'] = np.around(X_test['predicted_spread'] / .5, decimals=0) * .5\n",
    "\n",
    "X_train['regression_spread_pred'] = np.where(X_train['predicted_spread'] <= X_train['pre_game_spread'], 1, 0)\n",
    "X_test['regression_spread_pred'] = np.where(X_test['predicted_spread'] <= X_test['pre_game_spread'], 1, 0)\n",
    "\n",
    "X_train['spread_result'] = np.where(X_train['spread_target'] <= X_train['pre_game_spread'], 1, 0)\n",
    "X_test['spread_result'] = np.where(X_test['spread_target'] <= X_test['pre_game_spread'], 1, 0)\n",
    "\n",
    "model_classifier = XGBClassifier(base_score=0.5, booster='gbtree', colsample_bylevel=1,\n",
    "            colsample_bynode=1, colsample_bytree=0.8, gamma=5, gpu_id=-1,\n",
    "            importance_type='gain', interaction_constraints='',\n",
    "            learning_rate=0.1, max_delta_step=0, max_depth=5,\n",
    "            min_child_weight=10, monotone_constraints='()',\n",
    "            n_estimators=100, n_jobs=0, num_parallel_tree=1,\n",
    "            objective='binary:logistic', random_state=0, reg_alpha=0,\n",
    "            reg_lambda=1, scale_pos_weight=1, subsample=1.0,\n",
    "            tree_method='exact', validate_parameters=1, verbosity=None)\n",
    "\n",
    "# Update drop columns list for Classifier Model\n",
    "drop_columns.append('spread_result')\n",
    "drop_columns.remove('pre_game_spread')   \n",
    "\n",
    "model_classifier.fit(ct.fit_transform(X_train.drop(drop_columns, axis=1)), X_train['spread_result'])\n",
    "\n",
    "X_train['classification_spread_pred'] = model_classifier.predict(ct.fit_transform(X_train.drop(drop_columns, axis=1)))\n",
    "X_test['classification_spread_pred'] = model_classifier.predict(ct.fit_transform(X_test.drop(drop_columns, axis=1)))\n",
    "\n",
    "# Add so the Predict Probability is Aligned\n",
    "drop_columns.append('classification_spread_pred')\n",
    "\n",
    "X_train['classification_confidence'] = model_classifier.predict_proba(ct.fit_transform(X_train.drop(drop_columns, axis=1)))[:,0]\n",
    "X_test['classification_confidence'] = model_classifier.predict_proba(ct.fit_transform(X_test.drop(drop_columns, axis=1)))[:,0] \n"
   ]
  },
  {
   "cell_type": "code",
   "execution_count": 107,
   "metadata": {},
   "outputs": [
    {
     "output_type": "execute_result",
     "data": {
      "text/plain": "        game_id  season  week season_type         home_team  \\\n5607  401212522    2020     3     regular            Tulane   \n5608  401207124    2020     3     regular  Western Kentucky   \n5609  401234571    2020     3     regular        Pittsburgh   \n5610  401234567    2020     3     regular              Duke   \n5611  401236041    2020     2     regular    Oklahoma State   \n5612  401241282    2020     3     regular        Notre Dame   \n5613  401236939    2020     3     regular          Marshall   \n5614  401234568    2020     3     regular      Georgia Tech   \n5615  401207116    2020     3     regular  Georgia Southern   \n5616  401235433    2020     3     regular    North Carolina   \n\n        home_conference          away_team    away_conference  \\\n5607  American Athletic               Navy  American Athletic   \n5608     Conference USA            Liberty   FBS Independents   \n5609                ACC           Syracuse                ACC   \n5610                ACC     Boston College                ACC   \n5611             Big 12              Tulsa  American Athletic   \n5612   FBS Independents      South Florida  American Athletic   \n5613     Conference USA  Appalachian State           Sun Belt   \n5614                ACC                UCF  American Athletic   \n5615           Sun Belt   Florida Atlantic     Conference USA   \n5616                ACC          Charlotte     Conference USA   \n\n      pre_game_spread  predicted_spread  regression_spread_pred  \\\n5607             -6.5              -8.0                       1   \n5608            -14.5              -5.0                       0   \n5609            -21.5             -15.5                       0   \n5610             -6.0               0.5                       0   \n5611            -23.5              -9.5                       0   \n5612            -25.5             -20.5                       0   \n5613              5.0              -1.5                       1   \n5614              7.5               7.0                       1   \n5615             -3.0              10.5                       0   \n5616            -29.5             -22.0                       0   \n\n      classification_spread_pred  classification_confidence  \n5607                           1                   0.418361  \n5608                           0                   0.638876  \n5609                           0                   0.645665  \n5610                           1                   0.298071  \n5611                           1                   0.356871  \n5612                           0                   0.675738  \n5613                           1                   0.348884  \n5614                           1                   0.448184  \n5615                           1                   0.491248  \n5616                           0                   0.559142  ",
      "text/html": "<div>\n<style scoped>\n    .dataframe tbody tr th:only-of-type {\n        vertical-align: middle;\n    }\n\n    .dataframe tbody tr th {\n        vertical-align: top;\n    }\n\n    .dataframe thead th {\n        text-align: right;\n    }\n</style>\n<table border=\"1\" class=\"dataframe\">\n  <thead>\n    <tr style=\"text-align: right;\">\n      <th></th>\n      <th>game_id</th>\n      <th>season</th>\n      <th>week</th>\n      <th>season_type</th>\n      <th>home_team</th>\n      <th>home_conference</th>\n      <th>away_team</th>\n      <th>away_conference</th>\n      <th>pre_game_spread</th>\n      <th>predicted_spread</th>\n      <th>regression_spread_pred</th>\n      <th>classification_spread_pred</th>\n      <th>classification_confidence</th>\n    </tr>\n  </thead>\n  <tbody>\n    <tr>\n      <th>5607</th>\n      <td>401212522</td>\n      <td>2020</td>\n      <td>3</td>\n      <td>regular</td>\n      <td>Tulane</td>\n      <td>American Athletic</td>\n      <td>Navy</td>\n      <td>American Athletic</td>\n      <td>-6.5</td>\n      <td>-8.0</td>\n      <td>1</td>\n      <td>1</td>\n      <td>0.418361</td>\n    </tr>\n    <tr>\n      <th>5608</th>\n      <td>401207124</td>\n      <td>2020</td>\n      <td>3</td>\n      <td>regular</td>\n      <td>Western Kentucky</td>\n      <td>Conference USA</td>\n      <td>Liberty</td>\n      <td>FBS Independents</td>\n      <td>-14.5</td>\n      <td>-5.0</td>\n      <td>0</td>\n      <td>0</td>\n      <td>0.638876</td>\n    </tr>\n    <tr>\n      <th>5609</th>\n      <td>401234571</td>\n      <td>2020</td>\n      <td>3</td>\n      <td>regular</td>\n      <td>Pittsburgh</td>\n      <td>ACC</td>\n      <td>Syracuse</td>\n      <td>ACC</td>\n      <td>-21.5</td>\n      <td>-15.5</td>\n      <td>0</td>\n      <td>0</td>\n      <td>0.645665</td>\n    </tr>\n    <tr>\n      <th>5610</th>\n      <td>401234567</td>\n      <td>2020</td>\n      <td>3</td>\n      <td>regular</td>\n      <td>Duke</td>\n      <td>ACC</td>\n      <td>Boston College</td>\n      <td>ACC</td>\n      <td>-6.0</td>\n      <td>0.5</td>\n      <td>0</td>\n      <td>1</td>\n      <td>0.298071</td>\n    </tr>\n    <tr>\n      <th>5611</th>\n      <td>401236041</td>\n      <td>2020</td>\n      <td>2</td>\n      <td>regular</td>\n      <td>Oklahoma State</td>\n      <td>Big 12</td>\n      <td>Tulsa</td>\n      <td>American Athletic</td>\n      <td>-23.5</td>\n      <td>-9.5</td>\n      <td>0</td>\n      <td>1</td>\n      <td>0.356871</td>\n    </tr>\n    <tr>\n      <th>5612</th>\n      <td>401241282</td>\n      <td>2020</td>\n      <td>3</td>\n      <td>regular</td>\n      <td>Notre Dame</td>\n      <td>FBS Independents</td>\n      <td>South Florida</td>\n      <td>American Athletic</td>\n      <td>-25.5</td>\n      <td>-20.5</td>\n      <td>0</td>\n      <td>0</td>\n      <td>0.675738</td>\n    </tr>\n    <tr>\n      <th>5613</th>\n      <td>401236939</td>\n      <td>2020</td>\n      <td>3</td>\n      <td>regular</td>\n      <td>Marshall</td>\n      <td>Conference USA</td>\n      <td>Appalachian State</td>\n      <td>Sun Belt</td>\n      <td>5.0</td>\n      <td>-1.5</td>\n      <td>1</td>\n      <td>1</td>\n      <td>0.348884</td>\n    </tr>\n    <tr>\n      <th>5614</th>\n      <td>401234568</td>\n      <td>2020</td>\n      <td>3</td>\n      <td>regular</td>\n      <td>Georgia Tech</td>\n      <td>ACC</td>\n      <td>UCF</td>\n      <td>American Athletic</td>\n      <td>7.5</td>\n      <td>7.0</td>\n      <td>1</td>\n      <td>1</td>\n      <td>0.448184</td>\n    </tr>\n    <tr>\n      <th>5615</th>\n      <td>401207116</td>\n      <td>2020</td>\n      <td>3</td>\n      <td>regular</td>\n      <td>Georgia Southern</td>\n      <td>Sun Belt</td>\n      <td>Florida Atlantic</td>\n      <td>Conference USA</td>\n      <td>-3.0</td>\n      <td>10.5</td>\n      <td>0</td>\n      <td>1</td>\n      <td>0.491248</td>\n    </tr>\n    <tr>\n      <th>5616</th>\n      <td>401235433</td>\n      <td>2020</td>\n      <td>3</td>\n      <td>regular</td>\n      <td>North Carolina</td>\n      <td>ACC</td>\n      <td>Charlotte</td>\n      <td>Conference USA</td>\n      <td>-29.5</td>\n      <td>-22.0</td>\n      <td>0</td>\n      <td>0</td>\n      <td>0.559142</td>\n    </tr>\n  </tbody>\n</table>\n</div>"
     },
     "metadata": {},
     "execution_count": 107
    }
   ],
   "source": [
    "predict_df = X_test[final_columns]\n",
    "predict_df.head(10)"
   ]
  },
  {
   "cell_type": "code",
   "execution_count": 108,
   "metadata": {},
   "outputs": [
    {
     "output_type": "execute_result",
     "data": {
      "text/plain": "Empty DataFrame\nColumns: [game_id, season, week, season_type, home_team, home_conference, away_team, away_conference, pre_game_spread, predicted_spread, regression_spread_pred, classification_spread_pred, classification_confidence, regression_spread_result, classification_spread_result]\nIndex: []",
      "text/html": "<div>\n<style scoped>\n    .dataframe tbody tr th:only-of-type {\n        vertical-align: middle;\n    }\n\n    .dataframe tbody tr th {\n        vertical-align: top;\n    }\n\n    .dataframe thead th {\n        text-align: right;\n    }\n</style>\n<table border=\"1\" class=\"dataframe\">\n  <thead>\n    <tr style=\"text-align: right;\">\n      <th></th>\n      <th>game_id</th>\n      <th>season</th>\n      <th>week</th>\n      <th>season_type</th>\n      <th>home_team</th>\n      <th>home_conference</th>\n      <th>away_team</th>\n      <th>away_conference</th>\n      <th>pre_game_spread</th>\n      <th>predicted_spread</th>\n      <th>regression_spread_pred</th>\n      <th>classification_spread_pred</th>\n      <th>classification_confidence</th>\n      <th>regression_spread_result</th>\n      <th>classification_spread_result</th>\n    </tr>\n  </thead>\n  <tbody>\n  </tbody>\n</table>\n</div>"
     },
     "metadata": {},
     "execution_count": 108
    }
   ],
   "source": [
    "# Pull in games that have occurred within the current week to append to the predictions\n",
    "filepath = Path('../zillion_picks/picks')\n",
    "\n",
    "result_dfs = []\n",
    "\n",
    "for file in filepath.rglob('*.csv'):\n",
    "    result_df = pd.read_csv(file)\n",
    "\n",
    "\n",
    "    result_dfs.append(result_df)\n",
    "\n",
    "result_df = pd.concat(result_dfs)\n",
    "\n",
    "result_df = result_df[(result_df['week'] == predict_week) & (result_df['season'] == predict_season)]\n",
    "\n",
    "try:\n",
    "    result_df = result_df[~result_df.game_id.isin(predict_df.game_id)]\n",
    "    result_df = result_df.drop(['actual_spread', 'spread_result', 'start_date'], axis=1)\n",
    "\n",
    "except:\n",
    "        result_df = result_df.drop(['actual_spread', 'spread_result', 'start_date'], axis=1)\n",
    "\n",
    "result_df.head()"
   ]
  },
  {
   "cell_type": "code",
   "execution_count": 109,
   "metadata": {},
   "outputs": [],
   "source": [
    "# Merge Predit and Result Dataframes\n",
    "try:\n",
    "    predict_df = pd.concat([result_df, predict_df])\n",
    "except:\n",
    "    predict_df = result_df"
   ]
  },
  {
   "cell_type": "code",
   "execution_count": 110,
   "metadata": {},
   "outputs": [
    {
     "output_type": "execute_result",
     "data": {
      "text/plain": "     game_id  season  week season_type         home_team    home_conference  \\\n0  401212522    2020     3     regular            Tulane  American Athletic   \n1  401207124    2020     3     regular  Western Kentucky     Conference USA   \n2  401234571    2020     3     regular        Pittsburgh                ACC   \n3  401234567    2020     3     regular              Duke                ACC   \n4  401236041    2020     2     regular    Oklahoma State             Big 12   \n\n        away_team    away_conference  pre_game_spread  predicted_spread  \\\n0            Navy  American Athletic             -6.5              -8.0   \n1         Liberty   FBS Independents            -14.5              -5.0   \n2        Syracuse                ACC            -21.5             -15.5   \n3  Boston College                ACC             -6.0               0.5   \n4           Tulsa  American Athletic            -23.5              -9.5   \n\n   regression_spread_pred  classification_spread_pred  \\\n0                       1                           1   \n1                       0                           0   \n2                       0                           0   \n3                       0                           1   \n4                       0                           1   \n\n   classification_confidence regression_spread_result  \\\n0                   0.418361                      NaN   \n1                   0.638876                      NaN   \n2                   0.645665                      NaN   \n3                   0.298071                      NaN   \n4                   0.356871                      NaN   \n\n  classification_spread_result  spread_target                start_date  \n0                          NaN            0.0 2020-09-19 16:00:00+00:00  \n1                          NaN            0.0 2020-09-19 16:00:00+00:00  \n2                          NaN            0.0 2020-09-19 16:00:00+00:00  \n3                          NaN            0.0 2020-09-19 16:00:00+00:00  \n4                          NaN            0.0 2020-09-19 16:00:00+00:00  ",
      "text/html": "<div>\n<style scoped>\n    .dataframe tbody tr th:only-of-type {\n        vertical-align: middle;\n    }\n\n    .dataframe tbody tr th {\n        vertical-align: top;\n    }\n\n    .dataframe thead th {\n        text-align: right;\n    }\n</style>\n<table border=\"1\" class=\"dataframe\">\n  <thead>\n    <tr style=\"text-align: right;\">\n      <th></th>\n      <th>game_id</th>\n      <th>season</th>\n      <th>week</th>\n      <th>season_type</th>\n      <th>home_team</th>\n      <th>home_conference</th>\n      <th>away_team</th>\n      <th>away_conference</th>\n      <th>pre_game_spread</th>\n      <th>predicted_spread</th>\n      <th>regression_spread_pred</th>\n      <th>classification_spread_pred</th>\n      <th>classification_confidence</th>\n      <th>regression_spread_result</th>\n      <th>classification_spread_result</th>\n      <th>spread_target</th>\n      <th>start_date</th>\n    </tr>\n  </thead>\n  <tbody>\n    <tr>\n      <th>0</th>\n      <td>401212522</td>\n      <td>2020</td>\n      <td>3</td>\n      <td>regular</td>\n      <td>Tulane</td>\n      <td>American Athletic</td>\n      <td>Navy</td>\n      <td>American Athletic</td>\n      <td>-6.5</td>\n      <td>-8.0</td>\n      <td>1</td>\n      <td>1</td>\n      <td>0.418361</td>\n      <td>NaN</td>\n      <td>NaN</td>\n      <td>0.0</td>\n      <td>2020-09-19 16:00:00+00:00</td>\n    </tr>\n    <tr>\n      <th>1</th>\n      <td>401207124</td>\n      <td>2020</td>\n      <td>3</td>\n      <td>regular</td>\n      <td>Western Kentucky</td>\n      <td>Conference USA</td>\n      <td>Liberty</td>\n      <td>FBS Independents</td>\n      <td>-14.5</td>\n      <td>-5.0</td>\n      <td>0</td>\n      <td>0</td>\n      <td>0.638876</td>\n      <td>NaN</td>\n      <td>NaN</td>\n      <td>0.0</td>\n      <td>2020-09-19 16:00:00+00:00</td>\n    </tr>\n    <tr>\n      <th>2</th>\n      <td>401234571</td>\n      <td>2020</td>\n      <td>3</td>\n      <td>regular</td>\n      <td>Pittsburgh</td>\n      <td>ACC</td>\n      <td>Syracuse</td>\n      <td>ACC</td>\n      <td>-21.5</td>\n      <td>-15.5</td>\n      <td>0</td>\n      <td>0</td>\n      <td>0.645665</td>\n      <td>NaN</td>\n      <td>NaN</td>\n      <td>0.0</td>\n      <td>2020-09-19 16:00:00+00:00</td>\n    </tr>\n    <tr>\n      <th>3</th>\n      <td>401234567</td>\n      <td>2020</td>\n      <td>3</td>\n      <td>regular</td>\n      <td>Duke</td>\n      <td>ACC</td>\n      <td>Boston College</td>\n      <td>ACC</td>\n      <td>-6.0</td>\n      <td>0.5</td>\n      <td>0</td>\n      <td>1</td>\n      <td>0.298071</td>\n      <td>NaN</td>\n      <td>NaN</td>\n      <td>0.0</td>\n      <td>2020-09-19 16:00:00+00:00</td>\n    </tr>\n    <tr>\n      <th>4</th>\n      <td>401236041</td>\n      <td>2020</td>\n      <td>2</td>\n      <td>regular</td>\n      <td>Oklahoma State</td>\n      <td>Big 12</td>\n      <td>Tulsa</td>\n      <td>American Athletic</td>\n      <td>-23.5</td>\n      <td>-9.5</td>\n      <td>0</td>\n      <td>1</td>\n      <td>0.356871</td>\n      <td>NaN</td>\n      <td>NaN</td>\n      <td>0.0</td>\n      <td>2020-09-19 16:00:00+00:00</td>\n    </tr>\n  </tbody>\n</table>\n</div>"
     },
     "metadata": {},
     "execution_count": 110
    }
   ],
   "source": [
    "# Add spread target in case the game is complete\n",
    "predict_df = predict_df.merge(df[['game_id', 'spread_target', 'start_date']], on='game_id', how='left')\n",
    "predict_df.head()"
   ]
  },
  {
   "cell_type": "code",
   "execution_count": 111,
   "metadata": {},
   "outputs": [
    {
     "output_type": "execute_result",
     "data": {
      "text/plain": "     game_id  season  week season_type         home_team    home_conference  \\\n0  401212522    2020     3     regular            Tulane  American Athletic   \n1  401207124    2020     3     regular  Western Kentucky     Conference USA   \n2  401234571    2020     3     regular        Pittsburgh                ACC   \n3  401234567    2020     3     regular              Duke                ACC   \n4  401236041    2020     2     regular    Oklahoma State             Big 12   \n\n        away_team    away_conference  pre_game_spread  predicted_spread  \\\n0            Navy  American Athletic             -6.5              -8.0   \n1         Liberty   FBS Independents            -14.5              -5.0   \n2        Syracuse                ACC            -21.5             -15.5   \n3  Boston College                ACC             -6.0               0.5   \n4           Tulsa  American Athletic            -23.5              -9.5   \n\n   regression_spread_pred  classification_spread_pred  \\\n0                       1                           1   \n1                       0                           0   \n2                       0                           0   \n3                       0                           1   \n4                       0                           1   \n\n   classification_confidence regression_spread_result  \\\n0                   0.418361                      NaN   \n1                   0.638876                      NaN   \n2                   0.645665                      NaN   \n3                   0.298071                      NaN   \n4                   0.356871                      NaN   \n\n  classification_spread_result  spread_target                start_date  \\\n0                          NaN            0.0 2020-09-19 16:00:00+00:00   \n1                          NaN            0.0 2020-09-19 16:00:00+00:00   \n2                          NaN            0.0 2020-09-19 16:00:00+00:00   \n3                          NaN            0.0 2020-09-19 16:00:00+00:00   \n4                          NaN            0.0 2020-09-19 16:00:00+00:00   \n\n   spread_result  \n0              0  \n1              0  \n2              0  \n3              0  \n4              0  ",
      "text/html": "<div>\n<style scoped>\n    .dataframe tbody tr th:only-of-type {\n        vertical-align: middle;\n    }\n\n    .dataframe tbody tr th {\n        vertical-align: top;\n    }\n\n    .dataframe thead th {\n        text-align: right;\n    }\n</style>\n<table border=\"1\" class=\"dataframe\">\n  <thead>\n    <tr style=\"text-align: right;\">\n      <th></th>\n      <th>game_id</th>\n      <th>season</th>\n      <th>week</th>\n      <th>season_type</th>\n      <th>home_team</th>\n      <th>home_conference</th>\n      <th>away_team</th>\n      <th>away_conference</th>\n      <th>pre_game_spread</th>\n      <th>predicted_spread</th>\n      <th>regression_spread_pred</th>\n      <th>classification_spread_pred</th>\n      <th>classification_confidence</th>\n      <th>regression_spread_result</th>\n      <th>classification_spread_result</th>\n      <th>spread_target</th>\n      <th>start_date</th>\n      <th>spread_result</th>\n    </tr>\n  </thead>\n  <tbody>\n    <tr>\n      <th>0</th>\n      <td>401212522</td>\n      <td>2020</td>\n      <td>3</td>\n      <td>regular</td>\n      <td>Tulane</td>\n      <td>American Athletic</td>\n      <td>Navy</td>\n      <td>American Athletic</td>\n      <td>-6.5</td>\n      <td>-8.0</td>\n      <td>1</td>\n      <td>1</td>\n      <td>0.418361</td>\n      <td>NaN</td>\n      <td>NaN</td>\n      <td>0.0</td>\n      <td>2020-09-19 16:00:00+00:00</td>\n      <td>0</td>\n    </tr>\n    <tr>\n      <th>1</th>\n      <td>401207124</td>\n      <td>2020</td>\n      <td>3</td>\n      <td>regular</td>\n      <td>Western Kentucky</td>\n      <td>Conference USA</td>\n      <td>Liberty</td>\n      <td>FBS Independents</td>\n      <td>-14.5</td>\n      <td>-5.0</td>\n      <td>0</td>\n      <td>0</td>\n      <td>0.638876</td>\n      <td>NaN</td>\n      <td>NaN</td>\n      <td>0.0</td>\n      <td>2020-09-19 16:00:00+00:00</td>\n      <td>0</td>\n    </tr>\n    <tr>\n      <th>2</th>\n      <td>401234571</td>\n      <td>2020</td>\n      <td>3</td>\n      <td>regular</td>\n      <td>Pittsburgh</td>\n      <td>ACC</td>\n      <td>Syracuse</td>\n      <td>ACC</td>\n      <td>-21.5</td>\n      <td>-15.5</td>\n      <td>0</td>\n      <td>0</td>\n      <td>0.645665</td>\n      <td>NaN</td>\n      <td>NaN</td>\n      <td>0.0</td>\n      <td>2020-09-19 16:00:00+00:00</td>\n      <td>0</td>\n    </tr>\n    <tr>\n      <th>3</th>\n      <td>401234567</td>\n      <td>2020</td>\n      <td>3</td>\n      <td>regular</td>\n      <td>Duke</td>\n      <td>ACC</td>\n      <td>Boston College</td>\n      <td>ACC</td>\n      <td>-6.0</td>\n      <td>0.5</td>\n      <td>0</td>\n      <td>1</td>\n      <td>0.298071</td>\n      <td>NaN</td>\n      <td>NaN</td>\n      <td>0.0</td>\n      <td>2020-09-19 16:00:00+00:00</td>\n      <td>0</td>\n    </tr>\n    <tr>\n      <th>4</th>\n      <td>401236041</td>\n      <td>2020</td>\n      <td>2</td>\n      <td>regular</td>\n      <td>Oklahoma State</td>\n      <td>Big 12</td>\n      <td>Tulsa</td>\n      <td>American Athletic</td>\n      <td>-23.5</td>\n      <td>-9.5</td>\n      <td>0</td>\n      <td>1</td>\n      <td>0.356871</td>\n      <td>NaN</td>\n      <td>NaN</td>\n      <td>0.0</td>\n      <td>2020-09-19 16:00:00+00:00</td>\n      <td>0</td>\n    </tr>\n  </tbody>\n</table>\n</div>"
     },
     "metadata": {},
     "execution_count": 111
    }
   ],
   "source": [
    "predict_df['spread_result'] = np.where(predict_df['spread_target'] <= predict_df['pre_game_spread'], 1, 0)\n",
    "predict_df.head()"
   ]
  },
  {
   "cell_type": "code",
   "execution_count": 112,
   "metadata": {},
   "outputs": [
    {
     "output_type": "execute_result",
     "data": {
      "text/plain": "     game_id  season  week season_type         home_team    home_conference  \\\n0  401212522    2020     3     regular            Tulane  American Athletic   \n1  401207124    2020     3     regular  Western Kentucky     Conference USA   \n2  401234571    2020     3     regular        Pittsburgh                ACC   \n3  401234567    2020     3     regular              Duke                ACC   \n4  401236041    2020     3     regular    Oklahoma State             Big 12   \n\n        away_team    away_conference  pre_game_spread  predicted_spread  \\\n0            Navy  American Athletic             -6.5              -8.0   \n1         Liberty   FBS Independents            -14.5              -5.0   \n2        Syracuse                ACC            -21.5             -15.5   \n3  Boston College                ACC             -6.0               0.5   \n4           Tulsa  American Athletic            -23.5              -9.5   \n\n   regression_spread_pred  classification_spread_pred  \\\n0                       1                           1   \n1                       0                           0   \n2                       0                           0   \n3                       0                           1   \n4                       0                           1   \n\n   classification_confidence regression_spread_result  \\\n0                   0.418361                      NaN   \n1                   0.638876                      NaN   \n2                   0.645665                      NaN   \n3                   0.298071                      NaN   \n4                   0.356871                      NaN   \n\n  classification_spread_result  actual_spread                start_date  \\\n0                          NaN            0.0 2020-09-19 16:00:00+00:00   \n1                          NaN            0.0 2020-09-19 16:00:00+00:00   \n2                          NaN            0.0 2020-09-19 16:00:00+00:00   \n3                          NaN            0.0 2020-09-19 16:00:00+00:00   \n4                          NaN            0.0 2020-09-19 16:00:00+00:00   \n\n   spread_result  \n0            NaN  \n1            NaN  \n2            NaN  \n3            NaN  \n4            NaN  ",
      "text/html": "<div>\n<style scoped>\n    .dataframe tbody tr th:only-of-type {\n        vertical-align: middle;\n    }\n\n    .dataframe tbody tr th {\n        vertical-align: top;\n    }\n\n    .dataframe thead th {\n        text-align: right;\n    }\n</style>\n<table border=\"1\" class=\"dataframe\">\n  <thead>\n    <tr style=\"text-align: right;\">\n      <th></th>\n      <th>game_id</th>\n      <th>season</th>\n      <th>week</th>\n      <th>season_type</th>\n      <th>home_team</th>\n      <th>home_conference</th>\n      <th>away_team</th>\n      <th>away_conference</th>\n      <th>pre_game_spread</th>\n      <th>predicted_spread</th>\n      <th>regression_spread_pred</th>\n      <th>classification_spread_pred</th>\n      <th>classification_confidence</th>\n      <th>regression_spread_result</th>\n      <th>classification_spread_result</th>\n      <th>actual_spread</th>\n      <th>start_date</th>\n      <th>spread_result</th>\n    </tr>\n  </thead>\n  <tbody>\n    <tr>\n      <th>0</th>\n      <td>401212522</td>\n      <td>2020</td>\n      <td>3</td>\n      <td>regular</td>\n      <td>Tulane</td>\n      <td>American Athletic</td>\n      <td>Navy</td>\n      <td>American Athletic</td>\n      <td>-6.5</td>\n      <td>-8.0</td>\n      <td>1</td>\n      <td>1</td>\n      <td>0.418361</td>\n      <td>NaN</td>\n      <td>NaN</td>\n      <td>0.0</td>\n      <td>2020-09-19 16:00:00+00:00</td>\n      <td>NaN</td>\n    </tr>\n    <tr>\n      <th>1</th>\n      <td>401207124</td>\n      <td>2020</td>\n      <td>3</td>\n      <td>regular</td>\n      <td>Western Kentucky</td>\n      <td>Conference USA</td>\n      <td>Liberty</td>\n      <td>FBS Independents</td>\n      <td>-14.5</td>\n      <td>-5.0</td>\n      <td>0</td>\n      <td>0</td>\n      <td>0.638876</td>\n      <td>NaN</td>\n      <td>NaN</td>\n      <td>0.0</td>\n      <td>2020-09-19 16:00:00+00:00</td>\n      <td>NaN</td>\n    </tr>\n    <tr>\n      <th>2</th>\n      <td>401234571</td>\n      <td>2020</td>\n      <td>3</td>\n      <td>regular</td>\n      <td>Pittsburgh</td>\n      <td>ACC</td>\n      <td>Syracuse</td>\n      <td>ACC</td>\n      <td>-21.5</td>\n      <td>-15.5</td>\n      <td>0</td>\n      <td>0</td>\n      <td>0.645665</td>\n      <td>NaN</td>\n      <td>NaN</td>\n      <td>0.0</td>\n      <td>2020-09-19 16:00:00+00:00</td>\n      <td>NaN</td>\n    </tr>\n    <tr>\n      <th>3</th>\n      <td>401234567</td>\n      <td>2020</td>\n      <td>3</td>\n      <td>regular</td>\n      <td>Duke</td>\n      <td>ACC</td>\n      <td>Boston College</td>\n      <td>ACC</td>\n      <td>-6.0</td>\n      <td>0.5</td>\n      <td>0</td>\n      <td>1</td>\n      <td>0.298071</td>\n      <td>NaN</td>\n      <td>NaN</td>\n      <td>0.0</td>\n      <td>2020-09-19 16:00:00+00:00</td>\n      <td>NaN</td>\n    </tr>\n    <tr>\n      <th>4</th>\n      <td>401236041</td>\n      <td>2020</td>\n      <td>3</td>\n      <td>regular</td>\n      <td>Oklahoma State</td>\n      <td>Big 12</td>\n      <td>Tulsa</td>\n      <td>American Athletic</td>\n      <td>-23.5</td>\n      <td>-9.5</td>\n      <td>0</td>\n      <td>1</td>\n      <td>0.356871</td>\n      <td>NaN</td>\n      <td>NaN</td>\n      <td>0.0</td>\n      <td>2020-09-19 16:00:00+00:00</td>\n      <td>NaN</td>\n    </tr>\n  </tbody>\n</table>\n</div>"
     },
     "metadata": {},
     "execution_count": 112
    }
   ],
   "source": [
    "# Spread Result Calculation\n",
    "predict_df['regression_spread_result'] = np.where(predict_df['spread_result'] == predict_df['regression_spread_pred'], 'Won', 'Lost')\n",
    "predict_df['regression_spread_result'] = np.where(predict_df['spread_target'] == predict_df['pre_game_spread'], 'Push', predict_df['regression_spread_result'])\n",
    "\n",
    "predict_df['classification_spread_result'] = np.where(predict_df['spread_result'] == predict_df['classification_spread_pred'], 'Won', 'Lost')\n",
    "predict_df['classification_spread_result'] = np.where(predict_df['spread_target'] == predict_df['pre_game_spread'], 'Push', predict_df['classification_spread_result'])\n",
    "\n",
    "# Remove Results from Games that haven't been played\n",
    "predict_df[['regression_spread_result', 'classification_spread_result', 'spread_result']] = predict_df[['regression_spread_result', 'classification_spread_result', 'spread_result']].where(predict_df.spread_target.ne(0), np.nan)\n",
    "\n",
    "# Rename Column\n",
    "predict_df = predict_df.rename(columns={'spread_target':'actual_spread'})\n",
    "predict_df['week'] = predict_df['week'].mode()[0]\n",
    "\n",
    "predict_df.head()"
   ]
  },
  {
   "cell_type": "code",
   "execution_count": 30,
   "metadata": {},
   "outputs": [],
   "source": [
    "# Export\n",
    "filepath = Path('../zillion_picks/picks')\n",
    "\n",
    "for key, group in predict_df.groupby(['season', 'week', 'season_type']):\n",
    "    if group.season_type.unique() == 'postseason':\n",
    "        group.to_csv(filepath/f'premium/{key[0]}_postseason.csv', index=False)\n",
    "    else:\n",
    "        group.to_csv(filepath/f'premium/{key[0]}_{str(key[1]).rjust(2, \"0\")}.csv', index=False)"
   ]
  },
  {
   "cell_type": "code",
   "execution_count": null,
   "metadata": {},
   "outputs": [],
   "source": []
  },
  {
   "cell_type": "code",
   "execution_count": 7,
   "metadata": {
    "tags": []
   },
   "outputs": [
    {
     "output_type": "stream",
     "name": "stdout",
     "text": "2019 Week 1 Regression Accuracy: 55.42%\n2019 Week 1 Classification Accuracy: 57.83%\n2019 Week 2 Regression Accuracy: 54.79%\n2019 Week 2 Classification Accuracy: 49.32%\n2019 Week 3 Regression Accuracy: 41.79%\n2019 Week 3 Classification Accuracy: 53.73%\n2019 Week 4 Regression Accuracy: 46.55%\n2019 Week 4 Classification Accuracy: 55.17%\n2019 Week 5 Regression Accuracy: 60.0%\n2019 Week 5 Classification Accuracy: 47.27%\n2019 Week 6 Regression Accuracy: 57.45%\n2019 Week 6 Classification Accuracy: 65.96%\n2019 Week 7 Regression Accuracy: 49.06%\n2019 Week 7 Classification Accuracy: 66.04%\n2019 Week 8 Regression Accuracy: 50.82%\n2019 Week 8 Classification Accuracy: 49.18%\n2019 Week 9 Regression Accuracy: 54.55%\n2019 Week 9 Classification Accuracy: 45.45%\n2019 Week 10 Regression Accuracy: 52.08%\n2019 Week 10 Classification Accuracy: 52.08%\n2019 Week 11 Regression Accuracy: 41.67%\n2019 Week 11 Classification Accuracy: 45.83%\n2019 Week 12 Regression Accuracy: 50.94%\n2019 Week 12 Classification Accuracy: 62.26%\n2019 Week 13 Regression Accuracy: 57.14%\n2019 Week 13 Classification Accuracy: 42.86%\n2019 Week 14 Regression Accuracy: 48.44%\n2019 Week 14 Classification Accuracy: 56.25%\n2019 Week 15 Regression Accuracy: 27.27%\n2019 Week 15 Classification Accuracy: 36.36%\n2019 Week 16 Regression Accuracy: 40.0%\n2019 Week 16 Classification Accuracy: 37.5%\n"
    }
   ],
   "source": [
    "# REGRESSION AND CLASSIFIER MODEL FOR BACK TESTING\n",
    "\n",
    "# Load\n",
    "predict_season = 2019\n",
    "\n",
    "final_columns = ['game_id', 'season', 'week', 'season_type', 'home_team',\n",
    "                'home_conference', 'away_team', 'away_conference',  'pre_game_spread',\n",
    "                'predicted_spread', 'regression_spread_pred', 'classification_spread_pred', 'classification_confidence']\n",
    "\n",
    "for predict_week in range(1,17):\n",
    "\n",
    "    df = dataset(predict_season=predict_season, predict_week=predict_week, window_size=4, update_data=False)\n",
    "\n",
    "    # Prep Dataset\n",
    "    df[df.columns[df.columns.str.contains('home|Home')]] = df[df.columns[df.columns.str.contains(\n",
    "        'home|Home')]].groupby('home_team', as_index=False, group_keys=False).apply(lambda x: x.fillna(x.mean()))\n",
    "\n",
    "    df[df.columns[df.columns.str.contains('away|Away')]] = df[df.columns[df.columns.str.contains(\n",
    "        'away|Away')]].groupby('away_team', as_index=False, group_keys=False).apply(lambda x: x.fillna(x.mean()))\n",
    "\n",
    "    df = df.dropna(axis=1, thresh=int(len(df) * .9))\n",
    "    df = df.fillna(0)\n",
    "    df[df.select_dtypes('bool').columns] = df.select_dtypes('bool').astype('int')\n",
    "\n",
    "    # Model\n",
    "    ct = make_column_transformer(\n",
    "        (OrdinalEncoder(), ['season_type', 'home_conference', 'away_conference']),\n",
    "        remainder='passthrough'\n",
    "    )\n",
    "\n",
    "    drop_columns =  ['game_id', 'season', 'venue', 'start_date', 'home_team', 'away_team', \n",
    "                    'start_date', 'spread_target', 'pre_game_spread', 'pre_game_home_win_prob', 'pre_game_away_win_prob'\n",
    "                    ]\n",
    "\n",
    "    # Use in production\n",
    "    # X_train = df[(df.start_date.dt.tz_convert('US/Central') < today_localize)]\n",
    "    # X_test = df[(df.start_date.dt.tz_convert('US/Central') >= today_localize)] \n",
    "\n",
    "    # Use in development\n",
    "    X_train = df[(df['week'] < predict_week) | (df['season'] < predict_season)] \n",
    "    X_test = df[(df['week'] == predict_week) & (df['season'] == predict_season)] \n",
    "\n",
    "    model_regressor = XGBRegressor(learning_rate=0.1, \n",
    "                                    colsample_bytree=0.9,\n",
    "                                    gamma=0.5,\n",
    "                                    max_depth=2,\n",
    "                                    min_child_weight=4,\n",
    "                                    n_estimators=100,\n",
    "                                    subsample=0.8)\n",
    "\n",
    "    model_regressor.fit(\n",
    "        ct.fit_transform(\n",
    "            X_train.drop(drop_columns, axis=1)), \n",
    "            X_train['spread_target']\n",
    "            )\n",
    "    \n",
    "    # Use this for later to determine feature importance\n",
    "    model_regressor_cols = X_train.drop(drop_columns, axis=1).columns\n",
    "\n",
    "    X_train['predicted_spread'] = model_regressor.predict(ct.fit_transform(X_train.drop(drop_columns, axis=1)))\n",
    "    X_test['predicted_spread'] = model_regressor.predict(ct.fit_transform(X_test.drop(drop_columns, axis=1)))\n",
    "\n",
    "    # Clean Up\n",
    "    X_train['predicted_spread'] = np.around(X_train['predicted_spread'] / .5, decimals=0) * .5\n",
    "    X_test['predicted_spread'] = np.around(X_test['predicted_spread'] / .5, decimals=0) * .5\n",
    "\n",
    "    X_train['regression_spread_pred'] = np.where(X_train['predicted_spread'] <= X_train['pre_game_spread'], 1, 0)\n",
    "    X_test['regression_spread_pred'] = np.where(X_test['predicted_spread'] <= X_test['pre_game_spread'], 1, 0)\n",
    "\n",
    "    X_train['spread_result'] = np.where(X_train['spread_target'] <= X_train['pre_game_spread'], 1, 0)\n",
    "    X_test['spread_result'] = np.where(X_test['spread_target'] <= X_test['pre_game_spread'], 1, 0)\n",
    "\n",
    "    model_classifier = XGBClassifier(base_score=0.5, booster='gbtree', colsample_bylevel=1,\n",
    "                colsample_bynode=1, colsample_bytree=0.8, gamma=5, gpu_id=-1,\n",
    "                importance_type='gain', interaction_constraints='',\n",
    "                learning_rate=0.1, max_delta_step=0, max_depth=5,\n",
    "                min_child_weight=10, monotone_constraints='()',\n",
    "                n_estimators=100, n_jobs=0, num_parallel_tree=1,\n",
    "                objective='binary:logistic', random_state=0, reg_alpha=0,\n",
    "                reg_lambda=1, scale_pos_weight=1, subsample=1.0,\n",
    "                tree_method='exact', validate_parameters=1, verbosity=None)\n",
    "\n",
    "    # Update drop columns list for Classifier Model\n",
    "    drop_columns.append('spread_result')\n",
    "    drop_columns.remove('pre_game_spread')   \n",
    "\n",
    "    model_classifier.fit(ct.fit_transform(X_train.drop(drop_columns, axis=1)), X_train['spread_result'])\n",
    "    \n",
    "    # Use this for later to determine feature importance\n",
    "    model_classifier_cols = X_train.drop(drop_columns, axis=1).columns\n",
    "\n",
    "    X_train['classification_spread_pred'] = model_classifier.predict(ct.fit_transform(X_train.drop(drop_columns, axis=1)))\n",
    "    X_test['classification_spread_pred'] = model_classifier.predict(ct.fit_transform(X_test.drop(drop_columns, axis=1)))\n",
    "\n",
    "    # Add so the Predict Probability is Aligned\n",
    "    drop_columns.append('classification_spread_pred')\n",
    "\n",
    "    X_train['classification_confidence'] = model_classifier.predict_proba(ct.fit_transform(X_train.drop(drop_columns, axis=1)))[:,0]\n",
    "    X_test['classification_confidence'] = model_classifier.predict_proba(ct.fit_transform(X_test.drop(drop_columns, axis=1)))[:,0] \n",
    "\n",
    "    predict_df = X_test[final_columns]\n",
    "\n",
    "    predict_df = predict_df.merge(df[['game_id', 'spread_target', 'start_date']], on='game_id', how='left')\n",
    "    predict_df['spread_result'] = np.where(predict_df['spread_target'] <= predict_df['pre_game_spread'], 1, 0)\n",
    "\n",
    "    predict_df['regression_spread_result'] = np.where(predict_df['spread_result'] == predict_df['regression_spread_pred'], 'Won', 'Lost')\n",
    "    predict_df['regression_spread_result'] = np.where(predict_df['spread_target'] == predict_df['pre_game_spread'], 'Push', predict_df['regression_spread_result'])\n",
    "\n",
    "    predict_df['classification_spread_result'] = np.where(predict_df['spread_result'] == predict_df['classification_spread_pred'], 'Won', 'Lost')\n",
    "    predict_df['classification_spread_result'] = np.where(predict_df['spread_target'] == predict_df['pre_game_spread'], 'Push', predict_df['classification_spread_result'])\n",
    "\n",
    "    # Remove Results from Games that haven't been played\n",
    "    predict_df[['regression_spread_result', 'classification_spread_result', 'spread_result']] = predict_df[['regression_spread_result', 'classification_spread_result', 'spread_result']].where(predict_df.spread_target.ne(0), np.nan)\n",
    "\n",
    "    # Rename Column\n",
    "    predict_df = predict_df.rename(columns={'spread_target':'actual_spread'})\n",
    "    predict_df['week'] = predict_df['week'].mode()[0]\n",
    "\n",
    "    # Export\n",
    "    filepath = Path('../zillion_picks/picks')\n",
    "\n",
    "    for key, group in predict_df.groupby(['season', 'week', 'season_type']):\n",
    "        if group.season_type.unique() == 'postseason':\n",
    "            group.to_csv(filepath/f'premium/{key[0]}_postseason.csv', index=False)\n",
    "        else:\n",
    "            group.to_csv(filepath/f'premium/{key[0]}_{str(key[1]).rjust(2, \"0\")}.csv', index=False)\n",
    "\n",
    "    print(f\"{predict_season} Week {predict_week} Regression Accuracy: {round(accuracy_score(X_test['spread_result'], X_test['regression_spread_pred']) * 100,2)}%\" )\n",
    "    print(f\"{predict_season} Week {predict_week} Classification Accuracy: {round(accuracy_score(X_test['spread_result'], X_test['classification_spread_pred']) * 100,2)}%\" )\n"
   ]
  },
  {
   "cell_type": "code",
   "execution_count": 8,
   "metadata": {
    "tags": []
   },
   "outputs": [
    {
     "output_type": "stream",
     "name": "stdout",
     "text": "pointsAway                          0.058916\naway_points                         0.040906\noffense_successRateHome             0.037539\naverageRating_All PositionsHome     0.031255\nrankHome                            0.029669\naverageRating_Defensive LineHome    0.025599\nhome_conference                     0.024919\naverageStars_All PositionsHome      0.023821\ntalentHome                          0.021426\nhome_points                         0.021078\ndtype: float32\n---------------------------------------\nregression_spread_pred                    0.010872\ndefense_rushingPlays_totalPPAHome         0.007458\noffense_passingPlays_explosivenessAway    0.005569\npuntReturnsAway                           0.005525\nseason_type                               0.005365\nweight RBHome                             0.005301\naverageRating_LinebackerHome              0.005273\ndefense_totalPPAAway                      0.005220\naverageStars_ReceiverHome                 0.005053\nnetPassingYardsHome                       0.005025\ndtype: float32\n"
    }
   ],
   "source": [
    "# Test Feature Importance\n",
    "\n",
    "regression_important_features = pd.Series(data=model_regressor.feature_importances_, index=model_regressor_cols).sort_values(ascending=False)\n",
    "classification_important_features = pd.Series(data=model_classifier.feature_importances_, index=model_classifier_cols).sort_values(ascending=False)\n",
    "\n",
    "print(regression_important_features.head(10))\n",
    "print('---------------------------------------')\n",
    "print(classification_important_features.head(10))\n"
   ]
  },
  {
   "cell_type": "code",
   "execution_count": 9,
   "metadata": {
    "tags": []
   },
   "outputs": [
    {
     "output_type": "stream",
     "name": "stdout",
     "text": "2019 Week 16 Classification Accuracy: 92.34%\n"
    }
   ],
   "source": [
    "    print(f\"{predict_season} Week {predict_week} Classification Accuracy: {round(accuracy_score(X_train['spread_result'], X_train['classification_spread_pred']) * 100,2)}%\" )"
   ]
  },
  {
   "cell_type": "code",
   "execution_count": 535,
   "metadata": {},
   "outputs": [
    {
     "output_type": "execute_result",
     "data": {
      "text/plain": "                  win  count\nbin                         \n(0.0, 0.2]   0.750000      4\n(0.2, 0.35]  0.466667     90\n(0.35, 0.4]  0.511364     88\n(0.4, 0.45]  0.521739    115\n(0.45, 0.5]  0.535088    114\n(0.5, 0.55]  0.513333    150\n(0.55, 0.6]  0.507692    130\n(0.6, 0.65]  0.518072     83\n(0.65, 0.7]  0.561404     57\n(0.7, 0.8]   0.441860     43\n(0.8, 1.0]   0.800000      5",
      "text/html": "<div>\n<style scoped>\n    .dataframe tbody tr th:only-of-type {\n        vertical-align: middle;\n    }\n\n    .dataframe tbody tr th {\n        vertical-align: top;\n    }\n\n    .dataframe thead th {\n        text-align: right;\n    }\n</style>\n<table border=\"1\" class=\"dataframe\">\n  <thead>\n    <tr style=\"text-align: right;\">\n      <th></th>\n      <th>win</th>\n      <th>count</th>\n    </tr>\n    <tr>\n      <th>bin</th>\n      <th></th>\n      <th></th>\n    </tr>\n  </thead>\n  <tbody>\n    <tr>\n      <th>(0.0, 0.2]</th>\n      <td>0.750000</td>\n      <td>4</td>\n    </tr>\n    <tr>\n      <th>(0.2, 0.35]</th>\n      <td>0.466667</td>\n      <td>90</td>\n    </tr>\n    <tr>\n      <th>(0.35, 0.4]</th>\n      <td>0.511364</td>\n      <td>88</td>\n    </tr>\n    <tr>\n      <th>(0.4, 0.45]</th>\n      <td>0.521739</td>\n      <td>115</td>\n    </tr>\n    <tr>\n      <th>(0.45, 0.5]</th>\n      <td>0.535088</td>\n      <td>114</td>\n    </tr>\n    <tr>\n      <th>(0.5, 0.55]</th>\n      <td>0.513333</td>\n      <td>150</td>\n    </tr>\n    <tr>\n      <th>(0.55, 0.6]</th>\n      <td>0.507692</td>\n      <td>130</td>\n    </tr>\n    <tr>\n      <th>(0.6, 0.65]</th>\n      <td>0.518072</td>\n      <td>83</td>\n    </tr>\n    <tr>\n      <th>(0.65, 0.7]</th>\n      <td>0.561404</td>\n      <td>57</td>\n    </tr>\n    <tr>\n      <th>(0.7, 0.8]</th>\n      <td>0.441860</td>\n      <td>43</td>\n    </tr>\n    <tr>\n      <th>(0.8, 1.0]</th>\n      <td>0.800000</td>\n      <td>5</td>\n    </tr>\n  </tbody>\n</table>\n</div>"
     },
     "metadata": {},
     "execution_count": 535
    }
   ],
   "source": [
    "#################### WORK ON THIS ###############################\n",
    "\n",
    "# CHECK CONFIDENCE TO SEE IF THERE IS A WIN ADVANTAGE\n",
    "dfs=[]\n",
    "\n",
    "for file in (filepath/'free').rglob('*'):\n",
    "    df = pd.read_csv(file)\n",
    "    dfs.append(df)\n",
    "\n",
    "df = pd.concat(dfs)\n",
    "df.head()\n",
    "\n",
    "df['bin'] = pd.cut(df.classification_confidence, [0,.20,.35,.40,.45,.50,.55,.60,.65,.70,.80,1])\n",
    "df.groupby('bin')['classification_spread_result'].agg(win=(lambda df: df.eq('Won').sum() / len(df)), count=( 'count'))"
   ]
  },
  {
   "cell_type": "code",
   "execution_count": 532,
   "metadata": {},
   "outputs": [
    {
     "output_type": "execute_result",
     "data": {
      "text/plain": "     game_id  season  week season_type      home_team    home_conference  \\\n0  401110723    2019     1     regular        Florida                SEC   \n1  401114164    2019     1     regular        Hawai'i      Mountain West   \n2  401117855    2019     1     regular    Connecticut  American Athletic   \n3  401117854    2019     1     regular     Cincinnati  American Athletic   \n4  401119254    2019     1     regular  Bowling Green       Mid-American   \n\n      away_team away_conference  pre_game_spread  predicted_spread  \\\n0         Miami             ACC             -7.0             -11.0   \n1       Arizona          Pac-12             10.5              11.5   \n2        Wagner         MISSING            -23.0             -22.5   \n3          UCLA          Pac-12             -2.5              -4.0   \n4  Morgan State         MISSING            -24.0             -20.5   \n\n   regression_spread_pred  classification_spread_pred  \\\n0                       1                           1   \n1                       0                           0   \n2                       0                           0   \n3                       1                           1   \n4                       0                           1   \n\n   classification_confidence  actual_spread                 start_date  \\\n0                   0.373211           -4.0  2019-08-24 23:00:00+00:00   \n1                   0.594086           -7.0  2019-08-25 02:30:00+00:00   \n2                   0.596450           -3.0  2019-08-29 23:00:00+00:00   \n3                   0.450243          -10.0  2019-08-29 23:00:00+00:00   \n4                   0.331717          -43.0  2019-08-29 23:00:00+00:00   \n\n   spread_result regression_spread_result classification_spread_result  \\\n0              0                     Lost                         Lost   \n1              1                     Lost                         Lost   \n2              0                      Won                          Won   \n3              1                      Won                          Won   \n4              1                     Lost                          Won   \n\n          bin  \n0  (0.3, 0.4]  \n1  (0.5, 0.6]  \n2  (0.5, 0.6]  \n3  (0.4, 0.5]  \n4  (0.3, 0.4]  ",
      "text/html": "<div>\n<style scoped>\n    .dataframe tbody tr th:only-of-type {\n        vertical-align: middle;\n    }\n\n    .dataframe tbody tr th {\n        vertical-align: top;\n    }\n\n    .dataframe thead th {\n        text-align: right;\n    }\n</style>\n<table border=\"1\" class=\"dataframe\">\n  <thead>\n    <tr style=\"text-align: right;\">\n      <th></th>\n      <th>game_id</th>\n      <th>season</th>\n      <th>week</th>\n      <th>season_type</th>\n      <th>home_team</th>\n      <th>home_conference</th>\n      <th>away_team</th>\n      <th>away_conference</th>\n      <th>pre_game_spread</th>\n      <th>predicted_spread</th>\n      <th>regression_spread_pred</th>\n      <th>classification_spread_pred</th>\n      <th>classification_confidence</th>\n      <th>actual_spread</th>\n      <th>start_date</th>\n      <th>spread_result</th>\n      <th>regression_spread_result</th>\n      <th>classification_spread_result</th>\n      <th>bin</th>\n    </tr>\n  </thead>\n  <tbody>\n    <tr>\n      <th>0</th>\n      <td>401110723</td>\n      <td>2019</td>\n      <td>1</td>\n      <td>regular</td>\n      <td>Florida</td>\n      <td>SEC</td>\n      <td>Miami</td>\n      <td>ACC</td>\n      <td>-7.0</td>\n      <td>-11.0</td>\n      <td>1</td>\n      <td>1</td>\n      <td>0.373211</td>\n      <td>-4.0</td>\n      <td>2019-08-24 23:00:00+00:00</td>\n      <td>0</td>\n      <td>Lost</td>\n      <td>Lost</td>\n      <td>(0.3, 0.4]</td>\n    </tr>\n    <tr>\n      <th>1</th>\n      <td>401114164</td>\n      <td>2019</td>\n      <td>1</td>\n      <td>regular</td>\n      <td>Hawai'i</td>\n      <td>Mountain West</td>\n      <td>Arizona</td>\n      <td>Pac-12</td>\n      <td>10.5</td>\n      <td>11.5</td>\n      <td>0</td>\n      <td>0</td>\n      <td>0.594086</td>\n      <td>-7.0</td>\n      <td>2019-08-25 02:30:00+00:00</td>\n      <td>1</td>\n      <td>Lost</td>\n      <td>Lost</td>\n      <td>(0.5, 0.6]</td>\n    </tr>\n    <tr>\n      <th>2</th>\n      <td>401117855</td>\n      <td>2019</td>\n      <td>1</td>\n      <td>regular</td>\n      <td>Connecticut</td>\n      <td>American Athletic</td>\n      <td>Wagner</td>\n      <td>MISSING</td>\n      <td>-23.0</td>\n      <td>-22.5</td>\n      <td>0</td>\n      <td>0</td>\n      <td>0.596450</td>\n      <td>-3.0</td>\n      <td>2019-08-29 23:00:00+00:00</td>\n      <td>0</td>\n      <td>Won</td>\n      <td>Won</td>\n      <td>(0.5, 0.6]</td>\n    </tr>\n    <tr>\n      <th>3</th>\n      <td>401117854</td>\n      <td>2019</td>\n      <td>1</td>\n      <td>regular</td>\n      <td>Cincinnati</td>\n      <td>American Athletic</td>\n      <td>UCLA</td>\n      <td>Pac-12</td>\n      <td>-2.5</td>\n      <td>-4.0</td>\n      <td>1</td>\n      <td>1</td>\n      <td>0.450243</td>\n      <td>-10.0</td>\n      <td>2019-08-29 23:00:00+00:00</td>\n      <td>1</td>\n      <td>Won</td>\n      <td>Won</td>\n      <td>(0.4, 0.5]</td>\n    </tr>\n    <tr>\n      <th>4</th>\n      <td>401119254</td>\n      <td>2019</td>\n      <td>1</td>\n      <td>regular</td>\n      <td>Bowling Green</td>\n      <td>Mid-American</td>\n      <td>Morgan State</td>\n      <td>MISSING</td>\n      <td>-24.0</td>\n      <td>-20.5</td>\n      <td>0</td>\n      <td>1</td>\n      <td>0.331717</td>\n      <td>-43.0</td>\n      <td>2019-08-29 23:00:00+00:00</td>\n      <td>1</td>\n      <td>Lost</td>\n      <td>Won</td>\n      <td>(0.3, 0.4]</td>\n    </tr>\n  </tbody>\n</table>\n</div>"
     },
     "metadata": {},
     "execution_count": 532
    }
   ],
   "source": [
    "df.head()\n",
    "\n",
    "# FINISH THE CLEAN UP AND FILE EXPORT"
   ]
  },
  {
   "cell_type": "code",
   "execution_count": 342,
   "metadata": {},
   "outputs": [
    {
     "output_type": "execute_result",
     "data": {
      "text/plain": "456"
     },
     "metadata": {},
     "execution_count": 342
    }
   ],
   "source": [
    "df['spread_result'].eq('Won').sum()"
   ]
  },
  {
   "cell_type": "code",
   "execution_count": 215,
   "metadata": {},
   "outputs": [],
   "source": [
    "# setup\n",
    "predict_week = 1\n",
    "predict_season = 2020\n",
    "today_localize = pd.to_datetime('today').tz_localize('US/Central') - pd.Timedelta(hours=3)"
   ]
  },
  {
   "cell_type": "code",
   "execution_count": 295,
   "metadata": {},
   "outputs": [],
   "source": [
    "# Load\n",
    "df = dataset(predict_season=predict_season, predict_week=predict_week, window_size=4, update_data=False, update_seasons=[pd.to_datetime('today').year])"
   ]
  },
  {
   "cell_type": "code",
   "execution_count": 296,
   "metadata": {},
   "outputs": [],
   "source": [
    "# Clean Up\n",
    "df[df.columns[df.columns.str.contains('home|Home')]] = df[df.columns[df.columns.str.contains(\n",
    "    'home|Home')]].groupby('home_team', as_index=False, group_keys=False).apply(lambda x: x.fillna(x.mean()))\n",
    "\n",
    "df[df.columns[df.columns.str.contains('away|Away')]] = df[df.columns[df.columns.str.contains(\n",
    "    'away|Away')]].groupby('away_team', as_index=False, group_keys=False).apply(lambda x: x.fillna(x.mean()))\n",
    "\n",
    "df = df.dropna(axis=1, thresh=int(len(df) * .9))\n",
    "\n",
    "df = df.fillna(0)\n",
    "\n",
    "df[df.select_dtypes('bool').columns] = df.select_dtypes('bool').astype('int')"
   ]
  },
  {
   "cell_type": "code",
   "execution_count": 218,
   "metadata": {},
   "outputs": [
    {
     "output_type": "execute_result",
     "data": {
      "text/plain": "        game_id  season  week season_type                start_date  \\\n5581  401212484    2020     1     regular 2020-09-05 20:30:00+00:00   \n5582  401207098    2020     1     regular 2020-09-05 23:30:00+00:00   \n5583  401212553    2020     1     regular 2020-09-06 00:00:00+00:00   \n5584  401239884    2020     1     regular 2020-09-06 01:00:00+00:00   \n5585  401234576    2020     1     regular 2020-09-08 00:00:00+00:00   \n\n      neutral_site  conference_game  attendance  venue_id  \\\n5581             0              0.0         0.0    3644.0   \n5582             0              0.0         0.0    3825.0   \n5583             0              0.0         0.0    3805.0   \n5584             0              0.0         0.0    3946.0   \n5585             0              0.0         0.0    3852.0   \n\n                                   venue  ... year PKHome year TEHome  \\\n5581  Jim Wacker Field at Bobcat Stadium  ...        2.25    2.000000   \n5582                      Apogee Stadium  ...        3.00    1.571429   \n5583       Liberty Bowl Memorial Stadium  ...        1.75    2.428571   \n5584                    Sun Bowl Stadium  ...        1.50    1.545455   \n5585  Navy-Marine Corps Memorial Stadium  ...        1.50    4.000000   \n\n     weight LBHome weight LSHome  height LBHome  height LSHome  year LBHome  \\\n5581    214.900000    195.000000      72.366667      69.500000     2.200000   \n5582    218.909091    221.944444      72.909091      73.740741     2.090909   \n5583    222.000000    223.666667      73.357143      70.000000     2.714286   \n5584    222.115385    192.142857      73.730769      71.000000     2.038462   \n5585    216.727273    213.000000      73.333333      73.000000     2.181818   \n\n      year LSHome  talentHome  talentAway  \n5581     1.500000  328.451379  497.315357  \n5582     2.612933  369.060000   26.800000  \n5583     2.333333  477.170937  439.283030  \n5584     1.000000  307.035000   80.512500  \n5585     2.500000  341.698529  549.447576  \n\n[5 rows x 305 columns]",
      "text/html": "<div>\n<style scoped>\n    .dataframe tbody tr th:only-of-type {\n        vertical-align: middle;\n    }\n\n    .dataframe tbody tr th {\n        vertical-align: top;\n    }\n\n    .dataframe thead th {\n        text-align: right;\n    }\n</style>\n<table border=\"1\" class=\"dataframe\">\n  <thead>\n    <tr style=\"text-align: right;\">\n      <th></th>\n      <th>game_id</th>\n      <th>season</th>\n      <th>week</th>\n      <th>season_type</th>\n      <th>start_date</th>\n      <th>neutral_site</th>\n      <th>conference_game</th>\n      <th>attendance</th>\n      <th>venue_id</th>\n      <th>venue</th>\n      <th>...</th>\n      <th>year PKHome</th>\n      <th>year TEHome</th>\n      <th>weight LBHome</th>\n      <th>weight LSHome</th>\n      <th>height LBHome</th>\n      <th>height LSHome</th>\n      <th>year LBHome</th>\n      <th>year LSHome</th>\n      <th>talentHome</th>\n      <th>talentAway</th>\n    </tr>\n  </thead>\n  <tbody>\n    <tr>\n      <th>5581</th>\n      <td>401212484</td>\n      <td>2020</td>\n      <td>1</td>\n      <td>regular</td>\n      <td>2020-09-05 20:30:00+00:00</td>\n      <td>0</td>\n      <td>0.0</td>\n      <td>0.0</td>\n      <td>3644.0</td>\n      <td>Jim Wacker Field at Bobcat Stadium</td>\n      <td>...</td>\n      <td>2.25</td>\n      <td>2.000000</td>\n      <td>214.900000</td>\n      <td>195.000000</td>\n      <td>72.366667</td>\n      <td>69.500000</td>\n      <td>2.200000</td>\n      <td>1.500000</td>\n      <td>328.451379</td>\n      <td>497.315357</td>\n    </tr>\n    <tr>\n      <th>5582</th>\n      <td>401207098</td>\n      <td>2020</td>\n      <td>1</td>\n      <td>regular</td>\n      <td>2020-09-05 23:30:00+00:00</td>\n      <td>0</td>\n      <td>0.0</td>\n      <td>0.0</td>\n      <td>3825.0</td>\n      <td>Apogee Stadium</td>\n      <td>...</td>\n      <td>3.00</td>\n      <td>1.571429</td>\n      <td>218.909091</td>\n      <td>221.944444</td>\n      <td>72.909091</td>\n      <td>73.740741</td>\n      <td>2.090909</td>\n      <td>2.612933</td>\n      <td>369.060000</td>\n      <td>26.800000</td>\n    </tr>\n    <tr>\n      <th>5583</th>\n      <td>401212553</td>\n      <td>2020</td>\n      <td>1</td>\n      <td>regular</td>\n      <td>2020-09-06 00:00:00+00:00</td>\n      <td>0</td>\n      <td>0.0</td>\n      <td>0.0</td>\n      <td>3805.0</td>\n      <td>Liberty Bowl Memorial Stadium</td>\n      <td>...</td>\n      <td>1.75</td>\n      <td>2.428571</td>\n      <td>222.000000</td>\n      <td>223.666667</td>\n      <td>73.357143</td>\n      <td>70.000000</td>\n      <td>2.714286</td>\n      <td>2.333333</td>\n      <td>477.170937</td>\n      <td>439.283030</td>\n    </tr>\n    <tr>\n      <th>5584</th>\n      <td>401239884</td>\n      <td>2020</td>\n      <td>1</td>\n      <td>regular</td>\n      <td>2020-09-06 01:00:00+00:00</td>\n      <td>0</td>\n      <td>0.0</td>\n      <td>0.0</td>\n      <td>3946.0</td>\n      <td>Sun Bowl Stadium</td>\n      <td>...</td>\n      <td>1.50</td>\n      <td>1.545455</td>\n      <td>222.115385</td>\n      <td>192.142857</td>\n      <td>73.730769</td>\n      <td>71.000000</td>\n      <td>2.038462</td>\n      <td>1.000000</td>\n      <td>307.035000</td>\n      <td>80.512500</td>\n    </tr>\n    <tr>\n      <th>5585</th>\n      <td>401234576</td>\n      <td>2020</td>\n      <td>1</td>\n      <td>regular</td>\n      <td>2020-09-08 00:00:00+00:00</td>\n      <td>0</td>\n      <td>0.0</td>\n      <td>0.0</td>\n      <td>3852.0</td>\n      <td>Navy-Marine Corps Memorial Stadium</td>\n      <td>...</td>\n      <td>1.50</td>\n      <td>4.000000</td>\n      <td>216.727273</td>\n      <td>213.000000</td>\n      <td>73.333333</td>\n      <td>73.000000</td>\n      <td>2.181818</td>\n      <td>2.500000</td>\n      <td>341.698529</td>\n      <td>549.447576</td>\n    </tr>\n  </tbody>\n</table>\n<p>5 rows × 305 columns</p>\n</div>"
     },
     "metadata": {},
     "execution_count": 218
    }
   ],
   "source": [
    "df.tail()"
   ]
  },
  {
   "cell_type": "code",
   "execution_count": 219,
   "metadata": {
    "tags": []
   },
   "outputs": [],
   "source": [
    "# Model\n",
    "ct = make_column_transformer(\n",
    "    (OrdinalEncoder(), ['season_type', 'home_conference', 'away_conference']),\n",
    "    remainder='passthrough'\n",
    ")\n",
    "\n",
    "drop_columns =  ['game_id', 'season', 'venue', 'start_date', 'home_team', 'away_team', 'start_date', 'spread_target'\n",
    ",'pre_game_spread', 'pre_game_home_win_prob', 'pre_game_away_win_prob'\n",
    "]\n",
    "\n",
    "# use in production\n",
    "# X_train = df[(df.start_date.dt.tz_convert('US/Central') < today_localize)].drop(drop_columns, axis=1)  \n",
    "# y_train = df[(df.start_date.dt.tz_convert('US/Central') < today_localize)][['spread_target']] \n",
    "\n",
    "# X_pred = df[(df.start_date.dt.tz_convert('US/Central') >= today_localize)].drop(drop_columns, axis=1) \n",
    "# # y_pred = y[X.start_date.dt.date >= pd.to_datetime('today')]\n",
    "\n",
    "# use in development\n",
    "X_train = df[(df['week'] < predict_week) | (df['season'] < predict_season)].drop(drop_columns, axis=1)  \n",
    "y_train = df[(df['week'] < predict_week) | (df['season'] < predict_season)][['spread_target']] \n",
    "X_pred = df[(df['week'] == predict_week) & (df['season'] == predict_season)].drop(drop_columns, axis=1) \n",
    "\n",
    "if len(X_pred) > 0:\n",
    "\n",
    "    spread_model = XGBRegressor(learning_rate=0.1, \n",
    "                                    colsample_bytree=1.0,\n",
    "                                    gamma=0.5,\n",
    "                                    max_depth=5,\n",
    "                                    min_child_weight=8,\n",
    "                                    n_estimators=100,\n",
    "                                    subsample=1.0)\n",
    "\n",
    "    spread_model.fit(ct.fit_transform(X_train), y_train['spread_target'])\n",
    "    y_spread_pred = np.around(spread_model.predict(ct.fit_transform(X_pred))/.5, decimals=0)*.5\n",
    "\n",
    "    final_columns = ['game_id', 'season', 'week', 'season_type', 'home_team',\n",
    "                    'home_conference', 'away_team', 'away_conference',  'pre_game_spread',\n",
    "                    'predicted_spread']\n",
    "\n",
    "    # use in production\n",
    "    # X_pred = pd.concat([\n",
    "    #                     X_pred, \n",
    "    #                     df[df.start_date.dt.tz_convert('US/Central') >= today_localize].drop([col for col in df.columns if col not in drop_columns], axis=1) \n",
    "    #                     ], \n",
    "    #                     axis=1)\n",
    "\n",
    "    # use in development\n",
    "    X_pred = pd.concat([\n",
    "                        X_pred, \n",
    "                        df[(df['week'] == predict_week) & (df['season'] == predict_season)].drop([col for col in df.columns if col not in drop_columns], axis=1) \n",
    "                        ], \n",
    "                        axis=1)    \n",
    "\n",
    "    predict_df = pd.concat([\n",
    "            X_pred.reset_index(drop=True), \n",
    "            pd.Series(y_spread_pred, name='predicted_spread'),\n",
    "        ], axis=1)\n",
    "\n",
    "    predict_df = predict_df[final_columns]\n",
    "\n",
    "    predict_df['spread_pick'] = np.where(predict_df['predicted_spread'] <= predict_df['pre_game_spread'], predict_df['home_team'], predict_df['away_team'])\n",
    "    predict_df['straight_pick'] = np.where(predict_df['predicted_spread'] < 0, predict_df['home_team'], predict_df['away_team'])\n",
    "\n",
    "    predict_df = predict_df[predict_df['week'] == predict_week]\n",
    "    predict_df\n",
    "\n",
    "else:\n",
    "    print('Nothing to Predict')\n",
    "    pass\n"
   ]
  },
  {
   "cell_type": "code",
   "execution_count": 220,
   "metadata": {},
   "outputs": [
    {
     "output_type": "execute_result",
     "data": {
      "text/plain": "     game_id  season  week season_type             home_team  \\\n0  401238035    2020     1     regular                   UAB   \n1  401207101    2020     1     regular  Southern Mississippi   \n2  401237353    2020     1     regular              Marshall   \n3  401235700    2020     1     regular                  Army   \n4  401212484    2020     1     regular           Texas State   \n5  401207098    2020     1     regular           North Texas   \n6  401212553    2020     1     regular               Memphis   \n7  401239884    2020     1     regular                  UTEP   \n8  401234576    2020     1     regular                  Navy   \n\n     home_conference          away_team    away_conference  pre_game_spread  \\\n0     Conference USA   Central Arkansas            MISSING            -21.0   \n1     Conference USA      South Alabama           Sun Belt            -12.5   \n2     Conference USA   Eastern Kentucky            MISSING            -25.5   \n3   FBS Independents   Middle Tennessee     Conference USA             -3.5   \n4           Sun Belt                SMU  American Athletic             24.5   \n5     Conference USA    Houston Baptist            MISSING            -23.0   \n6  American Athletic     Arkansas State           Sun Belt            -18.5   \n7     Conference USA  Stephen F. Austin            MISSING             -4.0   \n8  American Athletic                BYU   FBS Independents              1.0   \n\n   predicted_spread           spread_pick         straight_pick  \n0             -14.0      Central Arkansas                   UAB  \n1             -18.0  Southern Mississippi  Southern Mississippi  \n2             -18.0      Eastern Kentucky              Marshall  \n3             -12.5                  Army                  Army  \n4               5.0           Texas State                   SMU  \n5             -27.5           North Texas           North Texas  \n6              -4.5        Arkansas State               Memphis  \n7             -20.5                  UTEP                  UTEP  \n8               2.5                   BYU                   BYU  ",
      "text/html": "<div>\n<style scoped>\n    .dataframe tbody tr th:only-of-type {\n        vertical-align: middle;\n    }\n\n    .dataframe tbody tr th {\n        vertical-align: top;\n    }\n\n    .dataframe thead th {\n        text-align: right;\n    }\n</style>\n<table border=\"1\" class=\"dataframe\">\n  <thead>\n    <tr style=\"text-align: right;\">\n      <th></th>\n      <th>game_id</th>\n      <th>season</th>\n      <th>week</th>\n      <th>season_type</th>\n      <th>home_team</th>\n      <th>home_conference</th>\n      <th>away_team</th>\n      <th>away_conference</th>\n      <th>pre_game_spread</th>\n      <th>predicted_spread</th>\n      <th>spread_pick</th>\n      <th>straight_pick</th>\n    </tr>\n  </thead>\n  <tbody>\n    <tr>\n      <th>0</th>\n      <td>401238035</td>\n      <td>2020</td>\n      <td>1</td>\n      <td>regular</td>\n      <td>UAB</td>\n      <td>Conference USA</td>\n      <td>Central Arkansas</td>\n      <td>MISSING</td>\n      <td>-21.0</td>\n      <td>-14.0</td>\n      <td>Central Arkansas</td>\n      <td>UAB</td>\n    </tr>\n    <tr>\n      <th>1</th>\n      <td>401207101</td>\n      <td>2020</td>\n      <td>1</td>\n      <td>regular</td>\n      <td>Southern Mississippi</td>\n      <td>Conference USA</td>\n      <td>South Alabama</td>\n      <td>Sun Belt</td>\n      <td>-12.5</td>\n      <td>-18.0</td>\n      <td>Southern Mississippi</td>\n      <td>Southern Mississippi</td>\n    </tr>\n    <tr>\n      <th>2</th>\n      <td>401237353</td>\n      <td>2020</td>\n      <td>1</td>\n      <td>regular</td>\n      <td>Marshall</td>\n      <td>Conference USA</td>\n      <td>Eastern Kentucky</td>\n      <td>MISSING</td>\n      <td>-25.5</td>\n      <td>-18.0</td>\n      <td>Eastern Kentucky</td>\n      <td>Marshall</td>\n    </tr>\n    <tr>\n      <th>3</th>\n      <td>401235700</td>\n      <td>2020</td>\n      <td>1</td>\n      <td>regular</td>\n      <td>Army</td>\n      <td>FBS Independents</td>\n      <td>Middle Tennessee</td>\n      <td>Conference USA</td>\n      <td>-3.5</td>\n      <td>-12.5</td>\n      <td>Army</td>\n      <td>Army</td>\n    </tr>\n    <tr>\n      <th>4</th>\n      <td>401212484</td>\n      <td>2020</td>\n      <td>1</td>\n      <td>regular</td>\n      <td>Texas State</td>\n      <td>Sun Belt</td>\n      <td>SMU</td>\n      <td>American Athletic</td>\n      <td>24.5</td>\n      <td>5.0</td>\n      <td>Texas State</td>\n      <td>SMU</td>\n    </tr>\n    <tr>\n      <th>5</th>\n      <td>401207098</td>\n      <td>2020</td>\n      <td>1</td>\n      <td>regular</td>\n      <td>North Texas</td>\n      <td>Conference USA</td>\n      <td>Houston Baptist</td>\n      <td>MISSING</td>\n      <td>-23.0</td>\n      <td>-27.5</td>\n      <td>North Texas</td>\n      <td>North Texas</td>\n    </tr>\n    <tr>\n      <th>6</th>\n      <td>401212553</td>\n      <td>2020</td>\n      <td>1</td>\n      <td>regular</td>\n      <td>Memphis</td>\n      <td>American Athletic</td>\n      <td>Arkansas State</td>\n      <td>Sun Belt</td>\n      <td>-18.5</td>\n      <td>-4.5</td>\n      <td>Arkansas State</td>\n      <td>Memphis</td>\n    </tr>\n    <tr>\n      <th>7</th>\n      <td>401239884</td>\n      <td>2020</td>\n      <td>1</td>\n      <td>regular</td>\n      <td>UTEP</td>\n      <td>Conference USA</td>\n      <td>Stephen F. Austin</td>\n      <td>MISSING</td>\n      <td>-4.0</td>\n      <td>-20.5</td>\n      <td>UTEP</td>\n      <td>UTEP</td>\n    </tr>\n    <tr>\n      <th>8</th>\n      <td>401234576</td>\n      <td>2020</td>\n      <td>1</td>\n      <td>regular</td>\n      <td>Navy</td>\n      <td>American Athletic</td>\n      <td>BYU</td>\n      <td>FBS Independents</td>\n      <td>1.0</td>\n      <td>2.5</td>\n      <td>BYU</td>\n      <td>BYU</td>\n    </tr>\n  </tbody>\n</table>\n</div>"
     },
     "metadata": {},
     "execution_count": 220
    }
   ],
   "source": [
    "predict_df"
   ]
  },
  {
   "cell_type": "code",
   "execution_count": 221,
   "metadata": {
    "tags": []
   },
   "outputs": [],
   "source": [
    "# Pull in games that have occurred within the current week to append to the predictions\n",
    "filepath = Path('../zillion_picks/picks')\n",
    "\n",
    "result_dfs = []\n",
    "\n",
    "for file in filepath.rglob('*.csv'):\n",
    "    result_df = pd.read_csv(file)\n",
    "\n",
    "\n",
    "    result_dfs.append(result_df)\n",
    "\n",
    "result_df = pd.concat(result_dfs)\n",
    "\n",
    "result_df = result_df[(result_df['week'] == predict_week) & (result_df['season'] == predict_season)]\n",
    "\n",
    "try:\n",
    "    result_df = result_df[~result_df.game_id.isin(predict_df.game_id)]\n",
    "    result_df = result_df.drop(['actual_spread', 'spread_result', 'straight_result', 'start_date'], axis=1)\n",
    "\n",
    "except:\n",
    "        result_df = result_df.drop(['actual_spread', 'spread_result', 'straight_result', 'start_date'], axis=1)"
   ]
  },
  {
   "cell_type": "code",
   "execution_count": 222,
   "metadata": {},
   "outputs": [
    {
     "output_type": "execute_result",
     "data": {
      "text/plain": "Empty DataFrame\nColumns: [game_id, season, week, season_type, home_team, home_conference, away_team, away_conference, pre_game_spread, predicted_spread, spread_pick, straight_pick]\nIndex: []",
      "text/html": "<div>\n<style scoped>\n    .dataframe tbody tr th:only-of-type {\n        vertical-align: middle;\n    }\n\n    .dataframe tbody tr th {\n        vertical-align: top;\n    }\n\n    .dataframe thead th {\n        text-align: right;\n    }\n</style>\n<table border=\"1\" class=\"dataframe\">\n  <thead>\n    <tr style=\"text-align: right;\">\n      <th></th>\n      <th>game_id</th>\n      <th>season</th>\n      <th>week</th>\n      <th>season_type</th>\n      <th>home_team</th>\n      <th>home_conference</th>\n      <th>away_team</th>\n      <th>away_conference</th>\n      <th>pre_game_spread</th>\n      <th>predicted_spread</th>\n      <th>spread_pick</th>\n      <th>straight_pick</th>\n    </tr>\n  </thead>\n  <tbody>\n  </tbody>\n</table>\n</div>"
     },
     "metadata": {},
     "execution_count": 222
    }
   ],
   "source": [
    "result_df"
   ]
  },
  {
   "cell_type": "code",
   "execution_count": 223,
   "metadata": {},
   "outputs": [],
   "source": [
    "# Merge Predit and Result Dataframes\n",
    "try:\n",
    "    predict_df = pd.concat([result_df, predict_df])\n",
    "except:\n",
    "    predict_df = result_df"
   ]
  },
  {
   "cell_type": "code",
   "execution_count": 224,
   "metadata": {},
   "outputs": [],
   "source": [
    "# Add spread target in case the game is complete\n",
    "predict_df = predict_df.merge(df[['game_id', 'spread_target', 'start_date']], on='game_id', how='left')"
   ]
  },
  {
   "cell_type": "code",
   "execution_count": 225,
   "metadata": {},
   "outputs": [
    {
     "output_type": "execute_result",
     "data": {
      "text/plain": "     game_id  season  week season_type             home_team  \\\n0  401238035    2020     1     regular                   UAB   \n1  401207101    2020     1     regular  Southern Mississippi   \n2  401237353    2020     1     regular              Marshall   \n3  401235700    2020     1     regular                  Army   \n4  401212484    2020     1     regular           Texas State   \n5  401207098    2020     1     regular           North Texas   \n6  401212553    2020     1     regular               Memphis   \n7  401239884    2020     1     regular                  UTEP   \n8  401234576    2020     1     regular                  Navy   \n\n     home_conference          away_team    away_conference  pre_game_spread  \\\n0     Conference USA   Central Arkansas            MISSING            -21.0   \n1     Conference USA      South Alabama           Sun Belt            -12.5   \n2     Conference USA   Eastern Kentucky            MISSING            -25.5   \n3   FBS Independents   Middle Tennessee     Conference USA             -3.5   \n4           Sun Belt                SMU  American Athletic             24.5   \n5     Conference USA    Houston Baptist            MISSING            -23.0   \n6  American Athletic     Arkansas State           Sun Belt            -18.5   \n7     Conference USA  Stephen F. Austin            MISSING             -4.0   \n8  American Athletic                BYU   FBS Independents              1.0   \n\n   predicted_spread           spread_pick         straight_pick  \\\n0             -14.0      Central Arkansas                   UAB   \n1             -18.0  Southern Mississippi  Southern Mississippi   \n2             -18.0      Eastern Kentucky              Marshall   \n3             -12.5                  Army                  Army   \n4               5.0           Texas State                   SMU   \n5             -27.5           North Texas           North Texas   \n6              -4.5        Arkansas State               Memphis   \n7             -20.5                  UTEP                  UTEP   \n8               2.5                   BYU                   BYU   \n\n   spread_target                start_date  \n0          -10.0 2020-09-04 00:00:00+00:00  \n1           11.0 2020-09-04 01:00:00+00:00  \n2          -59.0 2020-09-05 17:00:00+00:00  \n3          -42.0 2020-09-05 17:30:00+00:00  \n4            7.0 2020-09-05 20:30:00+00:00  \n5          -26.0 2020-09-05 23:30:00+00:00  \n6          -13.0 2020-09-06 00:00:00+00:00  \n7          -10.0 2020-09-06 01:00:00+00:00  \n8           52.0 2020-09-08 00:00:00+00:00  ",
      "text/html": "<div>\n<style scoped>\n    .dataframe tbody tr th:only-of-type {\n        vertical-align: middle;\n    }\n\n    .dataframe tbody tr th {\n        vertical-align: top;\n    }\n\n    .dataframe thead th {\n        text-align: right;\n    }\n</style>\n<table border=\"1\" class=\"dataframe\">\n  <thead>\n    <tr style=\"text-align: right;\">\n      <th></th>\n      <th>game_id</th>\n      <th>season</th>\n      <th>week</th>\n      <th>season_type</th>\n      <th>home_team</th>\n      <th>home_conference</th>\n      <th>away_team</th>\n      <th>away_conference</th>\n      <th>pre_game_spread</th>\n      <th>predicted_spread</th>\n      <th>spread_pick</th>\n      <th>straight_pick</th>\n      <th>spread_target</th>\n      <th>start_date</th>\n    </tr>\n  </thead>\n  <tbody>\n    <tr>\n      <th>0</th>\n      <td>401238035</td>\n      <td>2020</td>\n      <td>1</td>\n      <td>regular</td>\n      <td>UAB</td>\n      <td>Conference USA</td>\n      <td>Central Arkansas</td>\n      <td>MISSING</td>\n      <td>-21.0</td>\n      <td>-14.0</td>\n      <td>Central Arkansas</td>\n      <td>UAB</td>\n      <td>-10.0</td>\n      <td>2020-09-04 00:00:00+00:00</td>\n    </tr>\n    <tr>\n      <th>1</th>\n      <td>401207101</td>\n      <td>2020</td>\n      <td>1</td>\n      <td>regular</td>\n      <td>Southern Mississippi</td>\n      <td>Conference USA</td>\n      <td>South Alabama</td>\n      <td>Sun Belt</td>\n      <td>-12.5</td>\n      <td>-18.0</td>\n      <td>Southern Mississippi</td>\n      <td>Southern Mississippi</td>\n      <td>11.0</td>\n      <td>2020-09-04 01:00:00+00:00</td>\n    </tr>\n    <tr>\n      <th>2</th>\n      <td>401237353</td>\n      <td>2020</td>\n      <td>1</td>\n      <td>regular</td>\n      <td>Marshall</td>\n      <td>Conference USA</td>\n      <td>Eastern Kentucky</td>\n      <td>MISSING</td>\n      <td>-25.5</td>\n      <td>-18.0</td>\n      <td>Eastern Kentucky</td>\n      <td>Marshall</td>\n      <td>-59.0</td>\n      <td>2020-09-05 17:00:00+00:00</td>\n    </tr>\n    <tr>\n      <th>3</th>\n      <td>401235700</td>\n      <td>2020</td>\n      <td>1</td>\n      <td>regular</td>\n      <td>Army</td>\n      <td>FBS Independents</td>\n      <td>Middle Tennessee</td>\n      <td>Conference USA</td>\n      <td>-3.5</td>\n      <td>-12.5</td>\n      <td>Army</td>\n      <td>Army</td>\n      <td>-42.0</td>\n      <td>2020-09-05 17:30:00+00:00</td>\n    </tr>\n    <tr>\n      <th>4</th>\n      <td>401212484</td>\n      <td>2020</td>\n      <td>1</td>\n      <td>regular</td>\n      <td>Texas State</td>\n      <td>Sun Belt</td>\n      <td>SMU</td>\n      <td>American Athletic</td>\n      <td>24.5</td>\n      <td>5.0</td>\n      <td>Texas State</td>\n      <td>SMU</td>\n      <td>7.0</td>\n      <td>2020-09-05 20:30:00+00:00</td>\n    </tr>\n    <tr>\n      <th>5</th>\n      <td>401207098</td>\n      <td>2020</td>\n      <td>1</td>\n      <td>regular</td>\n      <td>North Texas</td>\n      <td>Conference USA</td>\n      <td>Houston Baptist</td>\n      <td>MISSING</td>\n      <td>-23.0</td>\n      <td>-27.5</td>\n      <td>North Texas</td>\n      <td>North Texas</td>\n      <td>-26.0</td>\n      <td>2020-09-05 23:30:00+00:00</td>\n    </tr>\n    <tr>\n      <th>6</th>\n      <td>401212553</td>\n      <td>2020</td>\n      <td>1</td>\n      <td>regular</td>\n      <td>Memphis</td>\n      <td>American Athletic</td>\n      <td>Arkansas State</td>\n      <td>Sun Belt</td>\n      <td>-18.5</td>\n      <td>-4.5</td>\n      <td>Arkansas State</td>\n      <td>Memphis</td>\n      <td>-13.0</td>\n      <td>2020-09-06 00:00:00+00:00</td>\n    </tr>\n    <tr>\n      <th>7</th>\n      <td>401239884</td>\n      <td>2020</td>\n      <td>1</td>\n      <td>regular</td>\n      <td>UTEP</td>\n      <td>Conference USA</td>\n      <td>Stephen F. Austin</td>\n      <td>MISSING</td>\n      <td>-4.0</td>\n      <td>-20.5</td>\n      <td>UTEP</td>\n      <td>UTEP</td>\n      <td>-10.0</td>\n      <td>2020-09-06 01:00:00+00:00</td>\n    </tr>\n    <tr>\n      <th>8</th>\n      <td>401234576</td>\n      <td>2020</td>\n      <td>1</td>\n      <td>regular</td>\n      <td>Navy</td>\n      <td>American Athletic</td>\n      <td>BYU</td>\n      <td>FBS Independents</td>\n      <td>1.0</td>\n      <td>2.5</td>\n      <td>BYU</td>\n      <td>BYU</td>\n      <td>52.0</td>\n      <td>2020-09-08 00:00:00+00:00</td>\n    </tr>\n  </tbody>\n</table>\n</div>"
     },
     "metadata": {},
     "execution_count": 225
    }
   ],
   "source": [
    "predict_df"
   ]
  },
  {
   "cell_type": "code",
   "execution_count": 226,
   "metadata": {},
   "outputs": [],
   "source": [
    "# Convert spread_target games that have not occurred to Null\n",
    "predict_df['spread_target']  = np.where(predict_df['spread_target'] == 0.0, np.nan, predict_df['spread_target'] )"
   ]
  },
  {
   "cell_type": "code",
   "execution_count": 227,
   "metadata": {},
   "outputs": [
    {
     "output_type": "execute_result",
     "data": {
      "text/plain": "     game_id  season  week season_type             home_team  \\\n0  401238035    2020     1     regular                   UAB   \n1  401207101    2020     1     regular  Southern Mississippi   \n2  401237353    2020     1     regular              Marshall   \n3  401235700    2020     1     regular                  Army   \n4  401212484    2020     1     regular           Texas State   \n5  401207098    2020     1     regular           North Texas   \n6  401212553    2020     1     regular               Memphis   \n7  401239884    2020     1     regular                  UTEP   \n8  401234576    2020     1     regular                  Navy   \n\n     home_conference          away_team    away_conference  pre_game_spread  \\\n0     Conference USA   Central Arkansas            MISSING            -21.0   \n1     Conference USA      South Alabama           Sun Belt            -12.5   \n2     Conference USA   Eastern Kentucky            MISSING            -25.5   \n3   FBS Independents   Middle Tennessee     Conference USA             -3.5   \n4           Sun Belt                SMU  American Athletic             24.5   \n5     Conference USA    Houston Baptist            MISSING            -23.0   \n6  American Athletic     Arkansas State           Sun Belt            -18.5   \n7     Conference USA  Stephen F. Austin            MISSING             -4.0   \n8  American Athletic                BYU   FBS Independents              1.0   \n\n   predicted_spread           spread_pick         straight_pick  \\\n0             -14.0      Central Arkansas                   UAB   \n1             -18.0  Southern Mississippi  Southern Mississippi   \n2             -18.0      Eastern Kentucky              Marshall   \n3             -12.5                  Army                  Army   \n4               5.0           Texas State                   SMU   \n5             -27.5           North Texas           North Texas   \n6              -4.5        Arkansas State               Memphis   \n7             -20.5                  UTEP                  UTEP   \n8               2.5                   BYU                   BYU   \n\n   spread_target                start_date  \n0          -10.0 2020-09-04 00:00:00+00:00  \n1           11.0 2020-09-04 01:00:00+00:00  \n2          -59.0 2020-09-05 17:00:00+00:00  \n3          -42.0 2020-09-05 17:30:00+00:00  \n4            7.0 2020-09-05 20:30:00+00:00  \n5          -26.0 2020-09-05 23:30:00+00:00  \n6          -13.0 2020-09-06 00:00:00+00:00  \n7          -10.0 2020-09-06 01:00:00+00:00  \n8           52.0 2020-09-08 00:00:00+00:00  ",
      "text/html": "<div>\n<style scoped>\n    .dataframe tbody tr th:only-of-type {\n        vertical-align: middle;\n    }\n\n    .dataframe tbody tr th {\n        vertical-align: top;\n    }\n\n    .dataframe thead th {\n        text-align: right;\n    }\n</style>\n<table border=\"1\" class=\"dataframe\">\n  <thead>\n    <tr style=\"text-align: right;\">\n      <th></th>\n      <th>game_id</th>\n      <th>season</th>\n      <th>week</th>\n      <th>season_type</th>\n      <th>home_team</th>\n      <th>home_conference</th>\n      <th>away_team</th>\n      <th>away_conference</th>\n      <th>pre_game_spread</th>\n      <th>predicted_spread</th>\n      <th>spread_pick</th>\n      <th>straight_pick</th>\n      <th>spread_target</th>\n      <th>start_date</th>\n    </tr>\n  </thead>\n  <tbody>\n    <tr>\n      <th>0</th>\n      <td>401238035</td>\n      <td>2020</td>\n      <td>1</td>\n      <td>regular</td>\n      <td>UAB</td>\n      <td>Conference USA</td>\n      <td>Central Arkansas</td>\n      <td>MISSING</td>\n      <td>-21.0</td>\n      <td>-14.0</td>\n      <td>Central Arkansas</td>\n      <td>UAB</td>\n      <td>-10.0</td>\n      <td>2020-09-04 00:00:00+00:00</td>\n    </tr>\n    <tr>\n      <th>1</th>\n      <td>401207101</td>\n      <td>2020</td>\n      <td>1</td>\n      <td>regular</td>\n      <td>Southern Mississippi</td>\n      <td>Conference USA</td>\n      <td>South Alabama</td>\n      <td>Sun Belt</td>\n      <td>-12.5</td>\n      <td>-18.0</td>\n      <td>Southern Mississippi</td>\n      <td>Southern Mississippi</td>\n      <td>11.0</td>\n      <td>2020-09-04 01:00:00+00:00</td>\n    </tr>\n    <tr>\n      <th>2</th>\n      <td>401237353</td>\n      <td>2020</td>\n      <td>1</td>\n      <td>regular</td>\n      <td>Marshall</td>\n      <td>Conference USA</td>\n      <td>Eastern Kentucky</td>\n      <td>MISSING</td>\n      <td>-25.5</td>\n      <td>-18.0</td>\n      <td>Eastern Kentucky</td>\n      <td>Marshall</td>\n      <td>-59.0</td>\n      <td>2020-09-05 17:00:00+00:00</td>\n    </tr>\n    <tr>\n      <th>3</th>\n      <td>401235700</td>\n      <td>2020</td>\n      <td>1</td>\n      <td>regular</td>\n      <td>Army</td>\n      <td>FBS Independents</td>\n      <td>Middle Tennessee</td>\n      <td>Conference USA</td>\n      <td>-3.5</td>\n      <td>-12.5</td>\n      <td>Army</td>\n      <td>Army</td>\n      <td>-42.0</td>\n      <td>2020-09-05 17:30:00+00:00</td>\n    </tr>\n    <tr>\n      <th>4</th>\n      <td>401212484</td>\n      <td>2020</td>\n      <td>1</td>\n      <td>regular</td>\n      <td>Texas State</td>\n      <td>Sun Belt</td>\n      <td>SMU</td>\n      <td>American Athletic</td>\n      <td>24.5</td>\n      <td>5.0</td>\n      <td>Texas State</td>\n      <td>SMU</td>\n      <td>7.0</td>\n      <td>2020-09-05 20:30:00+00:00</td>\n    </tr>\n    <tr>\n      <th>5</th>\n      <td>401207098</td>\n      <td>2020</td>\n      <td>1</td>\n      <td>regular</td>\n      <td>North Texas</td>\n      <td>Conference USA</td>\n      <td>Houston Baptist</td>\n      <td>MISSING</td>\n      <td>-23.0</td>\n      <td>-27.5</td>\n      <td>North Texas</td>\n      <td>North Texas</td>\n      <td>-26.0</td>\n      <td>2020-09-05 23:30:00+00:00</td>\n    </tr>\n    <tr>\n      <th>6</th>\n      <td>401212553</td>\n      <td>2020</td>\n      <td>1</td>\n      <td>regular</td>\n      <td>Memphis</td>\n      <td>American Athletic</td>\n      <td>Arkansas State</td>\n      <td>Sun Belt</td>\n      <td>-18.5</td>\n      <td>-4.5</td>\n      <td>Arkansas State</td>\n      <td>Memphis</td>\n      <td>-13.0</td>\n      <td>2020-09-06 00:00:00+00:00</td>\n    </tr>\n    <tr>\n      <th>7</th>\n      <td>401239884</td>\n      <td>2020</td>\n      <td>1</td>\n      <td>regular</td>\n      <td>UTEP</td>\n      <td>Conference USA</td>\n      <td>Stephen F. Austin</td>\n      <td>MISSING</td>\n      <td>-4.0</td>\n      <td>-20.5</td>\n      <td>UTEP</td>\n      <td>UTEP</td>\n      <td>-10.0</td>\n      <td>2020-09-06 01:00:00+00:00</td>\n    </tr>\n    <tr>\n      <th>8</th>\n      <td>401234576</td>\n      <td>2020</td>\n      <td>1</td>\n      <td>regular</td>\n      <td>Navy</td>\n      <td>American Athletic</td>\n      <td>BYU</td>\n      <td>FBS Independents</td>\n      <td>1.0</td>\n      <td>2.5</td>\n      <td>BYU</td>\n      <td>BYU</td>\n      <td>52.0</td>\n      <td>2020-09-08 00:00:00+00:00</td>\n    </tr>\n  </tbody>\n</table>\n</div>"
     },
     "metadata": {},
     "execution_count": 227
    }
   ],
   "source": [
    "predict_df"
   ]
  },
  {
   "cell_type": "code",
   "execution_count": 228,
   "metadata": {},
   "outputs": [],
   "source": [
    "# Spread Result Calculation\n",
    "won = ((predict_df['predicted_spread'] > predict_df['pre_game_spread']) & (predict_df['spread_target'].fillna(0) > predict_df['pre_game_spread'])) | (\n",
    "    (predict_df['predicted_spread'] <= predict_df['pre_game_spread']) & (predict_df['spread_target'].fillna(0) < predict_df['pre_game_spread']))\n",
    "\n",
    "push = predict_df['spread_target'].fillna(0) == predict_df['pre_game_spread']\n",
    "\n",
    "conditions = [won, push]\n",
    "choices = ['Won', 'Push']\n",
    "\n",
    "predict_df['spread_result'] = np.select(condlist=conditions, choicelist=choices, default='Lost')\n",
    "predict_df['spread_result'] = np.where(predict_df['spread_target'].isnull(), np.nan, predict_df['spread_result'])"
   ]
  },
  {
   "cell_type": "code",
   "execution_count": 229,
   "metadata": {},
   "outputs": [],
   "source": [
    "# Straight Up Result Calculation\n",
    "result = predict_df['spread_target'].fillna(1) * predict_df['predicted_spread']\n",
    "\n",
    "predict_df['straight_result'] = np.where(result > 0, 'Won', 'Lost')\n",
    "predict_df['straight_result'] = np.where(predict_df['spread_target'].isnull(), np.nan, predict_df['straight_result'])"
   ]
  },
  {
   "cell_type": "code",
   "execution_count": 230,
   "metadata": {},
   "outputs": [],
   "source": [
    "# Rename Column\n",
    "predict_df = predict_df.rename(columns={'spread_target':'actual_spread'})"
   ]
  },
  {
   "cell_type": "code",
   "execution_count": 231,
   "metadata": {},
   "outputs": [
    {
     "output_type": "execute_result",
     "data": {
      "text/plain": "     game_id  season  week season_type             home_team  \\\n0  401238035    2020     1     regular                   UAB   \n1  401207101    2020     1     regular  Southern Mississippi   \n2  401237353    2020     1     regular              Marshall   \n3  401235700    2020     1     regular                  Army   \n4  401212484    2020     1     regular           Texas State   \n5  401207098    2020     1     regular           North Texas   \n6  401212553    2020     1     regular               Memphis   \n7  401239884    2020     1     regular                  UTEP   \n8  401234576    2020     1     regular                  Navy   \n\n     home_conference          away_team    away_conference  pre_game_spread  \\\n0     Conference USA   Central Arkansas            MISSING            -21.0   \n1     Conference USA      South Alabama           Sun Belt            -12.5   \n2     Conference USA   Eastern Kentucky            MISSING            -25.5   \n3   FBS Independents   Middle Tennessee     Conference USA             -3.5   \n4           Sun Belt                SMU  American Athletic             24.5   \n5     Conference USA    Houston Baptist            MISSING            -23.0   \n6  American Athletic     Arkansas State           Sun Belt            -18.5   \n7     Conference USA  Stephen F. Austin            MISSING             -4.0   \n8  American Athletic                BYU   FBS Independents              1.0   \n\n   predicted_spread           spread_pick         straight_pick  \\\n0             -14.0      Central Arkansas                   UAB   \n1             -18.0  Southern Mississippi  Southern Mississippi   \n2             -18.0      Eastern Kentucky              Marshall   \n3             -12.5                  Army                  Army   \n4               5.0           Texas State                   SMU   \n5             -27.5           North Texas           North Texas   \n6              -4.5        Arkansas State               Memphis   \n7             -20.5                  UTEP                  UTEP   \n8               2.5                   BYU                   BYU   \n\n   actual_spread                start_date spread_result straight_result  \n0          -10.0 2020-09-04 00:00:00+00:00           Won             Won  \n1           11.0 2020-09-04 01:00:00+00:00          Lost            Lost  \n2          -59.0 2020-09-05 17:00:00+00:00          Lost             Won  \n3          -42.0 2020-09-05 17:30:00+00:00           Won             Won  \n4            7.0 2020-09-05 20:30:00+00:00           Won             Won  \n5          -26.0 2020-09-05 23:30:00+00:00           Won             Won  \n6          -13.0 2020-09-06 00:00:00+00:00           Won             Won  \n7          -10.0 2020-09-06 01:00:00+00:00           Won             Won  \n8           52.0 2020-09-08 00:00:00+00:00           Won             Won  ",
      "text/html": "<div>\n<style scoped>\n    .dataframe tbody tr th:only-of-type {\n        vertical-align: middle;\n    }\n\n    .dataframe tbody tr th {\n        vertical-align: top;\n    }\n\n    .dataframe thead th {\n        text-align: right;\n    }\n</style>\n<table border=\"1\" class=\"dataframe\">\n  <thead>\n    <tr style=\"text-align: right;\">\n      <th></th>\n      <th>game_id</th>\n      <th>season</th>\n      <th>week</th>\n      <th>season_type</th>\n      <th>home_team</th>\n      <th>home_conference</th>\n      <th>away_team</th>\n      <th>away_conference</th>\n      <th>pre_game_spread</th>\n      <th>predicted_spread</th>\n      <th>spread_pick</th>\n      <th>straight_pick</th>\n      <th>actual_spread</th>\n      <th>start_date</th>\n      <th>spread_result</th>\n      <th>straight_result</th>\n    </tr>\n  </thead>\n  <tbody>\n    <tr>\n      <th>0</th>\n      <td>401238035</td>\n      <td>2020</td>\n      <td>1</td>\n      <td>regular</td>\n      <td>UAB</td>\n      <td>Conference USA</td>\n      <td>Central Arkansas</td>\n      <td>MISSING</td>\n      <td>-21.0</td>\n      <td>-14.0</td>\n      <td>Central Arkansas</td>\n      <td>UAB</td>\n      <td>-10.0</td>\n      <td>2020-09-04 00:00:00+00:00</td>\n      <td>Won</td>\n      <td>Won</td>\n    </tr>\n    <tr>\n      <th>1</th>\n      <td>401207101</td>\n      <td>2020</td>\n      <td>1</td>\n      <td>regular</td>\n      <td>Southern Mississippi</td>\n      <td>Conference USA</td>\n      <td>South Alabama</td>\n      <td>Sun Belt</td>\n      <td>-12.5</td>\n      <td>-18.0</td>\n      <td>Southern Mississippi</td>\n      <td>Southern Mississippi</td>\n      <td>11.0</td>\n      <td>2020-09-04 01:00:00+00:00</td>\n      <td>Lost</td>\n      <td>Lost</td>\n    </tr>\n    <tr>\n      <th>2</th>\n      <td>401237353</td>\n      <td>2020</td>\n      <td>1</td>\n      <td>regular</td>\n      <td>Marshall</td>\n      <td>Conference USA</td>\n      <td>Eastern Kentucky</td>\n      <td>MISSING</td>\n      <td>-25.5</td>\n      <td>-18.0</td>\n      <td>Eastern Kentucky</td>\n      <td>Marshall</td>\n      <td>-59.0</td>\n      <td>2020-09-05 17:00:00+00:00</td>\n      <td>Lost</td>\n      <td>Won</td>\n    </tr>\n    <tr>\n      <th>3</th>\n      <td>401235700</td>\n      <td>2020</td>\n      <td>1</td>\n      <td>regular</td>\n      <td>Army</td>\n      <td>FBS Independents</td>\n      <td>Middle Tennessee</td>\n      <td>Conference USA</td>\n      <td>-3.5</td>\n      <td>-12.5</td>\n      <td>Army</td>\n      <td>Army</td>\n      <td>-42.0</td>\n      <td>2020-09-05 17:30:00+00:00</td>\n      <td>Won</td>\n      <td>Won</td>\n    </tr>\n    <tr>\n      <th>4</th>\n      <td>401212484</td>\n      <td>2020</td>\n      <td>1</td>\n      <td>regular</td>\n      <td>Texas State</td>\n      <td>Sun Belt</td>\n      <td>SMU</td>\n      <td>American Athletic</td>\n      <td>24.5</td>\n      <td>5.0</td>\n      <td>Texas State</td>\n      <td>SMU</td>\n      <td>7.0</td>\n      <td>2020-09-05 20:30:00+00:00</td>\n      <td>Won</td>\n      <td>Won</td>\n    </tr>\n    <tr>\n      <th>5</th>\n      <td>401207098</td>\n      <td>2020</td>\n      <td>1</td>\n      <td>regular</td>\n      <td>North Texas</td>\n      <td>Conference USA</td>\n      <td>Houston Baptist</td>\n      <td>MISSING</td>\n      <td>-23.0</td>\n      <td>-27.5</td>\n      <td>North Texas</td>\n      <td>North Texas</td>\n      <td>-26.0</td>\n      <td>2020-09-05 23:30:00+00:00</td>\n      <td>Won</td>\n      <td>Won</td>\n    </tr>\n    <tr>\n      <th>6</th>\n      <td>401212553</td>\n      <td>2020</td>\n      <td>1</td>\n      <td>regular</td>\n      <td>Memphis</td>\n      <td>American Athletic</td>\n      <td>Arkansas State</td>\n      <td>Sun Belt</td>\n      <td>-18.5</td>\n      <td>-4.5</td>\n      <td>Arkansas State</td>\n      <td>Memphis</td>\n      <td>-13.0</td>\n      <td>2020-09-06 00:00:00+00:00</td>\n      <td>Won</td>\n      <td>Won</td>\n    </tr>\n    <tr>\n      <th>7</th>\n      <td>401239884</td>\n      <td>2020</td>\n      <td>1</td>\n      <td>regular</td>\n      <td>UTEP</td>\n      <td>Conference USA</td>\n      <td>Stephen F. Austin</td>\n      <td>MISSING</td>\n      <td>-4.0</td>\n      <td>-20.5</td>\n      <td>UTEP</td>\n      <td>UTEP</td>\n      <td>-10.0</td>\n      <td>2020-09-06 01:00:00+00:00</td>\n      <td>Won</td>\n      <td>Won</td>\n    </tr>\n    <tr>\n      <th>8</th>\n      <td>401234576</td>\n      <td>2020</td>\n      <td>1</td>\n      <td>regular</td>\n      <td>Navy</td>\n      <td>American Athletic</td>\n      <td>BYU</td>\n      <td>FBS Independents</td>\n      <td>1.0</td>\n      <td>2.5</td>\n      <td>BYU</td>\n      <td>BYU</td>\n      <td>52.0</td>\n      <td>2020-09-08 00:00:00+00:00</td>\n      <td>Won</td>\n      <td>Won</td>\n    </tr>\n  </tbody>\n</table>\n</div>"
     },
     "metadata": {},
     "execution_count": 231
    }
   ],
   "source": [
    "# predict_df['week'] = predict_df.week.astype(int)\n",
    "predict_df"
   ]
  },
  {
   "cell_type": "code",
   "execution_count": 232,
   "metadata": {},
   "outputs": [],
   "source": [
    "# Export\n",
    "filepath = Path('../zillion_picks/picks')\n",
    "\n",
    "for key, group in predict_df.groupby(['season', 'week', 'season_type']):\n",
    "    if group.season_type.unique() == 'postseason':\n",
    "        group.to_csv(filepath/f'premium/{key[0]}_postseason.csv', index=False)\n",
    "    else:\n",
    "        group.to_csv(filepath/f'premium/{key[0]}_{str(key[1]).rjust(2, \"0\")}.csv', index=False)"
   ]
  },
  {
   "cell_type": "code",
   "execution_count": 25,
   "metadata": {},
   "outputs": [],
   "source": []
  },
  {
   "cell_type": "code",
   "execution_count": 13,
   "metadata": {
    "tags": []
   },
   "outputs": [],
   "source": []
  },
  {
   "cell_type": "code",
   "execution_count": 233,
   "metadata": {},
   "outputs": [
    {
     "output_type": "execute_result",
     "data": {
      "text/plain": "pointsAway                         0.060405\naverageStars_All PositionsHome     0.033760\naway_points                        0.019487\nhome_points                        0.019050\nrankAway                           0.017545\n                                     ...   \ncommits_Special TeamsHome          0.000000\naverageStars_Defensive BackHome    0.000000\naverageStars_QuarterbackHome       0.000000\ndefensiveTDsHome                   0.000000\nweek                               0.000000\nLength: 295, dtype: float32"
     },
     "metadata": {},
     "execution_count": 233
    }
   ],
   "source": [
    "important_features = pd.Series(data=spread_model.feature_importances_, index=X_train.columns)\n",
    "important_features.sort_values(ascending=False,inplace=True)\n",
    "important_features"
   ]
  },
  {
   "cell_type": "code",
   "execution_count": null,
   "metadata": {},
   "outputs": [],
   "source": []
  }
 ],
 "metadata": {
  "language_info": {
   "name": "python",
   "codemirror_mode": {
    "name": "ipython",
    "version": 3
   },
   "version": "3.8.2-final"
  },
  "orig_nbformat": 2,
  "file_extension": ".py",
  "mimetype": "text/x-python",
  "name": "python",
  "npconvert_exporter": "python",
  "pygments_lexer": "ipython3",
  "version": 3,
  "kernelspec": {
   "name": "python38264bitzillionpickscondadd1d5d1f064048d389c34f4ee92c62eb",
   "display_name": "Python 3.8.2 64-bit ('zillion_picks': conda)"
  }
 },
 "nbformat": 4,
 "nbformat_minor": 2
}