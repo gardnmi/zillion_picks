{
 "cells": [
  {
   "cell_type": "code",
   "execution_count": 1,
   "metadata": {},
   "outputs": [],
   "source": [
    "import pandas as pd\n",
    "import numpy as np\n",
    "from pathlib import Path\n",
    "from sklearn.preprocessing import OrdinalEncoder\n",
    "from sklearn.compose import make_column_transformer\n",
    "from sklearn.model_selection import TimeSeriesSplit, GridSearchCV\n",
    "from sklearn.metrics import mean_squared_error, accuracy_score\n",
    "from xgboost import XGBRegressor, XGBClassifier\n",
    "from load import dataset"
   ]
  },
  {
   "cell_type": "code",
   "execution_count": 16,
   "metadata": {},
   "outputs": [],
   "source": [
    "# Initialize Variables\n",
    "predict_week = 3\n",
    "predict_season = 2020\n",
    "today_localize = pd.to_datetime('today').tz_localize('US/Central') - pd.Timedelta(hours=3)\n",
    "\n",
    "final_columns = ['game_id', 'season', 'week', 'season_type', 'home_team',\n",
    "                'home_conference', 'away_team', 'away_conference',  'pre_game_spread',\n",
    "                'predicted_spread', 'regression_spread_pred', 'classification_spread_pred', 'classification_confidence']"
   ]
  },
  {
   "cell_type": "code",
   "execution_count": 17,
   "metadata": {},
   "outputs": [],
   "source": [
    "# Load Dataset\n",
    "df = dataset(predict_season=predict_season, predict_week=predict_week, window_size=4, update_data=True, update_seasons=[pd.to_datetime('today').year])\n",
    "\n",
    "# Prep for ML Models\n",
    "df[df.columns[df.columns.str.contains('home|Home')]] = df[df.columns[df.columns.str.contains(\n",
    "    'home|Home')]].groupby('home_team', as_index=False, group_keys=False).apply(lambda x: x.fillna(x.mean()))\n",
    "\n",
    "df[df.columns[df.columns.str.contains('away|Away')]] = df[df.columns[df.columns.str.contains(\n",
    "    'away|Away')]].groupby('away_team', as_index=False, group_keys=False).apply(lambda x: x.fillna(x.mean()))\n",
    "\n",
    "df = df.dropna(axis=1, thresh=int(len(df) * .9))\n",
    "\n",
    "df = df.fillna(0)\n",
    "\n",
    "df[df.select_dtypes('bool').columns] = df.select_dtypes('bool').astype('int')\n",
    "\n",
    "ct = make_column_transformer(\n",
    "    (OrdinalEncoder(), ['season_type', 'home_conference', 'away_conference']),\n",
    "    remainder='passthrough'\n",
    ")\n",
    "\n",
    "drop_columns =  ['game_id', 'season', 'venue', 'start_date', 'home_team', 'away_team', \n",
    "                'start_date', 'spread_target', 'pre_game_spread' , 'pre_game_home_win_prob', 'pre_game_away_win_prob'\n",
    "                ]\n"
   ]
  },
  {
   "cell_type": "code",
   "execution_count": 18,
   "metadata": {},
   "outputs": [],
   "source": [
    "# Use in production\n",
    "X_train = df[(df.start_date.dt.tz_convert('US/Central') < today_localize)]\n",
    "X_test = df[(df.start_date.dt.tz_convert('US/Central') >= today_localize)] \n",
    "\n",
    "# Use in development\n",
    "# X_train = df[(df['week'] < predict_week) | (df['season'] < predict_season)] \n",
    "# X_test = df[(df['week'] == predict_week) & (df['season'] == predict_season)] \n",
    "\n",
    "model_regressor = XGBRegressor(learning_rate=0.1, \n",
    "                                colsample_bytree=0.9,\n",
    "                                gamma=0.5,\n",
    "                                max_depth=2,\n",
    "                                min_child_weight=4,\n",
    "                                n_estimators=100,\n",
    "                                subsample=0.8)\n",
    "\n",
    "model_regressor.fit(\n",
    "    ct.fit_transform(\n",
    "        X_train.drop(drop_columns, axis=1)), \n",
    "        X_train['spread_target']\n",
    "        )\n",
    "\n",
    "X_train['predicted_spread'] = model_regressor.predict(ct.fit_transform(X_train.drop(drop_columns, axis=1)))\n",
    "X_test['predicted_spread'] = model_regressor.predict(ct.fit_transform(X_test.drop(drop_columns, axis=1)))\n",
    "\n",
    "# Clean Up\n",
    "X_train['predicted_spread'] = np.around(X_train['predicted_spread'] / .5, decimals=0) * .5\n",
    "X_test['predicted_spread'] = np.around(X_test['predicted_spread'] / .5, decimals=0) * .5\n",
    "\n",
    "X_train['regression_spread_pred'] = np.where(X_train['predicted_spread'] <= X_train['pre_game_spread'], 1, 0)\n",
    "X_test['regression_spread_pred'] = np.where(X_test['predicted_spread'] <= X_test['pre_game_spread'], 1, 0)\n",
    "\n",
    "X_train['spread_result'] = np.where(X_train['spread_target'] <= X_train['pre_game_spread'], 1, 0)\n",
    "X_test['spread_result'] = np.where(X_test['spread_target'] <= X_test['pre_game_spread'], 1, 0)\n",
    "\n",
    "model_classifier = XGBClassifier(base_score=0.5, booster='gbtree', colsample_bylevel=1,\n",
    "            colsample_bynode=1, colsample_bytree=0.8, gamma=5, gpu_id=-1,\n",
    "            importance_type='gain', interaction_constraints='',\n",
    "            learning_rate=0.1, max_delta_step=0, max_depth=5,\n",
    "            min_child_weight=10, monotone_constraints='()',\n",
    "            n_estimators=100, n_jobs=0, num_parallel_tree=1,\n",
    "            objective='binary:logistic', random_state=0, reg_alpha=0,\n",
    "            reg_lambda=1, scale_pos_weight=1, subsample=1.0,\n",
    "            tree_method='exact', validate_parameters=1, verbosity=None)\n",
    "\n",
    "# Update drop columns list for Classifier Model\n",
    "drop_columns.append('spread_result')\n",
    "# drop_columns.remove('pre_game_spread')   \n",
    "\n",
    "model_classifier.fit(ct.fit_transform(X_train.drop(drop_columns, axis=1)), X_train['spread_result'])\n",
    "\n",
    "X_train['classification_spread_pred'] = model_classifier.predict(ct.fit_transform(X_train.drop(drop_columns, axis=1)))\n",
    "X_test['classification_spread_pred'] = model_classifier.predict(ct.fit_transform(X_test.drop(drop_columns, axis=1)))\n",
    "\n",
    "# Add so the Predict Probability is Aligned\n",
    "drop_columns.append('classification_spread_pred')\n",
    "\n",
    "X_train['classification_confidence'] = model_classifier.predict_proba(ct.fit_transform(X_train.drop(drop_columns, axis=1)))[:,0]\n",
    "X_test['classification_confidence'] = model_classifier.predict_proba(ct.fit_transform(X_test.drop(drop_columns, axis=1)))[:,0] \n"
   ]
  },
  {
   "cell_type": "code",
   "execution_count": 19,
   "metadata": {},
   "outputs": [
    {
     "output_type": "execute_result",
     "data": {
      "text/plain": "        game_id  season  week season_type         home_team  \\\n5608  401234571    2020     3     regular        Pittsburgh   \n5609  401234567    2020     3     regular              Duke   \n5610  401207124    2020     3     regular  Western Kentucky   \n5611  401212522    2020     3     regular            Tulane   \n5612  401245593    2020     3     regular            Baylor   \n5613  401236041    2020     2     regular    Oklahoma State   \n5614  401241282    2020     3     regular        Notre Dame   \n5615  401235433    2020     3     regular    North Carolina   \n5616  401240640    2020     3     regular  Middle Tennessee   \n5617  401234568    2020     3     regular      Georgia Tech   \n\n        home_conference       away_team    away_conference  pre_game_spread  \\\n5608                ACC        Syracuse                ACC            -21.0   \n5609                ACC  Boston College                ACC             -6.0   \n5610     Conference USA         Liberty   FBS Independents            -14.0   \n5611  American Athletic            Navy  American Athletic             -7.0   \n5612             Big 12         Houston  American Athletic             -3.5   \n5613             Big 12           Tulsa  American Athletic            -24.0   \n5614   FBS Independents   South Florida  American Athletic            -24.0   \n5615                ACC       Charlotte     Conference USA            -29.5   \n5616     Conference USA            Troy           Sun Belt              3.0   \n5617                ACC             UCF  American Athletic              7.5   \n\n      predicted_spread  regression_spread_pred  classification_spread_pred  \\\n5608             -15.0                       0                           0   \n5609               2.5                       0                           1   \n5610              -6.0                       0                           0   \n5611             -10.5                       1                           1   \n5612              -0.5                       0                           0   \n5613              -5.0                       0                           1   \n5614             -20.5                       0                           0   \n5615             -21.5                       0                           1   \n5616              -6.5                       1                           1   \n5617               6.0                       1                           1   \n\n      classification_confidence  \n5608                   0.532774  \n5609                   0.403426  \n5610                   0.654454  \n5611                   0.243821  \n5612                   0.748068  \n5613                   0.275504  \n5614                   0.746482  \n5615                   0.357010  \n5616                   0.322234  \n5617                   0.332734  ",
      "text/html": "<div>\n<style scoped>\n    .dataframe tbody tr th:only-of-type {\n        vertical-align: middle;\n    }\n\n    .dataframe tbody tr th {\n        vertical-align: top;\n    }\n\n    .dataframe thead th {\n        text-align: right;\n    }\n</style>\n<table border=\"1\" class=\"dataframe\">\n  <thead>\n    <tr style=\"text-align: right;\">\n      <th></th>\n      <th>game_id</th>\n      <th>season</th>\n      <th>week</th>\n      <th>season_type</th>\n      <th>home_team</th>\n      <th>home_conference</th>\n      <th>away_team</th>\n      <th>away_conference</th>\n      <th>pre_game_spread</th>\n      <th>predicted_spread</th>\n      <th>regression_spread_pred</th>\n      <th>classification_spread_pred</th>\n      <th>classification_confidence</th>\n    </tr>\n  </thead>\n  <tbody>\n    <tr>\n      <th>5608</th>\n      <td>401234571</td>\n      <td>2020</td>\n      <td>3</td>\n      <td>regular</td>\n      <td>Pittsburgh</td>\n      <td>ACC</td>\n      <td>Syracuse</td>\n      <td>ACC</td>\n      <td>-21.0</td>\n      <td>-15.0</td>\n      <td>0</td>\n      <td>0</td>\n      <td>0.532774</td>\n    </tr>\n    <tr>\n      <th>5609</th>\n      <td>401234567</td>\n      <td>2020</td>\n      <td>3</td>\n      <td>regular</td>\n      <td>Duke</td>\n      <td>ACC</td>\n      <td>Boston College</td>\n      <td>ACC</td>\n      <td>-6.0</td>\n      <td>2.5</td>\n      <td>0</td>\n      <td>1</td>\n      <td>0.403426</td>\n    </tr>\n    <tr>\n      <th>5610</th>\n      <td>401207124</td>\n      <td>2020</td>\n      <td>3</td>\n      <td>regular</td>\n      <td>Western Kentucky</td>\n      <td>Conference USA</td>\n      <td>Liberty</td>\n      <td>FBS Independents</td>\n      <td>-14.0</td>\n      <td>-6.0</td>\n      <td>0</td>\n      <td>0</td>\n      <td>0.654454</td>\n    </tr>\n    <tr>\n      <th>5611</th>\n      <td>401212522</td>\n      <td>2020</td>\n      <td>3</td>\n      <td>regular</td>\n      <td>Tulane</td>\n      <td>American Athletic</td>\n      <td>Navy</td>\n      <td>American Athletic</td>\n      <td>-7.0</td>\n      <td>-10.5</td>\n      <td>1</td>\n      <td>1</td>\n      <td>0.243821</td>\n    </tr>\n    <tr>\n      <th>5612</th>\n      <td>401245593</td>\n      <td>2020</td>\n      <td>3</td>\n      <td>regular</td>\n      <td>Baylor</td>\n      <td>Big 12</td>\n      <td>Houston</td>\n      <td>American Athletic</td>\n      <td>-3.5</td>\n      <td>-0.5</td>\n      <td>0</td>\n      <td>0</td>\n      <td>0.748068</td>\n    </tr>\n    <tr>\n      <th>5613</th>\n      <td>401236041</td>\n      <td>2020</td>\n      <td>2</td>\n      <td>regular</td>\n      <td>Oklahoma State</td>\n      <td>Big 12</td>\n      <td>Tulsa</td>\n      <td>American Athletic</td>\n      <td>-24.0</td>\n      <td>-5.0</td>\n      <td>0</td>\n      <td>1</td>\n      <td>0.275504</td>\n    </tr>\n    <tr>\n      <th>5614</th>\n      <td>401241282</td>\n      <td>2020</td>\n      <td>3</td>\n      <td>regular</td>\n      <td>Notre Dame</td>\n      <td>FBS Independents</td>\n      <td>South Florida</td>\n      <td>American Athletic</td>\n      <td>-24.0</td>\n      <td>-20.5</td>\n      <td>0</td>\n      <td>0</td>\n      <td>0.746482</td>\n    </tr>\n    <tr>\n      <th>5615</th>\n      <td>401235433</td>\n      <td>2020</td>\n      <td>3</td>\n      <td>regular</td>\n      <td>North Carolina</td>\n      <td>ACC</td>\n      <td>Charlotte</td>\n      <td>Conference USA</td>\n      <td>-29.5</td>\n      <td>-21.5</td>\n      <td>0</td>\n      <td>1</td>\n      <td>0.357010</td>\n    </tr>\n    <tr>\n      <th>5616</th>\n      <td>401240640</td>\n      <td>2020</td>\n      <td>3</td>\n      <td>regular</td>\n      <td>Middle Tennessee</td>\n      <td>Conference USA</td>\n      <td>Troy</td>\n      <td>Sun Belt</td>\n      <td>3.0</td>\n      <td>-6.5</td>\n      <td>1</td>\n      <td>1</td>\n      <td>0.322234</td>\n    </tr>\n    <tr>\n      <th>5617</th>\n      <td>401234568</td>\n      <td>2020</td>\n      <td>3</td>\n      <td>regular</td>\n      <td>Georgia Tech</td>\n      <td>ACC</td>\n      <td>UCF</td>\n      <td>American Athletic</td>\n      <td>7.5</td>\n      <td>6.0</td>\n      <td>1</td>\n      <td>1</td>\n      <td>0.332734</td>\n    </tr>\n  </tbody>\n</table>\n</div>"
     },
     "metadata": {},
     "execution_count": 19
    }
   ],
   "source": [
    "predict_df = X_test[final_columns]\n",
    "predict_df.head(10)"
   ]
  },
  {
   "cell_type": "code",
   "execution_count": 20,
   "metadata": {},
   "outputs": [
    {
     "output_type": "execute_result",
     "data": {
      "text/plain": "Empty DataFrame\nColumns: [game_id, season, week, season_type, home_team, home_conference, away_team, away_conference, pre_game_spread, predicted_spread, regression_spread_pred, classification_spread_pred, classification_confidence, regression_spread_result, classification_spread_result]\nIndex: []",
      "text/html": "<div>\n<style scoped>\n    .dataframe tbody tr th:only-of-type {\n        vertical-align: middle;\n    }\n\n    .dataframe tbody tr th {\n        vertical-align: top;\n    }\n\n    .dataframe thead th {\n        text-align: right;\n    }\n</style>\n<table border=\"1\" class=\"dataframe\">\n  <thead>\n    <tr style=\"text-align: right;\">\n      <th></th>\n      <th>game_id</th>\n      <th>season</th>\n      <th>week</th>\n      <th>season_type</th>\n      <th>home_team</th>\n      <th>home_conference</th>\n      <th>away_team</th>\n      <th>away_conference</th>\n      <th>pre_game_spread</th>\n      <th>predicted_spread</th>\n      <th>regression_spread_pred</th>\n      <th>classification_spread_pred</th>\n      <th>classification_confidence</th>\n      <th>regression_spread_result</th>\n      <th>classification_spread_result</th>\n    </tr>\n  </thead>\n  <tbody>\n  </tbody>\n</table>\n</div>"
     },
     "metadata": {},
     "execution_count": 20
    }
   ],
   "source": [
    "# Pull in games that have occurred within the current week to append to the predictions\n",
    "filepath = Path('../zillion_picks/picks')\n",
    "\n",
    "result_dfs = []\n",
    "\n",
    "for file in filepath.rglob('*.csv'):\n",
    "    result_df = pd.read_csv(file)\n",
    "\n",
    "\n",
    "    result_dfs.append(result_df)\n",
    "\n",
    "result_df = pd.concat(result_dfs)\n",
    "\n",
    "result_df = result_df[(result_df['week'] == predict_week) & (result_df['season'] == predict_season)]\n",
    "\n",
    "try:\n",
    "    result_df = result_df[~result_df.game_id.isin(predict_df.game_id)]\n",
    "    result_df = result_df.drop(['actual_spread', 'spread_result', 'start_date'], axis=1)\n",
    "\n",
    "except:\n",
    "        result_df = result_df.drop(['actual_spread', 'spread_result', 'start_date'], axis=1)\n",
    "\n",
    "result_df.head()"
   ]
  },
  {
   "cell_type": "code",
   "execution_count": 21,
   "metadata": {},
   "outputs": [],
   "source": [
    "# Merge Predit and Result Dataframes\n",
    "try:\n",
    "    predict_df = pd.concat([result_df, predict_df])\n",
    "except:\n",
    "    predict_df = result_df"
   ]
  },
  {
   "cell_type": "code",
   "execution_count": 22,
   "metadata": {},
   "outputs": [
    {
     "output_type": "execute_result",
     "data": {
      "text/plain": "     game_id  season  week season_type         home_team    home_conference  \\\n0  401234571    2020     3     regular        Pittsburgh                ACC   \n1  401234567    2020     3     regular              Duke                ACC   \n2  401207124    2020     3     regular  Western Kentucky     Conference USA   \n3  401212522    2020     3     regular            Tulane  American Athletic   \n4  401245593    2020     3     regular            Baylor             Big 12   \n\n        away_team    away_conference  pre_game_spread  predicted_spread  \\\n0        Syracuse                ACC            -21.0             -15.0   \n1  Boston College                ACC             -6.0               2.5   \n2         Liberty   FBS Independents            -14.0              -6.0   \n3            Navy  American Athletic             -7.0             -10.5   \n4         Houston  American Athletic             -3.5              -0.5   \n\n   regression_spread_pred  classification_spread_pred  \\\n0                       0                           0   \n1                       0                           1   \n2                       0                           0   \n3                       1                           1   \n4                       0                           0   \n\n   classification_confidence regression_spread_result  \\\n0                   0.532774                      NaN   \n1                   0.403426                      NaN   \n2                   0.654454                      NaN   \n3                   0.243821                      NaN   \n4                   0.748068                      NaN   \n\n  classification_spread_result  spread_target                start_date  \n0                          NaN            0.0 2020-09-19 16:00:00+00:00  \n1                          NaN            0.0 2020-09-19 16:00:00+00:00  \n2                          NaN            0.0 2020-09-19 16:00:00+00:00  \n3                          NaN            0.0 2020-09-19 16:00:00+00:00  \n4                          NaN            0.0 2020-09-19 16:00:00+00:00  ",
      "text/html": "<div>\n<style scoped>\n    .dataframe tbody tr th:only-of-type {\n        vertical-align: middle;\n    }\n\n    .dataframe tbody tr th {\n        vertical-align: top;\n    }\n\n    .dataframe thead th {\n        text-align: right;\n    }\n</style>\n<table border=\"1\" class=\"dataframe\">\n  <thead>\n    <tr style=\"text-align: right;\">\n      <th></th>\n      <th>game_id</th>\n      <th>season</th>\n      <th>week</th>\n      <th>season_type</th>\n      <th>home_team</th>\n      <th>home_conference</th>\n      <th>away_team</th>\n      <th>away_conference</th>\n      <th>pre_game_spread</th>\n      <th>predicted_spread</th>\n      <th>regression_spread_pred</th>\n      <th>classification_spread_pred</th>\n      <th>classification_confidence</th>\n      <th>regression_spread_result</th>\n      <th>classification_spread_result</th>\n      <th>spread_target</th>\n      <th>start_date</th>\n    </tr>\n  </thead>\n  <tbody>\n    <tr>\n      <th>0</th>\n      <td>401234571</td>\n      <td>2020</td>\n      <td>3</td>\n      <td>regular</td>\n      <td>Pittsburgh</td>\n      <td>ACC</td>\n      <td>Syracuse</td>\n      <td>ACC</td>\n      <td>-21.0</td>\n      <td>-15.0</td>\n      <td>0</td>\n      <td>0</td>\n      <td>0.532774</td>\n      <td>NaN</td>\n      <td>NaN</td>\n      <td>0.0</td>\n      <td>2020-09-19 16:00:00+00:00</td>\n    </tr>\n    <tr>\n      <th>1</th>\n      <td>401234567</td>\n      <td>2020</td>\n      <td>3</td>\n      <td>regular</td>\n      <td>Duke</td>\n      <td>ACC</td>\n      <td>Boston College</td>\n      <td>ACC</td>\n      <td>-6.0</td>\n      <td>2.5</td>\n      <td>0</td>\n      <td>1</td>\n      <td>0.403426</td>\n      <td>NaN</td>\n      <td>NaN</td>\n      <td>0.0</td>\n      <td>2020-09-19 16:00:00+00:00</td>\n    </tr>\n    <tr>\n      <th>2</th>\n      <td>401207124</td>\n      <td>2020</td>\n      <td>3</td>\n      <td>regular</td>\n      <td>Western Kentucky</td>\n      <td>Conference USA</td>\n      <td>Liberty</td>\n      <td>FBS Independents</td>\n      <td>-14.0</td>\n      <td>-6.0</td>\n      <td>0</td>\n      <td>0</td>\n      <td>0.654454</td>\n      <td>NaN</td>\n      <td>NaN</td>\n      <td>0.0</td>\n      <td>2020-09-19 16:00:00+00:00</td>\n    </tr>\n    <tr>\n      <th>3</th>\n      <td>401212522</td>\n      <td>2020</td>\n      <td>3</td>\n      <td>regular</td>\n      <td>Tulane</td>\n      <td>American Athletic</td>\n      <td>Navy</td>\n      <td>American Athletic</td>\n      <td>-7.0</td>\n      <td>-10.5</td>\n      <td>1</td>\n      <td>1</td>\n      <td>0.243821</td>\n      <td>NaN</td>\n      <td>NaN</td>\n      <td>0.0</td>\n      <td>2020-09-19 16:00:00+00:00</td>\n    </tr>\n    <tr>\n      <th>4</th>\n      <td>401245593</td>\n      <td>2020</td>\n      <td>3</td>\n      <td>regular</td>\n      <td>Baylor</td>\n      <td>Big 12</td>\n      <td>Houston</td>\n      <td>American Athletic</td>\n      <td>-3.5</td>\n      <td>-0.5</td>\n      <td>0</td>\n      <td>0</td>\n      <td>0.748068</td>\n      <td>NaN</td>\n      <td>NaN</td>\n      <td>0.0</td>\n      <td>2020-09-19 16:00:00+00:00</td>\n    </tr>\n  </tbody>\n</table>\n</div>"
     },
     "metadata": {},
     "execution_count": 22
    }
   ],
   "source": [
    "# Add spread target in case the game is complete\n",
    "predict_df = predict_df.merge(df[['game_id', 'spread_target', 'start_date']], on='game_id', how='left')\n",
    "predict_df.head()"
   ]
  },
  {
   "cell_type": "code",
   "execution_count": 23,
   "metadata": {},
   "outputs": [
    {
     "output_type": "execute_result",
     "data": {
      "text/plain": "     game_id  season  week season_type         home_team    home_conference  \\\n0  401234571    2020     3     regular        Pittsburgh                ACC   \n1  401234567    2020     3     regular              Duke                ACC   \n2  401207124    2020     3     regular  Western Kentucky     Conference USA   \n3  401212522    2020     3     regular            Tulane  American Athletic   \n4  401245593    2020     3     regular            Baylor             Big 12   \n\n        away_team    away_conference  pre_game_spread  predicted_spread  \\\n0        Syracuse                ACC            -21.0             -15.0   \n1  Boston College                ACC             -6.0               2.5   \n2         Liberty   FBS Independents            -14.0              -6.0   \n3            Navy  American Athletic             -7.0             -10.5   \n4         Houston  American Athletic             -3.5              -0.5   \n\n   regression_spread_pred  classification_spread_pred  \\\n0                       0                           0   \n1                       0                           1   \n2                       0                           0   \n3                       1                           1   \n4                       0                           0   \n\n   classification_confidence regression_spread_result  \\\n0                   0.532774                      NaN   \n1                   0.403426                      NaN   \n2                   0.654454                      NaN   \n3                   0.243821                      NaN   \n4                   0.748068                      NaN   \n\n  classification_spread_result  spread_target                start_date  \\\n0                          NaN            0.0 2020-09-19 16:00:00+00:00   \n1                          NaN            0.0 2020-09-19 16:00:00+00:00   \n2                          NaN            0.0 2020-09-19 16:00:00+00:00   \n3                          NaN            0.0 2020-09-19 16:00:00+00:00   \n4                          NaN            0.0 2020-09-19 16:00:00+00:00   \n\n   spread_result  \n0              0  \n1              0  \n2              0  \n3              0  \n4              0  ",
      "text/html": "<div>\n<style scoped>\n    .dataframe tbody tr th:only-of-type {\n        vertical-align: middle;\n    }\n\n    .dataframe tbody tr th {\n        vertical-align: top;\n    }\n\n    .dataframe thead th {\n        text-align: right;\n    }\n</style>\n<table border=\"1\" class=\"dataframe\">\n  <thead>\n    <tr style=\"text-align: right;\">\n      <th></th>\n      <th>game_id</th>\n      <th>season</th>\n      <th>week</th>\n      <th>season_type</th>\n      <th>home_team</th>\n      <th>home_conference</th>\n      <th>away_team</th>\n      <th>away_conference</th>\n      <th>pre_game_spread</th>\n      <th>predicted_spread</th>\n      <th>regression_spread_pred</th>\n      <th>classification_spread_pred</th>\n      <th>classification_confidence</th>\n      <th>regression_spread_result</th>\n      <th>classification_spread_result</th>\n      <th>spread_target</th>\n      <th>start_date</th>\n      <th>spread_result</th>\n    </tr>\n  </thead>\n  <tbody>\n    <tr>\n      <th>0</th>\n      <td>401234571</td>\n      <td>2020</td>\n      <td>3</td>\n      <td>regular</td>\n      <td>Pittsburgh</td>\n      <td>ACC</td>\n      <td>Syracuse</td>\n      <td>ACC</td>\n      <td>-21.0</td>\n      <td>-15.0</td>\n      <td>0</td>\n      <td>0</td>\n      <td>0.532774</td>\n      <td>NaN</td>\n      <td>NaN</td>\n      <td>0.0</td>\n      <td>2020-09-19 16:00:00+00:00</td>\n      <td>0</td>\n    </tr>\n    <tr>\n      <th>1</th>\n      <td>401234567</td>\n      <td>2020</td>\n      <td>3</td>\n      <td>regular</td>\n      <td>Duke</td>\n      <td>ACC</td>\n      <td>Boston College</td>\n      <td>ACC</td>\n      <td>-6.0</td>\n      <td>2.5</td>\n      <td>0</td>\n      <td>1</td>\n      <td>0.403426</td>\n      <td>NaN</td>\n      <td>NaN</td>\n      <td>0.0</td>\n      <td>2020-09-19 16:00:00+00:00</td>\n      <td>0</td>\n    </tr>\n    <tr>\n      <th>2</th>\n      <td>401207124</td>\n      <td>2020</td>\n      <td>3</td>\n      <td>regular</td>\n      <td>Western Kentucky</td>\n      <td>Conference USA</td>\n      <td>Liberty</td>\n      <td>FBS Independents</td>\n      <td>-14.0</td>\n      <td>-6.0</td>\n      <td>0</td>\n      <td>0</td>\n      <td>0.654454</td>\n      <td>NaN</td>\n      <td>NaN</td>\n      <td>0.0</td>\n      <td>2020-09-19 16:00:00+00:00</td>\n      <td>0</td>\n    </tr>\n    <tr>\n      <th>3</th>\n      <td>401212522</td>\n      <td>2020</td>\n      <td>3</td>\n      <td>regular</td>\n      <td>Tulane</td>\n      <td>American Athletic</td>\n      <td>Navy</td>\n      <td>American Athletic</td>\n      <td>-7.0</td>\n      <td>-10.5</td>\n      <td>1</td>\n      <td>1</td>\n      <td>0.243821</td>\n      <td>NaN</td>\n      <td>NaN</td>\n      <td>0.0</td>\n      <td>2020-09-19 16:00:00+00:00</td>\n      <td>0</td>\n    </tr>\n    <tr>\n      <th>4</th>\n      <td>401245593</td>\n      <td>2020</td>\n      <td>3</td>\n      <td>regular</td>\n      <td>Baylor</td>\n      <td>Big 12</td>\n      <td>Houston</td>\n      <td>American Athletic</td>\n      <td>-3.5</td>\n      <td>-0.5</td>\n      <td>0</td>\n      <td>0</td>\n      <td>0.748068</td>\n      <td>NaN</td>\n      <td>NaN</td>\n      <td>0.0</td>\n      <td>2020-09-19 16:00:00+00:00</td>\n      <td>0</td>\n    </tr>\n  </tbody>\n</table>\n</div>"
     },
     "metadata": {},
     "execution_count": 23
    }
   ],
   "source": [
    "predict_df['spread_result'] = np.where(predict_df['spread_target'] <= predict_df['pre_game_spread'], 1, 0)\n",
    "predict_df.head()"
   ]
  },
  {
   "cell_type": "code",
   "execution_count": 24,
   "metadata": {},
   "outputs": [
    {
     "output_type": "execute_result",
     "data": {
      "text/plain": "     game_id  season  week season_type         home_team    home_conference  \\\n0  401234571    2020     3     regular        Pittsburgh                ACC   \n1  401234567    2020     3     regular              Duke                ACC   \n2  401207124    2020     3     regular  Western Kentucky     Conference USA   \n3  401212522    2020     3     regular            Tulane  American Athletic   \n4  401245593    2020     3     regular            Baylor             Big 12   \n\n        away_team    away_conference  pre_game_spread  predicted_spread  \\\n0        Syracuse                ACC            -21.0             -15.0   \n1  Boston College                ACC             -6.0               2.5   \n2         Liberty   FBS Independents            -14.0              -6.0   \n3            Navy  American Athletic             -7.0             -10.5   \n4         Houston  American Athletic             -3.5              -0.5   \n\n   regression_spread_pred  classification_spread_pred  \\\n0                       0                           0   \n1                       0                           1   \n2                       0                           0   \n3                       1                           1   \n4                       0                           0   \n\n   classification_confidence regression_spread_result  \\\n0                   0.532774                      NaN   \n1                   0.403426                      NaN   \n2                   0.654454                      NaN   \n3                   0.243821                      NaN   \n4                   0.748068                      NaN   \n\n  classification_spread_result  actual_spread                start_date  \\\n0                          NaN            0.0 2020-09-19 16:00:00+00:00   \n1                          NaN            0.0 2020-09-19 16:00:00+00:00   \n2                          NaN            0.0 2020-09-19 16:00:00+00:00   \n3                          NaN            0.0 2020-09-19 16:00:00+00:00   \n4                          NaN            0.0 2020-09-19 16:00:00+00:00   \n\n   spread_result  \n0            NaN  \n1            NaN  \n2            NaN  \n3            NaN  \n4            NaN  ",
      "text/html": "<div>\n<style scoped>\n    .dataframe tbody tr th:only-of-type {\n        vertical-align: middle;\n    }\n\n    .dataframe tbody tr th {\n        vertical-align: top;\n    }\n\n    .dataframe thead th {\n        text-align: right;\n    }\n</style>\n<table border=\"1\" class=\"dataframe\">\n  <thead>\n    <tr style=\"text-align: right;\">\n      <th></th>\n      <th>game_id</th>\n      <th>season</th>\n      <th>week</th>\n      <th>season_type</th>\n      <th>home_team</th>\n      <th>home_conference</th>\n      <th>away_team</th>\n      <th>away_conference</th>\n      <th>pre_game_spread</th>\n      <th>predicted_spread</th>\n      <th>regression_spread_pred</th>\n      <th>classification_spread_pred</th>\n      <th>classification_confidence</th>\n      <th>regression_spread_result</th>\n      <th>classification_spread_result</th>\n      <th>actual_spread</th>\n      <th>start_date</th>\n      <th>spread_result</th>\n    </tr>\n  </thead>\n  <tbody>\n    <tr>\n      <th>0</th>\n      <td>401234571</td>\n      <td>2020</td>\n      <td>3</td>\n      <td>regular</td>\n      <td>Pittsburgh</td>\n      <td>ACC</td>\n      <td>Syracuse</td>\n      <td>ACC</td>\n      <td>-21.0</td>\n      <td>-15.0</td>\n      <td>0</td>\n      <td>0</td>\n      <td>0.532774</td>\n      <td>NaN</td>\n      <td>NaN</td>\n      <td>0.0</td>\n      <td>2020-09-19 16:00:00+00:00</td>\n      <td>NaN</td>\n    </tr>\n    <tr>\n      <th>1</th>\n      <td>401234567</td>\n      <td>2020</td>\n      <td>3</td>\n      <td>regular</td>\n      <td>Duke</td>\n      <td>ACC</td>\n      <td>Boston College</td>\n      <td>ACC</td>\n      <td>-6.0</td>\n      <td>2.5</td>\n      <td>0</td>\n      <td>1</td>\n      <td>0.403426</td>\n      <td>NaN</td>\n      <td>NaN</td>\n      <td>0.0</td>\n      <td>2020-09-19 16:00:00+00:00</td>\n      <td>NaN</td>\n    </tr>\n    <tr>\n      <th>2</th>\n      <td>401207124</td>\n      <td>2020</td>\n      <td>3</td>\n      <td>regular</td>\n      <td>Western Kentucky</td>\n      <td>Conference USA</td>\n      <td>Liberty</td>\n      <td>FBS Independents</td>\n      <td>-14.0</td>\n      <td>-6.0</td>\n      <td>0</td>\n      <td>0</td>\n      <td>0.654454</td>\n      <td>NaN</td>\n      <td>NaN</td>\n      <td>0.0</td>\n      <td>2020-09-19 16:00:00+00:00</td>\n      <td>NaN</td>\n    </tr>\n    <tr>\n      <th>3</th>\n      <td>401212522</td>\n      <td>2020</td>\n      <td>3</td>\n      <td>regular</td>\n      <td>Tulane</td>\n      <td>American Athletic</td>\n      <td>Navy</td>\n      <td>American Athletic</td>\n      <td>-7.0</td>\n      <td>-10.5</td>\n      <td>1</td>\n      <td>1</td>\n      <td>0.243821</td>\n      <td>NaN</td>\n      <td>NaN</td>\n      <td>0.0</td>\n      <td>2020-09-19 16:00:00+00:00</td>\n      <td>NaN</td>\n    </tr>\n    <tr>\n      <th>4</th>\n      <td>401245593</td>\n      <td>2020</td>\n      <td>3</td>\n      <td>regular</td>\n      <td>Baylor</td>\n      <td>Big 12</td>\n      <td>Houston</td>\n      <td>American Athletic</td>\n      <td>-3.5</td>\n      <td>-0.5</td>\n      <td>0</td>\n      <td>0</td>\n      <td>0.748068</td>\n      <td>NaN</td>\n      <td>NaN</td>\n      <td>0.0</td>\n      <td>2020-09-19 16:00:00+00:00</td>\n      <td>NaN</td>\n    </tr>\n  </tbody>\n</table>\n</div>"
     },
     "metadata": {},
     "execution_count": 24
    }
   ],
   "source": [
    "# Spread Result Calculation\n",
    "predict_df['regression_spread_result'] = np.where(predict_df['spread_result'] == predict_df['regression_spread_pred'], 'Won', 'Lost')\n",
    "predict_df['regression_spread_result'] = np.where(predict_df['spread_target'] == predict_df['pre_game_spread'], 'Push', predict_df['regression_spread_result'])\n",
    "\n",
    "predict_df['classification_spread_result'] = np.where(predict_df['spread_result'] == predict_df['classification_spread_pred'], 'Won', 'Lost')\n",
    "predict_df['classification_spread_result'] = np.where(predict_df['spread_target'] == predict_df['pre_game_spread'], 'Push', predict_df['classification_spread_result'])\n",
    "\n",
    "# Remove Results from Games that haven't been played\n",
    "predict_df[['regression_spread_result', 'classification_spread_result', 'spread_result']] = predict_df[['regression_spread_result', 'classification_spread_result', 'spread_result']].where(predict_df.spread_target.ne(0), np.nan)\n",
    "\n",
    "# Rename Column\n",
    "predict_df = predict_df.rename(columns={'spread_target':'actual_spread'})\n",
    "predict_df['week'] = predict_df['week'].mode()[0]\n",
    "\n",
    "predict_df.head()"
   ]
  },
  {
   "cell_type": "code",
   "execution_count": 25,
   "metadata": {},
   "outputs": [],
   "source": [
    "# Export\n",
    "filepath = Path('../zillion_picks/picks')\n",
    "\n",
    "for key, group in predict_df.groupby(['season', 'week', 'season_type']):\n",
    "    if group.season_type.unique() == 'postseason':\n",
    "        group.to_csv(filepath/f'premium/{key[0]}_postseason.csv', index=False)\n",
    "    else:\n",
    "        group.to_csv(filepath/f'premium/{key[0]}_{str(key[1]).rjust(2, \"0\")}.csv', index=False)"
   ]
  },
  {
   "cell_type": "code",
   "execution_count": null,
   "metadata": {},
   "outputs": [],
   "source": []
  },
  {
   "cell_type": "code",
   "execution_count": 14,
   "metadata": {
    "tags": []
   },
   "outputs": [
    {
     "output_type": "stream",
     "name": "stdout",
     "text": "2019 Week 1 Regression Accuracy: 55.42%\n2019 Week 1 Classification Accuracy: 60.24%\n--------------\n2019 Week 2 Regression Accuracy: 54.79%\n2019 Week 2 Classification Accuracy: 45.21%\n--------------\n2019 Week 3 Regression Accuracy: 41.79%\n2019 Week 3 Classification Accuracy: 55.22%\n--------------\n2019 Week 4 Regression Accuracy: 46.55%\n2019 Week 4 Classification Accuracy: 56.9%\n--------------\n2019 Week 5 Regression Accuracy: 60.0%\n2019 Week 5 Classification Accuracy: 47.27%\n--------------\n2019 Week 6 Regression Accuracy: 57.45%\n2019 Week 6 Classification Accuracy: 61.7%\n--------------\n2019 Week 7 Regression Accuracy: 49.06%\n2019 Week 7 Classification Accuracy: 56.6%\n--------------\n2019 Week 8 Regression Accuracy: 50.82%\n2019 Week 8 Classification Accuracy: 50.82%\n--------------\n2019 Week 9 Regression Accuracy: 54.55%\n2019 Week 9 Classification Accuracy: 58.18%\n--------------\n2019 Week 10 Regression Accuracy: 52.08%\n2019 Week 10 Classification Accuracy: 56.25%\n--------------\n2019 Week 11 Regression Accuracy: 41.67%\n2019 Week 11 Classification Accuracy: 37.5%\n--------------\n2019 Week 12 Regression Accuracy: 50.94%\n2019 Week 12 Classification Accuracy: 60.38%\n--------------\n2019 Week 13 Regression Accuracy: 57.14%\n2019 Week 13 Classification Accuracy: 42.86%\n--------------\n2019 Week 14 Regression Accuracy: 48.44%\n2019 Week 14 Classification Accuracy: 56.25%\n--------------\n2019 Week 15 Regression Accuracy: 27.27%\n2019 Week 15 Classification Accuracy: 72.73%\n--------------\n2019 Week 16 Regression Accuracy: 40.0%\n2019 Week 16 Classification Accuracy: 42.5%\n--------------\n"
    }
   ],
   "source": [
    "# REGRESSION AND CLASSIFIER MODEL FOR BACK TESTING\n",
    "\n",
    "# Load\n",
    "predict_season = 2019\n",
    "\n",
    "final_columns = ['game_id', 'season', 'week', 'season_type', 'home_team',\n",
    "                'home_conference', 'away_team', 'away_conference',  'pre_game_spread',\n",
    "                'predicted_spread', 'regression_spread_pred', 'classification_spread_pred', 'classification_confidence']\n",
    "\n",
    "for predict_week in range(1,17):\n",
    "\n",
    "    df = dataset(predict_season=predict_season, predict_week=predict_week, window_size=4, update_data=False)\n",
    "\n",
    "    # Prep Dataset\n",
    "    df[df.columns[df.columns.str.contains('home|Home')]] = df[df.columns[df.columns.str.contains(\n",
    "        'home|Home')]].groupby('home_team', as_index=False, group_keys=False).apply(lambda x: x.fillna(x.mean()))\n",
    "\n",
    "    df[df.columns[df.columns.str.contains('away|Away')]] = df[df.columns[df.columns.str.contains(\n",
    "        'away|Away')]].groupby('away_team', as_index=False, group_keys=False).apply(lambda x: x.fillna(x.mean()))\n",
    "\n",
    "    df = df.dropna(axis=1, thresh=int(len(df) * .9))\n",
    "    df = df.fillna(0)\n",
    "    df[df.select_dtypes('bool').columns] = df.select_dtypes('bool').astype('int')\n",
    "\n",
    "    # Model\n",
    "    ct = make_column_transformer(\n",
    "        (OrdinalEncoder(), ['season_type', 'home_conference', 'away_conference']),\n",
    "        remainder='passthrough'\n",
    "    )\n",
    "\n",
    "    drop_columns =  ['game_id', 'season', 'venue', 'start_date', 'home_team', 'away_team', \n",
    "                    'start_date', 'spread_target', 'pre_game_spread', 'pre_game_home_win_prob', 'pre_game_away_win_prob']\n",
    "                    \n",
    "\n",
    "    # Use in production\n",
    "    # X_train = df[(df.start_date.dt.tz_convert('US/Central') < today_localize)]\n",
    "    # X_test = df[(df.start_date.dt.tz_convert('US/Central') >= today_localize)] \n",
    "\n",
    "    # Use in development\n",
    "    X_train = df[(df['week'] < predict_week) | (df['season'] < predict_season)] \n",
    "    X_test = df[(df['week'] == predict_week) & (df['season'] == predict_season)] \n",
    "\n",
    "    model_regressor = XGBRegressor(learning_rate=0.1, \n",
    "                                    colsample_bytree=0.9,\n",
    "                                    gamma=0.5,\n",
    "                                    max_depth=2,\n",
    "                                    min_child_weight=4,\n",
    "                                    n_estimators=100,\n",
    "                                    subsample=0.8)\n",
    "\n",
    "    model_regressor.fit(ct.fit_transform(X_train.drop(drop_columns, axis=1)), X_train['spread_target'])\n",
    "    \n",
    "    # Use this for later to determine feature importance\n",
    "    model_regressor_cols = X_train.drop(drop_columns, axis=1).columns\n",
    "\n",
    "    X_train['predicted_spread'] = model_regressor.predict(ct.fit_transform(X_train.drop(drop_columns, axis=1)))\n",
    "    X_test['predicted_spread'] = model_regressor.predict(ct.fit_transform(X_test.drop(drop_columns, axis=1)))\n",
    "\n",
    "    # Clean Up\n",
    "    X_train['predicted_spread'] = np.around(X_train['predicted_spread'] / .5, decimals=0) * .5\n",
    "    X_test['predicted_spread'] = np.around(X_test['predicted_spread'] / .5, decimals=0) * .5\n",
    "\n",
    "    X_train['regression_spread_pred'] = np.where(X_train['predicted_spread'] <= X_train['pre_game_spread'], 1, 0)\n",
    "    X_test['regression_spread_pred'] = np.where(X_test['predicted_spread'] <= X_test['pre_game_spread'], 1, 0)\n",
    "\n",
    "    X_train['spread_result'] = np.where(X_train['spread_target'] <= X_train['pre_game_spread'], 1, 0)\n",
    "    X_test['spread_result'] = np.where(X_test['spread_target'] <= X_test['pre_game_spread'], 1, 0)\n",
    "\n",
    "    model_classifier = XGBClassifier(base_score=0.5, booster='gbtree', colsample_bylevel=1,\n",
    "                                    colsample_bynode=1, colsample_bytree=0.8, gamma=5, gpu_id=-1,\n",
    "                                    importance_type='gain', interaction_constraints='',\n",
    "                                    learning_rate=0.1, max_delta_step=0, max_depth=5,\n",
    "                                    min_child_weight=10, monotone_constraints='()',\n",
    "                                    n_estimators=100, n_jobs=0, num_parallel_tree=1,\n",
    "                                    objective='binary:logistic', random_state=0, reg_alpha=0,\n",
    "                                    reg_lambda=1, scale_pos_weight=1, subsample=1.0,\n",
    "                                    tree_method='exact', validate_parameters=1, verbosity=None)\n",
    "\n",
    "    # Update drop columns list for Classifier Model\n",
    "    drop_columns.append('spread_result')\n",
    "    \n",
    "    # for col in ['pre_game_spread', 'pre_game_home_win_prob', 'pre_game_away_win_prob']:\n",
    "    #     drop_columns.remove(col)   \n",
    "\n",
    "    model_classifier.fit(ct.fit_transform(X_train.drop(drop_columns, axis=1)), X_train['spread_result'])\n",
    "    \n",
    "    # Use this for later to determine feature importance\n",
    "    model_classifier_cols = X_train.drop(drop_columns, axis=1).columns\n",
    "\n",
    "    X_train['classification_spread_pred'] = model_classifier.predict(ct.fit_transform(X_train.drop(drop_columns, axis=1)))\n",
    "    X_test['classification_spread_pred'] = model_classifier.predict(ct.fit_transform(X_test.drop(drop_columns, axis=1)))\n",
    "\n",
    "    # Add so the Predict Probability is Aligned\n",
    "    drop_columns.append('classification_spread_pred')\n",
    "\n",
    "    X_train['classification_confidence'] = model_classifier.predict_proba(ct.fit_transform(X_train.drop(drop_columns, axis=1)))[:,0]\n",
    "    X_test['classification_confidence'] = model_classifier.predict_proba(ct.fit_transform(X_test.drop(drop_columns, axis=1)))[:,0] \n",
    "\n",
    "    predict_df = X_test[final_columns]\n",
    "\n",
    "    predict_df = predict_df.merge(df[['game_id', 'spread_target', 'start_date']], on='game_id', how='left')\n",
    "    predict_df['spread_result'] = np.where(predict_df['spread_target'] <= predict_df['pre_game_spread'], 1, 0)\n",
    "\n",
    "    predict_df['regression_spread_result'] = np.where(predict_df['spread_result'] == predict_df['regression_spread_pred'], 'Won', 'Lost')\n",
    "    predict_df['regression_spread_result'] = np.where(predict_df['spread_target'] == predict_df['pre_game_spread'], 'Push', predict_df['regression_spread_result'])\n",
    "\n",
    "    predict_df['classification_spread_result'] = np.where(predict_df['spread_result'] == predict_df['classification_spread_pred'], 'Won', 'Lost')\n",
    "    predict_df['classification_spread_result'] = np.where(predict_df['spread_target'] == predict_df['pre_game_spread'], 'Push', predict_df['classification_spread_result'])\n",
    "\n",
    "    # Remove Results from Games that haven't been played\n",
    "    predict_df[['regression_spread_result', 'classification_spread_result', 'spread_result']] = predict_df[['regression_spread_result', 'classification_spread_result', 'spread_result']].where(predict_df.spread_target.ne(0), np.nan)\n",
    "\n",
    "    # Rename Column\n",
    "    predict_df = predict_df.rename(columns={'spread_target':'actual_spread'})\n",
    "    predict_df['week'] = predict_df['week'].mode()[0]\n",
    "\n",
    "    # Export\n",
    "    filepath = Path('../zillion_picks/picks')\n",
    "\n",
    "    for key, group in predict_df.groupby(['season', 'week', 'season_type']):\n",
    "        if group.season_type.unique() == 'postseason':\n",
    "            group.to_csv(filepath/f'premium/{key[0]}_postseason.csv', index=False)\n",
    "        else:\n",
    "            group.to_csv(filepath/f'premium/{key[0]}_{str(key[1]).rjust(2, \"0\")}.csv', index=False)\n",
    "\n",
    "    print(f\"{predict_season} Week {predict_week} Regression Accuracy: {round(accuracy_score(X_test['spread_result'], X_test['regression_spread_pred']) * 100,2)}%\" )\n",
    "    print(f\"{predict_season} Week {predict_week} Classification Accuracy: {round(accuracy_score(X_test['spread_result'], X_test['classification_spread_pred']) * 100,2)}%\" )\n",
    "    print('--------------')\n"
   ]
  },
  {
   "cell_type": "code",
   "execution_count": 15,
   "metadata": {
    "tags": []
   },
   "outputs": [
    {
     "output_type": "stream",
     "name": "stdout",
     "text": "pointsAway                          0.058916\naway_points                         0.040906\noffense_successRateHome             0.037539\naverageRating_All PositionsHome     0.031255\nrankHome                            0.029669\naverageRating_Defensive LineHome    0.025599\nhome_conference                     0.024919\naverageStars_All PositionsHome      0.023821\ntalentHome                          0.021426\nhome_points                         0.021078\ndtype: float32\n---------------------------------------\nregression_spread_pred            0.010797\naverageStars_All PositionsHome    0.007093\nyear WRHome                       0.006112\naway_points                       0.005852\npossessionTimeHome                0.005155\nweight RBHome                     0.005017\ntotalRating_All PositionsHome     0.005001\nrushingTDsHome                    0.004950\ndefense_lineYardsHome             0.004919\ncompletionAttemptsSuccessAway     0.004907\ndtype: float32\n"
    }
   ],
   "source": [
    "# Test Feature Importance\n",
    "\n",
    "regression_important_features = pd.Series(data=model_regressor.feature_importances_, index=model_regressor_cols).sort_values(ascending=False)\n",
    "classification_important_features = pd.Series(data=model_classifier.feature_importances_, index=model_classifier_cols).sort_values(ascending=False)\n",
    "\n",
    "print(regression_important_features.head(10))\n",
    "print('---------------------------------------')\n",
    "print(classification_important_features.head(10))\n"
   ]
  },
  {
   "cell_type": "code",
   "execution_count": 9,
   "metadata": {
    "tags": []
   },
   "outputs": [
    {
     "output_type": "stream",
     "name": "stdout",
     "text": "2019 Week 16 Classification Accuracy: 92.34%\n"
    }
   ],
   "source": [
    "    print(f\"{predict_season} Week {predict_week} Classification Accuracy: {round(accuracy_score(X_train['spread_result'], X_train['classification_spread_pred']) * 100,2)}%\" )"
   ]
  },
  {
   "cell_type": "code",
   "execution_count": 535,
   "metadata": {},
   "outputs": [
    {
     "output_type": "execute_result",
     "data": {
      "text/plain": "                  win  count\nbin                         \n(0.0, 0.2]   0.750000      4\n(0.2, 0.35]  0.466667     90\n(0.35, 0.4]  0.511364     88\n(0.4, 0.45]  0.521739    115\n(0.45, 0.5]  0.535088    114\n(0.5, 0.55]  0.513333    150\n(0.55, 0.6]  0.507692    130\n(0.6, 0.65]  0.518072     83\n(0.65, 0.7]  0.561404     57\n(0.7, 0.8]   0.441860     43\n(0.8, 1.0]   0.800000      5",
      "text/html": "<div>\n<style scoped>\n    .dataframe tbody tr th:only-of-type {\n        vertical-align: middle;\n    }\n\n    .dataframe tbody tr th {\n        vertical-align: top;\n    }\n\n    .dataframe thead th {\n        text-align: right;\n    }\n</style>\n<table border=\"1\" class=\"dataframe\">\n  <thead>\n    <tr style=\"text-align: right;\">\n      <th></th>\n      <th>win</th>\n      <th>count</th>\n    </tr>\n    <tr>\n      <th>bin</th>\n      <th></th>\n      <th></th>\n    </tr>\n  </thead>\n  <tbody>\n    <tr>\n      <th>(0.0, 0.2]</th>\n      <td>0.750000</td>\n      <td>4</td>\n    </tr>\n    <tr>\n      <th>(0.2, 0.35]</th>\n      <td>0.466667</td>\n      <td>90</td>\n    </tr>\n    <tr>\n      <th>(0.35, 0.4]</th>\n      <td>0.511364</td>\n      <td>88</td>\n    </tr>\n    <tr>\n      <th>(0.4, 0.45]</th>\n      <td>0.521739</td>\n      <td>115</td>\n    </tr>\n    <tr>\n      <th>(0.45, 0.5]</th>\n      <td>0.535088</td>\n      <td>114</td>\n    </tr>\n    <tr>\n      <th>(0.5, 0.55]</th>\n      <td>0.513333</td>\n      <td>150</td>\n    </tr>\n    <tr>\n      <th>(0.55, 0.6]</th>\n      <td>0.507692</td>\n      <td>130</td>\n    </tr>\n    <tr>\n      <th>(0.6, 0.65]</th>\n      <td>0.518072</td>\n      <td>83</td>\n    </tr>\n    <tr>\n      <th>(0.65, 0.7]</th>\n      <td>0.561404</td>\n      <td>57</td>\n    </tr>\n    <tr>\n      <th>(0.7, 0.8]</th>\n      <td>0.441860</td>\n      <td>43</td>\n    </tr>\n    <tr>\n      <th>(0.8, 1.0]</th>\n      <td>0.800000</td>\n      <td>5</td>\n    </tr>\n  </tbody>\n</table>\n</div>"
     },
     "metadata": {},
     "execution_count": 535
    }
   ],
   "source": [
    "#################### WORK ON THIS ###############################\n",
    "\n",
    "# CHECK CONFIDENCE TO SEE IF THERE IS A WIN ADVANTAGE\n",
    "dfs=[]\n",
    "\n",
    "for file in (filepath/'free').rglob('*'):\n",
    "    df = pd.read_csv(file)\n",
    "    dfs.append(df)\n",
    "\n",
    "df = pd.concat(dfs)\n",
    "df.head()\n",
    "\n",
    "df['bin'] = pd.cut(df.classification_confidence, [0,.20,.35,.40,.45,.50,.55,.60,.65,.70,.80,1])\n",
    "df.groupby('bin')['classification_spread_result'].agg(win=(lambda df: df.eq('Won').sum() / len(df)), count=( 'count'))"
   ]
  },
  {
   "cell_type": "code",
   "execution_count": null,
   "metadata": {},
   "outputs": [],
   "source": []
  }
 ],
 "metadata": {
  "language_info": {
   "name": "python",
   "codemirror_mode": {
    "name": "ipython",
    "version": 3
   },
   "version": "3.8.2-final"
  },
  "orig_nbformat": 2,
  "file_extension": ".py",
  "mimetype": "text/x-python",
  "name": "python",
  "npconvert_exporter": "python",
  "pygments_lexer": "ipython3",
  "version": 3,
  "kernelspec": {
   "name": "python38264bitzillionpickscondadd1d5d1f064048d389c34f4ee92c62eb",
   "display_name": "Python 3.8.2 64-bit ('zillion_picks': conda)"
  }
 },
 "nbformat": 4,
 "nbformat_minor": 2
}