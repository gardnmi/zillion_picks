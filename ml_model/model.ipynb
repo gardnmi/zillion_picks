{
 "cells": [
  {
   "cell_type": "code",
   "execution_count": 1,
   "metadata": {},
   "outputs": [],
   "source": [
    "import pandas as pd\n",
    "import numpy as np\n",
    "from pathlib import Path\n",
    "from sklearn.preprocessing import OrdinalEncoder\n",
    "from sklearn.compose import make_column_transformer\n",
    "from sklearn.model_selection import TimeSeriesSplit, GridSearchCV\n",
    "from sklearn.metrics import mean_squared_error, accuracy_score\n",
    "from xgboost import XGBRegressor, XGBClassifier\n",
    "from load import dataset"
   ]
  },
  {
   "cell_type": "code",
   "execution_count": 57,
   "metadata": {
    "tags": []
   },
   "outputs": [],
   "source": [
    "# Initialize Variables\n",
    "predict_week = 7\n",
    "predict_season = 2020\n",
    "today_localize = pd.to_datetime('today').tz_localize('US/Central') - pd.Timedelta(hours=3)\n",
    "\n",
    "final_columns = ['game_id', 'season', 'week', 'season_type', 'home_team',\n",
    "                'home_conference', 'away_team', 'away_conference',  'pre_game_spread',\n",
    "                'predicted_spread', 'regression_spread_pred', 'classification_spread_pred', 'classification_confidence']\n",
    "\n",
    "# Load Dataset\n",
    "df = dataset(predict_season=predict_season, predict_week=predict_week, window_size=4, update_data=True, update_seasons=[pd.to_datetime('today').year])\n"
   ]
  },
  {
   "cell_type": "code",
   "execution_count": 67,
   "metadata": {},
   "outputs": [],
   "source": [
    "\n",
    "# Prep for ML Models\n",
    "df[df.columns[df.columns.str.contains('home|Home')]] = df[df.columns[df.columns.str.contains(\n",
    "    'home|Home')]].groupby('home_team', as_index=False, group_keys=False).apply(lambda x: x.fillna(x.mean()))\n",
    "\n",
    "df[df.columns[df.columns.str.contains('away|Away')]] = df[df.columns[df.columns.str.contains(\n",
    "    'away|Away')]].groupby('away_team', as_index=False, group_keys=False).apply(lambda x: x.fillna(x.mean()))\n",
    "\n",
    "df = df.dropna(axis=1, thresh=int(len(df) * .9))\n",
    "\n",
    "df = df.fillna(0)\n",
    "\n",
    "df[df.select_dtypes('bool').columns] = df.select_dtypes('bool').astype('int')\n",
    "\n",
    "ct = make_column_transformer(\n",
    "    (OrdinalEncoder(), ['season_type', 'home_conference', 'away_conference']),\n",
    "    remainder='passthrough'\n",
    ")\n",
    "\n",
    "drop_columns =  ['game_id', 'season', 'venue', 'start_date', 'home_team', 'away_team', \n",
    "                'start_date', 'spread_target', 'pre_game_spread' , 'pre_game_home_win_prob', 'pre_game_away_win_prob'\n",
    "                ]\n"
   ]
  },
  {
   "cell_type": "code",
   "execution_count": 59,
   "metadata": {},
   "outputs": [
    {
     "output_type": "error",
     "ename": "ValueError",
     "evalue": "Found array with 0 sample(s) (shape=(0,)) while a minimum of 1 is required.",
     "traceback": [
      "\u001b[1;31m---------------------------------------------------------------------------\u001b[0m",
      "\u001b[1;31mValueError\u001b[0m                                Traceback (most recent call last)",
      "\u001b[1;32m<ipython-input-59-1787390df839>\u001b[0m in \u001b[0;36m<module>\u001b[1;34m\u001b[0m\n\u001b[0;32m     22\u001b[0m \u001b[1;33m\u001b[0m\u001b[0m\n\u001b[0;32m     23\u001b[0m \u001b[0mX_train\u001b[0m\u001b[1;33m[\u001b[0m\u001b[1;34m'predicted_spread'\u001b[0m\u001b[1;33m]\u001b[0m \u001b[1;33m=\u001b[0m \u001b[0mmodel_regressor\u001b[0m\u001b[1;33m.\u001b[0m\u001b[0mpredict\u001b[0m\u001b[1;33m(\u001b[0m\u001b[0mct\u001b[0m\u001b[1;33m.\u001b[0m\u001b[0mfit_transform\u001b[0m\u001b[1;33m(\u001b[0m\u001b[0mX_train\u001b[0m\u001b[1;33m.\u001b[0m\u001b[0mdrop\u001b[0m\u001b[1;33m(\u001b[0m\u001b[0mdrop_columns\u001b[0m\u001b[1;33m,\u001b[0m \u001b[0maxis\u001b[0m\u001b[1;33m=\u001b[0m\u001b[1;36m1\u001b[0m\u001b[1;33m)\u001b[0m\u001b[1;33m)\u001b[0m\u001b[1;33m)\u001b[0m\u001b[1;33m\u001b[0m\u001b[1;33m\u001b[0m\u001b[0m\n\u001b[1;32m---> 24\u001b[1;33m \u001b[0mX_test\u001b[0m\u001b[1;33m[\u001b[0m\u001b[1;34m'predicted_spread'\u001b[0m\u001b[1;33m]\u001b[0m \u001b[1;33m=\u001b[0m \u001b[0mmodel_regressor\u001b[0m\u001b[1;33m.\u001b[0m\u001b[0mpredict\u001b[0m\u001b[1;33m(\u001b[0m\u001b[0mct\u001b[0m\u001b[1;33m.\u001b[0m\u001b[0mfit_transform\u001b[0m\u001b[1;33m(\u001b[0m\u001b[0mX_test\u001b[0m\u001b[1;33m.\u001b[0m\u001b[0mdrop\u001b[0m\u001b[1;33m(\u001b[0m\u001b[0mdrop_columns\u001b[0m\u001b[1;33m,\u001b[0m \u001b[0maxis\u001b[0m\u001b[1;33m=\u001b[0m\u001b[1;36m1\u001b[0m\u001b[1;33m)\u001b[0m\u001b[1;33m)\u001b[0m\u001b[1;33m)\u001b[0m\u001b[1;33m\u001b[0m\u001b[1;33m\u001b[0m\u001b[0m\n\u001b[0m\u001b[0;32m     25\u001b[0m \u001b[1;33m\u001b[0m\u001b[0m\n\u001b[0;32m     26\u001b[0m \u001b[1;31m# Clean Up\u001b[0m\u001b[1;33m\u001b[0m\u001b[1;33m\u001b[0m\u001b[1;33m\u001b[0m\u001b[0m\n",
      "\u001b[1;32m~\\anaconda3\\envs\\zillion_picks\\lib\\site-packages\\sklearn\\compose\\_column_transformer.py\u001b[0m in \u001b[0;36mfit_transform\u001b[1;34m(self, X, y)\u001b[0m\n\u001b[0;32m    529\u001b[0m         \u001b[0mself\u001b[0m\u001b[1;33m.\u001b[0m\u001b[0m_validate_remainder\u001b[0m\u001b[1;33m(\u001b[0m\u001b[0mX\u001b[0m\u001b[1;33m)\u001b[0m\u001b[1;33m\u001b[0m\u001b[1;33m\u001b[0m\u001b[0m\n\u001b[0;32m    530\u001b[0m \u001b[1;33m\u001b[0m\u001b[0m\n\u001b[1;32m--> 531\u001b[1;33m         \u001b[0mresult\u001b[0m \u001b[1;33m=\u001b[0m \u001b[0mself\u001b[0m\u001b[1;33m.\u001b[0m\u001b[0m_fit_transform\u001b[0m\u001b[1;33m(\u001b[0m\u001b[0mX\u001b[0m\u001b[1;33m,\u001b[0m \u001b[0my\u001b[0m\u001b[1;33m,\u001b[0m \u001b[0m_fit_transform_one\u001b[0m\u001b[1;33m)\u001b[0m\u001b[1;33m\u001b[0m\u001b[1;33m\u001b[0m\u001b[0m\n\u001b[0m\u001b[0;32m    532\u001b[0m \u001b[1;33m\u001b[0m\u001b[0m\n\u001b[0;32m    533\u001b[0m         \u001b[1;32mif\u001b[0m \u001b[1;32mnot\u001b[0m \u001b[0mresult\u001b[0m\u001b[1;33m:\u001b[0m\u001b[1;33m\u001b[0m\u001b[1;33m\u001b[0m\u001b[0m\n",
      "\u001b[1;32m~\\anaconda3\\envs\\zillion_picks\\lib\\site-packages\\sklearn\\compose\\_column_transformer.py\u001b[0m in \u001b[0;36m_fit_transform\u001b[1;34m(self, X, y, func, fitted)\u001b[0m\n\u001b[0;32m    456\u001b[0m             self._iter(fitted=fitted, replace_strings=True))\n\u001b[0;32m    457\u001b[0m         \u001b[1;32mtry\u001b[0m\u001b[1;33m:\u001b[0m\u001b[1;33m\u001b[0m\u001b[1;33m\u001b[0m\u001b[0m\n\u001b[1;32m--> 458\u001b[1;33m             return Parallel(n_jobs=self.n_jobs)(\n\u001b[0m\u001b[0;32m    459\u001b[0m                 delayed(func)(\n\u001b[0;32m    460\u001b[0m                     \u001b[0mtransformer\u001b[0m\u001b[1;33m=\u001b[0m\u001b[0mclone\u001b[0m\u001b[1;33m(\u001b[0m\u001b[0mtrans\u001b[0m\u001b[1;33m)\u001b[0m \u001b[1;32mif\u001b[0m \u001b[1;32mnot\u001b[0m \u001b[0mfitted\u001b[0m \u001b[1;32melse\u001b[0m \u001b[0mtrans\u001b[0m\u001b[1;33m,\u001b[0m\u001b[1;33m\u001b[0m\u001b[1;33m\u001b[0m\u001b[0m\n",
      "\u001b[1;32m~\\anaconda3\\envs\\zillion_picks\\lib\\site-packages\\joblib\\parallel.py\u001b[0m in \u001b[0;36m__call__\u001b[1;34m(self, iterable)\u001b[0m\n\u001b[0;32m   1027\u001b[0m             \u001b[1;31m# remaining jobs.\u001b[0m\u001b[1;33m\u001b[0m\u001b[1;33m\u001b[0m\u001b[1;33m\u001b[0m\u001b[0m\n\u001b[0;32m   1028\u001b[0m             \u001b[0mself\u001b[0m\u001b[1;33m.\u001b[0m\u001b[0m_iterating\u001b[0m \u001b[1;33m=\u001b[0m \u001b[1;32mFalse\u001b[0m\u001b[1;33m\u001b[0m\u001b[1;33m\u001b[0m\u001b[0m\n\u001b[1;32m-> 1029\u001b[1;33m             \u001b[1;32mif\u001b[0m \u001b[0mself\u001b[0m\u001b[1;33m.\u001b[0m\u001b[0mdispatch_one_batch\u001b[0m\u001b[1;33m(\u001b[0m\u001b[0miterator\u001b[0m\u001b[1;33m)\u001b[0m\u001b[1;33m:\u001b[0m\u001b[1;33m\u001b[0m\u001b[1;33m\u001b[0m\u001b[0m\n\u001b[0m\u001b[0;32m   1030\u001b[0m                 \u001b[0mself\u001b[0m\u001b[1;33m.\u001b[0m\u001b[0m_iterating\u001b[0m \u001b[1;33m=\u001b[0m \u001b[0mself\u001b[0m\u001b[1;33m.\u001b[0m\u001b[0m_original_iterator\u001b[0m \u001b[1;32mis\u001b[0m \u001b[1;32mnot\u001b[0m \u001b[1;32mNone\u001b[0m\u001b[1;33m\u001b[0m\u001b[1;33m\u001b[0m\u001b[0m\n\u001b[0;32m   1031\u001b[0m \u001b[1;33m\u001b[0m\u001b[0m\n",
      "\u001b[1;32m~\\anaconda3\\envs\\zillion_picks\\lib\\site-packages\\joblib\\parallel.py\u001b[0m in \u001b[0;36mdispatch_one_batch\u001b[1;34m(self, iterator)\u001b[0m\n\u001b[0;32m    845\u001b[0m                 \u001b[1;32mreturn\u001b[0m \u001b[1;32mFalse\u001b[0m\u001b[1;33m\u001b[0m\u001b[1;33m\u001b[0m\u001b[0m\n\u001b[0;32m    846\u001b[0m             \u001b[1;32melse\u001b[0m\u001b[1;33m:\u001b[0m\u001b[1;33m\u001b[0m\u001b[1;33m\u001b[0m\u001b[0m\n\u001b[1;32m--> 847\u001b[1;33m                 \u001b[0mself\u001b[0m\u001b[1;33m.\u001b[0m\u001b[0m_dispatch\u001b[0m\u001b[1;33m(\u001b[0m\u001b[0mtasks\u001b[0m\u001b[1;33m)\u001b[0m\u001b[1;33m\u001b[0m\u001b[1;33m\u001b[0m\u001b[0m\n\u001b[0m\u001b[0;32m    848\u001b[0m                 \u001b[1;32mreturn\u001b[0m \u001b[1;32mTrue\u001b[0m\u001b[1;33m\u001b[0m\u001b[1;33m\u001b[0m\u001b[0m\n\u001b[0;32m    849\u001b[0m \u001b[1;33m\u001b[0m\u001b[0m\n",
      "\u001b[1;32m~\\anaconda3\\envs\\zillion_picks\\lib\\site-packages\\joblib\\parallel.py\u001b[0m in \u001b[0;36m_dispatch\u001b[1;34m(self, batch)\u001b[0m\n\u001b[0;32m    763\u001b[0m         \u001b[1;32mwith\u001b[0m \u001b[0mself\u001b[0m\u001b[1;33m.\u001b[0m\u001b[0m_lock\u001b[0m\u001b[1;33m:\u001b[0m\u001b[1;33m\u001b[0m\u001b[1;33m\u001b[0m\u001b[0m\n\u001b[0;32m    764\u001b[0m             \u001b[0mjob_idx\u001b[0m \u001b[1;33m=\u001b[0m \u001b[0mlen\u001b[0m\u001b[1;33m(\u001b[0m\u001b[0mself\u001b[0m\u001b[1;33m.\u001b[0m\u001b[0m_jobs\u001b[0m\u001b[1;33m)\u001b[0m\u001b[1;33m\u001b[0m\u001b[1;33m\u001b[0m\u001b[0m\n\u001b[1;32m--> 765\u001b[1;33m             \u001b[0mjob\u001b[0m \u001b[1;33m=\u001b[0m \u001b[0mself\u001b[0m\u001b[1;33m.\u001b[0m\u001b[0m_backend\u001b[0m\u001b[1;33m.\u001b[0m\u001b[0mapply_async\u001b[0m\u001b[1;33m(\u001b[0m\u001b[0mbatch\u001b[0m\u001b[1;33m,\u001b[0m \u001b[0mcallback\u001b[0m\u001b[1;33m=\u001b[0m\u001b[0mcb\u001b[0m\u001b[1;33m)\u001b[0m\u001b[1;33m\u001b[0m\u001b[1;33m\u001b[0m\u001b[0m\n\u001b[0m\u001b[0;32m    766\u001b[0m             \u001b[1;31m# A job can complete so quickly than its callback is\u001b[0m\u001b[1;33m\u001b[0m\u001b[1;33m\u001b[0m\u001b[1;33m\u001b[0m\u001b[0m\n\u001b[0;32m    767\u001b[0m             \u001b[1;31m# called before we get here, causing self._jobs to\u001b[0m\u001b[1;33m\u001b[0m\u001b[1;33m\u001b[0m\u001b[1;33m\u001b[0m\u001b[0m\n",
      "\u001b[1;32m~\\anaconda3\\envs\\zillion_picks\\lib\\site-packages\\joblib\\_parallel_backends.py\u001b[0m in \u001b[0;36mapply_async\u001b[1;34m(self, func, callback)\u001b[0m\n\u001b[0;32m    206\u001b[0m     \u001b[1;32mdef\u001b[0m \u001b[0mapply_async\u001b[0m\u001b[1;33m(\u001b[0m\u001b[0mself\u001b[0m\u001b[1;33m,\u001b[0m \u001b[0mfunc\u001b[0m\u001b[1;33m,\u001b[0m \u001b[0mcallback\u001b[0m\u001b[1;33m=\u001b[0m\u001b[1;32mNone\u001b[0m\u001b[1;33m)\u001b[0m\u001b[1;33m:\u001b[0m\u001b[1;33m\u001b[0m\u001b[1;33m\u001b[0m\u001b[0m\n\u001b[0;32m    207\u001b[0m         \u001b[1;34m\"\"\"Schedule a func to be run\"\"\"\u001b[0m\u001b[1;33m\u001b[0m\u001b[1;33m\u001b[0m\u001b[0m\n\u001b[1;32m--> 208\u001b[1;33m         \u001b[0mresult\u001b[0m \u001b[1;33m=\u001b[0m \u001b[0mImmediateResult\u001b[0m\u001b[1;33m(\u001b[0m\u001b[0mfunc\u001b[0m\u001b[1;33m)\u001b[0m\u001b[1;33m\u001b[0m\u001b[1;33m\u001b[0m\u001b[0m\n\u001b[0m\u001b[0;32m    209\u001b[0m         \u001b[1;32mif\u001b[0m \u001b[0mcallback\u001b[0m\u001b[1;33m:\u001b[0m\u001b[1;33m\u001b[0m\u001b[1;33m\u001b[0m\u001b[0m\n\u001b[0;32m    210\u001b[0m             \u001b[0mcallback\u001b[0m\u001b[1;33m(\u001b[0m\u001b[0mresult\u001b[0m\u001b[1;33m)\u001b[0m\u001b[1;33m\u001b[0m\u001b[1;33m\u001b[0m\u001b[0m\n",
      "\u001b[1;32m~\\anaconda3\\envs\\zillion_picks\\lib\\site-packages\\joblib\\_parallel_backends.py\u001b[0m in \u001b[0;36m__init__\u001b[1;34m(self, batch)\u001b[0m\n\u001b[0;32m    570\u001b[0m         \u001b[1;31m# Don't delay the application, to avoid keeping the input\u001b[0m\u001b[1;33m\u001b[0m\u001b[1;33m\u001b[0m\u001b[1;33m\u001b[0m\u001b[0m\n\u001b[0;32m    571\u001b[0m         \u001b[1;31m# arguments in memory\u001b[0m\u001b[1;33m\u001b[0m\u001b[1;33m\u001b[0m\u001b[1;33m\u001b[0m\u001b[0m\n\u001b[1;32m--> 572\u001b[1;33m         \u001b[0mself\u001b[0m\u001b[1;33m.\u001b[0m\u001b[0mresults\u001b[0m \u001b[1;33m=\u001b[0m \u001b[0mbatch\u001b[0m\u001b[1;33m(\u001b[0m\u001b[1;33m)\u001b[0m\u001b[1;33m\u001b[0m\u001b[1;33m\u001b[0m\u001b[0m\n\u001b[0m\u001b[0;32m    573\u001b[0m \u001b[1;33m\u001b[0m\u001b[0m\n\u001b[0;32m    574\u001b[0m     \u001b[1;32mdef\u001b[0m \u001b[0mget\u001b[0m\u001b[1;33m(\u001b[0m\u001b[0mself\u001b[0m\u001b[1;33m)\u001b[0m\u001b[1;33m:\u001b[0m\u001b[1;33m\u001b[0m\u001b[1;33m\u001b[0m\u001b[0m\n",
      "\u001b[1;32m~\\anaconda3\\envs\\zillion_picks\\lib\\site-packages\\joblib\\parallel.py\u001b[0m in \u001b[0;36m__call__\u001b[1;34m(self)\u001b[0m\n\u001b[0;32m    250\u001b[0m         \u001b[1;31m# change the default number of processes to -1\u001b[0m\u001b[1;33m\u001b[0m\u001b[1;33m\u001b[0m\u001b[1;33m\u001b[0m\u001b[0m\n\u001b[0;32m    251\u001b[0m         \u001b[1;32mwith\u001b[0m \u001b[0mparallel_backend\u001b[0m\u001b[1;33m(\u001b[0m\u001b[0mself\u001b[0m\u001b[1;33m.\u001b[0m\u001b[0m_backend\u001b[0m\u001b[1;33m,\u001b[0m \u001b[0mn_jobs\u001b[0m\u001b[1;33m=\u001b[0m\u001b[0mself\u001b[0m\u001b[1;33m.\u001b[0m\u001b[0m_n_jobs\u001b[0m\u001b[1;33m)\u001b[0m\u001b[1;33m:\u001b[0m\u001b[1;33m\u001b[0m\u001b[1;33m\u001b[0m\u001b[0m\n\u001b[1;32m--> 252\u001b[1;33m             return [func(*args, **kwargs)\n\u001b[0m\u001b[0;32m    253\u001b[0m                     for func, args, kwargs in self.items]\n\u001b[0;32m    254\u001b[0m \u001b[1;33m\u001b[0m\u001b[0m\n",
      "\u001b[1;32m~\\anaconda3\\envs\\zillion_picks\\lib\\site-packages\\joblib\\parallel.py\u001b[0m in \u001b[0;36m<listcomp>\u001b[1;34m(.0)\u001b[0m\n\u001b[0;32m    250\u001b[0m         \u001b[1;31m# change the default number of processes to -1\u001b[0m\u001b[1;33m\u001b[0m\u001b[1;33m\u001b[0m\u001b[1;33m\u001b[0m\u001b[0m\n\u001b[0;32m    251\u001b[0m         \u001b[1;32mwith\u001b[0m \u001b[0mparallel_backend\u001b[0m\u001b[1;33m(\u001b[0m\u001b[0mself\u001b[0m\u001b[1;33m.\u001b[0m\u001b[0m_backend\u001b[0m\u001b[1;33m,\u001b[0m \u001b[0mn_jobs\u001b[0m\u001b[1;33m=\u001b[0m\u001b[0mself\u001b[0m\u001b[1;33m.\u001b[0m\u001b[0m_n_jobs\u001b[0m\u001b[1;33m)\u001b[0m\u001b[1;33m:\u001b[0m\u001b[1;33m\u001b[0m\u001b[1;33m\u001b[0m\u001b[0m\n\u001b[1;32m--> 252\u001b[1;33m             return [func(*args, **kwargs)\n\u001b[0m\u001b[0;32m    253\u001b[0m                     for func, args, kwargs in self.items]\n\u001b[0;32m    254\u001b[0m \u001b[1;33m\u001b[0m\u001b[0m\n",
      "\u001b[1;32m~\\anaconda3\\envs\\zillion_picks\\lib\\site-packages\\sklearn\\pipeline.py\u001b[0m in \u001b[0;36m_fit_transform_one\u001b[1;34m(transformer, X, y, weight, message_clsname, message, **fit_params)\u001b[0m\n\u001b[0;32m    738\u001b[0m     \u001b[1;32mwith\u001b[0m \u001b[0m_print_elapsed_time\u001b[0m\u001b[1;33m(\u001b[0m\u001b[0mmessage_clsname\u001b[0m\u001b[1;33m,\u001b[0m \u001b[0mmessage\u001b[0m\u001b[1;33m)\u001b[0m\u001b[1;33m:\u001b[0m\u001b[1;33m\u001b[0m\u001b[1;33m\u001b[0m\u001b[0m\n\u001b[0;32m    739\u001b[0m         \u001b[1;32mif\u001b[0m \u001b[0mhasattr\u001b[0m\u001b[1;33m(\u001b[0m\u001b[0mtransformer\u001b[0m\u001b[1;33m,\u001b[0m \u001b[1;34m'fit_transform'\u001b[0m\u001b[1;33m)\u001b[0m\u001b[1;33m:\u001b[0m\u001b[1;33m\u001b[0m\u001b[1;33m\u001b[0m\u001b[0m\n\u001b[1;32m--> 740\u001b[1;33m             \u001b[0mres\u001b[0m \u001b[1;33m=\u001b[0m \u001b[0mtransformer\u001b[0m\u001b[1;33m.\u001b[0m\u001b[0mfit_transform\u001b[0m\u001b[1;33m(\u001b[0m\u001b[0mX\u001b[0m\u001b[1;33m,\u001b[0m \u001b[0my\u001b[0m\u001b[1;33m,\u001b[0m \u001b[1;33m**\u001b[0m\u001b[0mfit_params\u001b[0m\u001b[1;33m)\u001b[0m\u001b[1;33m\u001b[0m\u001b[1;33m\u001b[0m\u001b[0m\n\u001b[0m\u001b[0;32m    741\u001b[0m         \u001b[1;32melse\u001b[0m\u001b[1;33m:\u001b[0m\u001b[1;33m\u001b[0m\u001b[1;33m\u001b[0m\u001b[0m\n\u001b[0;32m    742\u001b[0m             \u001b[0mres\u001b[0m \u001b[1;33m=\u001b[0m \u001b[0mtransformer\u001b[0m\u001b[1;33m.\u001b[0m\u001b[0mfit\u001b[0m\u001b[1;33m(\u001b[0m\u001b[0mX\u001b[0m\u001b[1;33m,\u001b[0m \u001b[0my\u001b[0m\u001b[1;33m,\u001b[0m \u001b[1;33m**\u001b[0m\u001b[0mfit_params\u001b[0m\u001b[1;33m)\u001b[0m\u001b[1;33m.\u001b[0m\u001b[0mtransform\u001b[0m\u001b[1;33m(\u001b[0m\u001b[0mX\u001b[0m\u001b[1;33m)\u001b[0m\u001b[1;33m\u001b[0m\u001b[1;33m\u001b[0m\u001b[0m\n",
      "\u001b[1;32m~\\anaconda3\\envs\\zillion_picks\\lib\\site-packages\\sklearn\\base.py\u001b[0m in \u001b[0;36mfit_transform\u001b[1;34m(self, X, y, **fit_params)\u001b[0m\n\u001b[0;32m    688\u001b[0m         \u001b[1;32mif\u001b[0m \u001b[0my\u001b[0m \u001b[1;32mis\u001b[0m \u001b[1;32mNone\u001b[0m\u001b[1;33m:\u001b[0m\u001b[1;33m\u001b[0m\u001b[1;33m\u001b[0m\u001b[0m\n\u001b[0;32m    689\u001b[0m             \u001b[1;31m# fit method of arity 1 (unsupervised transformation)\u001b[0m\u001b[1;33m\u001b[0m\u001b[1;33m\u001b[0m\u001b[1;33m\u001b[0m\u001b[0m\n\u001b[1;32m--> 690\u001b[1;33m             \u001b[1;32mreturn\u001b[0m \u001b[0mself\u001b[0m\u001b[1;33m.\u001b[0m\u001b[0mfit\u001b[0m\u001b[1;33m(\u001b[0m\u001b[0mX\u001b[0m\u001b[1;33m,\u001b[0m \u001b[1;33m**\u001b[0m\u001b[0mfit_params\u001b[0m\u001b[1;33m)\u001b[0m\u001b[1;33m.\u001b[0m\u001b[0mtransform\u001b[0m\u001b[1;33m(\u001b[0m\u001b[0mX\u001b[0m\u001b[1;33m)\u001b[0m\u001b[1;33m\u001b[0m\u001b[1;33m\u001b[0m\u001b[0m\n\u001b[0m\u001b[0;32m    691\u001b[0m         \u001b[1;32melse\u001b[0m\u001b[1;33m:\u001b[0m\u001b[1;33m\u001b[0m\u001b[1;33m\u001b[0m\u001b[0m\n\u001b[0;32m    692\u001b[0m             \u001b[1;31m# fit method of arity 2 (supervised transformation)\u001b[0m\u001b[1;33m\u001b[0m\u001b[1;33m\u001b[0m\u001b[1;33m\u001b[0m\u001b[0m\n",
      "\u001b[1;32m~\\anaconda3\\envs\\zillion_picks\\lib\\site-packages\\sklearn\\preprocessing\\_encoders.py\u001b[0m in \u001b[0;36mfit\u001b[1;34m(self, X, y)\u001b[0m\n\u001b[0;32m    680\u001b[0m         \u001b[0mself\u001b[0m\u001b[1;33m\u001b[0m\u001b[1;33m\u001b[0m\u001b[0m\n\u001b[0;32m    681\u001b[0m         \"\"\"\n\u001b[1;32m--> 682\u001b[1;33m         \u001b[0mself\u001b[0m\u001b[1;33m.\u001b[0m\u001b[0m_fit\u001b[0m\u001b[1;33m(\u001b[0m\u001b[0mX\u001b[0m\u001b[1;33m)\u001b[0m\u001b[1;33m\u001b[0m\u001b[1;33m\u001b[0m\u001b[0m\n\u001b[0m\u001b[0;32m    683\u001b[0m \u001b[1;33m\u001b[0m\u001b[0m\n\u001b[0;32m    684\u001b[0m         \u001b[1;32mreturn\u001b[0m \u001b[0mself\u001b[0m\u001b[1;33m\u001b[0m\u001b[1;33m\u001b[0m\u001b[0m\n",
      "\u001b[1;32m~\\anaconda3\\envs\\zillion_picks\\lib\\site-packages\\sklearn\\preprocessing\\_encoders.py\u001b[0m in \u001b[0;36m_fit\u001b[1;34m(self, X, handle_unknown)\u001b[0m\n\u001b[0;32m     72\u001b[0m \u001b[1;33m\u001b[0m\u001b[0m\n\u001b[0;32m     73\u001b[0m     \u001b[1;32mdef\u001b[0m \u001b[0m_fit\u001b[0m\u001b[1;33m(\u001b[0m\u001b[0mself\u001b[0m\u001b[1;33m,\u001b[0m \u001b[0mX\u001b[0m\u001b[1;33m,\u001b[0m \u001b[0mhandle_unknown\u001b[0m\u001b[1;33m=\u001b[0m\u001b[1;34m'error'\u001b[0m\u001b[1;33m)\u001b[0m\u001b[1;33m:\u001b[0m\u001b[1;33m\u001b[0m\u001b[1;33m\u001b[0m\u001b[0m\n\u001b[1;32m---> 74\u001b[1;33m         \u001b[0mX_list\u001b[0m\u001b[1;33m,\u001b[0m \u001b[0mn_samples\u001b[0m\u001b[1;33m,\u001b[0m \u001b[0mn_features\u001b[0m \u001b[1;33m=\u001b[0m \u001b[0mself\u001b[0m\u001b[1;33m.\u001b[0m\u001b[0m_check_X\u001b[0m\u001b[1;33m(\u001b[0m\u001b[0mX\u001b[0m\u001b[1;33m)\u001b[0m\u001b[1;33m\u001b[0m\u001b[1;33m\u001b[0m\u001b[0m\n\u001b[0m\u001b[0;32m     75\u001b[0m \u001b[1;33m\u001b[0m\u001b[0m\n\u001b[0;32m     76\u001b[0m         \u001b[1;32mif\u001b[0m \u001b[0mself\u001b[0m\u001b[1;33m.\u001b[0m\u001b[0mcategories\u001b[0m \u001b[1;33m!=\u001b[0m \u001b[1;34m'auto'\u001b[0m\u001b[1;33m:\u001b[0m\u001b[1;33m\u001b[0m\u001b[1;33m\u001b[0m\u001b[0m\n",
      "\u001b[1;32m~\\anaconda3\\envs\\zillion_picks\\lib\\site-packages\\sklearn\\preprocessing\\_encoders.py\u001b[0m in \u001b[0;36m_check_X\u001b[1;34m(self, X)\u001b[0m\n\u001b[0;32m     58\u001b[0m         \u001b[1;32mfor\u001b[0m \u001b[0mi\u001b[0m \u001b[1;32min\u001b[0m \u001b[0mrange\u001b[0m\u001b[1;33m(\u001b[0m\u001b[0mn_features\u001b[0m\u001b[1;33m)\u001b[0m\u001b[1;33m:\u001b[0m\u001b[1;33m\u001b[0m\u001b[1;33m\u001b[0m\u001b[0m\n\u001b[0;32m     59\u001b[0m             \u001b[0mXi\u001b[0m \u001b[1;33m=\u001b[0m \u001b[0mself\u001b[0m\u001b[1;33m.\u001b[0m\u001b[0m_get_feature\u001b[0m\u001b[1;33m(\u001b[0m\u001b[0mX\u001b[0m\u001b[1;33m,\u001b[0m \u001b[0mfeature_idx\u001b[0m\u001b[1;33m=\u001b[0m\u001b[0mi\u001b[0m\u001b[1;33m)\u001b[0m\u001b[1;33m\u001b[0m\u001b[1;33m\u001b[0m\u001b[0m\n\u001b[1;32m---> 60\u001b[1;33m             Xi = check_array(Xi, ensure_2d=False, dtype=None,\n\u001b[0m\u001b[0;32m     61\u001b[0m                              force_all_finite=needs_validation)\n\u001b[0;32m     62\u001b[0m             \u001b[0mX_columns\u001b[0m\u001b[1;33m.\u001b[0m\u001b[0mappend\u001b[0m\u001b[1;33m(\u001b[0m\u001b[0mXi\u001b[0m\u001b[1;33m)\u001b[0m\u001b[1;33m\u001b[0m\u001b[1;33m\u001b[0m\u001b[0m\n",
      "\u001b[1;32m~\\anaconda3\\envs\\zillion_picks\\lib\\site-packages\\sklearn\\utils\\validation.py\u001b[0m in \u001b[0;36minner_f\u001b[1;34m(*args, **kwargs)\u001b[0m\n\u001b[0;32m     70\u001b[0m                           FutureWarning)\n\u001b[0;32m     71\u001b[0m         \u001b[0mkwargs\u001b[0m\u001b[1;33m.\u001b[0m\u001b[0mupdate\u001b[0m\u001b[1;33m(\u001b[0m\u001b[1;33m{\u001b[0m\u001b[0mk\u001b[0m\u001b[1;33m:\u001b[0m \u001b[0marg\u001b[0m \u001b[1;32mfor\u001b[0m \u001b[0mk\u001b[0m\u001b[1;33m,\u001b[0m \u001b[0marg\u001b[0m \u001b[1;32min\u001b[0m \u001b[0mzip\u001b[0m\u001b[1;33m(\u001b[0m\u001b[0msig\u001b[0m\u001b[1;33m.\u001b[0m\u001b[0mparameters\u001b[0m\u001b[1;33m,\u001b[0m \u001b[0margs\u001b[0m\u001b[1;33m)\u001b[0m\u001b[1;33m}\u001b[0m\u001b[1;33m)\u001b[0m\u001b[1;33m\u001b[0m\u001b[1;33m\u001b[0m\u001b[0m\n\u001b[1;32m---> 72\u001b[1;33m         \u001b[1;32mreturn\u001b[0m \u001b[0mf\u001b[0m\u001b[1;33m(\u001b[0m\u001b[1;33m**\u001b[0m\u001b[0mkwargs\u001b[0m\u001b[1;33m)\u001b[0m\u001b[1;33m\u001b[0m\u001b[1;33m\u001b[0m\u001b[0m\n\u001b[0m\u001b[0;32m     73\u001b[0m     \u001b[1;32mreturn\u001b[0m \u001b[0minner_f\u001b[0m\u001b[1;33m\u001b[0m\u001b[1;33m\u001b[0m\u001b[0m\n\u001b[0;32m     74\u001b[0m \u001b[1;33m\u001b[0m\u001b[0m\n",
      "\u001b[1;32m~\\anaconda3\\envs\\zillion_picks\\lib\\site-packages\\sklearn\\utils\\validation.py\u001b[0m in \u001b[0;36mcheck_array\u001b[1;34m(array, accept_sparse, accept_large_sparse, dtype, order, copy, force_all_finite, ensure_2d, allow_nd, ensure_min_samples, ensure_min_features, estimator)\u001b[0m\n\u001b[0;32m    648\u001b[0m         \u001b[0mn_samples\u001b[0m \u001b[1;33m=\u001b[0m \u001b[0m_num_samples\u001b[0m\u001b[1;33m(\u001b[0m\u001b[0marray\u001b[0m\u001b[1;33m)\u001b[0m\u001b[1;33m\u001b[0m\u001b[1;33m\u001b[0m\u001b[0m\n\u001b[0;32m    649\u001b[0m         \u001b[1;32mif\u001b[0m \u001b[0mn_samples\u001b[0m \u001b[1;33m<\u001b[0m \u001b[0mensure_min_samples\u001b[0m\u001b[1;33m:\u001b[0m\u001b[1;33m\u001b[0m\u001b[1;33m\u001b[0m\u001b[0m\n\u001b[1;32m--> 650\u001b[1;33m             raise ValueError(\"Found array with %d sample(s) (shape=%s) while a\"\n\u001b[0m\u001b[0;32m    651\u001b[0m                              \u001b[1;34m\" minimum of %d is required%s.\"\u001b[0m\u001b[1;33m\u001b[0m\u001b[1;33m\u001b[0m\u001b[0m\n\u001b[0;32m    652\u001b[0m                              % (n_samples, array.shape, ensure_min_samples,\n",
      "\u001b[1;31mValueError\u001b[0m: Found array with 0 sample(s) (shape=(0,)) while a minimum of 1 is required."
     ]
    }
   ],
   "source": [
    "# Use in production\n",
    "X_train = df[(df.start_date.dt.tz_convert('US/Central') < today_localize)]\n",
    "X_test = df[(df.start_date.dt.tz_convert('US/Central') >= today_localize)] \n",
    "\n",
    "# Use in development\n",
    "# X_train = df[(df['week'] < predict_week) | (df['season'] < predict_season)] \n",
    "# X_test = df[(df['week'] == predict_week) & (df['season'] == predict_season)] \n",
    "\n",
    "model_regressor = XGBRegressor(learning_rate=0.1, \n",
    "                                colsample_bytree=0.9,\n",
    "                                gamma=0.5,\n",
    "                                max_depth=2,\n",
    "                                min_child_weight=4,\n",
    "                                n_estimators=100,\n",
    "                                subsample=0.8)\n",
    "\n",
    "model_regressor.fit(\n",
    "    ct.fit_transform(\n",
    "        X_train.drop(drop_columns, axis=1)), \n",
    "        X_train['spread_target']\n",
    "        )\n",
    "\n",
    "X_train['predicted_spread'] = model_regressor.predict(ct.fit_transform(X_train.drop(drop_columns, axis=1)))\n",
    "X_test['predicted_spread'] = model_regressor.predict(ct.fit_transform(X_test.drop(drop_columns, axis=1)))\n",
    "\n",
    "# Clean Up\n",
    "X_train['predicted_spread'] = np.around(X_train['predicted_spread'] / .5, decimals=0) * .5\n",
    "X_test['predicted_spread'] = np.around(X_test['predicted_spread'] / .5, decimals=0) * .5\n",
    "\n",
    "X_train['regression_spread_pred'] = np.where(X_train['predicted_spread'] <= X_train['pre_game_spread'], 1, 0)\n",
    "X_test['regression_spread_pred'] = np.where(X_test['predicted_spread'] <= X_test['pre_game_spread'], 1, 0)\n",
    "\n",
    "X_train['spread_result'] = np.where(X_train['spread_target'] <= X_train['pre_game_spread'], 1, 0)\n",
    "X_test['spread_result'] = np.where(X_test['spread_target'] <= X_test['pre_game_spread'], 1, 0)\n",
    "\n",
    "model_classifier = XGBClassifier(base_score=0.5, booster='gbtree', colsample_bylevel=1,\n",
    "            colsample_bynode=1, colsample_bytree=0.8, gamma=5, gpu_id=-1,\n",
    "            importance_type='gain', interaction_constraints='',\n",
    "            learning_rate=0.1, max_delta_step=0, max_depth=5,\n",
    "            min_child_weight=10, monotone_constraints='()',\n",
    "            n_estimators=100, n_jobs=0, num_parallel_tree=1,\n",
    "            objective='binary:logistic', random_state=0, reg_alpha=0,\n",
    "            reg_lambda=1, scale_pos_weight=1, subsample=1.0,\n",
    "            tree_method='exact', validate_parameters=1, verbosity=None)\n",
    "\n",
    "# Update drop columns list for Classifier Model\n",
    "drop_columns.append('spread_result')\n",
    "# drop_columns.remove('pre_game_spread')   \n",
    "\n",
    "model_classifier.fit(ct.fit_transform(X_train.drop(drop_columns, axis=1)), X_train['spread_result'])\n",
    "\n",
    "X_train['classification_spread_pred'] = model_classifier.predict(ct.fit_transform(X_train.drop(drop_columns, axis=1)))\n",
    "X_test['classification_spread_pred'] = model_classifier.predict(ct.fit_transform(X_test.drop(drop_columns, axis=1)))\n",
    "\n",
    "# Add so the Predict Probability is Aligned\n",
    "drop_columns.append('classification_spread_pred')\n",
    "\n",
    "X_train['classification_confidence'] = np.max(model_classifier.predict_proba(ct.fit_transform(X_train.drop(drop_columns, axis=1))), axis=1)\n",
    "X_test['classification_confidence'] = np.max(model_classifier.predict_proba(ct.fit_transform(X_test.drop(drop_columns, axis=1))), axis=1)"
   ]
  },
  {
   "cell_type": "code",
   "execution_count": 68,
   "metadata": {},
   "outputs": [],
   "source": [
    "try:\n",
    "    predict_df = X_test[final_columns]\n",
    "    predict_df.head(10)\n",
    "    \n",
    "    no_predictions = False\n",
    "except:\n",
    "    no_predictions = True"
   ]
  },
  {
   "cell_type": "code",
   "execution_count": 69,
   "metadata": {},
   "outputs": [
    {
     "output_type": "execute_result",
     "data": {
      "text/plain": [
       "     game_id  season  week season_type      home_team    home_conference  \\\n",
       "0  401236006    2020     7     regular         Baylor             Big 12   \n",
       "1  401215313    2020     7     regular  South Alabama           Sun Belt   \n",
       "2  401234614    2020     7     regular          Miami                ACC   \n",
       "3  401212478    2020     7     regular         Temple  American Athletic   \n",
       "4  401237111    2020     7     regular      Tennessee                SEC   \n",
       "\n",
       "        away_team    away_conference  pre_game_spread  predicted_spread  \\\n",
       "0  Oklahoma State             Big 12              7.0               4.5   \n",
       "1     Texas State           Sun Belt             -3.5               3.5   \n",
       "2      Pittsburgh                ACC            -13.0             -10.0   \n",
       "3   South Florida  American Athletic            -13.0              -1.5   \n",
       "4        Kentucky                SEC             -6.5             -10.5   \n",
       "\n",
       "   regression_spread_pred  classification_spread_pred  \\\n",
       "0                       1                           1   \n",
       "1                       0                           1   \n",
       "2                       0                           1   \n",
       "3                       0                           0   \n",
       "4                       1                           0   \n",
       "\n",
       "   classification_confidence regression_spread_result  \\\n",
       "0                   0.710735                      NaN   \n",
       "1                   0.526900                     Lost   \n",
       "2                   0.549595                      Won   \n",
       "3                   0.722217                      Won   \n",
       "4                   0.510851                     Lost   \n",
       "\n",
       "  classification_spread_result  \n",
       "0                          NaN  \n",
       "1                          Won  \n",
       "2                         Lost  \n",
       "3                          Won  \n",
       "4                          Won  "
      ],
      "text/html": "<div>\n<style scoped>\n    .dataframe tbody tr th:only-of-type {\n        vertical-align: middle;\n    }\n\n    .dataframe tbody tr th {\n        vertical-align: top;\n    }\n\n    .dataframe thead th {\n        text-align: right;\n    }\n</style>\n<table border=\"1\" class=\"dataframe\">\n  <thead>\n    <tr style=\"text-align: right;\">\n      <th></th>\n      <th>game_id</th>\n      <th>season</th>\n      <th>week</th>\n      <th>season_type</th>\n      <th>home_team</th>\n      <th>home_conference</th>\n      <th>away_team</th>\n      <th>away_conference</th>\n      <th>pre_game_spread</th>\n      <th>predicted_spread</th>\n      <th>regression_spread_pred</th>\n      <th>classification_spread_pred</th>\n      <th>classification_confidence</th>\n      <th>regression_spread_result</th>\n      <th>classification_spread_result</th>\n    </tr>\n  </thead>\n  <tbody>\n    <tr>\n      <th>0</th>\n      <td>401236006</td>\n      <td>2020</td>\n      <td>7</td>\n      <td>regular</td>\n      <td>Baylor</td>\n      <td>Big 12</td>\n      <td>Oklahoma State</td>\n      <td>Big 12</td>\n      <td>7.0</td>\n      <td>4.5</td>\n      <td>1</td>\n      <td>1</td>\n      <td>0.710735</td>\n      <td>NaN</td>\n      <td>NaN</td>\n    </tr>\n    <tr>\n      <th>1</th>\n      <td>401215313</td>\n      <td>2020</td>\n      <td>7</td>\n      <td>regular</td>\n      <td>South Alabama</td>\n      <td>Sun Belt</td>\n      <td>Texas State</td>\n      <td>Sun Belt</td>\n      <td>-3.5</td>\n      <td>3.5</td>\n      <td>0</td>\n      <td>1</td>\n      <td>0.526900</td>\n      <td>Lost</td>\n      <td>Won</td>\n    </tr>\n    <tr>\n      <th>2</th>\n      <td>401234614</td>\n      <td>2020</td>\n      <td>7</td>\n      <td>regular</td>\n      <td>Miami</td>\n      <td>ACC</td>\n      <td>Pittsburgh</td>\n      <td>ACC</td>\n      <td>-13.0</td>\n      <td>-10.0</td>\n      <td>0</td>\n      <td>1</td>\n      <td>0.549595</td>\n      <td>Won</td>\n      <td>Lost</td>\n    </tr>\n    <tr>\n      <th>3</th>\n      <td>401212478</td>\n      <td>2020</td>\n      <td>7</td>\n      <td>regular</td>\n      <td>Temple</td>\n      <td>American Athletic</td>\n      <td>South Florida</td>\n      <td>American Athletic</td>\n      <td>-13.0</td>\n      <td>-1.5</td>\n      <td>0</td>\n      <td>0</td>\n      <td>0.722217</td>\n      <td>Won</td>\n      <td>Won</td>\n    </tr>\n    <tr>\n      <th>4</th>\n      <td>401237111</td>\n      <td>2020</td>\n      <td>7</td>\n      <td>regular</td>\n      <td>Tennessee</td>\n      <td>SEC</td>\n      <td>Kentucky</td>\n      <td>SEC</td>\n      <td>-6.5</td>\n      <td>-10.5</td>\n      <td>1</td>\n      <td>0</td>\n      <td>0.510851</td>\n      <td>Lost</td>\n      <td>Won</td>\n    </tr>\n  </tbody>\n</table>\n</div>"
     },
     "metadata": {},
     "execution_count": 69
    }
   ],
   "source": [
    "# Pull in games that have occurred within the current week to append to the predictions\n",
    "filepath = Path('../zillion_picks/picks/free')\n",
    "\n",
    "result_dfs = []\n",
    "\n",
    "for file in filepath.rglob('*.csv'):\n",
    "    result_df = pd.read_csv(file)\n",
    "\n",
    "\n",
    "    result_dfs.append(result_df)\n",
    "\n",
    "result_df = pd.concat(result_dfs)\n",
    "\n",
    "result_df = result_df[(result_df['week'] == predict_week) & (result_df['season'] == predict_season)]\n",
    "\n",
    "if no_predictions:\n",
    "    result_df = result_df.drop(['actual_spread', 'spread_result', 'start_date'], axis=1)\n",
    "\n",
    "else: \n",
    "\n",
    "    result_df = result_df[~result_df.game_id.isin(predict_df.game_id)]\n",
    "    result_df = result_df.drop(['actual_spread', 'spread_result', 'start_date'], axis=1)\n",
    "\n",
    "result_df.head()"
   ]
  },
  {
   "cell_type": "code",
   "execution_count": 70,
   "metadata": {},
   "outputs": [],
   "source": [
    "# Merge Predit and Result Dataframes\n",
    "try:\n",
    "    predict_df = pd.concat([result_df, predict_df])\n",
    "    print('ran try')\n",
    "except:\n",
    "    predict_df = result_df"
   ]
  },
  {
   "cell_type": "code",
   "execution_count": 71,
   "metadata": {},
   "outputs": [
    {
     "output_type": "execute_result",
     "data": {
      "text/plain": [
       "     game_id  season  week season_type      home_team    home_conference  \\\n",
       "0  401236006    2020     7     regular         Baylor             Big 12   \n",
       "1  401215313    2020     7     regular  South Alabama           Sun Belt   \n",
       "2  401234614    2020     7     regular          Miami                ACC   \n",
       "3  401212478    2020     7     regular         Temple  American Athletic   \n",
       "4  401237111    2020     7     regular      Tennessee                SEC   \n",
       "\n",
       "        away_team    away_conference  pre_game_spread  predicted_spread  \\\n",
       "0  Oklahoma State             Big 12              7.0               4.5   \n",
       "1     Texas State           Sun Belt             -3.5               3.5   \n",
       "2      Pittsburgh                ACC            -13.0             -10.0   \n",
       "3   South Florida  American Athletic            -13.0              -1.5   \n",
       "4        Kentucky                SEC             -6.5             -10.5   \n",
       "\n",
       "   regression_spread_pred  classification_spread_pred  \\\n",
       "0                       1                           1   \n",
       "1                       0                           1   \n",
       "2                       0                           1   \n",
       "3                       0                           0   \n",
       "4                       1                           0   \n",
       "\n",
       "   classification_confidence regression_spread_result  \\\n",
       "0                   0.710735                      NaN   \n",
       "1                   0.526900                     Lost   \n",
       "2                   0.549595                      Won   \n",
       "3                   0.722217                      Won   \n",
       "4                   0.510851                     Lost   \n",
       "\n",
       "  classification_spread_result  spread_target                start_date  \n",
       "0                          NaN            0.0 2020-10-17 04:00:00+00:00  \n",
       "1                          Won          -10.0 2020-10-17 16:00:00+00:00  \n",
       "2                         Lost          -12.0 2020-10-17 16:00:00+00:00  \n",
       "3                          Won           -2.0 2020-10-17 16:00:00+00:00  \n",
       "4                          Won           27.0 2020-10-17 16:00:00+00:00  "
      ],
      "text/html": "<div>\n<style scoped>\n    .dataframe tbody tr th:only-of-type {\n        vertical-align: middle;\n    }\n\n    .dataframe tbody tr th {\n        vertical-align: top;\n    }\n\n    .dataframe thead th {\n        text-align: right;\n    }\n</style>\n<table border=\"1\" class=\"dataframe\">\n  <thead>\n    <tr style=\"text-align: right;\">\n      <th></th>\n      <th>game_id</th>\n      <th>season</th>\n      <th>week</th>\n      <th>season_type</th>\n      <th>home_team</th>\n      <th>home_conference</th>\n      <th>away_team</th>\n      <th>away_conference</th>\n      <th>pre_game_spread</th>\n      <th>predicted_spread</th>\n      <th>regression_spread_pred</th>\n      <th>classification_spread_pred</th>\n      <th>classification_confidence</th>\n      <th>regression_spread_result</th>\n      <th>classification_spread_result</th>\n      <th>spread_target</th>\n      <th>start_date</th>\n    </tr>\n  </thead>\n  <tbody>\n    <tr>\n      <th>0</th>\n      <td>401236006</td>\n      <td>2020</td>\n      <td>7</td>\n      <td>regular</td>\n      <td>Baylor</td>\n      <td>Big 12</td>\n      <td>Oklahoma State</td>\n      <td>Big 12</td>\n      <td>7.0</td>\n      <td>4.5</td>\n      <td>1</td>\n      <td>1</td>\n      <td>0.710735</td>\n      <td>NaN</td>\n      <td>NaN</td>\n      <td>0.0</td>\n      <td>2020-10-17 04:00:00+00:00</td>\n    </tr>\n    <tr>\n      <th>1</th>\n      <td>401215313</td>\n      <td>2020</td>\n      <td>7</td>\n      <td>regular</td>\n      <td>South Alabama</td>\n      <td>Sun Belt</td>\n      <td>Texas State</td>\n      <td>Sun Belt</td>\n      <td>-3.5</td>\n      <td>3.5</td>\n      <td>0</td>\n      <td>1</td>\n      <td>0.526900</td>\n      <td>Lost</td>\n      <td>Won</td>\n      <td>-10.0</td>\n      <td>2020-10-17 16:00:00+00:00</td>\n    </tr>\n    <tr>\n      <th>2</th>\n      <td>401234614</td>\n      <td>2020</td>\n      <td>7</td>\n      <td>regular</td>\n      <td>Miami</td>\n      <td>ACC</td>\n      <td>Pittsburgh</td>\n      <td>ACC</td>\n      <td>-13.0</td>\n      <td>-10.0</td>\n      <td>0</td>\n      <td>1</td>\n      <td>0.549595</td>\n      <td>Won</td>\n      <td>Lost</td>\n      <td>-12.0</td>\n      <td>2020-10-17 16:00:00+00:00</td>\n    </tr>\n    <tr>\n      <th>3</th>\n      <td>401212478</td>\n      <td>2020</td>\n      <td>7</td>\n      <td>regular</td>\n      <td>Temple</td>\n      <td>American Athletic</td>\n      <td>South Florida</td>\n      <td>American Athletic</td>\n      <td>-13.0</td>\n      <td>-1.5</td>\n      <td>0</td>\n      <td>0</td>\n      <td>0.722217</td>\n      <td>Won</td>\n      <td>Won</td>\n      <td>-2.0</td>\n      <td>2020-10-17 16:00:00+00:00</td>\n    </tr>\n    <tr>\n      <th>4</th>\n      <td>401237111</td>\n      <td>2020</td>\n      <td>7</td>\n      <td>regular</td>\n      <td>Tennessee</td>\n      <td>SEC</td>\n      <td>Kentucky</td>\n      <td>SEC</td>\n      <td>-6.5</td>\n      <td>-10.5</td>\n      <td>1</td>\n      <td>0</td>\n      <td>0.510851</td>\n      <td>Lost</td>\n      <td>Won</td>\n      <td>27.0</td>\n      <td>2020-10-17 16:00:00+00:00</td>\n    </tr>\n  </tbody>\n</table>\n</div>"
     },
     "metadata": {},
     "execution_count": 71
    }
   ],
   "source": [
    "# Add spread target in case the game is complete\n",
    "predict_df = predict_df.merge(df[['game_id', 'spread_target', 'start_date']], on='game_id', how='left')\n",
    "predict_df.head()"
   ]
  },
  {
   "cell_type": "code",
   "execution_count": 72,
   "metadata": {},
   "outputs": [
    {
     "output_type": "execute_result",
     "data": {
      "text/plain": [
       "     game_id  season  week season_type      home_team    home_conference  \\\n",
       "0  401236006    2020     7     regular         Baylor             Big 12   \n",
       "1  401215313    2020     7     regular  South Alabama           Sun Belt   \n",
       "2  401234614    2020     7     regular          Miami                ACC   \n",
       "3  401212478    2020     7     regular         Temple  American Athletic   \n",
       "4  401237111    2020     7     regular      Tennessee                SEC   \n",
       "\n",
       "        away_team    away_conference  pre_game_spread  predicted_spread  \\\n",
       "0  Oklahoma State             Big 12              7.0               4.5   \n",
       "1     Texas State           Sun Belt             -3.5               3.5   \n",
       "2      Pittsburgh                ACC            -13.0             -10.0   \n",
       "3   South Florida  American Athletic            -13.0              -1.5   \n",
       "4        Kentucky                SEC             -6.5             -10.5   \n",
       "\n",
       "   regression_spread_pred  classification_spread_pred  \\\n",
       "0                       1                           1   \n",
       "1                       0                           1   \n",
       "2                       0                           1   \n",
       "3                       0                           0   \n",
       "4                       1                           0   \n",
       "\n",
       "   classification_confidence regression_spread_result  \\\n",
       "0                   0.710735                      NaN   \n",
       "1                   0.526900                     Lost   \n",
       "2                   0.549595                      Won   \n",
       "3                   0.722217                      Won   \n",
       "4                   0.510851                     Lost   \n",
       "\n",
       "  classification_spread_result  spread_target                start_date  \\\n",
       "0                          NaN            0.0 2020-10-17 04:00:00+00:00   \n",
       "1                          Won          -10.0 2020-10-17 16:00:00+00:00   \n",
       "2                         Lost          -12.0 2020-10-17 16:00:00+00:00   \n",
       "3                          Won           -2.0 2020-10-17 16:00:00+00:00   \n",
       "4                          Won           27.0 2020-10-17 16:00:00+00:00   \n",
       "\n",
       "   spread_result  \n",
       "0              1  \n",
       "1              1  \n",
       "2              0  \n",
       "3              0  \n",
       "4              0  "
      ],
      "text/html": "<div>\n<style scoped>\n    .dataframe tbody tr th:only-of-type {\n        vertical-align: middle;\n    }\n\n    .dataframe tbody tr th {\n        vertical-align: top;\n    }\n\n    .dataframe thead th {\n        text-align: right;\n    }\n</style>\n<table border=\"1\" class=\"dataframe\">\n  <thead>\n    <tr style=\"text-align: right;\">\n      <th></th>\n      <th>game_id</th>\n      <th>season</th>\n      <th>week</th>\n      <th>season_type</th>\n      <th>home_team</th>\n      <th>home_conference</th>\n      <th>away_team</th>\n      <th>away_conference</th>\n      <th>pre_game_spread</th>\n      <th>predicted_spread</th>\n      <th>regression_spread_pred</th>\n      <th>classification_spread_pred</th>\n      <th>classification_confidence</th>\n      <th>regression_spread_result</th>\n      <th>classification_spread_result</th>\n      <th>spread_target</th>\n      <th>start_date</th>\n      <th>spread_result</th>\n    </tr>\n  </thead>\n  <tbody>\n    <tr>\n      <th>0</th>\n      <td>401236006</td>\n      <td>2020</td>\n      <td>7</td>\n      <td>regular</td>\n      <td>Baylor</td>\n      <td>Big 12</td>\n      <td>Oklahoma State</td>\n      <td>Big 12</td>\n      <td>7.0</td>\n      <td>4.5</td>\n      <td>1</td>\n      <td>1</td>\n      <td>0.710735</td>\n      <td>NaN</td>\n      <td>NaN</td>\n      <td>0.0</td>\n      <td>2020-10-17 04:00:00+00:00</td>\n      <td>1</td>\n    </tr>\n    <tr>\n      <th>1</th>\n      <td>401215313</td>\n      <td>2020</td>\n      <td>7</td>\n      <td>regular</td>\n      <td>South Alabama</td>\n      <td>Sun Belt</td>\n      <td>Texas State</td>\n      <td>Sun Belt</td>\n      <td>-3.5</td>\n      <td>3.5</td>\n      <td>0</td>\n      <td>1</td>\n      <td>0.526900</td>\n      <td>Lost</td>\n      <td>Won</td>\n      <td>-10.0</td>\n      <td>2020-10-17 16:00:00+00:00</td>\n      <td>1</td>\n    </tr>\n    <tr>\n      <th>2</th>\n      <td>401234614</td>\n      <td>2020</td>\n      <td>7</td>\n      <td>regular</td>\n      <td>Miami</td>\n      <td>ACC</td>\n      <td>Pittsburgh</td>\n      <td>ACC</td>\n      <td>-13.0</td>\n      <td>-10.0</td>\n      <td>0</td>\n      <td>1</td>\n      <td>0.549595</td>\n      <td>Won</td>\n      <td>Lost</td>\n      <td>-12.0</td>\n      <td>2020-10-17 16:00:00+00:00</td>\n      <td>0</td>\n    </tr>\n    <tr>\n      <th>3</th>\n      <td>401212478</td>\n      <td>2020</td>\n      <td>7</td>\n      <td>regular</td>\n      <td>Temple</td>\n      <td>American Athletic</td>\n      <td>South Florida</td>\n      <td>American Athletic</td>\n      <td>-13.0</td>\n      <td>-1.5</td>\n      <td>0</td>\n      <td>0</td>\n      <td>0.722217</td>\n      <td>Won</td>\n      <td>Won</td>\n      <td>-2.0</td>\n      <td>2020-10-17 16:00:00+00:00</td>\n      <td>0</td>\n    </tr>\n    <tr>\n      <th>4</th>\n      <td>401237111</td>\n      <td>2020</td>\n      <td>7</td>\n      <td>regular</td>\n      <td>Tennessee</td>\n      <td>SEC</td>\n      <td>Kentucky</td>\n      <td>SEC</td>\n      <td>-6.5</td>\n      <td>-10.5</td>\n      <td>1</td>\n      <td>0</td>\n      <td>0.510851</td>\n      <td>Lost</td>\n      <td>Won</td>\n      <td>27.0</td>\n      <td>2020-10-17 16:00:00+00:00</td>\n      <td>0</td>\n    </tr>\n  </tbody>\n</table>\n</div>"
     },
     "metadata": {},
     "execution_count": 72
    }
   ],
   "source": [
    "predict_df['spread_result'] = np.where(predict_df['spread_target'] <= predict_df['pre_game_spread'], 1, 0)\n",
    "predict_df.head()"
   ]
  },
  {
   "cell_type": "code",
   "execution_count": 73,
   "metadata": {},
   "outputs": [
    {
     "output_type": "execute_result",
     "data": {
      "text/plain": [
       "     game_id  season  week season_type      home_team    home_conference  \\\n",
       "0  401236006    2020     7     regular         Baylor             Big 12   \n",
       "1  401215313    2020     7     regular  South Alabama           Sun Belt   \n",
       "2  401234614    2020     7     regular          Miami                ACC   \n",
       "3  401212478    2020     7     regular         Temple  American Athletic   \n",
       "4  401237111    2020     7     regular      Tennessee                SEC   \n",
       "\n",
       "        away_team    away_conference  pre_game_spread  predicted_spread  \\\n",
       "0  Oklahoma State             Big 12              7.0               4.5   \n",
       "1     Texas State           Sun Belt             -3.5               3.5   \n",
       "2      Pittsburgh                ACC            -13.0             -10.0   \n",
       "3   South Florida  American Athletic            -13.0              -1.5   \n",
       "4        Kentucky                SEC             -6.5             -10.5   \n",
       "\n",
       "   regression_spread_pred  classification_spread_pred  \\\n",
       "0                       1                           1   \n",
       "1                       0                           1   \n",
       "2                       0                           1   \n",
       "3                       0                           0   \n",
       "4                       1                           0   \n",
       "\n",
       "   classification_confidence regression_spread_result  \\\n",
       "0                   0.710735                      NaN   \n",
       "1                   0.526900                     Lost   \n",
       "2                   0.549595                      Won   \n",
       "3                   0.722217                      Won   \n",
       "4                   0.510851                     Lost   \n",
       "\n",
       "  classification_spread_result  actual_spread                start_date  \\\n",
       "0                          NaN            0.0 2020-10-17 04:00:00+00:00   \n",
       "1                          Won          -10.0 2020-10-17 16:00:00+00:00   \n",
       "2                         Lost          -12.0 2020-10-17 16:00:00+00:00   \n",
       "3                          Won           -2.0 2020-10-17 16:00:00+00:00   \n",
       "4                          Won           27.0 2020-10-17 16:00:00+00:00   \n",
       "\n",
       "   spread_result  \n",
       "0            NaN  \n",
       "1            1.0  \n",
       "2            0.0  \n",
       "3            0.0  \n",
       "4            0.0  "
      ],
      "text/html": "<div>\n<style scoped>\n    .dataframe tbody tr th:only-of-type {\n        vertical-align: middle;\n    }\n\n    .dataframe tbody tr th {\n        vertical-align: top;\n    }\n\n    .dataframe thead th {\n        text-align: right;\n    }\n</style>\n<table border=\"1\" class=\"dataframe\">\n  <thead>\n    <tr style=\"text-align: right;\">\n      <th></th>\n      <th>game_id</th>\n      <th>season</th>\n      <th>week</th>\n      <th>season_type</th>\n      <th>home_team</th>\n      <th>home_conference</th>\n      <th>away_team</th>\n      <th>away_conference</th>\n      <th>pre_game_spread</th>\n      <th>predicted_spread</th>\n      <th>regression_spread_pred</th>\n      <th>classification_spread_pred</th>\n      <th>classification_confidence</th>\n      <th>regression_spread_result</th>\n      <th>classification_spread_result</th>\n      <th>actual_spread</th>\n      <th>start_date</th>\n      <th>spread_result</th>\n    </tr>\n  </thead>\n  <tbody>\n    <tr>\n      <th>0</th>\n      <td>401236006</td>\n      <td>2020</td>\n      <td>7</td>\n      <td>regular</td>\n      <td>Baylor</td>\n      <td>Big 12</td>\n      <td>Oklahoma State</td>\n      <td>Big 12</td>\n      <td>7.0</td>\n      <td>4.5</td>\n      <td>1</td>\n      <td>1</td>\n      <td>0.710735</td>\n      <td>NaN</td>\n      <td>NaN</td>\n      <td>0.0</td>\n      <td>2020-10-17 04:00:00+00:00</td>\n      <td>NaN</td>\n    </tr>\n    <tr>\n      <th>1</th>\n      <td>401215313</td>\n      <td>2020</td>\n      <td>7</td>\n      <td>regular</td>\n      <td>South Alabama</td>\n      <td>Sun Belt</td>\n      <td>Texas State</td>\n      <td>Sun Belt</td>\n      <td>-3.5</td>\n      <td>3.5</td>\n      <td>0</td>\n      <td>1</td>\n      <td>0.526900</td>\n      <td>Lost</td>\n      <td>Won</td>\n      <td>-10.0</td>\n      <td>2020-10-17 16:00:00+00:00</td>\n      <td>1.0</td>\n    </tr>\n    <tr>\n      <th>2</th>\n      <td>401234614</td>\n      <td>2020</td>\n      <td>7</td>\n      <td>regular</td>\n      <td>Miami</td>\n      <td>ACC</td>\n      <td>Pittsburgh</td>\n      <td>ACC</td>\n      <td>-13.0</td>\n      <td>-10.0</td>\n      <td>0</td>\n      <td>1</td>\n      <td>0.549595</td>\n      <td>Won</td>\n      <td>Lost</td>\n      <td>-12.0</td>\n      <td>2020-10-17 16:00:00+00:00</td>\n      <td>0.0</td>\n    </tr>\n    <tr>\n      <th>3</th>\n      <td>401212478</td>\n      <td>2020</td>\n      <td>7</td>\n      <td>regular</td>\n      <td>Temple</td>\n      <td>American Athletic</td>\n      <td>South Florida</td>\n      <td>American Athletic</td>\n      <td>-13.0</td>\n      <td>-1.5</td>\n      <td>0</td>\n      <td>0</td>\n      <td>0.722217</td>\n      <td>Won</td>\n      <td>Won</td>\n      <td>-2.0</td>\n      <td>2020-10-17 16:00:00+00:00</td>\n      <td>0.0</td>\n    </tr>\n    <tr>\n      <th>4</th>\n      <td>401237111</td>\n      <td>2020</td>\n      <td>7</td>\n      <td>regular</td>\n      <td>Tennessee</td>\n      <td>SEC</td>\n      <td>Kentucky</td>\n      <td>SEC</td>\n      <td>-6.5</td>\n      <td>-10.5</td>\n      <td>1</td>\n      <td>0</td>\n      <td>0.510851</td>\n      <td>Lost</td>\n      <td>Won</td>\n      <td>27.0</td>\n      <td>2020-10-17 16:00:00+00:00</td>\n      <td>0.0</td>\n    </tr>\n  </tbody>\n</table>\n</div>"
     },
     "metadata": {},
     "execution_count": 73
    }
   ],
   "source": [
    "# Spread Result Calculation\n",
    "predict_df['regression_spread_result'] = np.where(predict_df['spread_result'] == predict_df['regression_spread_pred'], 'Won', 'Lost')\n",
    "predict_df['regression_spread_result'] = np.where(predict_df['spread_target'] == predict_df['pre_game_spread'], 'Push', predict_df['regression_spread_result'])\n",
    "\n",
    "predict_df['classification_spread_result'] = np.where(predict_df['spread_result'] == predict_df['classification_spread_pred'], 'Won', 'Lost')\n",
    "predict_df['classification_spread_result'] = np.where(predict_df['spread_target'] == predict_df['pre_game_spread'], 'Push', predict_df['classification_spread_result'])\n",
    "\n",
    "# Remove Results from Games that haven't been played\n",
    "predict_df[['regression_spread_result', 'classification_spread_result', 'spread_result']] = predict_df[['regression_spread_result', 'classification_spread_result', 'spread_result']].where(predict_df.spread_target.ne(0), np.nan)\n",
    "\n",
    "# Rename Column\n",
    "predict_df = predict_df.rename(columns={'spread_target':'actual_spread'})\n",
    "predict_df['week'] = predict_df['week'].mode()[0]\n",
    "\n",
    "predict_df.head()"
   ]
  },
  {
   "cell_type": "code",
   "execution_count": 74,
   "metadata": {},
   "outputs": [
    {
     "output_type": "execute_result",
     "data": {
      "text/plain": [
       "     game_id  season  week season_type       home_team    home_conference  \\\n",
       "1  401215313    2020     7     regular   South Alabama           Sun Belt   \n",
       "2  401234614    2020     7     regular           Miami                ACC   \n",
       "3  401212478    2020     7     regular          Temple  American Athletic   \n",
       "4  401237111    2020     7     regular       Tennessee                SEC   \n",
       "5  401237109    2020     7     regular  South Carolina                SEC   \n",
       "\n",
       "       away_team    away_conference  pre_game_spread  predicted_spread  \\\n",
       "1    Texas State           Sun Belt             -3.5               3.5   \n",
       "2     Pittsburgh                ACC            -13.0             -10.0   \n",
       "3  South Florida  American Athletic            -13.0              -1.5   \n",
       "4       Kentucky                SEC             -6.5             -10.5   \n",
       "5         Auburn                SEC              3.0               5.0   \n",
       "\n",
       "   regression_spread_pred  classification_spread_pred  \\\n",
       "1                       0                           1   \n",
       "2                       0                           1   \n",
       "3                       0                           0   \n",
       "4                       1                           0   \n",
       "5                       0                           1   \n",
       "\n",
       "   classification_confidence regression_spread_result  \\\n",
       "1                   0.526900                     Lost   \n",
       "2                   0.549595                      Won   \n",
       "3                   0.722217                      Won   \n",
       "4                   0.510851                     Lost   \n",
       "5                   0.707988                     Lost   \n",
       "\n",
       "  classification_spread_result  actual_spread                start_date  \\\n",
       "1                          Won          -10.0 2020-10-17 16:00:00+00:00   \n",
       "2                         Lost          -12.0 2020-10-17 16:00:00+00:00   \n",
       "3                          Won           -2.0 2020-10-17 16:00:00+00:00   \n",
       "4                          Won           27.0 2020-10-17 16:00:00+00:00   \n",
       "5                          Won           -8.0 2020-10-17 16:00:00+00:00   \n",
       "\n",
       "   spread_result  \n",
       "1            1.0  \n",
       "2            0.0  \n",
       "3            0.0  \n",
       "4            0.0  \n",
       "5            1.0  "
      ],
      "text/html": "<div>\n<style scoped>\n    .dataframe tbody tr th:only-of-type {\n        vertical-align: middle;\n    }\n\n    .dataframe tbody tr th {\n        vertical-align: top;\n    }\n\n    .dataframe thead th {\n        text-align: right;\n    }\n</style>\n<table border=\"1\" class=\"dataframe\">\n  <thead>\n    <tr style=\"text-align: right;\">\n      <th></th>\n      <th>game_id</th>\n      <th>season</th>\n      <th>week</th>\n      <th>season_type</th>\n      <th>home_team</th>\n      <th>home_conference</th>\n      <th>away_team</th>\n      <th>away_conference</th>\n      <th>pre_game_spread</th>\n      <th>predicted_spread</th>\n      <th>regression_spread_pred</th>\n      <th>classification_spread_pred</th>\n      <th>classification_confidence</th>\n      <th>regression_spread_result</th>\n      <th>classification_spread_result</th>\n      <th>actual_spread</th>\n      <th>start_date</th>\n      <th>spread_result</th>\n    </tr>\n  </thead>\n  <tbody>\n    <tr>\n      <th>1</th>\n      <td>401215313</td>\n      <td>2020</td>\n      <td>7</td>\n      <td>regular</td>\n      <td>South Alabama</td>\n      <td>Sun Belt</td>\n      <td>Texas State</td>\n      <td>Sun Belt</td>\n      <td>-3.5</td>\n      <td>3.5</td>\n      <td>0</td>\n      <td>1</td>\n      <td>0.526900</td>\n      <td>Lost</td>\n      <td>Won</td>\n      <td>-10.0</td>\n      <td>2020-10-17 16:00:00+00:00</td>\n      <td>1.0</td>\n    </tr>\n    <tr>\n      <th>2</th>\n      <td>401234614</td>\n      <td>2020</td>\n      <td>7</td>\n      <td>regular</td>\n      <td>Miami</td>\n      <td>ACC</td>\n      <td>Pittsburgh</td>\n      <td>ACC</td>\n      <td>-13.0</td>\n      <td>-10.0</td>\n      <td>0</td>\n      <td>1</td>\n      <td>0.549595</td>\n      <td>Won</td>\n      <td>Lost</td>\n      <td>-12.0</td>\n      <td>2020-10-17 16:00:00+00:00</td>\n      <td>0.0</td>\n    </tr>\n    <tr>\n      <th>3</th>\n      <td>401212478</td>\n      <td>2020</td>\n      <td>7</td>\n      <td>regular</td>\n      <td>Temple</td>\n      <td>American Athletic</td>\n      <td>South Florida</td>\n      <td>American Athletic</td>\n      <td>-13.0</td>\n      <td>-1.5</td>\n      <td>0</td>\n      <td>0</td>\n      <td>0.722217</td>\n      <td>Won</td>\n      <td>Won</td>\n      <td>-2.0</td>\n      <td>2020-10-17 16:00:00+00:00</td>\n      <td>0.0</td>\n    </tr>\n    <tr>\n      <th>4</th>\n      <td>401237111</td>\n      <td>2020</td>\n      <td>7</td>\n      <td>regular</td>\n      <td>Tennessee</td>\n      <td>SEC</td>\n      <td>Kentucky</td>\n      <td>SEC</td>\n      <td>-6.5</td>\n      <td>-10.5</td>\n      <td>1</td>\n      <td>0</td>\n      <td>0.510851</td>\n      <td>Lost</td>\n      <td>Won</td>\n      <td>27.0</td>\n      <td>2020-10-17 16:00:00+00:00</td>\n      <td>0.0</td>\n    </tr>\n    <tr>\n      <th>5</th>\n      <td>401237109</td>\n      <td>2020</td>\n      <td>7</td>\n      <td>regular</td>\n      <td>South Carolina</td>\n      <td>SEC</td>\n      <td>Auburn</td>\n      <td>SEC</td>\n      <td>3.0</td>\n      <td>5.0</td>\n      <td>0</td>\n      <td>1</td>\n      <td>0.707988</td>\n      <td>Lost</td>\n      <td>Won</td>\n      <td>-8.0</td>\n      <td>2020-10-17 16:00:00+00:00</td>\n      <td>1.0</td>\n    </tr>\n  </tbody>\n</table>\n</div>"
     },
     "metadata": {},
     "execution_count": 74
    }
   ],
   "source": [
    "if no_predictions:\n",
    "    predict_df = predict_df.dropna(subset=['regression_spread_result'])\n",
    "else:\n",
    "    pass\n",
    "predict_df.head()"
   ]
  },
  {
   "cell_type": "code",
   "execution_count": 75,
   "metadata": {},
   "outputs": [],
   "source": [
    "# Export\n",
    "filepath = Path('../zillion_picks/picks')\n",
    "\n",
    "for key, group in predict_df.groupby(['season', 'week', 'season_type']):\n",
    "    if group.season_type.unique() == 'postseason':\n",
    "        group.to_csv(filepath/f'premium/{key[0]}_postseason.csv', index=False)\n",
    "    else:\n",
    "        group.to_csv(filepath/f'premium/{key[0]}_{str(key[1]).rjust(2, \"0\")}.csv', index=False)"
   ]
  },
  {
   "cell_type": "code",
   "execution_count": null,
   "metadata": {},
   "outputs": [],
   "source": []
  },
  {
   "cell_type": "code",
   "execution_count": null,
   "metadata": {},
   "outputs": [],
   "source": []
  },
  {
   "cell_type": "code",
   "execution_count": 2,
   "metadata": {
    "tags": []
   },
   "outputs": [
    {
     "output_type": "stream",
     "name": "stdout",
     "text": "2019 Week 1 Regression Accuracy: 53.01%\n2019 Week 1 Classification Accuracy: 53.01%\n--------------\n2019 Week 2 Regression Accuracy: 54.79%\n2019 Week 2 Classification Accuracy: 53.42%\n--------------\n2019 Week 3 Regression Accuracy: 43.28%\n2019 Week 3 Classification Accuracy: 55.22%\n--------------\n2019 Week 4 Regression Accuracy: 44.83%\n2019 Week 4 Classification Accuracy: 55.17%\n--------------\n2019 Week 5 Regression Accuracy: 61.82%\n2019 Week 5 Classification Accuracy: 47.27%\n--------------\n2019 Week 6 Regression Accuracy: 55.32%\n2019 Week 6 Classification Accuracy: 59.57%\n--------------\n2019 Week 7 Regression Accuracy: 45.28%\n2019 Week 7 Classification Accuracy: 52.83%\n--------------\n2019 Week 8 Regression Accuracy: 49.18%\n2019 Week 8 Classification Accuracy: 45.9%\n--------------\n2019 Week 9 Regression Accuracy: 50.91%\n2019 Week 9 Classification Accuracy: 47.27%\n--------------\n2019 Week 10 Regression Accuracy: 52.08%\n2019 Week 10 Classification Accuracy: 60.42%\n--------------\n2019 Week 11 Regression Accuracy: 37.5%\n2019 Week 11 Classification Accuracy: 50.0%\n--------------\n2019 Week 12 Regression Accuracy: 47.17%\n2019 Week 12 Classification Accuracy: 60.38%\n--------------\n2019 Week 13 Regression Accuracy: 52.38%\n2019 Week 13 Classification Accuracy: 41.27%\n--------------\n2019 Week 14 Regression Accuracy: 48.44%\n2019 Week 14 Classification Accuracy: 50.0%\n--------------\n2019 Week 15 Regression Accuracy: 54.55%\n2019 Week 15 Classification Accuracy: 54.55%\n--------------\n2019 Week 16 Regression Accuracy: 47.5%\n2019 Week 16 Classification Accuracy: 40.0%\n--------------\n"
    }
   ],
   "source": [
    "# REGRESSION AND CLASSIFIER MODEL FOR BACK TESTING\n",
    "\n",
    "# Load\n",
    "predict_season = 2019\n",
    "\n",
    "final_columns = ['game_id', 'season', 'week', 'season_type', 'home_team',\n",
    "                'home_conference', 'away_team', 'away_conference',  'pre_game_spread',\n",
    "                'predicted_spread', 'regression_spread_pred', 'classification_spread_pred', 'classification_confidence']\n",
    "\n",
    "for predict_week in range(1,17):\n",
    "\n",
    "    df = dataset(predict_season=predict_season, predict_week=predict_week, window_size=4, update_data=False)\n",
    "\n",
    "    # Prep Dataset\n",
    "    df[df.columns[df.columns.str.contains('home|Home')]] = df[df.columns[df.columns.str.contains(\n",
    "        'home|Home')]].groupby('home_team', as_index=False, group_keys=False).apply(lambda x: x.fillna(x.mean()))\n",
    "\n",
    "    df[df.columns[df.columns.str.contains('away|Away')]] = df[df.columns[df.columns.str.contains(\n",
    "        'away|Away')]].groupby('away_team', as_index=False, group_keys=False).apply(lambda x: x.fillna(x.mean()))\n",
    "\n",
    "    df = df.dropna(axis=1, thresh=int(len(df) * .9))\n",
    "    df = df.fillna(0)\n",
    "    df[df.select_dtypes('bool').columns] = df.select_dtypes('bool').astype('int')\n",
    "\n",
    "    # Model\n",
    "    ct = make_column_transformer(\n",
    "        (OrdinalEncoder(), ['season_type', 'home_conference', 'away_conference']),\n",
    "        remainder='passthrough'\n",
    "    )\n",
    "\n",
    "    drop_columns =  ['game_id', 'season', 'venue', 'start_date', 'home_team', 'away_team', \n",
    "                    'start_date', 'spread_target', 'pre_game_spread', 'pre_game_home_win_prob', 'pre_game_away_win_prob']\n",
    "                    \n",
    "\n",
    "    # Use in production\n",
    "    # X_train = df[(df.start_date.dt.tz_convert('US/Central') < today_localize)]\n",
    "    # X_test = df[(df.start_date.dt.tz_convert('US/Central') >= today_localize)] \n",
    "\n",
    "    # Use in development\n",
    "    X_train = df[(df['week'] < predict_week) | (df['season'] < predict_season)] \n",
    "    X_test = df[(df['week'] == predict_week) & (df['season'] == predict_season)] \n",
    "\n",
    "    model_regressor = XGBRegressor(learning_rate=0.1, \n",
    "                                    colsample_bytree=0.9,\n",
    "                                    gamma=0.5,\n",
    "                                    max_depth=2,\n",
    "                                    min_child_weight=4,\n",
    "                                    n_estimators=100,\n",
    "                                    subsample=0.8)\n",
    "\n",
    "    model_regressor.fit(ct.fit_transform(X_train.drop(drop_columns, axis=1)), X_train['spread_target'])\n",
    "    \n",
    "    # Use this for later to determine feature importance\n",
    "    model_regressor_cols = X_train.drop(drop_columns, axis=1).columns\n",
    "\n",
    "    X_train['predicted_spread'] = model_regressor.predict(ct.fit_transform(X_train.drop(drop_columns, axis=1)))\n",
    "    X_test['predicted_spread'] = model_regressor.predict(ct.fit_transform(X_test.drop(drop_columns, axis=1)))\n",
    "\n",
    "    # Clean Up\n",
    "    X_train['predicted_spread'] = np.around(X_train['predicted_spread'] / .5, decimals=0) * .5\n",
    "    X_test['predicted_spread'] = np.around(X_test['predicted_spread'] / .5, decimals=0) * .5\n",
    "\n",
    "    X_train['regression_spread_pred'] = np.where(X_train['predicted_spread'] <= X_train['pre_game_spread'], 1, 0)\n",
    "    X_test['regression_spread_pred'] = np.where(X_test['predicted_spread'] <= X_test['pre_game_spread'], 1, 0)\n",
    "\n",
    "    X_train['spread_result'] = np.where(X_train['spread_target'] <= X_train['pre_game_spread'], 1, 0)\n",
    "    X_test['spread_result'] = np.where(X_test['spread_target'] <= X_test['pre_game_spread'], 1, 0)\n",
    "\n",
    "    model_classifier = XGBClassifier(base_score=0.5, booster='gbtree', colsample_bylevel=1,\n",
    "                                    colsample_bynode=1, colsample_bytree=0.8, gamma=5, gpu_id=-1,\n",
    "                                    importance_type='gain', interaction_constraints='',\n",
    "                                    learning_rate=0.1, max_delta_step=0, max_depth=5,\n",
    "                                    min_child_weight=10, monotone_constraints='()',\n",
    "                                    n_estimators=100, n_jobs=0, num_parallel_tree=1,\n",
    "                                    objective='binary:logistic', random_state=0, reg_alpha=0,\n",
    "                                    reg_lambda=1, scale_pos_weight=1, subsample=1.0,\n",
    "                                    tree_method='exact', validate_parameters=1, verbosity=None)\n",
    "\n",
    "    # Update drop columns list for Classifier Model\n",
    "    drop_columns.append('spread_result')\n",
    "    \n",
    "    # for col in ['pre_game_spread', 'pre_game_home_win_prob', 'pre_game_away_win_prob']:\n",
    "    #     drop_columns.remove(col)   \n",
    "\n",
    "    model_classifier.fit(ct.fit_transform(X_train.drop(drop_columns, axis=1)), X_train['spread_result'])\n",
    "    \n",
    "    # Use this for later to determine feature importance\n",
    "    model_classifier_cols = X_train.drop(drop_columns, axis=1).columns\n",
    "\n",
    "    X_train['classification_spread_pred'] = model_classifier.predict(ct.fit_transform(X_train.drop(drop_columns, axis=1)))\n",
    "    X_test['classification_spread_pred'] = model_classifier.predict(ct.fit_transform(X_test.drop(drop_columns, axis=1)))\n",
    "\n",
    "    # Add so the Predict Probability is Aligned\n",
    "    drop_columns.append('classification_spread_pred')\n",
    "\n",
    "    X_train['classification_confidence'] = model_classifier.predict_proba(ct.fit_transform(X_train.drop(drop_columns, axis=1)))[:,0]\n",
    "    X_test['classification_confidence'] =  np.max(model_classifier.predict_proba(ct.fit_transform(X_test.drop(drop_columns, axis=1))), axis=1)\n",
    "\n",
    "    predict_df = X_test[final_columns]\n",
    "\n",
    "    predict_df = predict_df.merge(df[['game_id', 'spread_target', 'start_date']], on='game_id', how='left')\n",
    "    predict_df['spread_result'] = np.where(predict_df['spread_target'] <= predict_df['pre_game_spread'], 1, 0)\n",
    "\n",
    "    predict_df['regression_spread_result'] = np.where(predict_df['spread_result'] == predict_df['regression_spread_pred'], 'Won', 'Lost')\n",
    "    predict_df['regression_spread_result'] = np.where(predict_df['spread_target'] == predict_df['pre_game_spread'], 'Push', predict_df['regression_spread_result'])\n",
    "\n",
    "    predict_df['classification_spread_result'] = np.where(predict_df['spread_result'] == predict_df['classification_spread_pred'], 'Won', 'Lost')\n",
    "    predict_df['classification_spread_result'] = np.where(predict_df['spread_target'] == predict_df['pre_game_spread'], 'Push', predict_df['classification_spread_result'])\n",
    "\n",
    "    # Remove Results from Games that haven't been played\n",
    "    predict_df[['regression_spread_result', 'classification_spread_result', 'spread_result']] = predict_df[['regression_spread_result', 'classification_spread_result', 'spread_result']].where(predict_df.spread_target.ne(0), np.nan)\n",
    "\n",
    "    # Rename Column\n",
    "    predict_df = predict_df.rename(columns={'spread_target':'actual_spread'})\n",
    "    predict_df['week'] = predict_df['week'].mode()[0]\n",
    "\n",
    "    # Export\n",
    "    filepath = Path('../zillion_picks/picks')\n",
    "\n",
    "    for key, group in predict_df.groupby(['season', 'week', 'season_type']):\n",
    "        if group.season_type.unique() == 'postseason':\n",
    "            group.to_csv(filepath/f'premium/{key[0]}_postseason.csv', index=False)\n",
    "        else:\n",
    "            group.to_csv(filepath/f'premium/{key[0]}_{str(key[1]).rjust(2, \"0\")}.csv', index=False)\n",
    "\n",
    "    print(f\"{predict_season} Week {predict_week} Regression Accuracy: {round(accuracy_score(X_test['spread_result'], X_test['regression_spread_pred']) * 100,2)}%\" )\n",
    "    print(f\"{predict_season} Week {predict_week} Classification Accuracy: {round(accuracy_score(X_test['spread_result'], X_test['classification_spread_pred']) * 100,2)}%\" )\n",
    "    print('--------------')\n",
    "\n"
   ]
  },
  {
   "cell_type": "code",
   "execution_count": 3,
   "metadata": {
    "tags": []
   },
   "outputs": [
    {
     "output_type": "stream",
     "name": "stdout",
     "text": "pointsAway                         0.060463\naway_points                        0.042084\nrankHome                           0.030395\naverageStars_All PositionsHome     0.029661\noffense_successRateHome            0.028046\noffense_totalPPAAway               0.026664\ntalentHome                         0.026290\nhome_conference                    0.025569\naverageRating_All PositionsHome    0.024366\noffense_successRateAway            0.023262\ndtype: float32\n---------------------------------------\nregression_spread_pred                  0.008598\noffense_lineYardsHome                   0.005699\nsacksHome                               0.005600\ntacklesForLossHome                      0.005529\nseason_type                             0.005423\nyear WRHome                             0.005348\naverageRating_QuarterbackHome           0.005269\ndefensiveTDsHome                        0.005211\naway_points                             0.005042\noffense_passingPlays_successRateHome    0.004976\ndtype: float32\n"
    }
   ],
   "source": [
    "# Test Feature Importance\n",
    "\n",
    "regression_important_features = pd.Series(data=model_regressor.feature_importances_, index=model_regressor_cols).sort_values(ascending=False)\n",
    "classification_important_features = pd.Series(data=model_classifier.feature_importances_, index=model_classifier_cols).sort_values(ascending=False)\n",
    "\n",
    "print(regression_important_features.head(10))\n",
    "print('---------------------------------------')\n",
    "print(classification_important_features.head(10))\n"
   ]
  },
  {
   "cell_type": "code",
   "execution_count": 9,
   "metadata": {
    "tags": []
   },
   "outputs": [
    {
     "output_type": "stream",
     "name": "stdout",
     "text": "2019 Week 16 Classification Accuracy: 92.34%\n"
    }
   ],
   "source": [
    "    print(f\"{predict_season} Week {predict_week} Classification Accuracy: {round(accuracy_score(X_train['spread_result'], X_train['classification_spread_pred']) * 100,2)}%\" )"
   ]
  },
  {
   "cell_type": "code",
   "execution_count": 4,
   "metadata": {
    "tags": []
   },
   "outputs": [
    {
     "output_type": "stream",
     "name": "stdout",
     "text": "0.5353901996370236\n"
    }
   ],
   "source": [
    "#################### WORK ON THIS ###############################\n",
    "\n",
    "# CHECK CONFIDENCE TO SEE IF THERE IS A WIN ADVANTAGE\n",
    "dfs=[]\n",
    "\n",
    "for file in (filepath/'free').rglob('*'):\n",
    "    df = pd.read_csv(file)\n",
    "    dfs.append(df)\n",
    "\n",
    "df = pd.concat(dfs)\n",
    "df.head()\n",
    "\n",
    "\n",
    "df = df[df['regression_spread_pred'] == df['classification_spread_pred']]\n",
    "\n",
    "df['bin'] = pd.cut(df.classification_confidence, [0,.20,.30,.40,.50,.55,.60,.65,.70,.80,1])\n",
    "df.groupby('bin')['regression_spread_result'].agg(win=(lambda df: df.eq('Won').sum() / (df.ne('Push').sum() - df.isnull().sum())), count=( 'count'))\n",
    "\n",
    "print(sum(df['classification_spread_result'].eq('Won')) / (sum(df['classification_spread_result'].ne('Push')) - sum(df['classification_spread_result'].isnull())))"
   ]
  },
  {
   "cell_type": "code",
   "execution_count": null,
   "metadata": {},
   "outputs": [],
   "source": [
    "            df = pd.read_json(\n",
    "                f'https://api.collegefootballdata.com/roster?team={urllib.parse.quote(team)}&year={season}')"
   ]
  },
  {
   "cell_type": "code",
   "execution_count": null,
   "metadata": {},
   "outputs": [],
   "source": []
  },
  {
   "cell_type": "code",
   "execution_count": null,
   "metadata": {},
   "outputs": [],
   "source": []
  },
  {
   "cell_type": "code",
   "execution_count": null,
   "metadata": {},
   "outputs": [],
   "source": []
  },
  {
   "cell_type": "code",
   "execution_count": null,
   "metadata": {},
   "outputs": [],
   "source": []
  }
 ],
 "metadata": {
  "language_info": {
   "name": "python",
   "codemirror_mode": {
    "name": "ipython",
    "version": 3
   },
   "version": "3.8.5-final"
  },
  "orig_nbformat": 2,
  "file_extension": ".py",
  "mimetype": "text/x-python",
  "name": "python",
  "npconvert_exporter": "python",
  "pygments_lexer": "ipython3",
  "version": 3,
  "kernelspec": {
   "name": "Python 3.8.5 64-bit ('zillion_picks': conda)",
   "display_name": "Python 3.8.5 64-bit ('zillion_picks': conda)",
   "metadata": {
    "interpreter": {
     "hash": "256fd5123dc8e59516eee9d21b9c90667fe410b4aea7ba3cd63acfd5f8147011"
    }
   }
  }
 },
 "nbformat": 4,
 "nbformat_minor": 2
}