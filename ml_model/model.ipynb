{
 "cells": [
  {
   "cell_type": "code",
   "execution_count": 1,
   "metadata": {},
   "outputs": [],
   "source": [
    "import pandas as pd\n",
    "import numpy as np\n",
    "from pathlib import Path\n",
    "from sklearn.preprocessing import OrdinalEncoder\n",
    "from sklearn.compose import make_column_transformer\n",
    "from sklearn.model_selection import TimeSeriesSplit, GridSearchCV\n",
    "from sklearn.metrics import mean_squared_error, accuracy_score\n",
    "from xgboost import XGBRegressor, XGBClassifier\n",
    "from load import dataset"
   ]
  },
  {
   "cell_type": "code",
   "execution_count": null,
   "metadata": {},
   "outputs": [],
   "source": [
    "# TODO\n",
    "#"
   ]
  },
  {
   "cell_type": "code",
   "execution_count": 59,
   "metadata": {},
   "outputs": [],
   "source": [
    "# Load\n",
    "df = dataset(predict_season=2020, predict_week=1, window_size=4, update_data=True, update_seasons=[pd.to_datetime('today').year])"
   ]
  },
  {
   "cell_type": "code",
   "execution_count": 60,
   "metadata": {},
   "outputs": [],
   "source": [
    "# Clean Up\n",
    "df[df.columns[df.columns.str.contains('home|Home')]] = df[df.columns[df.columns.str.contains(\n",
    "    'home|Home')]].groupby('home_team', as_index=False, group_keys=False).apply(lambda x: x.fillna(x.mean()))\n",
    "\n",
    "df[df.columns[df.columns.str.contains('away|Away')]] = df[df.columns[df.columns.str.contains(\n",
    "    'away|Away')]].groupby('away_team', as_index=False, group_keys=False).apply(lambda x: x.fillna(x.mean()))\n",
    "\n",
    "df = df.dropna(axis=1, thresh=int(len(df) * .9))\n",
    "\n",
    "df = df.fillna(0)\n",
    "\n",
    "df[df.select_dtypes('bool').columns] = df.select_dtypes('bool').astype('int')"
   ]
  },
  {
   "cell_type": "code",
   "execution_count": 61,
   "metadata": {},
   "outputs": [
    {
     "output_type": "execute_result",
     "data": {
      "text/plain": "      game_id  season  week season_type       home_team    home_conference  \\\n0   401206213    2020     1     regular         Arizona             Pac-12   \n1   401207204    2020     1     regular            Navy  American Athletic   \n2   401207805    2020     1     regular    Georgia Tech                ACC   \n3   401206217    2020     1     regular            Utah             Pac-12   \n4   401207807    2020     1     regular  Boston College                ACC   \n5   401207808    2020     1     regular             UCF  American Athletic   \n6   401206985    2020     1     regular       Wisconsin            Big Ten   \n7   401205855    2020     1     regular          Baylor             Big 12   \n8   401206225    2020     1     regular      Washington             Pac-12   \n9   401206958    2020     1     regular   West Virginia             Big 12   \n10  401205729    2020     1     regular             USC             Pac-12   \n11  401205862    2020     1     regular        Virginia                ACC   \n\n         away_team   away_conference  pre_game_spread  predicted_spread  \\\n0          Hawai'i     Mountain West            -10.5             -22.0   \n1       Notre Dame  FBS Independents             16.5              13.5   \n2          Clemson               ACC             26.0              33.5   \n3              BYU  FBS Independents             -6.5             -16.5   \n4         Syracuse               ACC              0.0              -6.0   \n5   North Carolina               ACC             -3.0              -6.0   \n6          Indiana           Big Ten            -12.5             -15.5   \n7         Ole Miss               SEC             -1.0              -1.5   \n8         Michigan           Big Ten              1.5               2.5   \n9    Florida State               ACC              6.5              21.0   \n10         Alabama               SEC             14.0              33.5   \n11         Georgia               SEC             18.0              32.0   \n\n       spread_pick   straight_pick  \n0          Arizona         Arizona  \n1             Navy      Notre Dame  \n2          Clemson         Clemson  \n3             Utah            Utah  \n4   Boston College  Boston College  \n5              UCF             UCF  \n6        Wisconsin       Wisconsin  \n7           Baylor          Baylor  \n8         Michigan        Michigan  \n9    Florida State   Florida State  \n10         Alabama         Alabama  \n11         Georgia         Georgia  ",
      "text/html": "<div>\n<style scoped>\n    .dataframe tbody tr th:only-of-type {\n        vertical-align: middle;\n    }\n\n    .dataframe tbody tr th {\n        vertical-align: top;\n    }\n\n    .dataframe thead th {\n        text-align: right;\n    }\n</style>\n<table border=\"1\" class=\"dataframe\">\n  <thead>\n    <tr style=\"text-align: right;\">\n      <th></th>\n      <th>game_id</th>\n      <th>season</th>\n      <th>week</th>\n      <th>season_type</th>\n      <th>home_team</th>\n      <th>home_conference</th>\n      <th>away_team</th>\n      <th>away_conference</th>\n      <th>pre_game_spread</th>\n      <th>predicted_spread</th>\n      <th>spread_pick</th>\n      <th>straight_pick</th>\n    </tr>\n  </thead>\n  <tbody>\n    <tr>\n      <th>0</th>\n      <td>401206213</td>\n      <td>2020</td>\n      <td>1</td>\n      <td>regular</td>\n      <td>Arizona</td>\n      <td>Pac-12</td>\n      <td>Hawai'i</td>\n      <td>Mountain West</td>\n      <td>-10.5</td>\n      <td>-22.0</td>\n      <td>Arizona</td>\n      <td>Arizona</td>\n    </tr>\n    <tr>\n      <th>1</th>\n      <td>401207204</td>\n      <td>2020</td>\n      <td>1</td>\n      <td>regular</td>\n      <td>Navy</td>\n      <td>American Athletic</td>\n      <td>Notre Dame</td>\n      <td>FBS Independents</td>\n      <td>16.5</td>\n      <td>13.5</td>\n      <td>Navy</td>\n      <td>Notre Dame</td>\n    </tr>\n    <tr>\n      <th>2</th>\n      <td>401207805</td>\n      <td>2020</td>\n      <td>1</td>\n      <td>regular</td>\n      <td>Georgia Tech</td>\n      <td>ACC</td>\n      <td>Clemson</td>\n      <td>ACC</td>\n      <td>26.0</td>\n      <td>33.5</td>\n      <td>Clemson</td>\n      <td>Clemson</td>\n    </tr>\n    <tr>\n      <th>3</th>\n      <td>401206217</td>\n      <td>2020</td>\n      <td>1</td>\n      <td>regular</td>\n      <td>Utah</td>\n      <td>Pac-12</td>\n      <td>BYU</td>\n      <td>FBS Independents</td>\n      <td>-6.5</td>\n      <td>-16.5</td>\n      <td>Utah</td>\n      <td>Utah</td>\n    </tr>\n    <tr>\n      <th>4</th>\n      <td>401207807</td>\n      <td>2020</td>\n      <td>1</td>\n      <td>regular</td>\n      <td>Boston College</td>\n      <td>ACC</td>\n      <td>Syracuse</td>\n      <td>ACC</td>\n      <td>0.0</td>\n      <td>-6.0</td>\n      <td>Boston College</td>\n      <td>Boston College</td>\n    </tr>\n    <tr>\n      <th>5</th>\n      <td>401207808</td>\n      <td>2020</td>\n      <td>1</td>\n      <td>regular</td>\n      <td>UCF</td>\n      <td>American Athletic</td>\n      <td>North Carolina</td>\n      <td>ACC</td>\n      <td>-3.0</td>\n      <td>-6.0</td>\n      <td>UCF</td>\n      <td>UCF</td>\n    </tr>\n    <tr>\n      <th>6</th>\n      <td>401206985</td>\n      <td>2020</td>\n      <td>1</td>\n      <td>regular</td>\n      <td>Wisconsin</td>\n      <td>Big Ten</td>\n      <td>Indiana</td>\n      <td>Big Ten</td>\n      <td>-12.5</td>\n      <td>-15.5</td>\n      <td>Wisconsin</td>\n      <td>Wisconsin</td>\n    </tr>\n    <tr>\n      <th>7</th>\n      <td>401205855</td>\n      <td>2020</td>\n      <td>1</td>\n      <td>regular</td>\n      <td>Baylor</td>\n      <td>Big 12</td>\n      <td>Ole Miss</td>\n      <td>SEC</td>\n      <td>-1.0</td>\n      <td>-1.5</td>\n      <td>Baylor</td>\n      <td>Baylor</td>\n    </tr>\n    <tr>\n      <th>8</th>\n      <td>401206225</td>\n      <td>2020</td>\n      <td>1</td>\n      <td>regular</td>\n      <td>Washington</td>\n      <td>Pac-12</td>\n      <td>Michigan</td>\n      <td>Big Ten</td>\n      <td>1.5</td>\n      <td>2.5</td>\n      <td>Michigan</td>\n      <td>Michigan</td>\n    </tr>\n    <tr>\n      <th>9</th>\n      <td>401206958</td>\n      <td>2020</td>\n      <td>1</td>\n      <td>regular</td>\n      <td>West Virginia</td>\n      <td>Big 12</td>\n      <td>Florida State</td>\n      <td>ACC</td>\n      <td>6.5</td>\n      <td>21.0</td>\n      <td>Florida State</td>\n      <td>Florida State</td>\n    </tr>\n    <tr>\n      <th>10</th>\n      <td>401205729</td>\n      <td>2020</td>\n      <td>1</td>\n      <td>regular</td>\n      <td>USC</td>\n      <td>Pac-12</td>\n      <td>Alabama</td>\n      <td>SEC</td>\n      <td>14.0</td>\n      <td>33.5</td>\n      <td>Alabama</td>\n      <td>Alabama</td>\n    </tr>\n    <tr>\n      <th>11</th>\n      <td>401205862</td>\n      <td>2020</td>\n      <td>1</td>\n      <td>regular</td>\n      <td>Virginia</td>\n      <td>ACC</td>\n      <td>Georgia</td>\n      <td>SEC</td>\n      <td>18.0</td>\n      <td>32.0</td>\n      <td>Georgia</td>\n      <td>Georgia</td>\n    </tr>\n  </tbody>\n</table>\n</div>"
     },
     "metadata": {},
     "execution_count": 61
    }
   ],
   "source": [
    "# Model\n",
    "ct = make_column_transformer(\n",
    "    (OrdinalEncoder(), ['season_type', 'home_conference', 'away_conference']),\n",
    "    remainder='passthrough'\n",
    ")\n",
    "\n",
    "drop_columns =  ['game_id', 'season', 'venue', 'start_date', 'home_team', 'away_team', 'start_date', 'spread_target']\n",
    "\n",
    "X_train = df[df.start_date.dt.date < pd.to_datetime('today')].drop(drop_columns, axis=1)  \n",
    "y_train = df[df.start_date.dt.date < pd.to_datetime('today')][['spread_target']] \n",
    "\n",
    "X_pred = df[df.start_date.dt.date >= pd.to_datetime('today')].drop(drop_columns, axis=1) \n",
    "# y_pred = y[X.start_date.dt.date >= pd.to_datetime('today')]\n",
    "\n",
    "spread_model = XGBRegressor(learning_rate=0.1, \n",
    "                                colsample_bytree=1.0,\n",
    "                                gamma=0.5,\n",
    "                                max_depth=5,\n",
    "                                min_child_weight=8,\n",
    "                                n_estimators=100,\n",
    "                                subsample=1.0)\n",
    "\n",
    "spread_model.fit(ct.fit_transform(X_train), y_train['spread_target'])\n",
    "y_spread_pred = np.around(spread_model.predict(ct.fit_transform(X_pred))/.5, decimals=0)*.5\n",
    "\n",
    "final_columns = ['game_id', 'season', 'week', 'season_type', 'home_team',\n",
    "                'home_conference', 'away_team', 'away_conference',  'pre_game_spread',\n",
    "                'predicted_spread']\n",
    "\n",
    "X_pred = pd.concat([\n",
    "                    X_pred, \n",
    "                    df[df.start_date.dt.date >= pd.to_datetime('today')].drop([col for col in df.columns if col not in drop_columns], axis=1) \n",
    "                    ], \n",
    "                    axis=1)\n",
    "\n",
    "predict_df = pd.concat([\n",
    "        X_pred.reset_index(drop=True), \n",
    "        pd.Series(y_spread_pred, name='predicted_spread'),\n",
    "     ], axis=1)\n",
    "\n",
    "predict_df = predict_df[final_columns]\n",
    "\n",
    "predict_df['spread_pick'] = np.where(predict_df['predicted_spread'] <= predict_df['pre_game_spread'], predict_df['home_team'], predict_df['away_team'])\n",
    "predict_df['straight_pick'] = np.where(predict_df['predicted_spread'] < 0, predict_df['home_team'], predict_df['away_team'])\n",
    "\n",
    "predict_df"
   ]
  },
  {
   "cell_type": "code",
   "execution_count": 62,
   "metadata": {},
   "outputs": [],
   "source": [
    "# Add spread target in case the game is complete\n",
    "predict_df = predict_df.merge(df[['game_id', 'spread_target', 'start_date']], on='game_id', how='left')"
   ]
  },
  {
   "cell_type": "code",
   "execution_count": 63,
   "metadata": {},
   "outputs": [
    {
     "output_type": "execute_result",
     "data": {
      "text/plain": "      game_id  season  week season_type       home_team    home_conference  \\\n0   401206213    2020     1     regular         Arizona             Pac-12   \n1   401207204    2020     1     regular            Navy  American Athletic   \n2   401207805    2020     1     regular    Georgia Tech                ACC   \n3   401206217    2020     1     regular            Utah             Pac-12   \n4   401207807    2020     1     regular  Boston College                ACC   \n5   401207808    2020     1     regular             UCF  American Athletic   \n6   401206985    2020     1     regular       Wisconsin            Big Ten   \n7   401205855    2020     1     regular          Baylor             Big 12   \n8   401206225    2020     1     regular      Washington             Pac-12   \n9   401206958    2020     1     regular   West Virginia             Big 12   \n10  401205729    2020     1     regular             USC             Pac-12   \n11  401205862    2020     1     regular        Virginia                ACC   \n\n         away_team   away_conference  pre_game_spread  predicted_spread  \\\n0          Hawai'i     Mountain West            -10.5             -22.0   \n1       Notre Dame  FBS Independents             16.5              13.5   \n2          Clemson               ACC             26.0              33.5   \n3              BYU  FBS Independents             -6.5             -16.5   \n4         Syracuse               ACC              0.0              -6.0   \n5   North Carolina               ACC             -3.0              -6.0   \n6          Indiana           Big Ten            -12.5             -15.5   \n7         Ole Miss               SEC             -1.0              -1.5   \n8         Michigan           Big Ten              1.5               2.5   \n9    Florida State               ACC              6.5              21.0   \n10         Alabama               SEC             14.0              33.5   \n11         Georgia               SEC             18.0              32.0   \n\n       spread_pick   straight_pick  spread_target                start_date  \n0          Arizona         Arizona            0.0 2020-08-29 04:00:00+00:00  \n1             Navy      Notre Dame            0.0 2020-08-29 04:00:00+00:00  \n2          Clemson         Clemson            0.0 2020-09-03 04:00:00+00:00  \n3             Utah            Utah            0.0 2020-09-03 04:00:00+00:00  \n4   Boston College  Boston College            0.0 2020-09-04 04:00:00+00:00  \n5              UCF             UCF            0.0 2020-09-04 04:00:00+00:00  \n6        Wisconsin       Wisconsin            0.0 2020-09-04 04:00:00+00:00  \n7           Baylor          Baylor            0.0 2020-09-05 04:00:00+00:00  \n8         Michigan        Michigan            0.0 2020-09-05 04:00:00+00:00  \n9    Florida State   Florida State            0.0 2020-09-05 04:00:00+00:00  \n10         Alabama         Alabama            0.0 2020-09-05 04:00:00+00:00  \n11         Georgia         Georgia            0.0 2020-09-07 04:00:00+00:00  ",
      "text/html": "<div>\n<style scoped>\n    .dataframe tbody tr th:only-of-type {\n        vertical-align: middle;\n    }\n\n    .dataframe tbody tr th {\n        vertical-align: top;\n    }\n\n    .dataframe thead th {\n        text-align: right;\n    }\n</style>\n<table border=\"1\" class=\"dataframe\">\n  <thead>\n    <tr style=\"text-align: right;\">\n      <th></th>\n      <th>game_id</th>\n      <th>season</th>\n      <th>week</th>\n      <th>season_type</th>\n      <th>home_team</th>\n      <th>home_conference</th>\n      <th>away_team</th>\n      <th>away_conference</th>\n      <th>pre_game_spread</th>\n      <th>predicted_spread</th>\n      <th>spread_pick</th>\n      <th>straight_pick</th>\n      <th>spread_target</th>\n      <th>start_date</th>\n    </tr>\n  </thead>\n  <tbody>\n    <tr>\n      <th>0</th>\n      <td>401206213</td>\n      <td>2020</td>\n      <td>1</td>\n      <td>regular</td>\n      <td>Arizona</td>\n      <td>Pac-12</td>\n      <td>Hawai'i</td>\n      <td>Mountain West</td>\n      <td>-10.5</td>\n      <td>-22.0</td>\n      <td>Arizona</td>\n      <td>Arizona</td>\n      <td>0.0</td>\n      <td>2020-08-29 04:00:00+00:00</td>\n    </tr>\n    <tr>\n      <th>1</th>\n      <td>401207204</td>\n      <td>2020</td>\n      <td>1</td>\n      <td>regular</td>\n      <td>Navy</td>\n      <td>American Athletic</td>\n      <td>Notre Dame</td>\n      <td>FBS Independents</td>\n      <td>16.5</td>\n      <td>13.5</td>\n      <td>Navy</td>\n      <td>Notre Dame</td>\n      <td>0.0</td>\n      <td>2020-08-29 04:00:00+00:00</td>\n    </tr>\n    <tr>\n      <th>2</th>\n      <td>401207805</td>\n      <td>2020</td>\n      <td>1</td>\n      <td>regular</td>\n      <td>Georgia Tech</td>\n      <td>ACC</td>\n      <td>Clemson</td>\n      <td>ACC</td>\n      <td>26.0</td>\n      <td>33.5</td>\n      <td>Clemson</td>\n      <td>Clemson</td>\n      <td>0.0</td>\n      <td>2020-09-03 04:00:00+00:00</td>\n    </tr>\n    <tr>\n      <th>3</th>\n      <td>401206217</td>\n      <td>2020</td>\n      <td>1</td>\n      <td>regular</td>\n      <td>Utah</td>\n      <td>Pac-12</td>\n      <td>BYU</td>\n      <td>FBS Independents</td>\n      <td>-6.5</td>\n      <td>-16.5</td>\n      <td>Utah</td>\n      <td>Utah</td>\n      <td>0.0</td>\n      <td>2020-09-03 04:00:00+00:00</td>\n    </tr>\n    <tr>\n      <th>4</th>\n      <td>401207807</td>\n      <td>2020</td>\n      <td>1</td>\n      <td>regular</td>\n      <td>Boston College</td>\n      <td>ACC</td>\n      <td>Syracuse</td>\n      <td>ACC</td>\n      <td>0.0</td>\n      <td>-6.0</td>\n      <td>Boston College</td>\n      <td>Boston College</td>\n      <td>0.0</td>\n      <td>2020-09-04 04:00:00+00:00</td>\n    </tr>\n    <tr>\n      <th>5</th>\n      <td>401207808</td>\n      <td>2020</td>\n      <td>1</td>\n      <td>regular</td>\n      <td>UCF</td>\n      <td>American Athletic</td>\n      <td>North Carolina</td>\n      <td>ACC</td>\n      <td>-3.0</td>\n      <td>-6.0</td>\n      <td>UCF</td>\n      <td>UCF</td>\n      <td>0.0</td>\n      <td>2020-09-04 04:00:00+00:00</td>\n    </tr>\n    <tr>\n      <th>6</th>\n      <td>401206985</td>\n      <td>2020</td>\n      <td>1</td>\n      <td>regular</td>\n      <td>Wisconsin</td>\n      <td>Big Ten</td>\n      <td>Indiana</td>\n      <td>Big Ten</td>\n      <td>-12.5</td>\n      <td>-15.5</td>\n      <td>Wisconsin</td>\n      <td>Wisconsin</td>\n      <td>0.0</td>\n      <td>2020-09-04 04:00:00+00:00</td>\n    </tr>\n    <tr>\n      <th>7</th>\n      <td>401205855</td>\n      <td>2020</td>\n      <td>1</td>\n      <td>regular</td>\n      <td>Baylor</td>\n      <td>Big 12</td>\n      <td>Ole Miss</td>\n      <td>SEC</td>\n      <td>-1.0</td>\n      <td>-1.5</td>\n      <td>Baylor</td>\n      <td>Baylor</td>\n      <td>0.0</td>\n      <td>2020-09-05 04:00:00+00:00</td>\n    </tr>\n    <tr>\n      <th>8</th>\n      <td>401206225</td>\n      <td>2020</td>\n      <td>1</td>\n      <td>regular</td>\n      <td>Washington</td>\n      <td>Pac-12</td>\n      <td>Michigan</td>\n      <td>Big Ten</td>\n      <td>1.5</td>\n      <td>2.5</td>\n      <td>Michigan</td>\n      <td>Michigan</td>\n      <td>0.0</td>\n      <td>2020-09-05 04:00:00+00:00</td>\n    </tr>\n    <tr>\n      <th>9</th>\n      <td>401206958</td>\n      <td>2020</td>\n      <td>1</td>\n      <td>regular</td>\n      <td>West Virginia</td>\n      <td>Big 12</td>\n      <td>Florida State</td>\n      <td>ACC</td>\n      <td>6.5</td>\n      <td>21.0</td>\n      <td>Florida State</td>\n      <td>Florida State</td>\n      <td>0.0</td>\n      <td>2020-09-05 04:00:00+00:00</td>\n    </tr>\n    <tr>\n      <th>10</th>\n      <td>401205729</td>\n      <td>2020</td>\n      <td>1</td>\n      <td>regular</td>\n      <td>USC</td>\n      <td>Pac-12</td>\n      <td>Alabama</td>\n      <td>SEC</td>\n      <td>14.0</td>\n      <td>33.5</td>\n      <td>Alabama</td>\n      <td>Alabama</td>\n      <td>0.0</td>\n      <td>2020-09-05 04:00:00+00:00</td>\n    </tr>\n    <tr>\n      <th>11</th>\n      <td>401205862</td>\n      <td>2020</td>\n      <td>1</td>\n      <td>regular</td>\n      <td>Virginia</td>\n      <td>ACC</td>\n      <td>Georgia</td>\n      <td>SEC</td>\n      <td>18.0</td>\n      <td>32.0</td>\n      <td>Georgia</td>\n      <td>Georgia</td>\n      <td>0.0</td>\n      <td>2020-09-07 04:00:00+00:00</td>\n    </tr>\n  </tbody>\n</table>\n</div>"
     },
     "metadata": {},
     "execution_count": 63
    }
   ],
   "source": [
    "predict_df"
   ]
  },
  {
   "cell_type": "code",
   "execution_count": 64,
   "metadata": {},
   "outputs": [],
   "source": [
    "# Convert spread_target games that have not occurred to Null\n",
    "predict_df['spread_target']  = np.where(pd.to_datetime(predict_df['start_date']).dt.date > pd.to_datetime('today').date(), np.nan, predict_df['spread_target'] )"
   ]
  },
  {
   "cell_type": "code",
   "execution_count": 65,
   "metadata": {},
   "outputs": [
    {
     "output_type": "execute_result",
     "data": {
      "text/plain": "      game_id  season  week season_type       home_team    home_conference  \\\n0   401206213    2020     1     regular         Arizona             Pac-12   \n1   401207204    2020     1     regular            Navy  American Athletic   \n2   401207805    2020     1     regular    Georgia Tech                ACC   \n3   401206217    2020     1     regular            Utah             Pac-12   \n4   401207807    2020     1     regular  Boston College                ACC   \n5   401207808    2020     1     regular             UCF  American Athletic   \n6   401206985    2020     1     regular       Wisconsin            Big Ten   \n7   401205855    2020     1     regular          Baylor             Big 12   \n8   401206225    2020     1     regular      Washington             Pac-12   \n9   401206958    2020     1     regular   West Virginia             Big 12   \n10  401205729    2020     1     regular             USC             Pac-12   \n11  401205862    2020     1     regular        Virginia                ACC   \n\n         away_team   away_conference  pre_game_spread  predicted_spread  \\\n0          Hawai'i     Mountain West            -10.5             -22.0   \n1       Notre Dame  FBS Independents             16.5              13.5   \n2          Clemson               ACC             26.0              33.5   \n3              BYU  FBS Independents             -6.5             -16.5   \n4         Syracuse               ACC              0.0              -6.0   \n5   North Carolina               ACC             -3.0              -6.0   \n6          Indiana           Big Ten            -12.5             -15.5   \n7         Ole Miss               SEC             -1.0              -1.5   \n8         Michigan           Big Ten              1.5               2.5   \n9    Florida State               ACC              6.5              21.0   \n10         Alabama               SEC             14.0              33.5   \n11         Georgia               SEC             18.0              32.0   \n\n       spread_pick   straight_pick  spread_target                start_date  \n0          Arizona         Arizona            NaN 2020-08-29 04:00:00+00:00  \n1             Navy      Notre Dame            NaN 2020-08-29 04:00:00+00:00  \n2          Clemson         Clemson            NaN 2020-09-03 04:00:00+00:00  \n3             Utah            Utah            NaN 2020-09-03 04:00:00+00:00  \n4   Boston College  Boston College            NaN 2020-09-04 04:00:00+00:00  \n5              UCF             UCF            NaN 2020-09-04 04:00:00+00:00  \n6        Wisconsin       Wisconsin            NaN 2020-09-04 04:00:00+00:00  \n7           Baylor          Baylor            NaN 2020-09-05 04:00:00+00:00  \n8         Michigan        Michigan            NaN 2020-09-05 04:00:00+00:00  \n9    Florida State   Florida State            NaN 2020-09-05 04:00:00+00:00  \n10         Alabama         Alabama            NaN 2020-09-05 04:00:00+00:00  \n11         Georgia         Georgia            NaN 2020-09-07 04:00:00+00:00  ",
      "text/html": "<div>\n<style scoped>\n    .dataframe tbody tr th:only-of-type {\n        vertical-align: middle;\n    }\n\n    .dataframe tbody tr th {\n        vertical-align: top;\n    }\n\n    .dataframe thead th {\n        text-align: right;\n    }\n</style>\n<table border=\"1\" class=\"dataframe\">\n  <thead>\n    <tr style=\"text-align: right;\">\n      <th></th>\n      <th>game_id</th>\n      <th>season</th>\n      <th>week</th>\n      <th>season_type</th>\n      <th>home_team</th>\n      <th>home_conference</th>\n      <th>away_team</th>\n      <th>away_conference</th>\n      <th>pre_game_spread</th>\n      <th>predicted_spread</th>\n      <th>spread_pick</th>\n      <th>straight_pick</th>\n      <th>spread_target</th>\n      <th>start_date</th>\n    </tr>\n  </thead>\n  <tbody>\n    <tr>\n      <th>0</th>\n      <td>401206213</td>\n      <td>2020</td>\n      <td>1</td>\n      <td>regular</td>\n      <td>Arizona</td>\n      <td>Pac-12</td>\n      <td>Hawai'i</td>\n      <td>Mountain West</td>\n      <td>-10.5</td>\n      <td>-22.0</td>\n      <td>Arizona</td>\n      <td>Arizona</td>\n      <td>NaN</td>\n      <td>2020-08-29 04:00:00+00:00</td>\n    </tr>\n    <tr>\n      <th>1</th>\n      <td>401207204</td>\n      <td>2020</td>\n      <td>1</td>\n      <td>regular</td>\n      <td>Navy</td>\n      <td>American Athletic</td>\n      <td>Notre Dame</td>\n      <td>FBS Independents</td>\n      <td>16.5</td>\n      <td>13.5</td>\n      <td>Navy</td>\n      <td>Notre Dame</td>\n      <td>NaN</td>\n      <td>2020-08-29 04:00:00+00:00</td>\n    </tr>\n    <tr>\n      <th>2</th>\n      <td>401207805</td>\n      <td>2020</td>\n      <td>1</td>\n      <td>regular</td>\n      <td>Georgia Tech</td>\n      <td>ACC</td>\n      <td>Clemson</td>\n      <td>ACC</td>\n      <td>26.0</td>\n      <td>33.5</td>\n      <td>Clemson</td>\n      <td>Clemson</td>\n      <td>NaN</td>\n      <td>2020-09-03 04:00:00+00:00</td>\n    </tr>\n    <tr>\n      <th>3</th>\n      <td>401206217</td>\n      <td>2020</td>\n      <td>1</td>\n      <td>regular</td>\n      <td>Utah</td>\n      <td>Pac-12</td>\n      <td>BYU</td>\n      <td>FBS Independents</td>\n      <td>-6.5</td>\n      <td>-16.5</td>\n      <td>Utah</td>\n      <td>Utah</td>\n      <td>NaN</td>\n      <td>2020-09-03 04:00:00+00:00</td>\n    </tr>\n    <tr>\n      <th>4</th>\n      <td>401207807</td>\n      <td>2020</td>\n      <td>1</td>\n      <td>regular</td>\n      <td>Boston College</td>\n      <td>ACC</td>\n      <td>Syracuse</td>\n      <td>ACC</td>\n      <td>0.0</td>\n      <td>-6.0</td>\n      <td>Boston College</td>\n      <td>Boston College</td>\n      <td>NaN</td>\n      <td>2020-09-04 04:00:00+00:00</td>\n    </tr>\n    <tr>\n      <th>5</th>\n      <td>401207808</td>\n      <td>2020</td>\n      <td>1</td>\n      <td>regular</td>\n      <td>UCF</td>\n      <td>American Athletic</td>\n      <td>North Carolina</td>\n      <td>ACC</td>\n      <td>-3.0</td>\n      <td>-6.0</td>\n      <td>UCF</td>\n      <td>UCF</td>\n      <td>NaN</td>\n      <td>2020-09-04 04:00:00+00:00</td>\n    </tr>\n    <tr>\n      <th>6</th>\n      <td>401206985</td>\n      <td>2020</td>\n      <td>1</td>\n      <td>regular</td>\n      <td>Wisconsin</td>\n      <td>Big Ten</td>\n      <td>Indiana</td>\n      <td>Big Ten</td>\n      <td>-12.5</td>\n      <td>-15.5</td>\n      <td>Wisconsin</td>\n      <td>Wisconsin</td>\n      <td>NaN</td>\n      <td>2020-09-04 04:00:00+00:00</td>\n    </tr>\n    <tr>\n      <th>7</th>\n      <td>401205855</td>\n      <td>2020</td>\n      <td>1</td>\n      <td>regular</td>\n      <td>Baylor</td>\n      <td>Big 12</td>\n      <td>Ole Miss</td>\n      <td>SEC</td>\n      <td>-1.0</td>\n      <td>-1.5</td>\n      <td>Baylor</td>\n      <td>Baylor</td>\n      <td>NaN</td>\n      <td>2020-09-05 04:00:00+00:00</td>\n    </tr>\n    <tr>\n      <th>8</th>\n      <td>401206225</td>\n      <td>2020</td>\n      <td>1</td>\n      <td>regular</td>\n      <td>Washington</td>\n      <td>Pac-12</td>\n      <td>Michigan</td>\n      <td>Big Ten</td>\n      <td>1.5</td>\n      <td>2.5</td>\n      <td>Michigan</td>\n      <td>Michigan</td>\n      <td>NaN</td>\n      <td>2020-09-05 04:00:00+00:00</td>\n    </tr>\n    <tr>\n      <th>9</th>\n      <td>401206958</td>\n      <td>2020</td>\n      <td>1</td>\n      <td>regular</td>\n      <td>West Virginia</td>\n      <td>Big 12</td>\n      <td>Florida State</td>\n      <td>ACC</td>\n      <td>6.5</td>\n      <td>21.0</td>\n      <td>Florida State</td>\n      <td>Florida State</td>\n      <td>NaN</td>\n      <td>2020-09-05 04:00:00+00:00</td>\n    </tr>\n    <tr>\n      <th>10</th>\n      <td>401205729</td>\n      <td>2020</td>\n      <td>1</td>\n      <td>regular</td>\n      <td>USC</td>\n      <td>Pac-12</td>\n      <td>Alabama</td>\n      <td>SEC</td>\n      <td>14.0</td>\n      <td>33.5</td>\n      <td>Alabama</td>\n      <td>Alabama</td>\n      <td>NaN</td>\n      <td>2020-09-05 04:00:00+00:00</td>\n    </tr>\n    <tr>\n      <th>11</th>\n      <td>401205862</td>\n      <td>2020</td>\n      <td>1</td>\n      <td>regular</td>\n      <td>Virginia</td>\n      <td>ACC</td>\n      <td>Georgia</td>\n      <td>SEC</td>\n      <td>18.0</td>\n      <td>32.0</td>\n      <td>Georgia</td>\n      <td>Georgia</td>\n      <td>NaN</td>\n      <td>2020-09-07 04:00:00+00:00</td>\n    </tr>\n  </tbody>\n</table>\n</div>"
     },
     "metadata": {},
     "execution_count": 65
    }
   ],
   "source": [
    "predict_df"
   ]
  },
  {
   "cell_type": "code",
   "execution_count": 66,
   "metadata": {},
   "outputs": [],
   "source": [
    "# Spread Result Calculation\n",
    "won = ((predict_df['predicted_spread'] > predict_df['pre_game_spread']) & (predict_df['spread_target'].fillna(0) > predict_df['pre_game_spread'])) | (\n",
    "    (predict_df['predicted_spread'] < predict_df['pre_game_spread']) & (predict_df['spread_target'].fillna(0) < predict_df['pre_game_spread']))\n",
    "\n",
    "push = predict_df['spread_target'].fillna(0) == predict_df['pre_game_spread']\n",
    "\n",
    "conditions = [won, push]\n",
    "choices = ['Won', 'Push']\n",
    "\n",
    "predict_df['spread_result'] = np.select(condlist=conditions, choicelist=choices, default='Lost')\n",
    "predict_df['spread_result'] = np.where(predict_df['spread_target'].isnull(), np.nan, predict_df['spread_result'])"
   ]
  },
  {
   "cell_type": "code",
   "execution_count": 67,
   "metadata": {},
   "outputs": [],
   "source": [
    "# Straight Up Result Calculation\n",
    "result = predict_df['spread_target'].fillna(1) * predict_df['predicted_spread']\n",
    "\n",
    "predict_df['straight_result'] = np.where(result > 0, 'Won', 'Lost')\n",
    "predict_df['straight_result'] = np.where(predict_df['spread_target'].isnull(), np.nan, predict_df['straight_result'])"
   ]
  },
  {
   "cell_type": "code",
   "execution_count": 68,
   "metadata": {},
   "outputs": [],
   "source": [
    "# Rename Column\n",
    "predict_df = predict_df.rename(columns={'spread_target':'actual_spread'})"
   ]
  },
  {
   "cell_type": "code",
   "execution_count": 69,
   "metadata": {},
   "outputs": [],
   "source": [
    "# Export\n",
    "filepath = Path('../zillion_picks/picks')\n",
    "\n",
    "for key, group in predict_df.groupby(['season', 'week']):\n",
    "    if group.season_type.unique() == 'postseason':\n",
    "        group.to_csv(filepath/f'premium/{key[0]}_postseason.csv', index=False)\n",
    "    else:\n",
    "        group.to_csv(filepath/f'premium/{key[0]}_{str(key[1]).rjust(2, \"0\")}.csv', index=False)"
   ]
  },
  {
   "cell_type": "code",
   "execution_count": null,
   "metadata": {},
   "outputs": [],
   "source": []
  }
 ],
 "metadata": {
  "language_info": {
   "name": "python",
   "codemirror_mode": {
    "name": "ipython",
    "version": 3
   },
   "version": "3.8.2-final"
  },
  "orig_nbformat": 2,
  "file_extension": ".py",
  "mimetype": "text/x-python",
  "name": "python",
  "npconvert_exporter": "python",
  "pygments_lexer": "ipython3",
  "version": 3,
  "kernelspec": {
   "name": "python38264bitzillionpickscondadd1d5d1f064048d389c34f4ee92c62eb",
   "display_name": "Python 3.8.2 64-bit ('zillion_picks': conda)"
  }
 },
 "nbformat": 4,
 "nbformat_minor": 2
}