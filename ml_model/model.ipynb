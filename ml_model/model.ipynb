{
 "cells": [
  {
   "cell_type": "code",
   "execution_count": 2,
   "metadata": {},
   "outputs": [],
   "source": [
    "import pandas as pd\n",
    "import numpy as np\n",
    "from pathlib import Path\n",
    "from sklearn.preprocessing import OrdinalEncoder\n",
    "from sklearn.compose import make_column_transformer\n",
    "from sklearn.model_selection import TimeSeriesSplit, GridSearchCV\n",
    "from sklearn.metrics import mean_squared_error, accuracy_score\n",
    "from xgboost import XGBRegressor, XGBClassifier\n",
    "from load import dataset"
   ]
  },
  {
   "cell_type": "code",
   "execution_count": 33,
   "metadata": {},
   "outputs": [],
   "source": [
    "# Initialize Variables\n",
    "predict_week = 3\n",
    "predict_season = 2020\n",
    "today_localize = pd.to_datetime('today').tz_localize('US/Central') - pd.Timedelta(hours=3)\n",
    "\n",
    "final_columns = ['game_id', 'season', 'week', 'season_type', 'home_team',\n",
    "                'home_conference', 'away_team', 'away_conference',  'pre_game_spread',\n",
    "                'predicted_spread', 'regression_spread_pred', 'classification_spread_pred', 'classification_confidence']"
   ]
  },
  {
   "cell_type": "code",
   "execution_count": 34,
   "metadata": {},
   "outputs": [],
   "source": [
    "# Load Dataset\n",
    "df = dataset(predict_season=predict_season, predict_week=predict_week, window_size=4, update_data=True, update_seasons=[pd.to_datetime('today').year])\n",
    "\n",
    "# Prep for ML Models\n",
    "df[df.columns[df.columns.str.contains('home|Home')]] = df[df.columns[df.columns.str.contains(\n",
    "    'home|Home')]].groupby('home_team', as_index=False, group_keys=False).apply(lambda x: x.fillna(x.mean()))\n",
    "\n",
    "df[df.columns[df.columns.str.contains('away|Away')]] = df[df.columns[df.columns.str.contains(\n",
    "    'away|Away')]].groupby('away_team', as_index=False, group_keys=False).apply(lambda x: x.fillna(x.mean()))\n",
    "\n",
    "df = df.dropna(axis=1, thresh=int(len(df) * .9))\n",
    "\n",
    "df = df.fillna(0)\n",
    "\n",
    "df[df.select_dtypes('bool').columns] = df.select_dtypes('bool').astype('int')\n",
    "\n",
    "ct = make_column_transformer(\n",
    "    (OrdinalEncoder(), ['season_type', 'home_conference', 'away_conference']),\n",
    "    remainder='passthrough'\n",
    ")\n",
    "\n",
    "drop_columns =  ['game_id', 'season', 'venue', 'start_date', 'home_team', 'away_team', \n",
    "                'start_date', 'spread_target', 'pre_game_spread' , 'pre_game_home_win_prob', 'pre_game_away_win_prob'\n",
    "                ]\n"
   ]
  },
  {
   "cell_type": "code",
   "execution_count": 35,
   "metadata": {},
   "outputs": [
    {
     "output_type": "error",
     "ename": "ValueError",
     "evalue": "Found array with 0 sample(s) (shape=(0,)) while a minimum of 1 is required.",
     "traceback": [
      "\u001b[1;31m---------------------------------------------------------------------------\u001b[0m",
      "\u001b[1;31mValueError\u001b[0m                                Traceback (most recent call last)",
      "\u001b[1;32m<ipython-input-35-9376e8a94fdb>\u001b[0m in \u001b[0;36m<module>\u001b[1;34m\u001b[0m\n\u001b[0;32m     22\u001b[0m \u001b[1;33m\u001b[0m\u001b[0m\n\u001b[0;32m     23\u001b[0m \u001b[0mX_train\u001b[0m\u001b[1;33m[\u001b[0m\u001b[1;34m'predicted_spread'\u001b[0m\u001b[1;33m]\u001b[0m \u001b[1;33m=\u001b[0m \u001b[0mmodel_regressor\u001b[0m\u001b[1;33m.\u001b[0m\u001b[0mpredict\u001b[0m\u001b[1;33m(\u001b[0m\u001b[0mct\u001b[0m\u001b[1;33m.\u001b[0m\u001b[0mfit_transform\u001b[0m\u001b[1;33m(\u001b[0m\u001b[0mX_train\u001b[0m\u001b[1;33m.\u001b[0m\u001b[0mdrop\u001b[0m\u001b[1;33m(\u001b[0m\u001b[0mdrop_columns\u001b[0m\u001b[1;33m,\u001b[0m \u001b[0maxis\u001b[0m\u001b[1;33m=\u001b[0m\u001b[1;36m1\u001b[0m\u001b[1;33m)\u001b[0m\u001b[1;33m)\u001b[0m\u001b[1;33m)\u001b[0m\u001b[1;33m\u001b[0m\u001b[1;33m\u001b[0m\u001b[0m\n\u001b[1;32m---> 24\u001b[1;33m \u001b[0mX_test\u001b[0m\u001b[1;33m[\u001b[0m\u001b[1;34m'predicted_spread'\u001b[0m\u001b[1;33m]\u001b[0m \u001b[1;33m=\u001b[0m \u001b[0mmodel_regressor\u001b[0m\u001b[1;33m.\u001b[0m\u001b[0mpredict\u001b[0m\u001b[1;33m(\u001b[0m\u001b[0mct\u001b[0m\u001b[1;33m.\u001b[0m\u001b[0mfit_transform\u001b[0m\u001b[1;33m(\u001b[0m\u001b[0mX_test\u001b[0m\u001b[1;33m.\u001b[0m\u001b[0mdrop\u001b[0m\u001b[1;33m(\u001b[0m\u001b[0mdrop_columns\u001b[0m\u001b[1;33m,\u001b[0m \u001b[0maxis\u001b[0m\u001b[1;33m=\u001b[0m\u001b[1;36m1\u001b[0m\u001b[1;33m)\u001b[0m\u001b[1;33m)\u001b[0m\u001b[1;33m)\u001b[0m\u001b[1;33m\u001b[0m\u001b[1;33m\u001b[0m\u001b[0m\n\u001b[0m\u001b[0;32m     25\u001b[0m \u001b[1;33m\u001b[0m\u001b[0m\n\u001b[0;32m     26\u001b[0m \u001b[1;31m# Clean Up\u001b[0m\u001b[1;33m\u001b[0m\u001b[1;33m\u001b[0m\u001b[1;33m\u001b[0m\u001b[0m\n",
      "\u001b[1;32mC:\\ProgramData\\Anaconda3\\envs\\zillion_picks\\lib\\site-packages\\sklearn\\compose\\_column_transformer.py\u001b[0m in \u001b[0;36mfit_transform\u001b[1;34m(self, X, y)\u001b[0m\n\u001b[0;32m    516\u001b[0m         \u001b[0mself\u001b[0m\u001b[1;33m.\u001b[0m\u001b[0m_validate_remainder\u001b[0m\u001b[1;33m(\u001b[0m\u001b[0mX\u001b[0m\u001b[1;33m)\u001b[0m\u001b[1;33m\u001b[0m\u001b[1;33m\u001b[0m\u001b[0m\n\u001b[0;32m    517\u001b[0m \u001b[1;33m\u001b[0m\u001b[0m\n\u001b[1;32m--> 518\u001b[1;33m         \u001b[0mresult\u001b[0m \u001b[1;33m=\u001b[0m \u001b[0mself\u001b[0m\u001b[1;33m.\u001b[0m\u001b[0m_fit_transform\u001b[0m\u001b[1;33m(\u001b[0m\u001b[0mX\u001b[0m\u001b[1;33m,\u001b[0m \u001b[0my\u001b[0m\u001b[1;33m,\u001b[0m \u001b[0m_fit_transform_one\u001b[0m\u001b[1;33m)\u001b[0m\u001b[1;33m\u001b[0m\u001b[1;33m\u001b[0m\u001b[0m\n\u001b[0m\u001b[0;32m    519\u001b[0m \u001b[1;33m\u001b[0m\u001b[0m\n\u001b[0;32m    520\u001b[0m         \u001b[1;32mif\u001b[0m \u001b[1;32mnot\u001b[0m \u001b[0mresult\u001b[0m\u001b[1;33m:\u001b[0m\u001b[1;33m\u001b[0m\u001b[1;33m\u001b[0m\u001b[0m\n",
      "\u001b[1;32mC:\\ProgramData\\Anaconda3\\envs\\zillion_picks\\lib\\site-packages\\sklearn\\compose\\_column_transformer.py\u001b[0m in \u001b[0;36m_fit_transform\u001b[1;34m(self, X, y, func, fitted)\u001b[0m\n\u001b[0;32m    446\u001b[0m             self._iter(fitted=fitted, replace_strings=True))\n\u001b[0;32m    447\u001b[0m         \u001b[1;32mtry\u001b[0m\u001b[1;33m:\u001b[0m\u001b[1;33m\u001b[0m\u001b[1;33m\u001b[0m\u001b[0m\n\u001b[1;32m--> 448\u001b[1;33m             return Parallel(n_jobs=self.n_jobs)(\n\u001b[0m\u001b[0;32m    449\u001b[0m                 delayed(func)(\n\u001b[0;32m    450\u001b[0m                     \u001b[0mtransformer\u001b[0m\u001b[1;33m=\u001b[0m\u001b[0mclone\u001b[0m\u001b[1;33m(\u001b[0m\u001b[0mtrans\u001b[0m\u001b[1;33m)\u001b[0m \u001b[1;32mif\u001b[0m \u001b[1;32mnot\u001b[0m \u001b[0mfitted\u001b[0m \u001b[1;32melse\u001b[0m \u001b[0mtrans\u001b[0m\u001b[1;33m,\u001b[0m\u001b[1;33m\u001b[0m\u001b[1;33m\u001b[0m\u001b[0m\n",
      "\u001b[1;32mC:\\ProgramData\\Anaconda3\\envs\\zillion_picks\\lib\\site-packages\\joblib\\parallel.py\u001b[0m in \u001b[0;36m__call__\u001b[1;34m(self, iterable)\u001b[0m\n\u001b[0;32m   1027\u001b[0m             \u001b[1;31m# remaining jobs.\u001b[0m\u001b[1;33m\u001b[0m\u001b[1;33m\u001b[0m\u001b[1;33m\u001b[0m\u001b[0m\n\u001b[0;32m   1028\u001b[0m             \u001b[0mself\u001b[0m\u001b[1;33m.\u001b[0m\u001b[0m_iterating\u001b[0m \u001b[1;33m=\u001b[0m \u001b[1;32mFalse\u001b[0m\u001b[1;33m\u001b[0m\u001b[1;33m\u001b[0m\u001b[0m\n\u001b[1;32m-> 1029\u001b[1;33m             \u001b[1;32mif\u001b[0m \u001b[0mself\u001b[0m\u001b[1;33m.\u001b[0m\u001b[0mdispatch_one_batch\u001b[0m\u001b[1;33m(\u001b[0m\u001b[0miterator\u001b[0m\u001b[1;33m)\u001b[0m\u001b[1;33m:\u001b[0m\u001b[1;33m\u001b[0m\u001b[1;33m\u001b[0m\u001b[0m\n\u001b[0m\u001b[0;32m   1030\u001b[0m                 \u001b[0mself\u001b[0m\u001b[1;33m.\u001b[0m\u001b[0m_iterating\u001b[0m \u001b[1;33m=\u001b[0m \u001b[0mself\u001b[0m\u001b[1;33m.\u001b[0m\u001b[0m_original_iterator\u001b[0m \u001b[1;32mis\u001b[0m \u001b[1;32mnot\u001b[0m \u001b[1;32mNone\u001b[0m\u001b[1;33m\u001b[0m\u001b[1;33m\u001b[0m\u001b[0m\n\u001b[0;32m   1031\u001b[0m \u001b[1;33m\u001b[0m\u001b[0m\n",
      "\u001b[1;32mC:\\ProgramData\\Anaconda3\\envs\\zillion_picks\\lib\\site-packages\\joblib\\parallel.py\u001b[0m in \u001b[0;36mdispatch_one_batch\u001b[1;34m(self, iterator)\u001b[0m\n\u001b[0;32m    845\u001b[0m                 \u001b[1;32mreturn\u001b[0m \u001b[1;32mFalse\u001b[0m\u001b[1;33m\u001b[0m\u001b[1;33m\u001b[0m\u001b[0m\n\u001b[0;32m    846\u001b[0m             \u001b[1;32melse\u001b[0m\u001b[1;33m:\u001b[0m\u001b[1;33m\u001b[0m\u001b[1;33m\u001b[0m\u001b[0m\n\u001b[1;32m--> 847\u001b[1;33m                 \u001b[0mself\u001b[0m\u001b[1;33m.\u001b[0m\u001b[0m_dispatch\u001b[0m\u001b[1;33m(\u001b[0m\u001b[0mtasks\u001b[0m\u001b[1;33m)\u001b[0m\u001b[1;33m\u001b[0m\u001b[1;33m\u001b[0m\u001b[0m\n\u001b[0m\u001b[0;32m    848\u001b[0m                 \u001b[1;32mreturn\u001b[0m \u001b[1;32mTrue\u001b[0m\u001b[1;33m\u001b[0m\u001b[1;33m\u001b[0m\u001b[0m\n\u001b[0;32m    849\u001b[0m \u001b[1;33m\u001b[0m\u001b[0m\n",
      "\u001b[1;32mC:\\ProgramData\\Anaconda3\\envs\\zillion_picks\\lib\\site-packages\\joblib\\parallel.py\u001b[0m in \u001b[0;36m_dispatch\u001b[1;34m(self, batch)\u001b[0m\n\u001b[0;32m    763\u001b[0m         \u001b[1;32mwith\u001b[0m \u001b[0mself\u001b[0m\u001b[1;33m.\u001b[0m\u001b[0m_lock\u001b[0m\u001b[1;33m:\u001b[0m\u001b[1;33m\u001b[0m\u001b[1;33m\u001b[0m\u001b[0m\n\u001b[0;32m    764\u001b[0m             \u001b[0mjob_idx\u001b[0m \u001b[1;33m=\u001b[0m \u001b[0mlen\u001b[0m\u001b[1;33m(\u001b[0m\u001b[0mself\u001b[0m\u001b[1;33m.\u001b[0m\u001b[0m_jobs\u001b[0m\u001b[1;33m)\u001b[0m\u001b[1;33m\u001b[0m\u001b[1;33m\u001b[0m\u001b[0m\n\u001b[1;32m--> 765\u001b[1;33m             \u001b[0mjob\u001b[0m \u001b[1;33m=\u001b[0m \u001b[0mself\u001b[0m\u001b[1;33m.\u001b[0m\u001b[0m_backend\u001b[0m\u001b[1;33m.\u001b[0m\u001b[0mapply_async\u001b[0m\u001b[1;33m(\u001b[0m\u001b[0mbatch\u001b[0m\u001b[1;33m,\u001b[0m \u001b[0mcallback\u001b[0m\u001b[1;33m=\u001b[0m\u001b[0mcb\u001b[0m\u001b[1;33m)\u001b[0m\u001b[1;33m\u001b[0m\u001b[1;33m\u001b[0m\u001b[0m\n\u001b[0m\u001b[0;32m    766\u001b[0m             \u001b[1;31m# A job can complete so quickly than its callback is\u001b[0m\u001b[1;33m\u001b[0m\u001b[1;33m\u001b[0m\u001b[1;33m\u001b[0m\u001b[0m\n\u001b[0;32m    767\u001b[0m             \u001b[1;31m# called before we get here, causing self._jobs to\u001b[0m\u001b[1;33m\u001b[0m\u001b[1;33m\u001b[0m\u001b[1;33m\u001b[0m\u001b[0m\n",
      "\u001b[1;32mC:\\ProgramData\\Anaconda3\\envs\\zillion_picks\\lib\\site-packages\\joblib\\_parallel_backends.py\u001b[0m in \u001b[0;36mapply_async\u001b[1;34m(self, func, callback)\u001b[0m\n\u001b[0;32m    204\u001b[0m     \u001b[1;32mdef\u001b[0m \u001b[0mapply_async\u001b[0m\u001b[1;33m(\u001b[0m\u001b[0mself\u001b[0m\u001b[1;33m,\u001b[0m \u001b[0mfunc\u001b[0m\u001b[1;33m,\u001b[0m \u001b[0mcallback\u001b[0m\u001b[1;33m=\u001b[0m\u001b[1;32mNone\u001b[0m\u001b[1;33m)\u001b[0m\u001b[1;33m:\u001b[0m\u001b[1;33m\u001b[0m\u001b[1;33m\u001b[0m\u001b[0m\n\u001b[0;32m    205\u001b[0m         \u001b[1;34m\"\"\"Schedule a func to be run\"\"\"\u001b[0m\u001b[1;33m\u001b[0m\u001b[1;33m\u001b[0m\u001b[0m\n\u001b[1;32m--> 206\u001b[1;33m         \u001b[0mresult\u001b[0m \u001b[1;33m=\u001b[0m \u001b[0mImmediateResult\u001b[0m\u001b[1;33m(\u001b[0m\u001b[0mfunc\u001b[0m\u001b[1;33m)\u001b[0m\u001b[1;33m\u001b[0m\u001b[1;33m\u001b[0m\u001b[0m\n\u001b[0m\u001b[0;32m    207\u001b[0m         \u001b[1;32mif\u001b[0m \u001b[0mcallback\u001b[0m\u001b[1;33m:\u001b[0m\u001b[1;33m\u001b[0m\u001b[1;33m\u001b[0m\u001b[0m\n\u001b[0;32m    208\u001b[0m             \u001b[0mcallback\u001b[0m\u001b[1;33m(\u001b[0m\u001b[0mresult\u001b[0m\u001b[1;33m)\u001b[0m\u001b[1;33m\u001b[0m\u001b[1;33m\u001b[0m\u001b[0m\n",
      "\u001b[1;32mC:\\ProgramData\\Anaconda3\\envs\\zillion_picks\\lib\\site-packages\\joblib\\_parallel_backends.py\u001b[0m in \u001b[0;36m__init__\u001b[1;34m(self, batch)\u001b[0m\n\u001b[0;32m    568\u001b[0m         \u001b[1;31m# Don't delay the application, to avoid keeping the input\u001b[0m\u001b[1;33m\u001b[0m\u001b[1;33m\u001b[0m\u001b[1;33m\u001b[0m\u001b[0m\n\u001b[0;32m    569\u001b[0m         \u001b[1;31m# arguments in memory\u001b[0m\u001b[1;33m\u001b[0m\u001b[1;33m\u001b[0m\u001b[1;33m\u001b[0m\u001b[0m\n\u001b[1;32m--> 570\u001b[1;33m         \u001b[0mself\u001b[0m\u001b[1;33m.\u001b[0m\u001b[0mresults\u001b[0m \u001b[1;33m=\u001b[0m \u001b[0mbatch\u001b[0m\u001b[1;33m(\u001b[0m\u001b[1;33m)\u001b[0m\u001b[1;33m\u001b[0m\u001b[1;33m\u001b[0m\u001b[0m\n\u001b[0m\u001b[0;32m    571\u001b[0m \u001b[1;33m\u001b[0m\u001b[0m\n\u001b[0;32m    572\u001b[0m     \u001b[1;32mdef\u001b[0m \u001b[0mget\u001b[0m\u001b[1;33m(\u001b[0m\u001b[0mself\u001b[0m\u001b[1;33m)\u001b[0m\u001b[1;33m:\u001b[0m\u001b[1;33m\u001b[0m\u001b[1;33m\u001b[0m\u001b[0m\n",
      "\u001b[1;32mC:\\ProgramData\\Anaconda3\\envs\\zillion_picks\\lib\\site-packages\\joblib\\parallel.py\u001b[0m in \u001b[0;36m__call__\u001b[1;34m(self)\u001b[0m\n\u001b[0;32m    250\u001b[0m         \u001b[1;31m# change the default number of processes to -1\u001b[0m\u001b[1;33m\u001b[0m\u001b[1;33m\u001b[0m\u001b[1;33m\u001b[0m\u001b[0m\n\u001b[0;32m    251\u001b[0m         \u001b[1;32mwith\u001b[0m \u001b[0mparallel_backend\u001b[0m\u001b[1;33m(\u001b[0m\u001b[0mself\u001b[0m\u001b[1;33m.\u001b[0m\u001b[0m_backend\u001b[0m\u001b[1;33m,\u001b[0m \u001b[0mn_jobs\u001b[0m\u001b[1;33m=\u001b[0m\u001b[0mself\u001b[0m\u001b[1;33m.\u001b[0m\u001b[0m_n_jobs\u001b[0m\u001b[1;33m)\u001b[0m\u001b[1;33m:\u001b[0m\u001b[1;33m\u001b[0m\u001b[1;33m\u001b[0m\u001b[0m\n\u001b[1;32m--> 252\u001b[1;33m             return [func(*args, **kwargs)\n\u001b[0m\u001b[0;32m    253\u001b[0m                     for func, args, kwargs in self.items]\n\u001b[0;32m    254\u001b[0m \u001b[1;33m\u001b[0m\u001b[0m\n",
      "\u001b[1;32mC:\\ProgramData\\Anaconda3\\envs\\zillion_picks\\lib\\site-packages\\joblib\\parallel.py\u001b[0m in \u001b[0;36m<listcomp>\u001b[1;34m(.0)\u001b[0m\n\u001b[0;32m    250\u001b[0m         \u001b[1;31m# change the default number of processes to -1\u001b[0m\u001b[1;33m\u001b[0m\u001b[1;33m\u001b[0m\u001b[1;33m\u001b[0m\u001b[0m\n\u001b[0;32m    251\u001b[0m         \u001b[1;32mwith\u001b[0m \u001b[0mparallel_backend\u001b[0m\u001b[1;33m(\u001b[0m\u001b[0mself\u001b[0m\u001b[1;33m.\u001b[0m\u001b[0m_backend\u001b[0m\u001b[1;33m,\u001b[0m \u001b[0mn_jobs\u001b[0m\u001b[1;33m=\u001b[0m\u001b[0mself\u001b[0m\u001b[1;33m.\u001b[0m\u001b[0m_n_jobs\u001b[0m\u001b[1;33m)\u001b[0m\u001b[1;33m:\u001b[0m\u001b[1;33m\u001b[0m\u001b[1;33m\u001b[0m\u001b[0m\n\u001b[1;32m--> 252\u001b[1;33m             return [func(*args, **kwargs)\n\u001b[0m\u001b[0;32m    253\u001b[0m                     for func, args, kwargs in self.items]\n\u001b[0;32m    254\u001b[0m \u001b[1;33m\u001b[0m\u001b[0m\n",
      "\u001b[1;32mC:\\ProgramData\\Anaconda3\\envs\\zillion_picks\\lib\\site-packages\\sklearn\\pipeline.py\u001b[0m in \u001b[0;36m_fit_transform_one\u001b[1;34m(transformer, X, y, weight, message_clsname, message, **fit_params)\u001b[0m\n\u001b[0;32m    726\u001b[0m     \u001b[1;32mwith\u001b[0m \u001b[0m_print_elapsed_time\u001b[0m\u001b[1;33m(\u001b[0m\u001b[0mmessage_clsname\u001b[0m\u001b[1;33m,\u001b[0m \u001b[0mmessage\u001b[0m\u001b[1;33m)\u001b[0m\u001b[1;33m:\u001b[0m\u001b[1;33m\u001b[0m\u001b[1;33m\u001b[0m\u001b[0m\n\u001b[0;32m    727\u001b[0m         \u001b[1;32mif\u001b[0m \u001b[0mhasattr\u001b[0m\u001b[1;33m(\u001b[0m\u001b[0mtransformer\u001b[0m\u001b[1;33m,\u001b[0m \u001b[1;34m'fit_transform'\u001b[0m\u001b[1;33m)\u001b[0m\u001b[1;33m:\u001b[0m\u001b[1;33m\u001b[0m\u001b[1;33m\u001b[0m\u001b[0m\n\u001b[1;32m--> 728\u001b[1;33m             \u001b[0mres\u001b[0m \u001b[1;33m=\u001b[0m \u001b[0mtransformer\u001b[0m\u001b[1;33m.\u001b[0m\u001b[0mfit_transform\u001b[0m\u001b[1;33m(\u001b[0m\u001b[0mX\u001b[0m\u001b[1;33m,\u001b[0m \u001b[0my\u001b[0m\u001b[1;33m,\u001b[0m \u001b[1;33m**\u001b[0m\u001b[0mfit_params\u001b[0m\u001b[1;33m)\u001b[0m\u001b[1;33m\u001b[0m\u001b[1;33m\u001b[0m\u001b[0m\n\u001b[0m\u001b[0;32m    729\u001b[0m         \u001b[1;32melse\u001b[0m\u001b[1;33m:\u001b[0m\u001b[1;33m\u001b[0m\u001b[1;33m\u001b[0m\u001b[0m\n\u001b[0;32m    730\u001b[0m             \u001b[0mres\u001b[0m \u001b[1;33m=\u001b[0m \u001b[0mtransformer\u001b[0m\u001b[1;33m.\u001b[0m\u001b[0mfit\u001b[0m\u001b[1;33m(\u001b[0m\u001b[0mX\u001b[0m\u001b[1;33m,\u001b[0m \u001b[0my\u001b[0m\u001b[1;33m,\u001b[0m \u001b[1;33m**\u001b[0m\u001b[0mfit_params\u001b[0m\u001b[1;33m)\u001b[0m\u001b[1;33m.\u001b[0m\u001b[0mtransform\u001b[0m\u001b[1;33m(\u001b[0m\u001b[0mX\u001b[0m\u001b[1;33m)\u001b[0m\u001b[1;33m\u001b[0m\u001b[1;33m\u001b[0m\u001b[0m\n",
      "\u001b[1;32mC:\\ProgramData\\Anaconda3\\envs\\zillion_picks\\lib\\site-packages\\sklearn\\base.py\u001b[0m in \u001b[0;36mfit_transform\u001b[1;34m(self, X, y, **fit_params)\u001b[0m\n\u001b[0;32m    569\u001b[0m         \u001b[1;32mif\u001b[0m \u001b[0my\u001b[0m \u001b[1;32mis\u001b[0m \u001b[1;32mNone\u001b[0m\u001b[1;33m:\u001b[0m\u001b[1;33m\u001b[0m\u001b[1;33m\u001b[0m\u001b[0m\n\u001b[0;32m    570\u001b[0m             \u001b[1;31m# fit method of arity 1 (unsupervised transformation)\u001b[0m\u001b[1;33m\u001b[0m\u001b[1;33m\u001b[0m\u001b[1;33m\u001b[0m\u001b[0m\n\u001b[1;32m--> 571\u001b[1;33m             \u001b[1;32mreturn\u001b[0m \u001b[0mself\u001b[0m\u001b[1;33m.\u001b[0m\u001b[0mfit\u001b[0m\u001b[1;33m(\u001b[0m\u001b[0mX\u001b[0m\u001b[1;33m,\u001b[0m \u001b[1;33m**\u001b[0m\u001b[0mfit_params\u001b[0m\u001b[1;33m)\u001b[0m\u001b[1;33m.\u001b[0m\u001b[0mtransform\u001b[0m\u001b[1;33m(\u001b[0m\u001b[0mX\u001b[0m\u001b[1;33m)\u001b[0m\u001b[1;33m\u001b[0m\u001b[1;33m\u001b[0m\u001b[0m\n\u001b[0m\u001b[0;32m    572\u001b[0m         \u001b[1;32melse\u001b[0m\u001b[1;33m:\u001b[0m\u001b[1;33m\u001b[0m\u001b[1;33m\u001b[0m\u001b[0m\n\u001b[0;32m    573\u001b[0m             \u001b[1;31m# fit method of arity 2 (supervised transformation)\u001b[0m\u001b[1;33m\u001b[0m\u001b[1;33m\u001b[0m\u001b[1;33m\u001b[0m\u001b[0m\n",
      "\u001b[1;32mC:\\ProgramData\\Anaconda3\\envs\\zillion_picks\\lib\\site-packages\\sklearn\\preprocessing\\_encoders.py\u001b[0m in \u001b[0;36mfit\u001b[1;34m(self, X, y)\u001b[0m\n\u001b[0;32m    627\u001b[0m         \u001b[0mself\u001b[0m\u001b[1;33m\u001b[0m\u001b[1;33m\u001b[0m\u001b[0m\n\u001b[0;32m    628\u001b[0m         \"\"\"\n\u001b[1;32m--> 629\u001b[1;33m         \u001b[0mself\u001b[0m\u001b[1;33m.\u001b[0m\u001b[0m_fit\u001b[0m\u001b[1;33m(\u001b[0m\u001b[0mX\u001b[0m\u001b[1;33m)\u001b[0m\u001b[1;33m\u001b[0m\u001b[1;33m\u001b[0m\u001b[0m\n\u001b[0m\u001b[0;32m    630\u001b[0m \u001b[1;33m\u001b[0m\u001b[0m\n\u001b[0;32m    631\u001b[0m         \u001b[1;32mreturn\u001b[0m \u001b[0mself\u001b[0m\u001b[1;33m\u001b[0m\u001b[1;33m\u001b[0m\u001b[0m\n",
      "\u001b[1;32mC:\\ProgramData\\Anaconda3\\envs\\zillion_picks\\lib\\site-packages\\sklearn\\preprocessing\\_encoders.py\u001b[0m in \u001b[0;36m_fit\u001b[1;34m(self, X, handle_unknown)\u001b[0m\n\u001b[0;32m     72\u001b[0m \u001b[1;33m\u001b[0m\u001b[0m\n\u001b[0;32m     73\u001b[0m     \u001b[1;32mdef\u001b[0m \u001b[0m_fit\u001b[0m\u001b[1;33m(\u001b[0m\u001b[0mself\u001b[0m\u001b[1;33m,\u001b[0m \u001b[0mX\u001b[0m\u001b[1;33m,\u001b[0m \u001b[0mhandle_unknown\u001b[0m\u001b[1;33m=\u001b[0m\u001b[1;34m'error'\u001b[0m\u001b[1;33m)\u001b[0m\u001b[1;33m:\u001b[0m\u001b[1;33m\u001b[0m\u001b[1;33m\u001b[0m\u001b[0m\n\u001b[1;32m---> 74\u001b[1;33m         \u001b[0mX_list\u001b[0m\u001b[1;33m,\u001b[0m \u001b[0mn_samples\u001b[0m\u001b[1;33m,\u001b[0m \u001b[0mn_features\u001b[0m \u001b[1;33m=\u001b[0m \u001b[0mself\u001b[0m\u001b[1;33m.\u001b[0m\u001b[0m_check_X\u001b[0m\u001b[1;33m(\u001b[0m\u001b[0mX\u001b[0m\u001b[1;33m)\u001b[0m\u001b[1;33m\u001b[0m\u001b[1;33m\u001b[0m\u001b[0m\n\u001b[0m\u001b[0;32m     75\u001b[0m \u001b[1;33m\u001b[0m\u001b[0m\n\u001b[0;32m     76\u001b[0m         \u001b[1;32mif\u001b[0m \u001b[0mself\u001b[0m\u001b[1;33m.\u001b[0m\u001b[0mcategories\u001b[0m \u001b[1;33m!=\u001b[0m \u001b[1;34m'auto'\u001b[0m\u001b[1;33m:\u001b[0m\u001b[1;33m\u001b[0m\u001b[1;33m\u001b[0m\u001b[0m\n",
      "\u001b[1;32mC:\\ProgramData\\Anaconda3\\envs\\zillion_picks\\lib\\site-packages\\sklearn\\preprocessing\\_encoders.py\u001b[0m in \u001b[0;36m_check_X\u001b[1;34m(self, X)\u001b[0m\n\u001b[0;32m     58\u001b[0m         \u001b[1;32mfor\u001b[0m \u001b[0mi\u001b[0m \u001b[1;32min\u001b[0m \u001b[0mrange\u001b[0m\u001b[1;33m(\u001b[0m\u001b[0mn_features\u001b[0m\u001b[1;33m)\u001b[0m\u001b[1;33m:\u001b[0m\u001b[1;33m\u001b[0m\u001b[1;33m\u001b[0m\u001b[0m\n\u001b[0;32m     59\u001b[0m             \u001b[0mXi\u001b[0m \u001b[1;33m=\u001b[0m \u001b[0mself\u001b[0m\u001b[1;33m.\u001b[0m\u001b[0m_get_feature\u001b[0m\u001b[1;33m(\u001b[0m\u001b[0mX\u001b[0m\u001b[1;33m,\u001b[0m \u001b[0mfeature_idx\u001b[0m\u001b[1;33m=\u001b[0m\u001b[0mi\u001b[0m\u001b[1;33m)\u001b[0m\u001b[1;33m\u001b[0m\u001b[1;33m\u001b[0m\u001b[0m\n\u001b[1;32m---> 60\u001b[1;33m             Xi = check_array(Xi, ensure_2d=False, dtype=None,\n\u001b[0m\u001b[0;32m     61\u001b[0m                              force_all_finite=needs_validation)\n\u001b[0;32m     62\u001b[0m             \u001b[0mX_columns\u001b[0m\u001b[1;33m.\u001b[0m\u001b[0mappend\u001b[0m\u001b[1;33m(\u001b[0m\u001b[0mXi\u001b[0m\u001b[1;33m)\u001b[0m\u001b[1;33m\u001b[0m\u001b[1;33m\u001b[0m\u001b[0m\n",
      "\u001b[1;32mC:\\ProgramData\\Anaconda3\\envs\\zillion_picks\\lib\\site-packages\\sklearn\\utils\\validation.py\u001b[0m in \u001b[0;36mcheck_array\u001b[1;34m(array, accept_sparse, accept_large_sparse, dtype, order, copy, force_all_finite, ensure_2d, allow_nd, ensure_min_samples, ensure_min_features, warn_on_dtype, estimator)\u001b[0m\n\u001b[0;32m    581\u001b[0m         \u001b[0mn_samples\u001b[0m \u001b[1;33m=\u001b[0m \u001b[0m_num_samples\u001b[0m\u001b[1;33m(\u001b[0m\u001b[0marray\u001b[0m\u001b[1;33m)\u001b[0m\u001b[1;33m\u001b[0m\u001b[1;33m\u001b[0m\u001b[0m\n\u001b[0;32m    582\u001b[0m         \u001b[1;32mif\u001b[0m \u001b[0mn_samples\u001b[0m \u001b[1;33m<\u001b[0m \u001b[0mensure_min_samples\u001b[0m\u001b[1;33m:\u001b[0m\u001b[1;33m\u001b[0m\u001b[1;33m\u001b[0m\u001b[0m\n\u001b[1;32m--> 583\u001b[1;33m             raise ValueError(\"Found array with %d sample(s) (shape=%s) while a\"\n\u001b[0m\u001b[0;32m    584\u001b[0m                              \u001b[1;34m\" minimum of %d is required%s.\"\u001b[0m\u001b[1;33m\u001b[0m\u001b[1;33m\u001b[0m\u001b[0m\n\u001b[0;32m    585\u001b[0m                              % (n_samples, array.shape, ensure_min_samples,\n",
      "\u001b[1;31mValueError\u001b[0m: Found array with 0 sample(s) (shape=(0,)) while a minimum of 1 is required."
     ]
    }
   ],
   "source": [
    "# Use in production\n",
    "X_train = df[(df.start_date.dt.tz_convert('US/Central') < today_localize)]\n",
    "X_test = df[(df.start_date.dt.tz_convert('US/Central') >= today_localize)] \n",
    "\n",
    "# Use in development\n",
    "# X_train = df[(df['week'] < predict_week) | (df['season'] < predict_season)] \n",
    "# X_test = df[(df['week'] == predict_week) & (df['season'] == predict_season)] \n",
    "\n",
    "model_regressor = XGBRegressor(learning_rate=0.1, \n",
    "                                colsample_bytree=0.9,\n",
    "                                gamma=0.5,\n",
    "                                max_depth=2,\n",
    "                                min_child_weight=4,\n",
    "                                n_estimators=100,\n",
    "                                subsample=0.8)\n",
    "\n",
    "model_regressor.fit(\n",
    "    ct.fit_transform(\n",
    "        X_train.drop(drop_columns, axis=1)), \n",
    "        X_train['spread_target']\n",
    "        )\n",
    "\n",
    "X_train['predicted_spread'] = model_regressor.predict(ct.fit_transform(X_train.drop(drop_columns, axis=1)))\n",
    "X_test['predicted_spread'] = model_regressor.predict(ct.fit_transform(X_test.drop(drop_columns, axis=1)))\n",
    "\n",
    "# Clean Up\n",
    "X_train['predicted_spread'] = np.around(X_train['predicted_spread'] / .5, decimals=0) * .5\n",
    "X_test['predicted_spread'] = np.around(X_test['predicted_spread'] / .5, decimals=0) * .5\n",
    "\n",
    "X_train['regression_spread_pred'] = np.where(X_train['predicted_spread'] <= X_train['pre_game_spread'], 1, 0)\n",
    "X_test['regression_spread_pred'] = np.where(X_test['predicted_spread'] <= X_test['pre_game_spread'], 1, 0)\n",
    "\n",
    "X_train['spread_result'] = np.where(X_train['spread_target'] <= X_train['pre_game_spread'], 1, 0)\n",
    "X_test['spread_result'] = np.where(X_test['spread_target'] <= X_test['pre_game_spread'], 1, 0)\n",
    "\n",
    "model_classifier = XGBClassifier(base_score=0.5, booster='gbtree', colsample_bylevel=1,\n",
    "            colsample_bynode=1, colsample_bytree=0.8, gamma=5, gpu_id=-1,\n",
    "            importance_type='gain', interaction_constraints='',\n",
    "            learning_rate=0.1, max_delta_step=0, max_depth=5,\n",
    "            min_child_weight=10, monotone_constraints='()',\n",
    "            n_estimators=100, n_jobs=0, num_parallel_tree=1,\n",
    "            objective='binary:logistic', random_state=0, reg_alpha=0,\n",
    "            reg_lambda=1, scale_pos_weight=1, subsample=1.0,\n",
    "            tree_method='exact', validate_parameters=1, verbosity=None)\n",
    "\n",
    "# Update drop columns list for Classifier Model\n",
    "drop_columns.append('spread_result')\n",
    "drop_columns.remove('pre_game_spread')   \n",
    "\n",
    "model_classifier.fit(ct.fit_transform(X_train.drop(drop_columns, axis=1)), X_train['spread_result'])\n",
    "\n",
    "X_train['classification_spread_pred'] = model_classifier.predict(ct.fit_transform(X_train.drop(drop_columns, axis=1)))\n",
    "X_test['classification_spread_pred'] = model_classifier.predict(ct.fit_transform(X_test.drop(drop_columns, axis=1)))\n",
    "\n",
    "# Add so the Predict Probability is Aligned\n",
    "drop_columns.append('classification_spread_pred')\n",
    "\n",
    "X_train['classification_confidence'] = model_classifier.predict_proba(ct.fit_transform(X_train.drop(drop_columns, axis=1)))[:,0]\n",
    "X_test['classification_confidence'] = model_classifier.predict_proba(ct.fit_transform(X_test.drop(drop_columns, axis=1)))[:,0] \n"
   ]
  },
  {
   "cell_type": "code",
   "execution_count": null,
   "metadata": {},
   "outputs": [],
   "source": []
  },
  {
   "cell_type": "code",
   "execution_count": null,
   "metadata": {},
   "outputs": [],
   "source": [
    "predict_df = X_test[final_columns]\n",
    "predict_df.head(10)"
   ]
  },
  {
   "cell_type": "code",
   "execution_count": null,
   "metadata": {},
   "outputs": [],
   "source": [
    "# Pull in games that have occurred within the current week to append to the predictions\n",
    "filepath = Path('../zillion_picks/picks')\n",
    "\n",
    "result_dfs = []\n",
    "\n",
    "for file in filepath.rglob('*.csv'):\n",
    "    result_df = pd.read_csv(file)\n",
    "\n",
    "\n",
    "    result_dfs.append(result_df)\n",
    "\n",
    "result_df = pd.concat(result_dfs)\n",
    "\n",
    "result_df = result_df[(result_df['week'] == predict_week) & (result_df['season'] == predict_season)]\n",
    "\n",
    "try:\n",
    "    result_df = result_df[~result_df.game_id.isin(predict_df.game_id)]\n",
    "    result_df = result_df.drop(['actual_spread', 'spread_result', 'start_date'], axis=1)\n",
    "\n",
    "except:\n",
    "        result_df = result_df.drop(['actual_spread', 'spread_result', 'start_date'], axis=1)\n",
    "\n",
    "result_df.head()"
   ]
  },
  {
   "cell_type": "code",
   "execution_count": null,
   "metadata": {},
   "outputs": [],
   "source": [
    "# Merge Predit and Result Dataframes\n",
    "try:\n",
    "    predict_df = pd.concat([result_df, predict_df])\n",
    "except:\n",
    "    predict_df = result_df"
   ]
  },
  {
   "cell_type": "code",
   "execution_count": null,
   "metadata": {},
   "outputs": [],
   "source": [
    "# Add spread target in case the game is complete\n",
    "predict_df = predict_df.merge(df[['game_id', 'spread_target', 'start_date']], on='game_id', how='left')\n",
    "predict_df.head()"
   ]
  },
  {
   "cell_type": "code",
   "execution_count": null,
   "metadata": {},
   "outputs": [],
   "source": [
    "predict_df['spread_result'] = np.where(predict_df['spread_target'] <= predict_df['pre_game_spread'], 1, 0)\n",
    "predict_df.head()"
   ]
  },
  {
   "cell_type": "code",
   "execution_count": 29,
   "metadata": {},
   "outputs": [
    {
     "output_type": "execute_result",
     "data": {
      "text/plain": "     game_id  season  week season_type         home_team    home_conference  \\\n0  401236041    2020     3     regular    Oklahoma State             Big 12   \n1  401234569    2020     3     regular        Louisville                ACC   \n2  401207124    2020     3     regular  Western Kentucky     Conference USA   \n3  401212522    2020     3     regular            Tulane  American Athletic   \n4  401234567    2020     3     regular              Duke                ACC   \n\n        away_team    away_conference  pre_game_spread  predicted_spread  \\\n0           Tulsa  American Athletic            -23.5              -9.5   \n1           Miami                ACC             -2.5              -1.5   \n2         Liberty   FBS Independents            -14.0              -4.5   \n3            Navy  American Athletic             -7.0              -7.5   \n4  Boston College                ACC             -6.0               2.5   \n\n   regression_spread_pred  classification_spread_pred  \\\n0                       0                           1   \n1                       0                           0   \n2                       0                           0   \n3                       1                           1   \n4                       0                           1   \n\n   classification_confidence regression_spread_result  \\\n0                   0.271899                      NaN   \n1                   0.554085                      NaN   \n2                   0.579744                      NaN   \n3                   0.444943                      NaN   \n4                   0.417222                      NaN   \n\n  classification_spread_result  actual_spread                start_date  \\\n0                          NaN            0.0 2020-09-19 16:00:00+00:00   \n1                          NaN            0.0 2020-09-19 04:00:00+00:00   \n2                          NaN            0.0 2020-09-19 16:00:00+00:00   \n3                          NaN            0.0 2020-09-19 16:00:00+00:00   \n4                          NaN            0.0 2020-09-19 16:00:00+00:00   \n\n   spread_result  \n0            NaN  \n1            NaN  \n2            NaN  \n3            NaN  \n4            NaN  ",
      "text/html": "<div>\n<style scoped>\n    .dataframe tbody tr th:only-of-type {\n        vertical-align: middle;\n    }\n\n    .dataframe tbody tr th {\n        vertical-align: top;\n    }\n\n    .dataframe thead th {\n        text-align: right;\n    }\n</style>\n<table border=\"1\" class=\"dataframe\">\n  <thead>\n    <tr style=\"text-align: right;\">\n      <th></th>\n      <th>game_id</th>\n      <th>season</th>\n      <th>week</th>\n      <th>season_type</th>\n      <th>home_team</th>\n      <th>home_conference</th>\n      <th>away_team</th>\n      <th>away_conference</th>\n      <th>pre_game_spread</th>\n      <th>predicted_spread</th>\n      <th>regression_spread_pred</th>\n      <th>classification_spread_pred</th>\n      <th>classification_confidence</th>\n      <th>regression_spread_result</th>\n      <th>classification_spread_result</th>\n      <th>actual_spread</th>\n      <th>start_date</th>\n      <th>spread_result</th>\n    </tr>\n  </thead>\n  <tbody>\n    <tr>\n      <th>0</th>\n      <td>401236041</td>\n      <td>2020</td>\n      <td>3</td>\n      <td>regular</td>\n      <td>Oklahoma State</td>\n      <td>Big 12</td>\n      <td>Tulsa</td>\n      <td>American Athletic</td>\n      <td>-23.5</td>\n      <td>-9.5</td>\n      <td>0</td>\n      <td>1</td>\n      <td>0.271899</td>\n      <td>NaN</td>\n      <td>NaN</td>\n      <td>0.0</td>\n      <td>2020-09-19 16:00:00+00:00</td>\n      <td>NaN</td>\n    </tr>\n    <tr>\n      <th>1</th>\n      <td>401234569</td>\n      <td>2020</td>\n      <td>3</td>\n      <td>regular</td>\n      <td>Louisville</td>\n      <td>ACC</td>\n      <td>Miami</td>\n      <td>ACC</td>\n      <td>-2.5</td>\n      <td>-1.5</td>\n      <td>0</td>\n      <td>0</td>\n      <td>0.554085</td>\n      <td>NaN</td>\n      <td>NaN</td>\n      <td>0.0</td>\n      <td>2020-09-19 04:00:00+00:00</td>\n      <td>NaN</td>\n    </tr>\n    <tr>\n      <th>2</th>\n      <td>401207124</td>\n      <td>2020</td>\n      <td>3</td>\n      <td>regular</td>\n      <td>Western Kentucky</td>\n      <td>Conference USA</td>\n      <td>Liberty</td>\n      <td>FBS Independents</td>\n      <td>-14.0</td>\n      <td>-4.5</td>\n      <td>0</td>\n      <td>0</td>\n      <td>0.579744</td>\n      <td>NaN</td>\n      <td>NaN</td>\n      <td>0.0</td>\n      <td>2020-09-19 16:00:00+00:00</td>\n      <td>NaN</td>\n    </tr>\n    <tr>\n      <th>3</th>\n      <td>401212522</td>\n      <td>2020</td>\n      <td>3</td>\n      <td>regular</td>\n      <td>Tulane</td>\n      <td>American Athletic</td>\n      <td>Navy</td>\n      <td>American Athletic</td>\n      <td>-7.0</td>\n      <td>-7.5</td>\n      <td>1</td>\n      <td>1</td>\n      <td>0.444943</td>\n      <td>NaN</td>\n      <td>NaN</td>\n      <td>0.0</td>\n      <td>2020-09-19 16:00:00+00:00</td>\n      <td>NaN</td>\n    </tr>\n    <tr>\n      <th>4</th>\n      <td>401234567</td>\n      <td>2020</td>\n      <td>3</td>\n      <td>regular</td>\n      <td>Duke</td>\n      <td>ACC</td>\n      <td>Boston College</td>\n      <td>ACC</td>\n      <td>-6.0</td>\n      <td>2.5</td>\n      <td>0</td>\n      <td>1</td>\n      <td>0.417222</td>\n      <td>NaN</td>\n      <td>NaN</td>\n      <td>0.0</td>\n      <td>2020-09-19 16:00:00+00:00</td>\n      <td>NaN</td>\n    </tr>\n  </tbody>\n</table>\n</div>"
     },
     "metadata": {},
     "execution_count": 29
    }
   ],
   "source": [
    "# Spread Result Calculation\n",
    "predict_df['regression_spread_result'] = np.where(predict_df['spread_result'] == predict_df['regression_spread_pred'], 'Won', 'Lost')\n",
    "predict_df['regression_spread_result'] = np.where(predict_df['spread_target'] == predict_df['pre_game_spread'], 'Push', predict_df['regression_spread_result'])\n",
    "\n",
    "predict_df['classification_spread_result'] = np.where(predict_df['spread_result'] == predict_df['classification_spread_pred'], 'Won', 'Lost')\n",
    "predict_df['classification_spread_result'] = np.where(predict_df['spread_target'] == predict_df['pre_game_spread'], 'Push', predict_df['classification_spread_result'])\n",
    "\n",
    "# Remove Results from Games that haven't been played\n",
    "predict_df[['regression_spread_result', 'classification_spread_result', 'spread_result']] = predict_df[['regression_spread_result', 'classification_spread_result', 'spread_result']].where(predict_df.spread_target.ne(0), np.nan)\n",
    "\n",
    "# Rename Column\n",
    "predict_df = predict_df.rename(columns={'spread_target':'actual_spread'})\n",
    "predict_df['week'] = predict_df['week'].mode()[0]\n",
    "\n",
    "predict_df.head()"
   ]
  },
  {
   "cell_type": "code",
   "execution_count": 30,
   "metadata": {},
   "outputs": [],
   "source": [
    "# Export\n",
    "filepath = Path('../zillion_picks/picks')\n",
    "\n",
    "for key, group in predict_df.groupby(['season', 'week', 'season_type']):\n",
    "    if group.season_type.unique() == 'postseason':\n",
    "        group.to_csv(filepath/f'premium/{key[0]}_postseason.csv', index=False)\n",
    "    else:\n",
    "        group.to_csv(filepath/f'premium/{key[0]}_{str(key[1]).rjust(2, \"0\")}.csv', index=False)"
   ]
  },
  {
   "cell_type": "code",
   "execution_count": null,
   "metadata": {},
   "outputs": [],
   "source": []
  },
  {
   "cell_type": "code",
   "execution_count": 68,
   "metadata": {
    "tags": []
   },
   "outputs": [
    {
     "output_type": "stream",
     "name": "stdout",
     "text": "2019 Week 1 Regression Accuracy: 54.22%\n2019 Week 1 Classification Accuracy: 54.22%\n2019 Week 2 Regression Accuracy: 53.42%\n2019 Week 2 Classification Accuracy: 52.05%\n2019 Week 3 Regression Accuracy: 43.28%\n2019 Week 3 Classification Accuracy: 52.24%\n2019 Week 4 Regression Accuracy: 43.1%\n2019 Week 4 Classification Accuracy: 41.38%\n2019 Week 5 Regression Accuracy: 56.36%\n2019 Week 5 Classification Accuracy: 41.82%\n2019 Week 6 Regression Accuracy: 59.57%\n2019 Week 6 Classification Accuracy: 63.83%\n2019 Week 7 Regression Accuracy: 50.94%\n2019 Week 7 Classification Accuracy: 69.81%\n2019 Week 8 Regression Accuracy: 47.54%\n2019 Week 8 Classification Accuracy: 49.18%\n2019 Week 9 Regression Accuracy: 52.73%\n2019 Week 9 Classification Accuracy: 54.55%\n2019 Week 10 Regression Accuracy: 52.08%\n2019 Week 10 Classification Accuracy: 56.25%\n2019 Week 11 Regression Accuracy: 39.58%\n2019 Week 11 Classification Accuracy: 41.67%\n2019 Week 12 Regression Accuracy: 50.94%\n2019 Week 12 Classification Accuracy: 62.26%\n2019 Week 13 Regression Accuracy: 60.32%\n2019 Week 13 Classification Accuracy: 44.44%\n2019 Week 14 Regression Accuracy: 48.44%\n2019 Week 14 Classification Accuracy: 54.69%\n2019 Week 15 Regression Accuracy: 45.45%\n2019 Week 15 Classification Accuracy: 54.55%\n2019 Week 16 Regression Accuracy: 47.5%\n2019 Week 16 Classification Accuracy: 52.5%\n"
    }
   ],
   "source": [
    "# REGRESSION AND CLASSIFIER MODEL\n",
    "\n",
    "# Load\n",
    "predict_season = 2019\n",
    "\n",
    "for predict_week in range(1,17):\n",
    "\n",
    "    df = dataset(predict_season=predict_season, predict_week=predict_week, window_size=4, update_data=False)\n",
    "\n",
    "    # Prep Dataset\n",
    "    df[df.columns[df.columns.str.contains('home|Home')]] = df[df.columns[df.columns.str.contains(\n",
    "        'home|Home')]].groupby('home_team', as_index=False, group_keys=False).apply(lambda x: x.fillna(x.mean()))\n",
    "\n",
    "    df[df.columns[df.columns.str.contains('away|Away')]] = df[df.columns[df.columns.str.contains(\n",
    "        'away|Away')]].groupby('away_team', as_index=False, group_keys=False).apply(lambda x: x.fillna(x.mean()))\n",
    "\n",
    "    df = df.dropna(axis=1, thresh=int(len(df) * .9))\n",
    "    df = df.fillna(0)\n",
    "    df[df.select_dtypes('bool').columns] = df.select_dtypes('bool').astype('int')\n",
    "\n",
    "    # Model\n",
    "    ct = make_column_transformer(\n",
    "        (OrdinalEncoder(), ['season_type', 'home_conference', 'away_conference']),\n",
    "        remainder='passthrough'\n",
    "    )\n",
    "\n",
    "    drop_columns =  ['game_id', 'season', 'venue', 'start_date', 'home_team', 'away_team', \n",
    "                    'start_date', 'spread_target', 'pre_game_spread', 'pre_game_home_win_prob', 'pre_game_away_win_prob'\n",
    "                    ]\n",
    "\n",
    "    # Use in production\n",
    "    # X_train = df[(df.start_date.dt.tz_convert('US/Central') < today_localize)]\n",
    "    # X_test = df[(df.start_date.dt.tz_convert('US/Central') >= today_localize)] \n",
    "\n",
    "    # Use in development\n",
    "    X_train = df[(df['week'] < predict_week) | (df['season'] < predict_season)] \n",
    "    X_test = df[(df['week'] == predict_week) & (df['season'] == predict_season)] \n",
    "\n",
    "    model_regressor = XGBRegressor(learning_rate=0.1, \n",
    "                                    colsample_bytree=0.9,\n",
    "                                    gamma=0.5,\n",
    "                                    max_depth=2,\n",
    "                                    min_child_weight=4,\n",
    "                                    n_estimators=100,\n",
    "                                    subsample=0.8)\n",
    "\n",
    "    model_regressor.fit(\n",
    "        ct.fit_transform(\n",
    "            X_train.drop(drop_columns, axis=1)), \n",
    "            X_train['spread_target']\n",
    "            )\n",
    "    \n",
    "    # Use this for later to determine feature importance\n",
    "    model_regressor_cols = X_train.drop(drop_columns, axis=1).columns\n",
    "\n",
    "    X_train['predicted_spread'] = model_regressor.predict(ct.fit_transform(X_train.drop(drop_columns, axis=1)))\n",
    "    X_test['predicted_spread'] = model_regressor.predict(ct.fit_transform(X_test.drop(drop_columns, axis=1)))\n",
    "\n",
    "    # Clean Up\n",
    "    X_train['predicted_spread'] = np.around(X_train['predicted_spread'] / .5, decimals=0) * .5\n",
    "    X_test['predicted_spread'] = np.around(X_test['predicted_spread'] / .5, decimals=0) * .5\n",
    "\n",
    "    X_train['regression_spread_pred'] = np.where(X_train['predicted_spread'] <= X_train['pre_game_spread'], 1, 0)\n",
    "    X_test['regression_spread_pred'] = np.where(X_test['predicted_spread'] <= X_test['pre_game_spread'], 1, 0)\n",
    "\n",
    "    X_train['spread_result'] = np.where(X_train['spread_target'] <= X_train['pre_game_spread'], 1, 0)\n",
    "    X_test['spread_result'] = np.where(X_test['spread_target'] <= X_test['pre_game_spread'], 1, 0)\n",
    "\n",
    "    model_classifier = XGBClassifier(base_score=0.5, booster='gbtree', colsample_bylevel=1,\n",
    "                colsample_bynode=1, colsample_bytree=0.8, gamma=5, gpu_id=-1,\n",
    "                importance_type='gain', interaction_constraints='',\n",
    "                learning_rate=0.1, max_delta_step=0, max_depth=5,\n",
    "                min_child_weight=10, monotone_constraints='()',\n",
    "                n_estimators=100, n_jobs=0, num_parallel_tree=1,\n",
    "                objective='binary:logistic', random_state=0, reg_alpha=0,\n",
    "                reg_lambda=1, scale_pos_weight=1, subsample=1.0,\n",
    "                tree_method='exact', validate_parameters=1, verbosity=None)\n",
    "\n",
    "    # Update drop columns list for Classifier Model\n",
    "    drop_columns.append('spread_result')\n",
    "    drop_columns.remove('pre_game_spread')   \n",
    "\n",
    "    model_classifier.fit(ct.fit_transform(X_train.drop(drop_columns, axis=1)), X_train['spread_result'])\n",
    "    \n",
    "    # Use this for later to determine feature importance\n",
    "    model_classifier_cols = X_train.drop(drop_columns, axis=1).columns\n",
    "\n",
    "    X_train['classification_spread_pred'] = model_classifier.predict(ct.fit_transform(X_train.drop(drop_columns, axis=1)))\n",
    "    X_test['classification_spread_pred'] = model_classifier.predict(ct.fit_transform(X_test.drop(drop_columns, axis=1)))\n",
    "\n",
    "    # Add so the Predict Probability is Aligned\n",
    "    drop_columns.append('classification_spread_pred')\n",
    "\n",
    "    X_train['classification_confidence'] = model_classifier.predict_proba(ct.fit_transform(X_train.drop(drop_columns, axis=1)))[:,0]\n",
    "    X_test['classification_confidence'] = model_classifier.predict_proba(ct.fit_transform(X_test.drop(drop_columns, axis=1)))[:,0] \n",
    "\n",
    "    predict_df = X_test[final_columns]\n",
    "\n",
    "    predict_df = predict_df.merge(df[['game_id', 'spread_target', 'start_date']], on='game_id', how='left')\n",
    "    predict_df['spread_result'] = np.where(predict_df['spread_target'] <= predict_df['pre_game_spread'], 1, 0)\n",
    "\n",
    "    predict_df['regression_spread_result'] = np.where(predict_df['spread_result'] == predict_df['regression_spread_pred'], 'Won', 'Lost')\n",
    "    predict_df['regression_spread_result'] = np.where(predict_df['spread_target'] == predict_df['pre_game_spread'], 'Push', predict_df['regression_spread_result'])\n",
    "\n",
    "    predict_df['classification_spread_result'] = np.where(predict_df['spread_result'] == predict_df['classification_spread_pred'], 'Won', 'Lost')\n",
    "    predict_df['classification_spread_result'] = np.where(predict_df['spread_target'] == predict_df['pre_game_spread'], 'Push', predict_df['classification_spread_result'])\n",
    "\n",
    "    # Remove Results from Games that haven't been played\n",
    "    predict_df[['regression_spread_result', 'classification_spread_result', 'spread_result']] = predict_df[['regression_spread_result', 'classification_spread_result', 'spread_result']].where(predict_df.spread_target.ne(0), np.nan)\n",
    "\n",
    "    # Rename Column\n",
    "    predict_df = predict_df.rename(columns={'spread_target':'actual_spread'})\n",
    "    predict_df['week'] = predict_df['week'].mode()[0]\n",
    "\n",
    "    # Export\n",
    "    filepath = Path('../zillion_picks/picks')\n",
    "\n",
    "    for key, group in predict_df.groupby(['season', 'week', 'season_type']):\n",
    "        if group.season_type.unique() == 'postseason':\n",
    "            group.to_csv(filepath/f'premium/{key[0]}_postseason.csv', index=False)\n",
    "        else:\n",
    "            group.to_csv(filepath/f'premium/{key[0]}_{str(key[1]).rjust(2, \"0\")}.csv', index=False)\n",
    "\n",
    "    print(f\"{predict_season} Week {predict_week} Regression Accuracy: {round(accuracy_score(X_test['spread_result'], X_test['regression_spread_pred']) * 100,2)}%\" )\n",
    "    print(f\"{predict_season} Week {predict_week} Classification Accuracy: {round(accuracy_score(X_test['spread_result'], X_test['classification_spread_pred']) * 100,2)}%\" )"
   ]
  },
  {
   "cell_type": "code",
   "execution_count": 65,
   "metadata": {},
   "outputs": [],
   "source": [
    "regression_important_features = pd.Series(data=model_regressor.feature_importances_, index=model_regressor_cols).sort_values(ascending=False)\n",
    "classification_important_features = pd.Series(data=model_classifier.feature_importances_, index=model_classifier_cols).sort_values(ascending=False)\n"
   ]
  },
  {
   "cell_type": "code",
   "execution_count": 66,
   "metadata": {
    "tags": []
   },
   "outputs": [
    {
     "output_type": "stream",
     "name": "stdout",
     "text": "pointsAway                         0.069639\naway_points                        0.045186\nrankHome                           0.032701\naverageStars_All PositionsHome     0.031928\naverageRating_All PositionsHome    0.029245\nhome_conference                    0.027287\ntalentHome                         0.026892\noffense_successRateHome            0.026397\nhome_points                        0.023254\noffense_successRateAway            0.022145\ndtype: float32\nregression_spread_pred                  0.010009\noffense_rushingPlays_successRateHome    0.005779\naverageStars_All PositionsHome          0.005409\ndefense_ppaAway                         0.005377\naway_third_qtr_score                    0.005370\npassesDeflectedAway                     0.005367\nheight PKHome                           0.005063\nfourthDownEffAttemptsHome               0.004926\nheight LBHome                           0.004909\nheight QBHome                           0.004874\ndtype: float32\n"
    }
   ],
   "source": [
    "print(regression_important_features.head(10))\n",
    "print(classification_important_features.head(10))"
   ]
  },
  {
   "cell_type": "code",
   "execution_count": 535,
   "metadata": {},
   "outputs": [
    {
     "output_type": "execute_result",
     "data": {
      "text/plain": "                  win  count\nbin                         \n(0.0, 0.2]   0.750000      4\n(0.2, 0.35]  0.466667     90\n(0.35, 0.4]  0.511364     88\n(0.4, 0.45]  0.521739    115\n(0.45, 0.5]  0.535088    114\n(0.5, 0.55]  0.513333    150\n(0.55, 0.6]  0.507692    130\n(0.6, 0.65]  0.518072     83\n(0.65, 0.7]  0.561404     57\n(0.7, 0.8]   0.441860     43\n(0.8, 1.0]   0.800000      5",
      "text/html": "<div>\n<style scoped>\n    .dataframe tbody tr th:only-of-type {\n        vertical-align: middle;\n    }\n\n    .dataframe tbody tr th {\n        vertical-align: top;\n    }\n\n    .dataframe thead th {\n        text-align: right;\n    }\n</style>\n<table border=\"1\" class=\"dataframe\">\n  <thead>\n    <tr style=\"text-align: right;\">\n      <th></th>\n      <th>win</th>\n      <th>count</th>\n    </tr>\n    <tr>\n      <th>bin</th>\n      <th></th>\n      <th></th>\n    </tr>\n  </thead>\n  <tbody>\n    <tr>\n      <th>(0.0, 0.2]</th>\n      <td>0.750000</td>\n      <td>4</td>\n    </tr>\n    <tr>\n      <th>(0.2, 0.35]</th>\n      <td>0.466667</td>\n      <td>90</td>\n    </tr>\n    <tr>\n      <th>(0.35, 0.4]</th>\n      <td>0.511364</td>\n      <td>88</td>\n    </tr>\n    <tr>\n      <th>(0.4, 0.45]</th>\n      <td>0.521739</td>\n      <td>115</td>\n    </tr>\n    <tr>\n      <th>(0.45, 0.5]</th>\n      <td>0.535088</td>\n      <td>114</td>\n    </tr>\n    <tr>\n      <th>(0.5, 0.55]</th>\n      <td>0.513333</td>\n      <td>150</td>\n    </tr>\n    <tr>\n      <th>(0.55, 0.6]</th>\n      <td>0.507692</td>\n      <td>130</td>\n    </tr>\n    <tr>\n      <th>(0.6, 0.65]</th>\n      <td>0.518072</td>\n      <td>83</td>\n    </tr>\n    <tr>\n      <th>(0.65, 0.7]</th>\n      <td>0.561404</td>\n      <td>57</td>\n    </tr>\n    <tr>\n      <th>(0.7, 0.8]</th>\n      <td>0.441860</td>\n      <td>43</td>\n    </tr>\n    <tr>\n      <th>(0.8, 1.0]</th>\n      <td>0.800000</td>\n      <td>5</td>\n    </tr>\n  </tbody>\n</table>\n</div>"
     },
     "metadata": {},
     "execution_count": 535
    }
   ],
   "source": [
    "#################### WORK ON THIS ###############################\n",
    "\n",
    "# CHECK CONFIDENCE TO SEE IF THERE IS A WIN ADVANTAGE\n",
    "dfs=[]\n",
    "\n",
    "for file in (filepath/'free').rglob('*'):\n",
    "    df = pd.read_csv(file)\n",
    "    dfs.append(df)\n",
    "\n",
    "df = pd.concat(dfs)\n",
    "df.head()\n",
    "\n",
    "df['bin'] = pd.cut(df.classification_confidence, [0,.20,.35,.40,.45,.50,.55,.60,.65,.70,.80,1])\n",
    "df.groupby('bin')['classification_spread_result'].agg(win=(lambda df: df.eq('Won').sum() / len(df)), count=( 'count'))"
   ]
  },
  {
   "cell_type": "code",
   "execution_count": 532,
   "metadata": {},
   "outputs": [
    {
     "output_type": "execute_result",
     "data": {
      "text/plain": "     game_id  season  week season_type      home_team    home_conference  \\\n0  401110723    2019     1     regular        Florida                SEC   \n1  401114164    2019     1     regular        Hawai'i      Mountain West   \n2  401117855    2019     1     regular    Connecticut  American Athletic   \n3  401117854    2019     1     regular     Cincinnati  American Athletic   \n4  401119254    2019     1     regular  Bowling Green       Mid-American   \n\n      away_team away_conference  pre_game_spread  predicted_spread  \\\n0         Miami             ACC             -7.0             -11.0   \n1       Arizona          Pac-12             10.5              11.5   \n2        Wagner         MISSING            -23.0             -22.5   \n3          UCLA          Pac-12             -2.5              -4.0   \n4  Morgan State         MISSING            -24.0             -20.5   \n\n   regression_spread_pred  classification_spread_pred  \\\n0                       1                           1   \n1                       0                           0   \n2                       0                           0   \n3                       1                           1   \n4                       0                           1   \n\n   classification_confidence  actual_spread                 start_date  \\\n0                   0.373211           -4.0  2019-08-24 23:00:00+00:00   \n1                   0.594086           -7.0  2019-08-25 02:30:00+00:00   \n2                   0.596450           -3.0  2019-08-29 23:00:00+00:00   \n3                   0.450243          -10.0  2019-08-29 23:00:00+00:00   \n4                   0.331717          -43.0  2019-08-29 23:00:00+00:00   \n\n   spread_result regression_spread_result classification_spread_result  \\\n0              0                     Lost                         Lost   \n1              1                     Lost                         Lost   \n2              0                      Won                          Won   \n3              1                      Won                          Won   \n4              1                     Lost                          Won   \n\n          bin  \n0  (0.3, 0.4]  \n1  (0.5, 0.6]  \n2  (0.5, 0.6]  \n3  (0.4, 0.5]  \n4  (0.3, 0.4]  ",
      "text/html": "<div>\n<style scoped>\n    .dataframe tbody tr th:only-of-type {\n        vertical-align: middle;\n    }\n\n    .dataframe tbody tr th {\n        vertical-align: top;\n    }\n\n    .dataframe thead th {\n        text-align: right;\n    }\n</style>\n<table border=\"1\" class=\"dataframe\">\n  <thead>\n    <tr style=\"text-align: right;\">\n      <th></th>\n      <th>game_id</th>\n      <th>season</th>\n      <th>week</th>\n      <th>season_type</th>\n      <th>home_team</th>\n      <th>home_conference</th>\n      <th>away_team</th>\n      <th>away_conference</th>\n      <th>pre_game_spread</th>\n      <th>predicted_spread</th>\n      <th>regression_spread_pred</th>\n      <th>classification_spread_pred</th>\n      <th>classification_confidence</th>\n      <th>actual_spread</th>\n      <th>start_date</th>\n      <th>spread_result</th>\n      <th>regression_spread_result</th>\n      <th>classification_spread_result</th>\n      <th>bin</th>\n    </tr>\n  </thead>\n  <tbody>\n    <tr>\n      <th>0</th>\n      <td>401110723</td>\n      <td>2019</td>\n      <td>1</td>\n      <td>regular</td>\n      <td>Florida</td>\n      <td>SEC</td>\n      <td>Miami</td>\n      <td>ACC</td>\n      <td>-7.0</td>\n      <td>-11.0</td>\n      <td>1</td>\n      <td>1</td>\n      <td>0.373211</td>\n      <td>-4.0</td>\n      <td>2019-08-24 23:00:00+00:00</td>\n      <td>0</td>\n      <td>Lost</td>\n      <td>Lost</td>\n      <td>(0.3, 0.4]</td>\n    </tr>\n    <tr>\n      <th>1</th>\n      <td>401114164</td>\n      <td>2019</td>\n      <td>1</td>\n      <td>regular</td>\n      <td>Hawai'i</td>\n      <td>Mountain West</td>\n      <td>Arizona</td>\n      <td>Pac-12</td>\n      <td>10.5</td>\n      <td>11.5</td>\n      <td>0</td>\n      <td>0</td>\n      <td>0.594086</td>\n      <td>-7.0</td>\n      <td>2019-08-25 02:30:00+00:00</td>\n      <td>1</td>\n      <td>Lost</td>\n      <td>Lost</td>\n      <td>(0.5, 0.6]</td>\n    </tr>\n    <tr>\n      <th>2</th>\n      <td>401117855</td>\n      <td>2019</td>\n      <td>1</td>\n      <td>regular</td>\n      <td>Connecticut</td>\n      <td>American Athletic</td>\n      <td>Wagner</td>\n      <td>MISSING</td>\n      <td>-23.0</td>\n      <td>-22.5</td>\n      <td>0</td>\n      <td>0</td>\n      <td>0.596450</td>\n      <td>-3.0</td>\n      <td>2019-08-29 23:00:00+00:00</td>\n      <td>0</td>\n      <td>Won</td>\n      <td>Won</td>\n      <td>(0.5, 0.6]</td>\n    </tr>\n    <tr>\n      <th>3</th>\n      <td>401117854</td>\n      <td>2019</td>\n      <td>1</td>\n      <td>regular</td>\n      <td>Cincinnati</td>\n      <td>American Athletic</td>\n      <td>UCLA</td>\n      <td>Pac-12</td>\n      <td>-2.5</td>\n      <td>-4.0</td>\n      <td>1</td>\n      <td>1</td>\n      <td>0.450243</td>\n      <td>-10.0</td>\n      <td>2019-08-29 23:00:00+00:00</td>\n      <td>1</td>\n      <td>Won</td>\n      <td>Won</td>\n      <td>(0.4, 0.5]</td>\n    </tr>\n    <tr>\n      <th>4</th>\n      <td>401119254</td>\n      <td>2019</td>\n      <td>1</td>\n      <td>regular</td>\n      <td>Bowling Green</td>\n      <td>Mid-American</td>\n      <td>Morgan State</td>\n      <td>MISSING</td>\n      <td>-24.0</td>\n      <td>-20.5</td>\n      <td>0</td>\n      <td>1</td>\n      <td>0.331717</td>\n      <td>-43.0</td>\n      <td>2019-08-29 23:00:00+00:00</td>\n      <td>1</td>\n      <td>Lost</td>\n      <td>Won</td>\n      <td>(0.3, 0.4]</td>\n    </tr>\n  </tbody>\n</table>\n</div>"
     },
     "metadata": {},
     "execution_count": 532
    }
   ],
   "source": [
    "df.head()\n",
    "\n",
    "# FINISH THE CLEAN UP AND FILE EXPORT"
   ]
  },
  {
   "cell_type": "code",
   "execution_count": 342,
   "metadata": {},
   "outputs": [
    {
     "output_type": "execute_result",
     "data": {
      "text/plain": "456"
     },
     "metadata": {},
     "execution_count": 342
    }
   ],
   "source": [
    "df['spread_result'].eq('Won').sum()"
   ]
  },
  {
   "cell_type": "code",
   "execution_count": 215,
   "metadata": {},
   "outputs": [],
   "source": [
    "# setup\n",
    "predict_week = 1\n",
    "predict_season = 2020\n",
    "today_localize = pd.to_datetime('today').tz_localize('US/Central') - pd.Timedelta(hours=3)"
   ]
  },
  {
   "cell_type": "code",
   "execution_count": 295,
   "metadata": {},
   "outputs": [],
   "source": [
    "# Load\n",
    "df = dataset(predict_season=predict_season, predict_week=predict_week, window_size=4, update_data=False, update_seasons=[pd.to_datetime('today').year])"
   ]
  },
  {
   "cell_type": "code",
   "execution_count": 296,
   "metadata": {},
   "outputs": [],
   "source": [
    "# Clean Up\n",
    "df[df.columns[df.columns.str.contains('home|Home')]] = df[df.columns[df.columns.str.contains(\n",
    "    'home|Home')]].groupby('home_team', as_index=False, group_keys=False).apply(lambda x: x.fillna(x.mean()))\n",
    "\n",
    "df[df.columns[df.columns.str.contains('away|Away')]] = df[df.columns[df.columns.str.contains(\n",
    "    'away|Away')]].groupby('away_team', as_index=False, group_keys=False).apply(lambda x: x.fillna(x.mean()))\n",
    "\n",
    "df = df.dropna(axis=1, thresh=int(len(df) * .9))\n",
    "\n",
    "df = df.fillna(0)\n",
    "\n",
    "df[df.select_dtypes('bool').columns] = df.select_dtypes('bool').astype('int')"
   ]
  },
  {
   "cell_type": "code",
   "execution_count": 218,
   "metadata": {},
   "outputs": [
    {
     "output_type": "execute_result",
     "data": {
      "text/plain": "        game_id  season  week season_type                start_date  \\\n5581  401212484    2020     1     regular 2020-09-05 20:30:00+00:00   \n5582  401207098    2020     1     regular 2020-09-05 23:30:00+00:00   \n5583  401212553    2020     1     regular 2020-09-06 00:00:00+00:00   \n5584  401239884    2020     1     regular 2020-09-06 01:00:00+00:00   \n5585  401234576    2020     1     regular 2020-09-08 00:00:00+00:00   \n\n      neutral_site  conference_game  attendance  venue_id  \\\n5581             0              0.0         0.0    3644.0   \n5582             0              0.0         0.0    3825.0   \n5583             0              0.0         0.0    3805.0   \n5584             0              0.0         0.0    3946.0   \n5585             0              0.0         0.0    3852.0   \n\n                                   venue  ... year PKHome year TEHome  \\\n5581  Jim Wacker Field at Bobcat Stadium  ...        2.25    2.000000   \n5582                      Apogee Stadium  ...        3.00    1.571429   \n5583       Liberty Bowl Memorial Stadium  ...        1.75    2.428571   \n5584                    Sun Bowl Stadium  ...        1.50    1.545455   \n5585  Navy-Marine Corps Memorial Stadium  ...        1.50    4.000000   \n\n     weight LBHome weight LSHome  height LBHome  height LSHome  year LBHome  \\\n5581    214.900000    195.000000      72.366667      69.500000     2.200000   \n5582    218.909091    221.944444      72.909091      73.740741     2.090909   \n5583    222.000000    223.666667      73.357143      70.000000     2.714286   \n5584    222.115385    192.142857      73.730769      71.000000     2.038462   \n5585    216.727273    213.000000      73.333333      73.000000     2.181818   \n\n      year LSHome  talentHome  talentAway  \n5581     1.500000  328.451379  497.315357  \n5582     2.612933  369.060000   26.800000  \n5583     2.333333  477.170937  439.283030  \n5584     1.000000  307.035000   80.512500  \n5585     2.500000  341.698529  549.447576  \n\n[5 rows x 305 columns]",
      "text/html": "<div>\n<style scoped>\n    .dataframe tbody tr th:only-of-type {\n        vertical-align: middle;\n    }\n\n    .dataframe tbody tr th {\n        vertical-align: top;\n    }\n\n    .dataframe thead th {\n        text-align: right;\n    }\n</style>\n<table border=\"1\" class=\"dataframe\">\n  <thead>\n    <tr style=\"text-align: right;\">\n      <th></th>\n      <th>game_id</th>\n      <th>season</th>\n      <th>week</th>\n      <th>season_type</th>\n      <th>start_date</th>\n      <th>neutral_site</th>\n      <th>conference_game</th>\n      <th>attendance</th>\n      <th>venue_id</th>\n      <th>venue</th>\n      <th>...</th>\n      <th>year PKHome</th>\n      <th>year TEHome</th>\n      <th>weight LBHome</th>\n      <th>weight LSHome</th>\n      <th>height LBHome</th>\n      <th>height LSHome</th>\n      <th>year LBHome</th>\n      <th>year LSHome</th>\n      <th>talentHome</th>\n      <th>talentAway</th>\n    </tr>\n  </thead>\n  <tbody>\n    <tr>\n      <th>5581</th>\n      <td>401212484</td>\n      <td>2020</td>\n      <td>1</td>\n      <td>regular</td>\n      <td>2020-09-05 20:30:00+00:00</td>\n      <td>0</td>\n      <td>0.0</td>\n      <td>0.0</td>\n      <td>3644.0</td>\n      <td>Jim Wacker Field at Bobcat Stadium</td>\n      <td>...</td>\n      <td>2.25</td>\n      <td>2.000000</td>\n      <td>214.900000</td>\n      <td>195.000000</td>\n      <td>72.366667</td>\n      <td>69.500000</td>\n      <td>2.200000</td>\n      <td>1.500000</td>\n      <td>328.451379</td>\n      <td>497.315357</td>\n    </tr>\n    <tr>\n      <th>5582</th>\n      <td>401207098</td>\n      <td>2020</td>\n      <td>1</td>\n      <td>regular</td>\n      <td>2020-09-05 23:30:00+00:00</td>\n      <td>0</td>\n      <td>0.0</td>\n      <td>0.0</td>\n      <td>3825.0</td>\n      <td>Apogee Stadium</td>\n      <td>...</td>\n      <td>3.00</td>\n      <td>1.571429</td>\n      <td>218.909091</td>\n      <td>221.944444</td>\n      <td>72.909091</td>\n      <td>73.740741</td>\n      <td>2.090909</td>\n      <td>2.612933</td>\n      <td>369.060000</td>\n      <td>26.800000</td>\n    </tr>\n    <tr>\n      <th>5583</th>\n      <td>401212553</td>\n      <td>2020</td>\n      <td>1</td>\n      <td>regular</td>\n      <td>2020-09-06 00:00:00+00:00</td>\n      <td>0</td>\n      <td>0.0</td>\n      <td>0.0</td>\n      <td>3805.0</td>\n      <td>Liberty Bowl Memorial Stadium</td>\n      <td>...</td>\n      <td>1.75</td>\n      <td>2.428571</td>\n      <td>222.000000</td>\n      <td>223.666667</td>\n      <td>73.357143</td>\n      <td>70.000000</td>\n      <td>2.714286</td>\n      <td>2.333333</td>\n      <td>477.170937</td>\n      <td>439.283030</td>\n    </tr>\n    <tr>\n      <th>5584</th>\n      <td>401239884</td>\n      <td>2020</td>\n      <td>1</td>\n      <td>regular</td>\n      <td>2020-09-06 01:00:00+00:00</td>\n      <td>0</td>\n      <td>0.0</td>\n      <td>0.0</td>\n      <td>3946.0</td>\n      <td>Sun Bowl Stadium</td>\n      <td>...</td>\n      <td>1.50</td>\n      <td>1.545455</td>\n      <td>222.115385</td>\n      <td>192.142857</td>\n      <td>73.730769</td>\n      <td>71.000000</td>\n      <td>2.038462</td>\n      <td>1.000000</td>\n      <td>307.035000</td>\n      <td>80.512500</td>\n    </tr>\n    <tr>\n      <th>5585</th>\n      <td>401234576</td>\n      <td>2020</td>\n      <td>1</td>\n      <td>regular</td>\n      <td>2020-09-08 00:00:00+00:00</td>\n      <td>0</td>\n      <td>0.0</td>\n      <td>0.0</td>\n      <td>3852.0</td>\n      <td>Navy-Marine Corps Memorial Stadium</td>\n      <td>...</td>\n      <td>1.50</td>\n      <td>4.000000</td>\n      <td>216.727273</td>\n      <td>213.000000</td>\n      <td>73.333333</td>\n      <td>73.000000</td>\n      <td>2.181818</td>\n      <td>2.500000</td>\n      <td>341.698529</td>\n      <td>549.447576</td>\n    </tr>\n  </tbody>\n</table>\n<p>5 rows × 305 columns</p>\n</div>"
     },
     "metadata": {},
     "execution_count": 218
    }
   ],
   "source": [
    "df.tail()"
   ]
  },
  {
   "cell_type": "code",
   "execution_count": 219,
   "metadata": {
    "tags": []
   },
   "outputs": [],
   "source": [
    "# Model\n",
    "ct = make_column_transformer(\n",
    "    (OrdinalEncoder(), ['season_type', 'home_conference', 'away_conference']),\n",
    "    remainder='passthrough'\n",
    ")\n",
    "\n",
    "drop_columns =  ['game_id', 'season', 'venue', 'start_date', 'home_team', 'away_team', 'start_date', 'spread_target'\n",
    ",'pre_game_spread', 'pre_game_home_win_prob', 'pre_game_away_win_prob'\n",
    "]\n",
    "\n",
    "# use in production\n",
    "# X_train = df[(df.start_date.dt.tz_convert('US/Central') < today_localize)].drop(drop_columns, axis=1)  \n",
    "# y_train = df[(df.start_date.dt.tz_convert('US/Central') < today_localize)][['spread_target']] \n",
    "\n",
    "# X_pred = df[(df.start_date.dt.tz_convert('US/Central') >= today_localize)].drop(drop_columns, axis=1) \n",
    "# # y_pred = y[X.start_date.dt.date >= pd.to_datetime('today')]\n",
    "\n",
    "# use in development\n",
    "X_train = df[(df['week'] < predict_week) | (df['season'] < predict_season)].drop(drop_columns, axis=1)  \n",
    "y_train = df[(df['week'] < predict_week) | (df['season'] < predict_season)][['spread_target']] \n",
    "X_pred = df[(df['week'] == predict_week) & (df['season'] == predict_season)].drop(drop_columns, axis=1) \n",
    "\n",
    "if len(X_pred) > 0:\n",
    "\n",
    "    spread_model = XGBRegressor(learning_rate=0.1, \n",
    "                                    colsample_bytree=1.0,\n",
    "                                    gamma=0.5,\n",
    "                                    max_depth=5,\n",
    "                                    min_child_weight=8,\n",
    "                                    n_estimators=100,\n",
    "                                    subsample=1.0)\n",
    "\n",
    "    spread_model.fit(ct.fit_transform(X_train), y_train['spread_target'])\n",
    "    y_spread_pred = np.around(spread_model.predict(ct.fit_transform(X_pred))/.5, decimals=0)*.5\n",
    "\n",
    "    final_columns = ['game_id', 'season', 'week', 'season_type', 'home_team',\n",
    "                    'home_conference', 'away_team', 'away_conference',  'pre_game_spread',\n",
    "                    'predicted_spread']\n",
    "\n",
    "    # use in production\n",
    "    # X_pred = pd.concat([\n",
    "    #                     X_pred, \n",
    "    #                     df[df.start_date.dt.tz_convert('US/Central') >= today_localize].drop([col for col in df.columns if col not in drop_columns], axis=1) \n",
    "    #                     ], \n",
    "    #                     axis=1)\n",
    "\n",
    "    # use in development\n",
    "    X_pred = pd.concat([\n",
    "                        X_pred, \n",
    "                        df[(df['week'] == predict_week) & (df['season'] == predict_season)].drop([col for col in df.columns if col not in drop_columns], axis=1) \n",
    "                        ], \n",
    "                        axis=1)    \n",
    "\n",
    "    predict_df = pd.concat([\n",
    "            X_pred.reset_index(drop=True), \n",
    "            pd.Series(y_spread_pred, name='predicted_spread'),\n",
    "        ], axis=1)\n",
    "\n",
    "    predict_df = predict_df[final_columns]\n",
    "\n",
    "    predict_df['spread_pick'] = np.where(predict_df['predicted_spread'] <= predict_df['pre_game_spread'], predict_df['home_team'], predict_df['away_team'])\n",
    "    predict_df['straight_pick'] = np.where(predict_df['predicted_spread'] < 0, predict_df['home_team'], predict_df['away_team'])\n",
    "\n",
    "    predict_df = predict_df[predict_df['week'] == predict_week]\n",
    "    predict_df\n",
    "\n",
    "else:\n",
    "    print('Nothing to Predict')\n",
    "    pass\n"
   ]
  },
  {
   "cell_type": "code",
   "execution_count": 220,
   "metadata": {},
   "outputs": [
    {
     "output_type": "execute_result",
     "data": {
      "text/plain": "     game_id  season  week season_type             home_team  \\\n0  401238035    2020     1     regular                   UAB   \n1  401207101    2020     1     regular  Southern Mississippi   \n2  401237353    2020     1     regular              Marshall   \n3  401235700    2020     1     regular                  Army   \n4  401212484    2020     1     regular           Texas State   \n5  401207098    2020     1     regular           North Texas   \n6  401212553    2020     1     regular               Memphis   \n7  401239884    2020     1     regular                  UTEP   \n8  401234576    2020     1     regular                  Navy   \n\n     home_conference          away_team    away_conference  pre_game_spread  \\\n0     Conference USA   Central Arkansas            MISSING            -21.0   \n1     Conference USA      South Alabama           Sun Belt            -12.5   \n2     Conference USA   Eastern Kentucky            MISSING            -25.5   \n3   FBS Independents   Middle Tennessee     Conference USA             -3.5   \n4           Sun Belt                SMU  American Athletic             24.5   \n5     Conference USA    Houston Baptist            MISSING            -23.0   \n6  American Athletic     Arkansas State           Sun Belt            -18.5   \n7     Conference USA  Stephen F. Austin            MISSING             -4.0   \n8  American Athletic                BYU   FBS Independents              1.0   \n\n   predicted_spread           spread_pick         straight_pick  \n0             -14.0      Central Arkansas                   UAB  \n1             -18.0  Southern Mississippi  Southern Mississippi  \n2             -18.0      Eastern Kentucky              Marshall  \n3             -12.5                  Army                  Army  \n4               5.0           Texas State                   SMU  \n5             -27.5           North Texas           North Texas  \n6              -4.5        Arkansas State               Memphis  \n7             -20.5                  UTEP                  UTEP  \n8               2.5                   BYU                   BYU  ",
      "text/html": "<div>\n<style scoped>\n    .dataframe tbody tr th:only-of-type {\n        vertical-align: middle;\n    }\n\n    .dataframe tbody tr th {\n        vertical-align: top;\n    }\n\n    .dataframe thead th {\n        text-align: right;\n    }\n</style>\n<table border=\"1\" class=\"dataframe\">\n  <thead>\n    <tr style=\"text-align: right;\">\n      <th></th>\n      <th>game_id</th>\n      <th>season</th>\n      <th>week</th>\n      <th>season_type</th>\n      <th>home_team</th>\n      <th>home_conference</th>\n      <th>away_team</th>\n      <th>away_conference</th>\n      <th>pre_game_spread</th>\n      <th>predicted_spread</th>\n      <th>spread_pick</th>\n      <th>straight_pick</th>\n    </tr>\n  </thead>\n  <tbody>\n    <tr>\n      <th>0</th>\n      <td>401238035</td>\n      <td>2020</td>\n      <td>1</td>\n      <td>regular</td>\n      <td>UAB</td>\n      <td>Conference USA</td>\n      <td>Central Arkansas</td>\n      <td>MISSING</td>\n      <td>-21.0</td>\n      <td>-14.0</td>\n      <td>Central Arkansas</td>\n      <td>UAB</td>\n    </tr>\n    <tr>\n      <th>1</th>\n      <td>401207101</td>\n      <td>2020</td>\n      <td>1</td>\n      <td>regular</td>\n      <td>Southern Mississippi</td>\n      <td>Conference USA</td>\n      <td>South Alabama</td>\n      <td>Sun Belt</td>\n      <td>-12.5</td>\n      <td>-18.0</td>\n      <td>Southern Mississippi</td>\n      <td>Southern Mississippi</td>\n    </tr>\n    <tr>\n      <th>2</th>\n      <td>401237353</td>\n      <td>2020</td>\n      <td>1</td>\n      <td>regular</td>\n      <td>Marshall</td>\n      <td>Conference USA</td>\n      <td>Eastern Kentucky</td>\n      <td>MISSING</td>\n      <td>-25.5</td>\n      <td>-18.0</td>\n      <td>Eastern Kentucky</td>\n      <td>Marshall</td>\n    </tr>\n    <tr>\n      <th>3</th>\n      <td>401235700</td>\n      <td>2020</td>\n      <td>1</td>\n      <td>regular</td>\n      <td>Army</td>\n      <td>FBS Independents</td>\n      <td>Middle Tennessee</td>\n      <td>Conference USA</td>\n      <td>-3.5</td>\n      <td>-12.5</td>\n      <td>Army</td>\n      <td>Army</td>\n    </tr>\n    <tr>\n      <th>4</th>\n      <td>401212484</td>\n      <td>2020</td>\n      <td>1</td>\n      <td>regular</td>\n      <td>Texas State</td>\n      <td>Sun Belt</td>\n      <td>SMU</td>\n      <td>American Athletic</td>\n      <td>24.5</td>\n      <td>5.0</td>\n      <td>Texas State</td>\n      <td>SMU</td>\n    </tr>\n    <tr>\n      <th>5</th>\n      <td>401207098</td>\n      <td>2020</td>\n      <td>1</td>\n      <td>regular</td>\n      <td>North Texas</td>\n      <td>Conference USA</td>\n      <td>Houston Baptist</td>\n      <td>MISSING</td>\n      <td>-23.0</td>\n      <td>-27.5</td>\n      <td>North Texas</td>\n      <td>North Texas</td>\n    </tr>\n    <tr>\n      <th>6</th>\n      <td>401212553</td>\n      <td>2020</td>\n      <td>1</td>\n      <td>regular</td>\n      <td>Memphis</td>\n      <td>American Athletic</td>\n      <td>Arkansas State</td>\n      <td>Sun Belt</td>\n      <td>-18.5</td>\n      <td>-4.5</td>\n      <td>Arkansas State</td>\n      <td>Memphis</td>\n    </tr>\n    <tr>\n      <th>7</th>\n      <td>401239884</td>\n      <td>2020</td>\n      <td>1</td>\n      <td>regular</td>\n      <td>UTEP</td>\n      <td>Conference USA</td>\n      <td>Stephen F. Austin</td>\n      <td>MISSING</td>\n      <td>-4.0</td>\n      <td>-20.5</td>\n      <td>UTEP</td>\n      <td>UTEP</td>\n    </tr>\n    <tr>\n      <th>8</th>\n      <td>401234576</td>\n      <td>2020</td>\n      <td>1</td>\n      <td>regular</td>\n      <td>Navy</td>\n      <td>American Athletic</td>\n      <td>BYU</td>\n      <td>FBS Independents</td>\n      <td>1.0</td>\n      <td>2.5</td>\n      <td>BYU</td>\n      <td>BYU</td>\n    </tr>\n  </tbody>\n</table>\n</div>"
     },
     "metadata": {},
     "execution_count": 220
    }
   ],
   "source": [
    "predict_df"
   ]
  },
  {
   "cell_type": "code",
   "execution_count": 221,
   "metadata": {
    "tags": []
   },
   "outputs": [],
   "source": [
    "# Pull in games that have occurred within the current week to append to the predictions\n",
    "filepath = Path('../zillion_picks/picks')\n",
    "\n",
    "result_dfs = []\n",
    "\n",
    "for file in filepath.rglob('*.csv'):\n",
    "    result_df = pd.read_csv(file)\n",
    "\n",
    "\n",
    "    result_dfs.append(result_df)\n",
    "\n",
    "result_df = pd.concat(result_dfs)\n",
    "\n",
    "result_df = result_df[(result_df['week'] == predict_week) & (result_df['season'] == predict_season)]\n",
    "\n",
    "try:\n",
    "    result_df = result_df[~result_df.game_id.isin(predict_df.game_id)]\n",
    "    result_df = result_df.drop(['actual_spread', 'spread_result', 'straight_result', 'start_date'], axis=1)\n",
    "\n",
    "except:\n",
    "        result_df = result_df.drop(['actual_spread', 'spread_result', 'straight_result', 'start_date'], axis=1)"
   ]
  },
  {
   "cell_type": "code",
   "execution_count": 222,
   "metadata": {},
   "outputs": [
    {
     "output_type": "execute_result",
     "data": {
      "text/plain": "Empty DataFrame\nColumns: [game_id, season, week, season_type, home_team, home_conference, away_team, away_conference, pre_game_spread, predicted_spread, spread_pick, straight_pick]\nIndex: []",
      "text/html": "<div>\n<style scoped>\n    .dataframe tbody tr th:only-of-type {\n        vertical-align: middle;\n    }\n\n    .dataframe tbody tr th {\n        vertical-align: top;\n    }\n\n    .dataframe thead th {\n        text-align: right;\n    }\n</style>\n<table border=\"1\" class=\"dataframe\">\n  <thead>\n    <tr style=\"text-align: right;\">\n      <th></th>\n      <th>game_id</th>\n      <th>season</th>\n      <th>week</th>\n      <th>season_type</th>\n      <th>home_team</th>\n      <th>home_conference</th>\n      <th>away_team</th>\n      <th>away_conference</th>\n      <th>pre_game_spread</th>\n      <th>predicted_spread</th>\n      <th>spread_pick</th>\n      <th>straight_pick</th>\n    </tr>\n  </thead>\n  <tbody>\n  </tbody>\n</table>\n</div>"
     },
     "metadata": {},
     "execution_count": 222
    }
   ],
   "source": [
    "result_df"
   ]
  },
  {
   "cell_type": "code",
   "execution_count": 223,
   "metadata": {},
   "outputs": [],
   "source": [
    "# Merge Predit and Result Dataframes\n",
    "try:\n",
    "    predict_df = pd.concat([result_df, predict_df])\n",
    "except:\n",
    "    predict_df = result_df"
   ]
  },
  {
   "cell_type": "code",
   "execution_count": 224,
   "metadata": {},
   "outputs": [],
   "source": [
    "# Add spread target in case the game is complete\n",
    "predict_df = predict_df.merge(df[['game_id', 'spread_target', 'start_date']], on='game_id', how='left')"
   ]
  },
  {
   "cell_type": "code",
   "execution_count": 225,
   "metadata": {},
   "outputs": [
    {
     "output_type": "execute_result",
     "data": {
      "text/plain": "     game_id  season  week season_type             home_team  \\\n0  401238035    2020     1     regular                   UAB   \n1  401207101    2020     1     regular  Southern Mississippi   \n2  401237353    2020     1     regular              Marshall   \n3  401235700    2020     1     regular                  Army   \n4  401212484    2020     1     regular           Texas State   \n5  401207098    2020     1     regular           North Texas   \n6  401212553    2020     1     regular               Memphis   \n7  401239884    2020     1     regular                  UTEP   \n8  401234576    2020     1     regular                  Navy   \n\n     home_conference          away_team    away_conference  pre_game_spread  \\\n0     Conference USA   Central Arkansas            MISSING            -21.0   \n1     Conference USA      South Alabama           Sun Belt            -12.5   \n2     Conference USA   Eastern Kentucky            MISSING            -25.5   \n3   FBS Independents   Middle Tennessee     Conference USA             -3.5   \n4           Sun Belt                SMU  American Athletic             24.5   \n5     Conference USA    Houston Baptist            MISSING            -23.0   \n6  American Athletic     Arkansas State           Sun Belt            -18.5   \n7     Conference USA  Stephen F. Austin            MISSING             -4.0   \n8  American Athletic                BYU   FBS Independents              1.0   \n\n   predicted_spread           spread_pick         straight_pick  \\\n0             -14.0      Central Arkansas                   UAB   \n1             -18.0  Southern Mississippi  Southern Mississippi   \n2             -18.0      Eastern Kentucky              Marshall   \n3             -12.5                  Army                  Army   \n4               5.0           Texas State                   SMU   \n5             -27.5           North Texas           North Texas   \n6              -4.5        Arkansas State               Memphis   \n7             -20.5                  UTEP                  UTEP   \n8               2.5                   BYU                   BYU   \n\n   spread_target                start_date  \n0          -10.0 2020-09-04 00:00:00+00:00  \n1           11.0 2020-09-04 01:00:00+00:00  \n2          -59.0 2020-09-05 17:00:00+00:00  \n3          -42.0 2020-09-05 17:30:00+00:00  \n4            7.0 2020-09-05 20:30:00+00:00  \n5          -26.0 2020-09-05 23:30:00+00:00  \n6          -13.0 2020-09-06 00:00:00+00:00  \n7          -10.0 2020-09-06 01:00:00+00:00  \n8           52.0 2020-09-08 00:00:00+00:00  ",
      "text/html": "<div>\n<style scoped>\n    .dataframe tbody tr th:only-of-type {\n        vertical-align: middle;\n    }\n\n    .dataframe tbody tr th {\n        vertical-align: top;\n    }\n\n    .dataframe thead th {\n        text-align: right;\n    }\n</style>\n<table border=\"1\" class=\"dataframe\">\n  <thead>\n    <tr style=\"text-align: right;\">\n      <th></th>\n      <th>game_id</th>\n      <th>season</th>\n      <th>week</th>\n      <th>season_type</th>\n      <th>home_team</th>\n      <th>home_conference</th>\n      <th>away_team</th>\n      <th>away_conference</th>\n      <th>pre_game_spread</th>\n      <th>predicted_spread</th>\n      <th>spread_pick</th>\n      <th>straight_pick</th>\n      <th>spread_target</th>\n      <th>start_date</th>\n    </tr>\n  </thead>\n  <tbody>\n    <tr>\n      <th>0</th>\n      <td>401238035</td>\n      <td>2020</td>\n      <td>1</td>\n      <td>regular</td>\n      <td>UAB</td>\n      <td>Conference USA</td>\n      <td>Central Arkansas</td>\n      <td>MISSING</td>\n      <td>-21.0</td>\n      <td>-14.0</td>\n      <td>Central Arkansas</td>\n      <td>UAB</td>\n      <td>-10.0</td>\n      <td>2020-09-04 00:00:00+00:00</td>\n    </tr>\n    <tr>\n      <th>1</th>\n      <td>401207101</td>\n      <td>2020</td>\n      <td>1</td>\n      <td>regular</td>\n      <td>Southern Mississippi</td>\n      <td>Conference USA</td>\n      <td>South Alabama</td>\n      <td>Sun Belt</td>\n      <td>-12.5</td>\n      <td>-18.0</td>\n      <td>Southern Mississippi</td>\n      <td>Southern Mississippi</td>\n      <td>11.0</td>\n      <td>2020-09-04 01:00:00+00:00</td>\n    </tr>\n    <tr>\n      <th>2</th>\n      <td>401237353</td>\n      <td>2020</td>\n      <td>1</td>\n      <td>regular</td>\n      <td>Marshall</td>\n      <td>Conference USA</td>\n      <td>Eastern Kentucky</td>\n      <td>MISSING</td>\n      <td>-25.5</td>\n      <td>-18.0</td>\n      <td>Eastern Kentucky</td>\n      <td>Marshall</td>\n      <td>-59.0</td>\n      <td>2020-09-05 17:00:00+00:00</td>\n    </tr>\n    <tr>\n      <th>3</th>\n      <td>401235700</td>\n      <td>2020</td>\n      <td>1</td>\n      <td>regular</td>\n      <td>Army</td>\n      <td>FBS Independents</td>\n      <td>Middle Tennessee</td>\n      <td>Conference USA</td>\n      <td>-3.5</td>\n      <td>-12.5</td>\n      <td>Army</td>\n      <td>Army</td>\n      <td>-42.0</td>\n      <td>2020-09-05 17:30:00+00:00</td>\n    </tr>\n    <tr>\n      <th>4</th>\n      <td>401212484</td>\n      <td>2020</td>\n      <td>1</td>\n      <td>regular</td>\n      <td>Texas State</td>\n      <td>Sun Belt</td>\n      <td>SMU</td>\n      <td>American Athletic</td>\n      <td>24.5</td>\n      <td>5.0</td>\n      <td>Texas State</td>\n      <td>SMU</td>\n      <td>7.0</td>\n      <td>2020-09-05 20:30:00+00:00</td>\n    </tr>\n    <tr>\n      <th>5</th>\n      <td>401207098</td>\n      <td>2020</td>\n      <td>1</td>\n      <td>regular</td>\n      <td>North Texas</td>\n      <td>Conference USA</td>\n      <td>Houston Baptist</td>\n      <td>MISSING</td>\n      <td>-23.0</td>\n      <td>-27.5</td>\n      <td>North Texas</td>\n      <td>North Texas</td>\n      <td>-26.0</td>\n      <td>2020-09-05 23:30:00+00:00</td>\n    </tr>\n    <tr>\n      <th>6</th>\n      <td>401212553</td>\n      <td>2020</td>\n      <td>1</td>\n      <td>regular</td>\n      <td>Memphis</td>\n      <td>American Athletic</td>\n      <td>Arkansas State</td>\n      <td>Sun Belt</td>\n      <td>-18.5</td>\n      <td>-4.5</td>\n      <td>Arkansas State</td>\n      <td>Memphis</td>\n      <td>-13.0</td>\n      <td>2020-09-06 00:00:00+00:00</td>\n    </tr>\n    <tr>\n      <th>7</th>\n      <td>401239884</td>\n      <td>2020</td>\n      <td>1</td>\n      <td>regular</td>\n      <td>UTEP</td>\n      <td>Conference USA</td>\n      <td>Stephen F. Austin</td>\n      <td>MISSING</td>\n      <td>-4.0</td>\n      <td>-20.5</td>\n      <td>UTEP</td>\n      <td>UTEP</td>\n      <td>-10.0</td>\n      <td>2020-09-06 01:00:00+00:00</td>\n    </tr>\n    <tr>\n      <th>8</th>\n      <td>401234576</td>\n      <td>2020</td>\n      <td>1</td>\n      <td>regular</td>\n      <td>Navy</td>\n      <td>American Athletic</td>\n      <td>BYU</td>\n      <td>FBS Independents</td>\n      <td>1.0</td>\n      <td>2.5</td>\n      <td>BYU</td>\n      <td>BYU</td>\n      <td>52.0</td>\n      <td>2020-09-08 00:00:00+00:00</td>\n    </tr>\n  </tbody>\n</table>\n</div>"
     },
     "metadata": {},
     "execution_count": 225
    }
   ],
   "source": [
    "predict_df"
   ]
  },
  {
   "cell_type": "code",
   "execution_count": 226,
   "metadata": {},
   "outputs": [],
   "source": [
    "# Convert spread_target games that have not occurred to Null\n",
    "predict_df['spread_target']  = np.where(predict_df['spread_target'] == 0.0, np.nan, predict_df['spread_target'] )"
   ]
  },
  {
   "cell_type": "code",
   "execution_count": 227,
   "metadata": {},
   "outputs": [
    {
     "output_type": "execute_result",
     "data": {
      "text/plain": "     game_id  season  week season_type             home_team  \\\n0  401238035    2020     1     regular                   UAB   \n1  401207101    2020     1     regular  Southern Mississippi   \n2  401237353    2020     1     regular              Marshall   \n3  401235700    2020     1     regular                  Army   \n4  401212484    2020     1     regular           Texas State   \n5  401207098    2020     1     regular           North Texas   \n6  401212553    2020     1     regular               Memphis   \n7  401239884    2020     1     regular                  UTEP   \n8  401234576    2020     1     regular                  Navy   \n\n     home_conference          away_team    away_conference  pre_game_spread  \\\n0     Conference USA   Central Arkansas            MISSING            -21.0   \n1     Conference USA      South Alabama           Sun Belt            -12.5   \n2     Conference USA   Eastern Kentucky            MISSING            -25.5   \n3   FBS Independents   Middle Tennessee     Conference USA             -3.5   \n4           Sun Belt                SMU  American Athletic             24.5   \n5     Conference USA    Houston Baptist            MISSING            -23.0   \n6  American Athletic     Arkansas State           Sun Belt            -18.5   \n7     Conference USA  Stephen F. Austin            MISSING             -4.0   \n8  American Athletic                BYU   FBS Independents              1.0   \n\n   predicted_spread           spread_pick         straight_pick  \\\n0             -14.0      Central Arkansas                   UAB   \n1             -18.0  Southern Mississippi  Southern Mississippi   \n2             -18.0      Eastern Kentucky              Marshall   \n3             -12.5                  Army                  Army   \n4               5.0           Texas State                   SMU   \n5             -27.5           North Texas           North Texas   \n6              -4.5        Arkansas State               Memphis   \n7             -20.5                  UTEP                  UTEP   \n8               2.5                   BYU                   BYU   \n\n   spread_target                start_date  \n0          -10.0 2020-09-04 00:00:00+00:00  \n1           11.0 2020-09-04 01:00:00+00:00  \n2          -59.0 2020-09-05 17:00:00+00:00  \n3          -42.0 2020-09-05 17:30:00+00:00  \n4            7.0 2020-09-05 20:30:00+00:00  \n5          -26.0 2020-09-05 23:30:00+00:00  \n6          -13.0 2020-09-06 00:00:00+00:00  \n7          -10.0 2020-09-06 01:00:00+00:00  \n8           52.0 2020-09-08 00:00:00+00:00  ",
      "text/html": "<div>\n<style scoped>\n    .dataframe tbody tr th:only-of-type {\n        vertical-align: middle;\n    }\n\n    .dataframe tbody tr th {\n        vertical-align: top;\n    }\n\n    .dataframe thead th {\n        text-align: right;\n    }\n</style>\n<table border=\"1\" class=\"dataframe\">\n  <thead>\n    <tr style=\"text-align: right;\">\n      <th></th>\n      <th>game_id</th>\n      <th>season</th>\n      <th>week</th>\n      <th>season_type</th>\n      <th>home_team</th>\n      <th>home_conference</th>\n      <th>away_team</th>\n      <th>away_conference</th>\n      <th>pre_game_spread</th>\n      <th>predicted_spread</th>\n      <th>spread_pick</th>\n      <th>straight_pick</th>\n      <th>spread_target</th>\n      <th>start_date</th>\n    </tr>\n  </thead>\n  <tbody>\n    <tr>\n      <th>0</th>\n      <td>401238035</td>\n      <td>2020</td>\n      <td>1</td>\n      <td>regular</td>\n      <td>UAB</td>\n      <td>Conference USA</td>\n      <td>Central Arkansas</td>\n      <td>MISSING</td>\n      <td>-21.0</td>\n      <td>-14.0</td>\n      <td>Central Arkansas</td>\n      <td>UAB</td>\n      <td>-10.0</td>\n      <td>2020-09-04 00:00:00+00:00</td>\n    </tr>\n    <tr>\n      <th>1</th>\n      <td>401207101</td>\n      <td>2020</td>\n      <td>1</td>\n      <td>regular</td>\n      <td>Southern Mississippi</td>\n      <td>Conference USA</td>\n      <td>South Alabama</td>\n      <td>Sun Belt</td>\n      <td>-12.5</td>\n      <td>-18.0</td>\n      <td>Southern Mississippi</td>\n      <td>Southern Mississippi</td>\n      <td>11.0</td>\n      <td>2020-09-04 01:00:00+00:00</td>\n    </tr>\n    <tr>\n      <th>2</th>\n      <td>401237353</td>\n      <td>2020</td>\n      <td>1</td>\n      <td>regular</td>\n      <td>Marshall</td>\n      <td>Conference USA</td>\n      <td>Eastern Kentucky</td>\n      <td>MISSING</td>\n      <td>-25.5</td>\n      <td>-18.0</td>\n      <td>Eastern Kentucky</td>\n      <td>Marshall</td>\n      <td>-59.0</td>\n      <td>2020-09-05 17:00:00+00:00</td>\n    </tr>\n    <tr>\n      <th>3</th>\n      <td>401235700</td>\n      <td>2020</td>\n      <td>1</td>\n      <td>regular</td>\n      <td>Army</td>\n      <td>FBS Independents</td>\n      <td>Middle Tennessee</td>\n      <td>Conference USA</td>\n      <td>-3.5</td>\n      <td>-12.5</td>\n      <td>Army</td>\n      <td>Army</td>\n      <td>-42.0</td>\n      <td>2020-09-05 17:30:00+00:00</td>\n    </tr>\n    <tr>\n      <th>4</th>\n      <td>401212484</td>\n      <td>2020</td>\n      <td>1</td>\n      <td>regular</td>\n      <td>Texas State</td>\n      <td>Sun Belt</td>\n      <td>SMU</td>\n      <td>American Athletic</td>\n      <td>24.5</td>\n      <td>5.0</td>\n      <td>Texas State</td>\n      <td>SMU</td>\n      <td>7.0</td>\n      <td>2020-09-05 20:30:00+00:00</td>\n    </tr>\n    <tr>\n      <th>5</th>\n      <td>401207098</td>\n      <td>2020</td>\n      <td>1</td>\n      <td>regular</td>\n      <td>North Texas</td>\n      <td>Conference USA</td>\n      <td>Houston Baptist</td>\n      <td>MISSING</td>\n      <td>-23.0</td>\n      <td>-27.5</td>\n      <td>North Texas</td>\n      <td>North Texas</td>\n      <td>-26.0</td>\n      <td>2020-09-05 23:30:00+00:00</td>\n    </tr>\n    <tr>\n      <th>6</th>\n      <td>401212553</td>\n      <td>2020</td>\n      <td>1</td>\n      <td>regular</td>\n      <td>Memphis</td>\n      <td>American Athletic</td>\n      <td>Arkansas State</td>\n      <td>Sun Belt</td>\n      <td>-18.5</td>\n      <td>-4.5</td>\n      <td>Arkansas State</td>\n      <td>Memphis</td>\n      <td>-13.0</td>\n      <td>2020-09-06 00:00:00+00:00</td>\n    </tr>\n    <tr>\n      <th>7</th>\n      <td>401239884</td>\n      <td>2020</td>\n      <td>1</td>\n      <td>regular</td>\n      <td>UTEP</td>\n      <td>Conference USA</td>\n      <td>Stephen F. Austin</td>\n      <td>MISSING</td>\n      <td>-4.0</td>\n      <td>-20.5</td>\n      <td>UTEP</td>\n      <td>UTEP</td>\n      <td>-10.0</td>\n      <td>2020-09-06 01:00:00+00:00</td>\n    </tr>\n    <tr>\n      <th>8</th>\n      <td>401234576</td>\n      <td>2020</td>\n      <td>1</td>\n      <td>regular</td>\n      <td>Navy</td>\n      <td>American Athletic</td>\n      <td>BYU</td>\n      <td>FBS Independents</td>\n      <td>1.0</td>\n      <td>2.5</td>\n      <td>BYU</td>\n      <td>BYU</td>\n      <td>52.0</td>\n      <td>2020-09-08 00:00:00+00:00</td>\n    </tr>\n  </tbody>\n</table>\n</div>"
     },
     "metadata": {},
     "execution_count": 227
    }
   ],
   "source": [
    "predict_df"
   ]
  },
  {
   "cell_type": "code",
   "execution_count": 228,
   "metadata": {},
   "outputs": [],
   "source": [
    "# Spread Result Calculation\n",
    "won = ((predict_df['predicted_spread'] > predict_df['pre_game_spread']) & (predict_df['spread_target'].fillna(0) > predict_df['pre_game_spread'])) | (\n",
    "    (predict_df['predicted_spread'] <= predict_df['pre_game_spread']) & (predict_df['spread_target'].fillna(0) < predict_df['pre_game_spread']))\n",
    "\n",
    "push = predict_df['spread_target'].fillna(0) == predict_df['pre_game_spread']\n",
    "\n",
    "conditions = [won, push]\n",
    "choices = ['Won', 'Push']\n",
    "\n",
    "predict_df['spread_result'] = np.select(condlist=conditions, choicelist=choices, default='Lost')\n",
    "predict_df['spread_result'] = np.where(predict_df['spread_target'].isnull(), np.nan, predict_df['spread_result'])"
   ]
  },
  {
   "cell_type": "code",
   "execution_count": 229,
   "metadata": {},
   "outputs": [],
   "source": [
    "# Straight Up Result Calculation\n",
    "result = predict_df['spread_target'].fillna(1) * predict_df['predicted_spread']\n",
    "\n",
    "predict_df['straight_result'] = np.where(result > 0, 'Won', 'Lost')\n",
    "predict_df['straight_result'] = np.where(predict_df['spread_target'].isnull(), np.nan, predict_df['straight_result'])"
   ]
  },
  {
   "cell_type": "code",
   "execution_count": 230,
   "metadata": {},
   "outputs": [],
   "source": [
    "# Rename Column\n",
    "predict_df = predict_df.rename(columns={'spread_target':'actual_spread'})"
   ]
  },
  {
   "cell_type": "code",
   "execution_count": 231,
   "metadata": {},
   "outputs": [
    {
     "output_type": "execute_result",
     "data": {
      "text/plain": "     game_id  season  week season_type             home_team  \\\n0  401238035    2020     1     regular                   UAB   \n1  401207101    2020     1     regular  Southern Mississippi   \n2  401237353    2020     1     regular              Marshall   \n3  401235700    2020     1     regular                  Army   \n4  401212484    2020     1     regular           Texas State   \n5  401207098    2020     1     regular           North Texas   \n6  401212553    2020     1     regular               Memphis   \n7  401239884    2020     1     regular                  UTEP   \n8  401234576    2020     1     regular                  Navy   \n\n     home_conference          away_team    away_conference  pre_game_spread  \\\n0     Conference USA   Central Arkansas            MISSING            -21.0   \n1     Conference USA      South Alabama           Sun Belt            -12.5   \n2     Conference USA   Eastern Kentucky            MISSING            -25.5   \n3   FBS Independents   Middle Tennessee     Conference USA             -3.5   \n4           Sun Belt                SMU  American Athletic             24.5   \n5     Conference USA    Houston Baptist            MISSING            -23.0   \n6  American Athletic     Arkansas State           Sun Belt            -18.5   \n7     Conference USA  Stephen F. Austin            MISSING             -4.0   \n8  American Athletic                BYU   FBS Independents              1.0   \n\n   predicted_spread           spread_pick         straight_pick  \\\n0             -14.0      Central Arkansas                   UAB   \n1             -18.0  Southern Mississippi  Southern Mississippi   \n2             -18.0      Eastern Kentucky              Marshall   \n3             -12.5                  Army                  Army   \n4               5.0           Texas State                   SMU   \n5             -27.5           North Texas           North Texas   \n6              -4.5        Arkansas State               Memphis   \n7             -20.5                  UTEP                  UTEP   \n8               2.5                   BYU                   BYU   \n\n   actual_spread                start_date spread_result straight_result  \n0          -10.0 2020-09-04 00:00:00+00:00           Won             Won  \n1           11.0 2020-09-04 01:00:00+00:00          Lost            Lost  \n2          -59.0 2020-09-05 17:00:00+00:00          Lost             Won  \n3          -42.0 2020-09-05 17:30:00+00:00           Won             Won  \n4            7.0 2020-09-05 20:30:00+00:00           Won             Won  \n5          -26.0 2020-09-05 23:30:00+00:00           Won             Won  \n6          -13.0 2020-09-06 00:00:00+00:00           Won             Won  \n7          -10.0 2020-09-06 01:00:00+00:00           Won             Won  \n8           52.0 2020-09-08 00:00:00+00:00           Won             Won  ",
      "text/html": "<div>\n<style scoped>\n    .dataframe tbody tr th:only-of-type {\n        vertical-align: middle;\n    }\n\n    .dataframe tbody tr th {\n        vertical-align: top;\n    }\n\n    .dataframe thead th {\n        text-align: right;\n    }\n</style>\n<table border=\"1\" class=\"dataframe\">\n  <thead>\n    <tr style=\"text-align: right;\">\n      <th></th>\n      <th>game_id</th>\n      <th>season</th>\n      <th>week</th>\n      <th>season_type</th>\n      <th>home_team</th>\n      <th>home_conference</th>\n      <th>away_team</th>\n      <th>away_conference</th>\n      <th>pre_game_spread</th>\n      <th>predicted_spread</th>\n      <th>spread_pick</th>\n      <th>straight_pick</th>\n      <th>actual_spread</th>\n      <th>start_date</th>\n      <th>spread_result</th>\n      <th>straight_result</th>\n    </tr>\n  </thead>\n  <tbody>\n    <tr>\n      <th>0</th>\n      <td>401238035</td>\n      <td>2020</td>\n      <td>1</td>\n      <td>regular</td>\n      <td>UAB</td>\n      <td>Conference USA</td>\n      <td>Central Arkansas</td>\n      <td>MISSING</td>\n      <td>-21.0</td>\n      <td>-14.0</td>\n      <td>Central Arkansas</td>\n      <td>UAB</td>\n      <td>-10.0</td>\n      <td>2020-09-04 00:00:00+00:00</td>\n      <td>Won</td>\n      <td>Won</td>\n    </tr>\n    <tr>\n      <th>1</th>\n      <td>401207101</td>\n      <td>2020</td>\n      <td>1</td>\n      <td>regular</td>\n      <td>Southern Mississippi</td>\n      <td>Conference USA</td>\n      <td>South Alabama</td>\n      <td>Sun Belt</td>\n      <td>-12.5</td>\n      <td>-18.0</td>\n      <td>Southern Mississippi</td>\n      <td>Southern Mississippi</td>\n      <td>11.0</td>\n      <td>2020-09-04 01:00:00+00:00</td>\n      <td>Lost</td>\n      <td>Lost</td>\n    </tr>\n    <tr>\n      <th>2</th>\n      <td>401237353</td>\n      <td>2020</td>\n      <td>1</td>\n      <td>regular</td>\n      <td>Marshall</td>\n      <td>Conference USA</td>\n      <td>Eastern Kentucky</td>\n      <td>MISSING</td>\n      <td>-25.5</td>\n      <td>-18.0</td>\n      <td>Eastern Kentucky</td>\n      <td>Marshall</td>\n      <td>-59.0</td>\n      <td>2020-09-05 17:00:00+00:00</td>\n      <td>Lost</td>\n      <td>Won</td>\n    </tr>\n    <tr>\n      <th>3</th>\n      <td>401235700</td>\n      <td>2020</td>\n      <td>1</td>\n      <td>regular</td>\n      <td>Army</td>\n      <td>FBS Independents</td>\n      <td>Middle Tennessee</td>\n      <td>Conference USA</td>\n      <td>-3.5</td>\n      <td>-12.5</td>\n      <td>Army</td>\n      <td>Army</td>\n      <td>-42.0</td>\n      <td>2020-09-05 17:30:00+00:00</td>\n      <td>Won</td>\n      <td>Won</td>\n    </tr>\n    <tr>\n      <th>4</th>\n      <td>401212484</td>\n      <td>2020</td>\n      <td>1</td>\n      <td>regular</td>\n      <td>Texas State</td>\n      <td>Sun Belt</td>\n      <td>SMU</td>\n      <td>American Athletic</td>\n      <td>24.5</td>\n      <td>5.0</td>\n      <td>Texas State</td>\n      <td>SMU</td>\n      <td>7.0</td>\n      <td>2020-09-05 20:30:00+00:00</td>\n      <td>Won</td>\n      <td>Won</td>\n    </tr>\n    <tr>\n      <th>5</th>\n      <td>401207098</td>\n      <td>2020</td>\n      <td>1</td>\n      <td>regular</td>\n      <td>North Texas</td>\n      <td>Conference USA</td>\n      <td>Houston Baptist</td>\n      <td>MISSING</td>\n      <td>-23.0</td>\n      <td>-27.5</td>\n      <td>North Texas</td>\n      <td>North Texas</td>\n      <td>-26.0</td>\n      <td>2020-09-05 23:30:00+00:00</td>\n      <td>Won</td>\n      <td>Won</td>\n    </tr>\n    <tr>\n      <th>6</th>\n      <td>401212553</td>\n      <td>2020</td>\n      <td>1</td>\n      <td>regular</td>\n      <td>Memphis</td>\n      <td>American Athletic</td>\n      <td>Arkansas State</td>\n      <td>Sun Belt</td>\n      <td>-18.5</td>\n      <td>-4.5</td>\n      <td>Arkansas State</td>\n      <td>Memphis</td>\n      <td>-13.0</td>\n      <td>2020-09-06 00:00:00+00:00</td>\n      <td>Won</td>\n      <td>Won</td>\n    </tr>\n    <tr>\n      <th>7</th>\n      <td>401239884</td>\n      <td>2020</td>\n      <td>1</td>\n      <td>regular</td>\n      <td>UTEP</td>\n      <td>Conference USA</td>\n      <td>Stephen F. Austin</td>\n      <td>MISSING</td>\n      <td>-4.0</td>\n      <td>-20.5</td>\n      <td>UTEP</td>\n      <td>UTEP</td>\n      <td>-10.0</td>\n      <td>2020-09-06 01:00:00+00:00</td>\n      <td>Won</td>\n      <td>Won</td>\n    </tr>\n    <tr>\n      <th>8</th>\n      <td>401234576</td>\n      <td>2020</td>\n      <td>1</td>\n      <td>regular</td>\n      <td>Navy</td>\n      <td>American Athletic</td>\n      <td>BYU</td>\n      <td>FBS Independents</td>\n      <td>1.0</td>\n      <td>2.5</td>\n      <td>BYU</td>\n      <td>BYU</td>\n      <td>52.0</td>\n      <td>2020-09-08 00:00:00+00:00</td>\n      <td>Won</td>\n      <td>Won</td>\n    </tr>\n  </tbody>\n</table>\n</div>"
     },
     "metadata": {},
     "execution_count": 231
    }
   ],
   "source": [
    "# predict_df['week'] = predict_df.week.astype(int)\n",
    "predict_df"
   ]
  },
  {
   "cell_type": "code",
   "execution_count": 232,
   "metadata": {},
   "outputs": [],
   "source": [
    "# Export\n",
    "filepath = Path('../zillion_picks/picks')\n",
    "\n",
    "for key, group in predict_df.groupby(['season', 'week', 'season_type']):\n",
    "    if group.season_type.unique() == 'postseason':\n",
    "        group.to_csv(filepath/f'premium/{key[0]}_postseason.csv', index=False)\n",
    "    else:\n",
    "        group.to_csv(filepath/f'premium/{key[0]}_{str(key[1]).rjust(2, \"0\")}.csv', index=False)"
   ]
  },
  {
   "cell_type": "code",
   "execution_count": 25,
   "metadata": {},
   "outputs": [],
   "source": []
  },
  {
   "cell_type": "code",
   "execution_count": 13,
   "metadata": {
    "tags": []
   },
   "outputs": [],
   "source": []
  },
  {
   "cell_type": "code",
   "execution_count": 233,
   "metadata": {},
   "outputs": [
    {
     "output_type": "execute_result",
     "data": {
      "text/plain": "pointsAway                         0.060405\naverageStars_All PositionsHome     0.033760\naway_points                        0.019487\nhome_points                        0.019050\nrankAway                           0.017545\n                                     ...   \ncommits_Special TeamsHome          0.000000\naverageStars_Defensive BackHome    0.000000\naverageStars_QuarterbackHome       0.000000\ndefensiveTDsHome                   0.000000\nweek                               0.000000\nLength: 295, dtype: float32"
     },
     "metadata": {},
     "execution_count": 233
    }
   ],
   "source": [
    "important_features = pd.Series(data=spread_model.feature_importances_, index=X_train.columns)\n",
    "important_features.sort_values(ascending=False,inplace=True)\n",
    "important_features"
   ]
  },
  {
   "cell_type": "code",
   "execution_count": null,
   "metadata": {},
   "outputs": [],
   "source": []
  }
 ],
 "metadata": {
  "language_info": {
   "name": "python",
   "codemirror_mode": {
    "name": "ipython",
    "version": 3
   },
   "version": "3.8.2-final"
  },
  "orig_nbformat": 2,
  "file_extension": ".py",
  "mimetype": "text/x-python",
  "name": "python",
  "npconvert_exporter": "python",
  "pygments_lexer": "ipython3",
  "version": 3,
  "kernelspec": {
   "name": "python38264bitzillionpickscondadd1d5d1f064048d389c34f4ee92c62eb",
   "display_name": "Python 3.8.2 64-bit ('zillion_picks': conda)"
  }
 },
 "nbformat": 4,
 "nbformat_minor": 2
}