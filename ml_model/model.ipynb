{
 "cells": [
  {
   "cell_type": "code",
   "execution_count": 3,
   "metadata": {},
   "outputs": [],
   "source": [
    "import pandas as pd\n",
    "import numpy as np\n",
    "from pathlib import Path\n",
    "from sklearn.preprocessing import OrdinalEncoder\n",
    "from sklearn.compose import make_column_transformer\n",
    "from sklearn.model_selection import TimeSeriesSplit, GridSearchCV\n",
    "from sklearn.metrics import mean_squared_error, accuracy_score\n",
    "from xgboost import XGBRegressor, XGBClassifier\n",
    "from load import dataset"
   ]
  },
  {
   "cell_type": "code",
   "execution_count": 104,
   "metadata": {},
   "outputs": [],
   "source": [
    "# setup\n",
    "predict_week = 2\n",
    "predict_season = 2020\n",
    "today_localize = pd.to_datetime('today').tz_localize('US/Central') - pd.Timedelta(hours=3)"
   ]
  },
  {
   "cell_type": "code",
   "execution_count": 87,
   "metadata": {},
   "outputs": [],
   "source": [
    "# Load\n",
    "df = dataset(predict_season=predict_season, predict_week=predict_week, window_size=4, update_data=True, update_seasons=[pd.to_datetime('today').year])"
   ]
  },
  {
   "cell_type": "code",
   "execution_count": 88,
   "metadata": {},
   "outputs": [],
   "source": [
    "# Clean Up\n",
    "df[df.columns[df.columns.str.contains('home|Home')]] = df[df.columns[df.columns.str.contains(\n",
    "    'home|Home')]].groupby('home_team', as_index=False, group_keys=False).apply(lambda x: x.fillna(x.mean()))\n",
    "\n",
    "df[df.columns[df.columns.str.contains('away|Away')]] = df[df.columns[df.columns.str.contains(\n",
    "    'away|Away')]].groupby('away_team', as_index=False, group_keys=False).apply(lambda x: x.fillna(x.mean()))\n",
    "\n",
    "df = df.dropna(axis=1, thresh=int(len(df) * .9))\n",
    "\n",
    "df = df.fillna(0)\n",
    "\n",
    "df[df.select_dtypes('bool').columns] = df.select_dtypes('bool').astype('int')"
   ]
  },
  {
   "cell_type": "code",
   "execution_count": 89,
   "metadata": {
    "tags": []
   },
   "outputs": [],
   "source": [
    "# Model\n",
    "ct = make_column_transformer(\n",
    "    (OrdinalEncoder(), ['season_type', 'home_conference', 'away_conference']),\n",
    "    remainder='passthrough'\n",
    ")\n",
    "\n",
    "drop_columns =  ['game_id', 'season', 'venue', 'start_date', 'home_team', 'away_team', 'start_date', 'spread_target']\n",
    "\n",
    "X_train = df[(df.start_date.dt.tz_convert('US/Central') < today_localize)].drop(drop_columns, axis=1)  \n",
    "y_train = df[(df.start_date.dt.tz_convert('US/Central') < today_localize)][['spread_target']] \n",
    "\n",
    "X_pred = df[(df.start_date.dt.tz_convert('US/Central') >= today_localize)].drop(drop_columns, axis=1) \n",
    "# y_pred = y[X.start_date.dt.date >= pd.to_datetime('today')]\n",
    "\n",
    "if len(X_pred) > 0:\n",
    "\n",
    "    spread_model = XGBRegressor(learning_rate=0.1, \n",
    "                                    colsample_bytree=1.0,\n",
    "                                    gamma=0.5,\n",
    "                                    max_depth=5,\n",
    "                                    min_child_weight=8,\n",
    "                                    n_estimators=100,\n",
    "                                    subsample=1.0)\n",
    "\n",
    "    spread_model.fit(ct.fit_transform(X_train), y_train['spread_target'])\n",
    "    y_spread_pred = np.around(spread_model.predict(ct.fit_transform(X_pred))/.5, decimals=0)*.5\n",
    "\n",
    "    final_columns = ['game_id', 'season', 'week', 'season_type', 'home_team',\n",
    "                    'home_conference', 'away_team', 'away_conference',  'pre_game_spread',\n",
    "                    'predicted_spread']\n",
    "\n",
    "    X_pred = pd.concat([\n",
    "                        X_pred, \n",
    "                        df[df.start_date.dt.tz_convert('US/Central') >= today_localize].drop([col for col in df.columns if col not in drop_columns], axis=1) \n",
    "                        ], \n",
    "                        axis=1)\n",
    "\n",
    "    predict_df = pd.concat([\n",
    "            X_pred.reset_index(drop=True), \n",
    "            pd.Series(y_spread_pred, name='predicted_spread'),\n",
    "        ], axis=1)\n",
    "\n",
    "    predict_df = predict_df[final_columns]\n",
    "\n",
    "    predict_df['spread_pick'] = np.where(predict_df['predicted_spread'] <= predict_df['pre_game_spread'], predict_df['home_team'], predict_df['away_team'])\n",
    "    predict_df['straight_pick'] = np.where(predict_df['predicted_spread'] < 0, predict_df['home_team'], predict_df['away_team'])\n",
    "\n",
    "    predict_df = predict_df[predict_df['week'] == predict_week]\n",
    "    predict_df\n",
    "\n",
    "else:\n",
    "    print('Nothing to Predict')\n",
    "    pass\n"
   ]
  },
  {
   "cell_type": "code",
   "execution_count": 90,
   "metadata": {},
   "outputs": [
    {
     "output_type": "execute_result",
     "data": {
      "text/plain": "     game_id  season  week season_type       home_team home_conference  \\\n0  401236658    2020     2     regular          Kansas          Big 12   \n1  401236041    2020     2     regular  Oklahoma State          Big 12   \n\n          away_team    away_conference  pre_game_spread  predicted_spread  \\\n0  Coastal Carolina           Sun Belt             -6.5              -8.0   \n1             Tulsa  American Athletic            -22.0             -23.0   \n\n      spread_pick   straight_pick  \n0          Kansas          Kansas  \n1  Oklahoma State  Oklahoma State  ",
      "text/html": "<div>\n<style scoped>\n    .dataframe tbody tr th:only-of-type {\n        vertical-align: middle;\n    }\n\n    .dataframe tbody tr th {\n        vertical-align: top;\n    }\n\n    .dataframe thead th {\n        text-align: right;\n    }\n</style>\n<table border=\"1\" class=\"dataframe\">\n  <thead>\n    <tr style=\"text-align: right;\">\n      <th></th>\n      <th>game_id</th>\n      <th>season</th>\n      <th>week</th>\n      <th>season_type</th>\n      <th>home_team</th>\n      <th>home_conference</th>\n      <th>away_team</th>\n      <th>away_conference</th>\n      <th>pre_game_spread</th>\n      <th>predicted_spread</th>\n      <th>spread_pick</th>\n      <th>straight_pick</th>\n    </tr>\n  </thead>\n  <tbody>\n    <tr>\n      <th>0</th>\n      <td>401236658</td>\n      <td>2020</td>\n      <td>2</td>\n      <td>regular</td>\n      <td>Kansas</td>\n      <td>Big 12</td>\n      <td>Coastal Carolina</td>\n      <td>Sun Belt</td>\n      <td>-6.5</td>\n      <td>-8.0</td>\n      <td>Kansas</td>\n      <td>Kansas</td>\n    </tr>\n    <tr>\n      <th>1</th>\n      <td>401236041</td>\n      <td>2020</td>\n      <td>2</td>\n      <td>regular</td>\n      <td>Oklahoma State</td>\n      <td>Big 12</td>\n      <td>Tulsa</td>\n      <td>American Athletic</td>\n      <td>-22.0</td>\n      <td>-23.0</td>\n      <td>Oklahoma State</td>\n      <td>Oklahoma State</td>\n    </tr>\n  </tbody>\n</table>\n</div>"
     },
     "metadata": {},
     "execution_count": 90
    }
   ],
   "source": [
    "predict_df"
   ]
  },
  {
   "cell_type": "code",
   "execution_count": 91,
   "metadata": {
    "tags": []
   },
   "outputs": [],
   "source": [
    "# Pull in games that have occurred within the current week to append to the predictions\n",
    "filepath = Path('../zillion_picks/picks')\n",
    "\n",
    "result_dfs = []\n",
    "\n",
    "for file in filepath.rglob('*.csv'):\n",
    "    result_df = pd.read_csv(file)\n",
    "\n",
    "\n",
    "    result_dfs.append(result_df)\n",
    "\n",
    "result_df = pd.concat(result_dfs)\n",
    "\n",
    "result_df = result_df[(result_df['week'] == predict_week) & (result_df['season'] == predict_season)]\n",
    "\n",
    "try:\n",
    "    result_df = result_df[~result_df.game_id.isin(predict_df.game_id)]\n",
    "    result_df = result_df.drop(['actual_spread', 'spread_result', 'straight_result', 'start_date'], axis=1)\n",
    "\n",
    "except:\n",
    "        result_df = result_df.drop(['actual_spread', 'spread_result', 'straight_result', 'start_date'], axis=1)"
   ]
  },
  {
   "cell_type": "code",
   "execution_count": 92,
   "metadata": {},
   "outputs": [
    {
     "output_type": "execute_result",
     "data": {
      "text/plain": "      game_id  season  week season_type          home_team    home_conference  \\\n0   401234559    2020     2     regular              Miami                ACC   \n1   401236081    2020     2     regular  Appalachian State           Sun Belt   \n2   401234565    2020     2     regular     North Carolina                ACC   \n3   401236221    2020     2     regular         Iowa State             Big 12   \n4   401236038    2020     2     regular      West Virginia             Big 12   \n5   401236053    2020     2     regular       Kansas State             Big 12   \n6   401240296    2020     2     regular             Baylor             Big 12   \n7   401240113    2020     2     regular               Army   FBS Independents   \n8   401234574    2020     2     regular         Notre Dame   FBS Independents   \n9   401207113    2020     2     regular        Texas State           Sun Belt   \n10  401234563    2020     2     regular      Florida State                ACC   \n11  401240233    2020     2     regular         Pittsburgh                ACC   \n12  401215298    2020     2     regular   Georgia Southern           Sun Belt   \n13  401236054    2020     2     regular           Oklahoma             Big 12   \n14  401240039    2020     2     regular      South Florida  American Athletic   \n15  401234562    2020     2     regular        Wake Forest                ACC   \n16  401239973    2020     2     regular      South Alabama           Sun Belt   \n17  401236222    2020     2     regular              Texas             Big 12   \n18  401236039    2020     2     regular         Texas Tech             Big 12   \n19  401234564    2020     2     regular         Louisville                ACC   \n\n           away_team    away_conference  pre_game_spread  predicted_spread  \\\n0                UAB     Conference USA            -14.5             -20.5   \n1          Charlotte     Conference USA            -16.5             -22.5   \n2           Syracuse                ACC            -24.0             -18.5   \n3          Louisiana           Sun Belt            -13.5             -17.0   \n4   Eastern Kentucky            MISSING            -41.0             -44.0   \n5     Arkansas State           Sun Belt            -14.5             -14.5   \n6     Louisiana Tech     Conference USA            -18.5             -21.5   \n7   Louisiana Monroe           Sun Belt            -24.5             -16.5   \n8               Duke                ACC            -21.5             -21.0   \n9     UT San Antonio     Conference USA             -6.0              -4.5   \n10      Georgia Tech                ACC            -13.5             -13.5   \n11       Austin Peay            MISSING            -30.5             -30.0   \n12          Campbell            MISSING            -27.5             -26.5   \n13    Missouri State            MISSING            -48.0             -49.5   \n14       The Citadel            MISSING            -17.5             -17.0   \n15           Clemson                ACC             36.0              40.0   \n16            Tulane  American Athletic             10.5               9.5   \n17              UTEP     Conference USA            -44.0             -41.0   \n18   Houston Baptist            MISSING            -40.0             -39.5   \n19  Western Kentucky     Conference USA            -13.5             -16.0   \n\n          spread_pick      straight_pick  \n0               Miami              Miami  \n1   Appalachian State  Appalachian State  \n2            Syracuse     North Carolina  \n3          Iowa State         Iowa State  \n4       West Virginia      West Virginia  \n5        Kansas State       Kansas State  \n6              Baylor             Baylor  \n7    Louisiana Monroe               Army  \n8                Duke         Notre Dame  \n9      UT San Antonio        Texas State  \n10      Florida State      Florida State  \n11        Austin Peay         Pittsburgh  \n12           Campbell   Georgia Southern  \n13           Oklahoma           Oklahoma  \n14        The Citadel      South Florida  \n15            Clemson            Clemson  \n16      South Alabama             Tulane  \n17               UTEP              Texas  \n18    Houston Baptist         Texas Tech  \n19         Louisville         Louisville  ",
      "text/html": "<div>\n<style scoped>\n    .dataframe tbody tr th:only-of-type {\n        vertical-align: middle;\n    }\n\n    .dataframe tbody tr th {\n        vertical-align: top;\n    }\n\n    .dataframe thead th {\n        text-align: right;\n    }\n</style>\n<table border=\"1\" class=\"dataframe\">\n  <thead>\n    <tr style=\"text-align: right;\">\n      <th></th>\n      <th>game_id</th>\n      <th>season</th>\n      <th>week</th>\n      <th>season_type</th>\n      <th>home_team</th>\n      <th>home_conference</th>\n      <th>away_team</th>\n      <th>away_conference</th>\n      <th>pre_game_spread</th>\n      <th>predicted_spread</th>\n      <th>spread_pick</th>\n      <th>straight_pick</th>\n    </tr>\n  </thead>\n  <tbody>\n    <tr>\n      <th>0</th>\n      <td>401234559</td>\n      <td>2020</td>\n      <td>2</td>\n      <td>regular</td>\n      <td>Miami</td>\n      <td>ACC</td>\n      <td>UAB</td>\n      <td>Conference USA</td>\n      <td>-14.5</td>\n      <td>-20.5</td>\n      <td>Miami</td>\n      <td>Miami</td>\n    </tr>\n    <tr>\n      <th>1</th>\n      <td>401236081</td>\n      <td>2020</td>\n      <td>2</td>\n      <td>regular</td>\n      <td>Appalachian State</td>\n      <td>Sun Belt</td>\n      <td>Charlotte</td>\n      <td>Conference USA</td>\n      <td>-16.5</td>\n      <td>-22.5</td>\n      <td>Appalachian State</td>\n      <td>Appalachian State</td>\n    </tr>\n    <tr>\n      <th>2</th>\n      <td>401234565</td>\n      <td>2020</td>\n      <td>2</td>\n      <td>regular</td>\n      <td>North Carolina</td>\n      <td>ACC</td>\n      <td>Syracuse</td>\n      <td>ACC</td>\n      <td>-24.0</td>\n      <td>-18.5</td>\n      <td>Syracuse</td>\n      <td>North Carolina</td>\n    </tr>\n    <tr>\n      <th>3</th>\n      <td>401236221</td>\n      <td>2020</td>\n      <td>2</td>\n      <td>regular</td>\n      <td>Iowa State</td>\n      <td>Big 12</td>\n      <td>Louisiana</td>\n      <td>Sun Belt</td>\n      <td>-13.5</td>\n      <td>-17.0</td>\n      <td>Iowa State</td>\n      <td>Iowa State</td>\n    </tr>\n    <tr>\n      <th>4</th>\n      <td>401236038</td>\n      <td>2020</td>\n      <td>2</td>\n      <td>regular</td>\n      <td>West Virginia</td>\n      <td>Big 12</td>\n      <td>Eastern Kentucky</td>\n      <td>MISSING</td>\n      <td>-41.0</td>\n      <td>-44.0</td>\n      <td>West Virginia</td>\n      <td>West Virginia</td>\n    </tr>\n    <tr>\n      <th>5</th>\n      <td>401236053</td>\n      <td>2020</td>\n      <td>2</td>\n      <td>regular</td>\n      <td>Kansas State</td>\n      <td>Big 12</td>\n      <td>Arkansas State</td>\n      <td>Sun Belt</td>\n      <td>-14.5</td>\n      <td>-14.5</td>\n      <td>Kansas State</td>\n      <td>Kansas State</td>\n    </tr>\n    <tr>\n      <th>6</th>\n      <td>401240296</td>\n      <td>2020</td>\n      <td>2</td>\n      <td>regular</td>\n      <td>Baylor</td>\n      <td>Big 12</td>\n      <td>Louisiana Tech</td>\n      <td>Conference USA</td>\n      <td>-18.5</td>\n      <td>-21.5</td>\n      <td>Baylor</td>\n      <td>Baylor</td>\n    </tr>\n    <tr>\n      <th>7</th>\n      <td>401240113</td>\n      <td>2020</td>\n      <td>2</td>\n      <td>regular</td>\n      <td>Army</td>\n      <td>FBS Independents</td>\n      <td>Louisiana Monroe</td>\n      <td>Sun Belt</td>\n      <td>-24.5</td>\n      <td>-16.5</td>\n      <td>Louisiana Monroe</td>\n      <td>Army</td>\n    </tr>\n    <tr>\n      <th>8</th>\n      <td>401234574</td>\n      <td>2020</td>\n      <td>2</td>\n      <td>regular</td>\n      <td>Notre Dame</td>\n      <td>FBS Independents</td>\n      <td>Duke</td>\n      <td>ACC</td>\n      <td>-21.5</td>\n      <td>-21.0</td>\n      <td>Duke</td>\n      <td>Notre Dame</td>\n    </tr>\n    <tr>\n      <th>9</th>\n      <td>401207113</td>\n      <td>2020</td>\n      <td>2</td>\n      <td>regular</td>\n      <td>Texas State</td>\n      <td>Sun Belt</td>\n      <td>UT San Antonio</td>\n      <td>Conference USA</td>\n      <td>-6.0</td>\n      <td>-4.5</td>\n      <td>UT San Antonio</td>\n      <td>Texas State</td>\n    </tr>\n    <tr>\n      <th>10</th>\n      <td>401234563</td>\n      <td>2020</td>\n      <td>2</td>\n      <td>regular</td>\n      <td>Florida State</td>\n      <td>ACC</td>\n      <td>Georgia Tech</td>\n      <td>ACC</td>\n      <td>-13.5</td>\n      <td>-13.5</td>\n      <td>Florida State</td>\n      <td>Florida State</td>\n    </tr>\n    <tr>\n      <th>11</th>\n      <td>401240233</td>\n      <td>2020</td>\n      <td>2</td>\n      <td>regular</td>\n      <td>Pittsburgh</td>\n      <td>ACC</td>\n      <td>Austin Peay</td>\n      <td>MISSING</td>\n      <td>-30.5</td>\n      <td>-30.0</td>\n      <td>Austin Peay</td>\n      <td>Pittsburgh</td>\n    </tr>\n    <tr>\n      <th>12</th>\n      <td>401215298</td>\n      <td>2020</td>\n      <td>2</td>\n      <td>regular</td>\n      <td>Georgia Southern</td>\n      <td>Sun Belt</td>\n      <td>Campbell</td>\n      <td>MISSING</td>\n      <td>-27.5</td>\n      <td>-26.5</td>\n      <td>Campbell</td>\n      <td>Georgia Southern</td>\n    </tr>\n    <tr>\n      <th>13</th>\n      <td>401236054</td>\n      <td>2020</td>\n      <td>2</td>\n      <td>regular</td>\n      <td>Oklahoma</td>\n      <td>Big 12</td>\n      <td>Missouri State</td>\n      <td>MISSING</td>\n      <td>-48.0</td>\n      <td>-49.5</td>\n      <td>Oklahoma</td>\n      <td>Oklahoma</td>\n    </tr>\n    <tr>\n      <th>14</th>\n      <td>401240039</td>\n      <td>2020</td>\n      <td>2</td>\n      <td>regular</td>\n      <td>South Florida</td>\n      <td>American Athletic</td>\n      <td>The Citadel</td>\n      <td>MISSING</td>\n      <td>-17.5</td>\n      <td>-17.0</td>\n      <td>The Citadel</td>\n      <td>South Florida</td>\n    </tr>\n    <tr>\n      <th>15</th>\n      <td>401234562</td>\n      <td>2020</td>\n      <td>2</td>\n      <td>regular</td>\n      <td>Wake Forest</td>\n      <td>ACC</td>\n      <td>Clemson</td>\n      <td>ACC</td>\n      <td>36.0</td>\n      <td>40.0</td>\n      <td>Clemson</td>\n      <td>Clemson</td>\n    </tr>\n    <tr>\n      <th>16</th>\n      <td>401239973</td>\n      <td>2020</td>\n      <td>2</td>\n      <td>regular</td>\n      <td>South Alabama</td>\n      <td>Sun Belt</td>\n      <td>Tulane</td>\n      <td>American Athletic</td>\n      <td>10.5</td>\n      <td>9.5</td>\n      <td>South Alabama</td>\n      <td>Tulane</td>\n    </tr>\n    <tr>\n      <th>17</th>\n      <td>401236222</td>\n      <td>2020</td>\n      <td>2</td>\n      <td>regular</td>\n      <td>Texas</td>\n      <td>Big 12</td>\n      <td>UTEP</td>\n      <td>Conference USA</td>\n      <td>-44.0</td>\n      <td>-41.0</td>\n      <td>UTEP</td>\n      <td>Texas</td>\n    </tr>\n    <tr>\n      <th>18</th>\n      <td>401236039</td>\n      <td>2020</td>\n      <td>2</td>\n      <td>regular</td>\n      <td>Texas Tech</td>\n      <td>Big 12</td>\n      <td>Houston Baptist</td>\n      <td>MISSING</td>\n      <td>-40.0</td>\n      <td>-39.5</td>\n      <td>Houston Baptist</td>\n      <td>Texas Tech</td>\n    </tr>\n    <tr>\n      <th>19</th>\n      <td>401234564</td>\n      <td>2020</td>\n      <td>2</td>\n      <td>regular</td>\n      <td>Louisville</td>\n      <td>ACC</td>\n      <td>Western Kentucky</td>\n      <td>Conference USA</td>\n      <td>-13.5</td>\n      <td>-16.0</td>\n      <td>Louisville</td>\n      <td>Louisville</td>\n    </tr>\n  </tbody>\n</table>\n</div>"
     },
     "metadata": {},
     "execution_count": 92
    }
   ],
   "source": [
    "result_df"
   ]
  },
  {
   "cell_type": "code",
   "execution_count": 93,
   "metadata": {},
   "outputs": [],
   "source": [
    "# Merge Predit and Result Dataframes\n",
    "try:\n",
    "    predict_df = pd.concat([result_df, predict_df])\n",
    "except:\n",
    "    predict_df = result_df"
   ]
  },
  {
   "cell_type": "code",
   "execution_count": 94,
   "metadata": {},
   "outputs": [],
   "source": [
    "# Add spread target in case the game is complete\n",
    "predict_df = predict_df.merge(df[['game_id', 'spread_target', 'start_date']], on='game_id', how='left')"
   ]
  },
  {
   "cell_type": "code",
   "execution_count": 95,
   "metadata": {},
   "outputs": [
    {
     "output_type": "execute_result",
     "data": {
      "text/plain": "      game_id  season  week season_type          home_team    home_conference  \\\n0   401234559    2020     2     regular              Miami                ACC   \n1   401236081    2020     2     regular  Appalachian State           Sun Belt   \n2   401234565    2020     2     regular     North Carolina                ACC   \n3   401236221    2020     2     regular         Iowa State             Big 12   \n4   401236038    2020     2     regular      West Virginia             Big 12   \n5   401236053    2020     2     regular       Kansas State             Big 12   \n6   401240296    2020     2     regular             Baylor             Big 12   \n7   401240113    2020     2     regular               Army   FBS Independents   \n8   401234574    2020     2     regular         Notre Dame   FBS Independents   \n9   401207113    2020     2     regular        Texas State           Sun Belt   \n10  401234563    2020     2     regular      Florida State                ACC   \n11  401240233    2020     2     regular         Pittsburgh                ACC   \n12  401215298    2020     2     regular   Georgia Southern           Sun Belt   \n13  401236054    2020     2     regular           Oklahoma             Big 12   \n14  401240039    2020     2     regular      South Florida  American Athletic   \n15  401234562    2020     2     regular        Wake Forest                ACC   \n16  401239973    2020     2     regular      South Alabama           Sun Belt   \n17  401236222    2020     2     regular              Texas             Big 12   \n18  401236039    2020     2     regular         Texas Tech             Big 12   \n19  401234564    2020     2     regular         Louisville                ACC   \n20  401236658    2020     2     regular             Kansas             Big 12   \n21  401236041    2020     2     regular     Oklahoma State             Big 12   \n\n           away_team    away_conference  pre_game_spread  predicted_spread  \\\n0                UAB     Conference USA            -14.5             -20.5   \n1          Charlotte     Conference USA            -16.5             -22.5   \n2           Syracuse                ACC            -24.0             -18.5   \n3          Louisiana           Sun Belt            -13.5             -17.0   \n4   Eastern Kentucky            MISSING            -41.0             -44.0   \n5     Arkansas State           Sun Belt            -14.5             -14.5   \n6     Louisiana Tech     Conference USA            -18.5             -21.5   \n7   Louisiana Monroe           Sun Belt            -24.5             -16.5   \n8               Duke                ACC            -21.5             -21.0   \n9     UT San Antonio     Conference USA             -6.0              -4.5   \n10      Georgia Tech                ACC            -13.5             -13.5   \n11       Austin Peay            MISSING            -30.5             -30.0   \n12          Campbell            MISSING            -27.5             -26.5   \n13    Missouri State            MISSING            -48.0             -49.5   \n14       The Citadel            MISSING            -17.5             -17.0   \n15           Clemson                ACC             36.0              40.0   \n16            Tulane  American Athletic             10.5               9.5   \n17              UTEP     Conference USA            -44.0             -41.0   \n18   Houston Baptist            MISSING            -40.0             -39.5   \n19  Western Kentucky     Conference USA            -13.5             -16.0   \n20  Coastal Carolina           Sun Belt             -6.5              -8.0   \n21             Tulsa  American Athletic            -22.0             -23.0   \n\n          spread_pick      straight_pick  spread_target  \\\n0               Miami              Miami          -17.0   \n1   Appalachian State  Appalachian State          -15.0   \n2            Syracuse     North Carolina          -25.0   \n3          Iowa State         Iowa State           17.0   \n4       West Virginia      West Virginia          -46.0   \n5        Kansas State       Kansas State            4.0   \n6              Baylor             Baylor            0.0   \n7    Louisiana Monroe               Army          -30.0   \n8                Duke         Notre Dame          -14.0   \n9      UT San Antonio        Texas State            3.0   \n10      Florida State      Florida State            3.0   \n11        Austin Peay         Pittsburgh          -55.0   \n12           Campbell   Georgia Southern           -1.0   \n13           Oklahoma           Oklahoma          -48.0   \n14        The Citadel      South Florida          -21.0   \n15            Clemson            Clemson           24.0   \n16      South Alabama             Tulane            3.0   \n17               UTEP              Texas          -56.0   \n18    Houston Baptist         Texas Tech           -2.0   \n19         Louisville         Louisville          -14.0   \n20             Kansas             Kansas            0.0   \n21     Oklahoma State     Oklahoma State            0.0   \n\n                  start_date  \n0  2020-09-11 00:00:00+00:00  \n1  2020-09-12 16:00:00+00:00  \n2  2020-09-12 16:00:00+00:00  \n3  2020-09-12 16:00:00+00:00  \n4  2020-09-12 16:00:00+00:00  \n5  2020-09-12 16:00:00+00:00  \n6  2020-09-12 16:00:00+00:00  \n7  2020-09-12 17:30:00+00:00  \n8  2020-09-12 18:30:00+00:00  \n9  2020-09-12 19:30:00+00:00  \n10 2020-09-12 20:00:00+00:00  \n11 2020-09-12 20:00:00+00:00  \n12 2020-09-12 20:14:00+00:00  \n13 2020-09-12 23:00:00+00:00  \n14 2020-09-12 23:00:00+00:00  \n15 2020-09-12 23:30:00+00:00  \n16 2020-09-12 23:30:00+00:00  \n17 2020-09-13 00:00:00+00:00  \n18 2020-09-13 00:00:00+00:00  \n19 2020-09-13 00:00:00+00:00  \n20 2020-09-13 02:00:00+00:00  \n21 2020-09-19 16:00:00+00:00  ",
      "text/html": "<div>\n<style scoped>\n    .dataframe tbody tr th:only-of-type {\n        vertical-align: middle;\n    }\n\n    .dataframe tbody tr th {\n        vertical-align: top;\n    }\n\n    .dataframe thead th {\n        text-align: right;\n    }\n</style>\n<table border=\"1\" class=\"dataframe\">\n  <thead>\n    <tr style=\"text-align: right;\">\n      <th></th>\n      <th>game_id</th>\n      <th>season</th>\n      <th>week</th>\n      <th>season_type</th>\n      <th>home_team</th>\n      <th>home_conference</th>\n      <th>away_team</th>\n      <th>away_conference</th>\n      <th>pre_game_spread</th>\n      <th>predicted_spread</th>\n      <th>spread_pick</th>\n      <th>straight_pick</th>\n      <th>spread_target</th>\n      <th>start_date</th>\n    </tr>\n  </thead>\n  <tbody>\n    <tr>\n      <th>0</th>\n      <td>401234559</td>\n      <td>2020</td>\n      <td>2</td>\n      <td>regular</td>\n      <td>Miami</td>\n      <td>ACC</td>\n      <td>UAB</td>\n      <td>Conference USA</td>\n      <td>-14.5</td>\n      <td>-20.5</td>\n      <td>Miami</td>\n      <td>Miami</td>\n      <td>-17.0</td>\n      <td>2020-09-11 00:00:00+00:00</td>\n    </tr>\n    <tr>\n      <th>1</th>\n      <td>401236081</td>\n      <td>2020</td>\n      <td>2</td>\n      <td>regular</td>\n      <td>Appalachian State</td>\n      <td>Sun Belt</td>\n      <td>Charlotte</td>\n      <td>Conference USA</td>\n      <td>-16.5</td>\n      <td>-22.5</td>\n      <td>Appalachian State</td>\n      <td>Appalachian State</td>\n      <td>-15.0</td>\n      <td>2020-09-12 16:00:00+00:00</td>\n    </tr>\n    <tr>\n      <th>2</th>\n      <td>401234565</td>\n      <td>2020</td>\n      <td>2</td>\n      <td>regular</td>\n      <td>North Carolina</td>\n      <td>ACC</td>\n      <td>Syracuse</td>\n      <td>ACC</td>\n      <td>-24.0</td>\n      <td>-18.5</td>\n      <td>Syracuse</td>\n      <td>North Carolina</td>\n      <td>-25.0</td>\n      <td>2020-09-12 16:00:00+00:00</td>\n    </tr>\n    <tr>\n      <th>3</th>\n      <td>401236221</td>\n      <td>2020</td>\n      <td>2</td>\n      <td>regular</td>\n      <td>Iowa State</td>\n      <td>Big 12</td>\n      <td>Louisiana</td>\n      <td>Sun Belt</td>\n      <td>-13.5</td>\n      <td>-17.0</td>\n      <td>Iowa State</td>\n      <td>Iowa State</td>\n      <td>17.0</td>\n      <td>2020-09-12 16:00:00+00:00</td>\n    </tr>\n    <tr>\n      <th>4</th>\n      <td>401236038</td>\n      <td>2020</td>\n      <td>2</td>\n      <td>regular</td>\n      <td>West Virginia</td>\n      <td>Big 12</td>\n      <td>Eastern Kentucky</td>\n      <td>MISSING</td>\n      <td>-41.0</td>\n      <td>-44.0</td>\n      <td>West Virginia</td>\n      <td>West Virginia</td>\n      <td>-46.0</td>\n      <td>2020-09-12 16:00:00+00:00</td>\n    </tr>\n    <tr>\n      <th>5</th>\n      <td>401236053</td>\n      <td>2020</td>\n      <td>2</td>\n      <td>regular</td>\n      <td>Kansas State</td>\n      <td>Big 12</td>\n      <td>Arkansas State</td>\n      <td>Sun Belt</td>\n      <td>-14.5</td>\n      <td>-14.5</td>\n      <td>Kansas State</td>\n      <td>Kansas State</td>\n      <td>4.0</td>\n      <td>2020-09-12 16:00:00+00:00</td>\n    </tr>\n    <tr>\n      <th>6</th>\n      <td>401240296</td>\n      <td>2020</td>\n      <td>2</td>\n      <td>regular</td>\n      <td>Baylor</td>\n      <td>Big 12</td>\n      <td>Louisiana Tech</td>\n      <td>Conference USA</td>\n      <td>-18.5</td>\n      <td>-21.5</td>\n      <td>Baylor</td>\n      <td>Baylor</td>\n      <td>0.0</td>\n      <td>2020-09-12 16:00:00+00:00</td>\n    </tr>\n    <tr>\n      <th>7</th>\n      <td>401240113</td>\n      <td>2020</td>\n      <td>2</td>\n      <td>regular</td>\n      <td>Army</td>\n      <td>FBS Independents</td>\n      <td>Louisiana Monroe</td>\n      <td>Sun Belt</td>\n      <td>-24.5</td>\n      <td>-16.5</td>\n      <td>Louisiana Monroe</td>\n      <td>Army</td>\n      <td>-30.0</td>\n      <td>2020-09-12 17:30:00+00:00</td>\n    </tr>\n    <tr>\n      <th>8</th>\n      <td>401234574</td>\n      <td>2020</td>\n      <td>2</td>\n      <td>regular</td>\n      <td>Notre Dame</td>\n      <td>FBS Independents</td>\n      <td>Duke</td>\n      <td>ACC</td>\n      <td>-21.5</td>\n      <td>-21.0</td>\n      <td>Duke</td>\n      <td>Notre Dame</td>\n      <td>-14.0</td>\n      <td>2020-09-12 18:30:00+00:00</td>\n    </tr>\n    <tr>\n      <th>9</th>\n      <td>401207113</td>\n      <td>2020</td>\n      <td>2</td>\n      <td>regular</td>\n      <td>Texas State</td>\n      <td>Sun Belt</td>\n      <td>UT San Antonio</td>\n      <td>Conference USA</td>\n      <td>-6.0</td>\n      <td>-4.5</td>\n      <td>UT San Antonio</td>\n      <td>Texas State</td>\n      <td>3.0</td>\n      <td>2020-09-12 19:30:00+00:00</td>\n    </tr>\n    <tr>\n      <th>10</th>\n      <td>401234563</td>\n      <td>2020</td>\n      <td>2</td>\n      <td>regular</td>\n      <td>Florida State</td>\n      <td>ACC</td>\n      <td>Georgia Tech</td>\n      <td>ACC</td>\n      <td>-13.5</td>\n      <td>-13.5</td>\n      <td>Florida State</td>\n      <td>Florida State</td>\n      <td>3.0</td>\n      <td>2020-09-12 20:00:00+00:00</td>\n    </tr>\n    <tr>\n      <th>11</th>\n      <td>401240233</td>\n      <td>2020</td>\n      <td>2</td>\n      <td>regular</td>\n      <td>Pittsburgh</td>\n      <td>ACC</td>\n      <td>Austin Peay</td>\n      <td>MISSING</td>\n      <td>-30.5</td>\n      <td>-30.0</td>\n      <td>Austin Peay</td>\n      <td>Pittsburgh</td>\n      <td>-55.0</td>\n      <td>2020-09-12 20:00:00+00:00</td>\n    </tr>\n    <tr>\n      <th>12</th>\n      <td>401215298</td>\n      <td>2020</td>\n      <td>2</td>\n      <td>regular</td>\n      <td>Georgia Southern</td>\n      <td>Sun Belt</td>\n      <td>Campbell</td>\n      <td>MISSING</td>\n      <td>-27.5</td>\n      <td>-26.5</td>\n      <td>Campbell</td>\n      <td>Georgia Southern</td>\n      <td>-1.0</td>\n      <td>2020-09-12 20:14:00+00:00</td>\n    </tr>\n    <tr>\n      <th>13</th>\n      <td>401236054</td>\n      <td>2020</td>\n      <td>2</td>\n      <td>regular</td>\n      <td>Oklahoma</td>\n      <td>Big 12</td>\n      <td>Missouri State</td>\n      <td>MISSING</td>\n      <td>-48.0</td>\n      <td>-49.5</td>\n      <td>Oklahoma</td>\n      <td>Oklahoma</td>\n      <td>-48.0</td>\n      <td>2020-09-12 23:00:00+00:00</td>\n    </tr>\n    <tr>\n      <th>14</th>\n      <td>401240039</td>\n      <td>2020</td>\n      <td>2</td>\n      <td>regular</td>\n      <td>South Florida</td>\n      <td>American Athletic</td>\n      <td>The Citadel</td>\n      <td>MISSING</td>\n      <td>-17.5</td>\n      <td>-17.0</td>\n      <td>The Citadel</td>\n      <td>South Florida</td>\n      <td>-21.0</td>\n      <td>2020-09-12 23:00:00+00:00</td>\n    </tr>\n    <tr>\n      <th>15</th>\n      <td>401234562</td>\n      <td>2020</td>\n      <td>2</td>\n      <td>regular</td>\n      <td>Wake Forest</td>\n      <td>ACC</td>\n      <td>Clemson</td>\n      <td>ACC</td>\n      <td>36.0</td>\n      <td>40.0</td>\n      <td>Clemson</td>\n      <td>Clemson</td>\n      <td>24.0</td>\n      <td>2020-09-12 23:30:00+00:00</td>\n    </tr>\n    <tr>\n      <th>16</th>\n      <td>401239973</td>\n      <td>2020</td>\n      <td>2</td>\n      <td>regular</td>\n      <td>South Alabama</td>\n      <td>Sun Belt</td>\n      <td>Tulane</td>\n      <td>American Athletic</td>\n      <td>10.5</td>\n      <td>9.5</td>\n      <td>South Alabama</td>\n      <td>Tulane</td>\n      <td>3.0</td>\n      <td>2020-09-12 23:30:00+00:00</td>\n    </tr>\n    <tr>\n      <th>17</th>\n      <td>401236222</td>\n      <td>2020</td>\n      <td>2</td>\n      <td>regular</td>\n      <td>Texas</td>\n      <td>Big 12</td>\n      <td>UTEP</td>\n      <td>Conference USA</td>\n      <td>-44.0</td>\n      <td>-41.0</td>\n      <td>UTEP</td>\n      <td>Texas</td>\n      <td>-56.0</td>\n      <td>2020-09-13 00:00:00+00:00</td>\n    </tr>\n    <tr>\n      <th>18</th>\n      <td>401236039</td>\n      <td>2020</td>\n      <td>2</td>\n      <td>regular</td>\n      <td>Texas Tech</td>\n      <td>Big 12</td>\n      <td>Houston Baptist</td>\n      <td>MISSING</td>\n      <td>-40.0</td>\n      <td>-39.5</td>\n      <td>Houston Baptist</td>\n      <td>Texas Tech</td>\n      <td>-2.0</td>\n      <td>2020-09-13 00:00:00+00:00</td>\n    </tr>\n    <tr>\n      <th>19</th>\n      <td>401234564</td>\n      <td>2020</td>\n      <td>2</td>\n      <td>regular</td>\n      <td>Louisville</td>\n      <td>ACC</td>\n      <td>Western Kentucky</td>\n      <td>Conference USA</td>\n      <td>-13.5</td>\n      <td>-16.0</td>\n      <td>Louisville</td>\n      <td>Louisville</td>\n      <td>-14.0</td>\n      <td>2020-09-13 00:00:00+00:00</td>\n    </tr>\n    <tr>\n      <th>20</th>\n      <td>401236658</td>\n      <td>2020</td>\n      <td>2</td>\n      <td>regular</td>\n      <td>Kansas</td>\n      <td>Big 12</td>\n      <td>Coastal Carolina</td>\n      <td>Sun Belt</td>\n      <td>-6.5</td>\n      <td>-8.0</td>\n      <td>Kansas</td>\n      <td>Kansas</td>\n      <td>0.0</td>\n      <td>2020-09-13 02:00:00+00:00</td>\n    </tr>\n    <tr>\n      <th>21</th>\n      <td>401236041</td>\n      <td>2020</td>\n      <td>2</td>\n      <td>regular</td>\n      <td>Oklahoma State</td>\n      <td>Big 12</td>\n      <td>Tulsa</td>\n      <td>American Athletic</td>\n      <td>-22.0</td>\n      <td>-23.0</td>\n      <td>Oklahoma State</td>\n      <td>Oklahoma State</td>\n      <td>0.0</td>\n      <td>2020-09-19 16:00:00+00:00</td>\n    </tr>\n  </tbody>\n</table>\n</div>"
     },
     "metadata": {},
     "execution_count": 95
    }
   ],
   "source": [
    "predict_df"
   ]
  },
  {
   "cell_type": "code",
   "execution_count": 96,
   "metadata": {},
   "outputs": [],
   "source": [
    "# Convert spread_target games that have not occurred to Null\n",
    "predict_df['spread_target']  = np.where(pd.to_datetime(predict_df['start_date']).dt.tz_convert('US/Central') >= today_localize, np.nan, predict_df['spread_target'] )"
   ]
  },
  {
   "cell_type": "code",
   "execution_count": 97,
   "metadata": {},
   "outputs": [
    {
     "output_type": "execute_result",
     "data": {
      "text/plain": "      game_id  season  week season_type          home_team    home_conference  \\\n0   401234559    2020     2     regular              Miami                ACC   \n1   401236081    2020     2     regular  Appalachian State           Sun Belt   \n2   401234565    2020     2     regular     North Carolina                ACC   \n3   401236221    2020     2     regular         Iowa State             Big 12   \n4   401236038    2020     2     regular      West Virginia             Big 12   \n5   401236053    2020     2     regular       Kansas State             Big 12   \n6   401240296    2020     2     regular             Baylor             Big 12   \n7   401240113    2020     2     regular               Army   FBS Independents   \n8   401234574    2020     2     regular         Notre Dame   FBS Independents   \n9   401207113    2020     2     regular        Texas State           Sun Belt   \n10  401234563    2020     2     regular      Florida State                ACC   \n11  401240233    2020     2     regular         Pittsburgh                ACC   \n12  401215298    2020     2     regular   Georgia Southern           Sun Belt   \n13  401236054    2020     2     regular           Oklahoma             Big 12   \n14  401240039    2020     2     regular      South Florida  American Athletic   \n15  401234562    2020     2     regular        Wake Forest                ACC   \n16  401239973    2020     2     regular      South Alabama           Sun Belt   \n17  401236222    2020     2     regular              Texas             Big 12   \n18  401236039    2020     2     regular         Texas Tech             Big 12   \n19  401234564    2020     2     regular         Louisville                ACC   \n20  401236658    2020     2     regular             Kansas             Big 12   \n21  401236041    2020     2     regular     Oklahoma State             Big 12   \n\n           away_team    away_conference  pre_game_spread  predicted_spread  \\\n0                UAB     Conference USA            -14.5             -20.5   \n1          Charlotte     Conference USA            -16.5             -22.5   \n2           Syracuse                ACC            -24.0             -18.5   \n3          Louisiana           Sun Belt            -13.5             -17.0   \n4   Eastern Kentucky            MISSING            -41.0             -44.0   \n5     Arkansas State           Sun Belt            -14.5             -14.5   \n6     Louisiana Tech     Conference USA            -18.5             -21.5   \n7   Louisiana Monroe           Sun Belt            -24.5             -16.5   \n8               Duke                ACC            -21.5             -21.0   \n9     UT San Antonio     Conference USA             -6.0              -4.5   \n10      Georgia Tech                ACC            -13.5             -13.5   \n11       Austin Peay            MISSING            -30.5             -30.0   \n12          Campbell            MISSING            -27.5             -26.5   \n13    Missouri State            MISSING            -48.0             -49.5   \n14       The Citadel            MISSING            -17.5             -17.0   \n15           Clemson                ACC             36.0              40.0   \n16            Tulane  American Athletic             10.5               9.5   \n17              UTEP     Conference USA            -44.0             -41.0   \n18   Houston Baptist            MISSING            -40.0             -39.5   \n19  Western Kentucky     Conference USA            -13.5             -16.0   \n20  Coastal Carolina           Sun Belt             -6.5              -8.0   \n21             Tulsa  American Athletic            -22.0             -23.0   \n\n          spread_pick      straight_pick  spread_target  \\\n0               Miami              Miami          -17.0   \n1   Appalachian State  Appalachian State          -15.0   \n2            Syracuse     North Carolina          -25.0   \n3          Iowa State         Iowa State           17.0   \n4       West Virginia      West Virginia          -46.0   \n5        Kansas State       Kansas State            4.0   \n6              Baylor             Baylor            0.0   \n7    Louisiana Monroe               Army          -30.0   \n8                Duke         Notre Dame          -14.0   \n9      UT San Antonio        Texas State            3.0   \n10      Florida State      Florida State            3.0   \n11        Austin Peay         Pittsburgh          -55.0   \n12           Campbell   Georgia Southern           -1.0   \n13           Oklahoma           Oklahoma          -48.0   \n14        The Citadel      South Florida          -21.0   \n15            Clemson            Clemson           24.0   \n16      South Alabama             Tulane            3.0   \n17               UTEP              Texas          -56.0   \n18    Houston Baptist         Texas Tech           -2.0   \n19         Louisville         Louisville          -14.0   \n20             Kansas             Kansas            NaN   \n21     Oklahoma State     Oklahoma State            NaN   \n\n                  start_date  \n0  2020-09-11 00:00:00+00:00  \n1  2020-09-12 16:00:00+00:00  \n2  2020-09-12 16:00:00+00:00  \n3  2020-09-12 16:00:00+00:00  \n4  2020-09-12 16:00:00+00:00  \n5  2020-09-12 16:00:00+00:00  \n6  2020-09-12 16:00:00+00:00  \n7  2020-09-12 17:30:00+00:00  \n8  2020-09-12 18:30:00+00:00  \n9  2020-09-12 19:30:00+00:00  \n10 2020-09-12 20:00:00+00:00  \n11 2020-09-12 20:00:00+00:00  \n12 2020-09-12 20:14:00+00:00  \n13 2020-09-12 23:00:00+00:00  \n14 2020-09-12 23:00:00+00:00  \n15 2020-09-12 23:30:00+00:00  \n16 2020-09-12 23:30:00+00:00  \n17 2020-09-13 00:00:00+00:00  \n18 2020-09-13 00:00:00+00:00  \n19 2020-09-13 00:00:00+00:00  \n20 2020-09-13 02:00:00+00:00  \n21 2020-09-19 16:00:00+00:00  ",
      "text/html": "<div>\n<style scoped>\n    .dataframe tbody tr th:only-of-type {\n        vertical-align: middle;\n    }\n\n    .dataframe tbody tr th {\n        vertical-align: top;\n    }\n\n    .dataframe thead th {\n        text-align: right;\n    }\n</style>\n<table border=\"1\" class=\"dataframe\">\n  <thead>\n    <tr style=\"text-align: right;\">\n      <th></th>\n      <th>game_id</th>\n      <th>season</th>\n      <th>week</th>\n      <th>season_type</th>\n      <th>home_team</th>\n      <th>home_conference</th>\n      <th>away_team</th>\n      <th>away_conference</th>\n      <th>pre_game_spread</th>\n      <th>predicted_spread</th>\n      <th>spread_pick</th>\n      <th>straight_pick</th>\n      <th>spread_target</th>\n      <th>start_date</th>\n    </tr>\n  </thead>\n  <tbody>\n    <tr>\n      <th>0</th>\n      <td>401234559</td>\n      <td>2020</td>\n      <td>2</td>\n      <td>regular</td>\n      <td>Miami</td>\n      <td>ACC</td>\n      <td>UAB</td>\n      <td>Conference USA</td>\n      <td>-14.5</td>\n      <td>-20.5</td>\n      <td>Miami</td>\n      <td>Miami</td>\n      <td>-17.0</td>\n      <td>2020-09-11 00:00:00+00:00</td>\n    </tr>\n    <tr>\n      <th>1</th>\n      <td>401236081</td>\n      <td>2020</td>\n      <td>2</td>\n      <td>regular</td>\n      <td>Appalachian State</td>\n      <td>Sun Belt</td>\n      <td>Charlotte</td>\n      <td>Conference USA</td>\n      <td>-16.5</td>\n      <td>-22.5</td>\n      <td>Appalachian State</td>\n      <td>Appalachian State</td>\n      <td>-15.0</td>\n      <td>2020-09-12 16:00:00+00:00</td>\n    </tr>\n    <tr>\n      <th>2</th>\n      <td>401234565</td>\n      <td>2020</td>\n      <td>2</td>\n      <td>regular</td>\n      <td>North Carolina</td>\n      <td>ACC</td>\n      <td>Syracuse</td>\n      <td>ACC</td>\n      <td>-24.0</td>\n      <td>-18.5</td>\n      <td>Syracuse</td>\n      <td>North Carolina</td>\n      <td>-25.0</td>\n      <td>2020-09-12 16:00:00+00:00</td>\n    </tr>\n    <tr>\n      <th>3</th>\n      <td>401236221</td>\n      <td>2020</td>\n      <td>2</td>\n      <td>regular</td>\n      <td>Iowa State</td>\n      <td>Big 12</td>\n      <td>Louisiana</td>\n      <td>Sun Belt</td>\n      <td>-13.5</td>\n      <td>-17.0</td>\n      <td>Iowa State</td>\n      <td>Iowa State</td>\n      <td>17.0</td>\n      <td>2020-09-12 16:00:00+00:00</td>\n    </tr>\n    <tr>\n      <th>4</th>\n      <td>401236038</td>\n      <td>2020</td>\n      <td>2</td>\n      <td>regular</td>\n      <td>West Virginia</td>\n      <td>Big 12</td>\n      <td>Eastern Kentucky</td>\n      <td>MISSING</td>\n      <td>-41.0</td>\n      <td>-44.0</td>\n      <td>West Virginia</td>\n      <td>West Virginia</td>\n      <td>-46.0</td>\n      <td>2020-09-12 16:00:00+00:00</td>\n    </tr>\n    <tr>\n      <th>5</th>\n      <td>401236053</td>\n      <td>2020</td>\n      <td>2</td>\n      <td>regular</td>\n      <td>Kansas State</td>\n      <td>Big 12</td>\n      <td>Arkansas State</td>\n      <td>Sun Belt</td>\n      <td>-14.5</td>\n      <td>-14.5</td>\n      <td>Kansas State</td>\n      <td>Kansas State</td>\n      <td>4.0</td>\n      <td>2020-09-12 16:00:00+00:00</td>\n    </tr>\n    <tr>\n      <th>6</th>\n      <td>401240296</td>\n      <td>2020</td>\n      <td>2</td>\n      <td>regular</td>\n      <td>Baylor</td>\n      <td>Big 12</td>\n      <td>Louisiana Tech</td>\n      <td>Conference USA</td>\n      <td>-18.5</td>\n      <td>-21.5</td>\n      <td>Baylor</td>\n      <td>Baylor</td>\n      <td>0.0</td>\n      <td>2020-09-12 16:00:00+00:00</td>\n    </tr>\n    <tr>\n      <th>7</th>\n      <td>401240113</td>\n      <td>2020</td>\n      <td>2</td>\n      <td>regular</td>\n      <td>Army</td>\n      <td>FBS Independents</td>\n      <td>Louisiana Monroe</td>\n      <td>Sun Belt</td>\n      <td>-24.5</td>\n      <td>-16.5</td>\n      <td>Louisiana Monroe</td>\n      <td>Army</td>\n      <td>-30.0</td>\n      <td>2020-09-12 17:30:00+00:00</td>\n    </tr>\n    <tr>\n      <th>8</th>\n      <td>401234574</td>\n      <td>2020</td>\n      <td>2</td>\n      <td>regular</td>\n      <td>Notre Dame</td>\n      <td>FBS Independents</td>\n      <td>Duke</td>\n      <td>ACC</td>\n      <td>-21.5</td>\n      <td>-21.0</td>\n      <td>Duke</td>\n      <td>Notre Dame</td>\n      <td>-14.0</td>\n      <td>2020-09-12 18:30:00+00:00</td>\n    </tr>\n    <tr>\n      <th>9</th>\n      <td>401207113</td>\n      <td>2020</td>\n      <td>2</td>\n      <td>regular</td>\n      <td>Texas State</td>\n      <td>Sun Belt</td>\n      <td>UT San Antonio</td>\n      <td>Conference USA</td>\n      <td>-6.0</td>\n      <td>-4.5</td>\n      <td>UT San Antonio</td>\n      <td>Texas State</td>\n      <td>3.0</td>\n      <td>2020-09-12 19:30:00+00:00</td>\n    </tr>\n    <tr>\n      <th>10</th>\n      <td>401234563</td>\n      <td>2020</td>\n      <td>2</td>\n      <td>regular</td>\n      <td>Florida State</td>\n      <td>ACC</td>\n      <td>Georgia Tech</td>\n      <td>ACC</td>\n      <td>-13.5</td>\n      <td>-13.5</td>\n      <td>Florida State</td>\n      <td>Florida State</td>\n      <td>3.0</td>\n      <td>2020-09-12 20:00:00+00:00</td>\n    </tr>\n    <tr>\n      <th>11</th>\n      <td>401240233</td>\n      <td>2020</td>\n      <td>2</td>\n      <td>regular</td>\n      <td>Pittsburgh</td>\n      <td>ACC</td>\n      <td>Austin Peay</td>\n      <td>MISSING</td>\n      <td>-30.5</td>\n      <td>-30.0</td>\n      <td>Austin Peay</td>\n      <td>Pittsburgh</td>\n      <td>-55.0</td>\n      <td>2020-09-12 20:00:00+00:00</td>\n    </tr>\n    <tr>\n      <th>12</th>\n      <td>401215298</td>\n      <td>2020</td>\n      <td>2</td>\n      <td>regular</td>\n      <td>Georgia Southern</td>\n      <td>Sun Belt</td>\n      <td>Campbell</td>\n      <td>MISSING</td>\n      <td>-27.5</td>\n      <td>-26.5</td>\n      <td>Campbell</td>\n      <td>Georgia Southern</td>\n      <td>-1.0</td>\n      <td>2020-09-12 20:14:00+00:00</td>\n    </tr>\n    <tr>\n      <th>13</th>\n      <td>401236054</td>\n      <td>2020</td>\n      <td>2</td>\n      <td>regular</td>\n      <td>Oklahoma</td>\n      <td>Big 12</td>\n      <td>Missouri State</td>\n      <td>MISSING</td>\n      <td>-48.0</td>\n      <td>-49.5</td>\n      <td>Oklahoma</td>\n      <td>Oklahoma</td>\n      <td>-48.0</td>\n      <td>2020-09-12 23:00:00+00:00</td>\n    </tr>\n    <tr>\n      <th>14</th>\n      <td>401240039</td>\n      <td>2020</td>\n      <td>2</td>\n      <td>regular</td>\n      <td>South Florida</td>\n      <td>American Athletic</td>\n      <td>The Citadel</td>\n      <td>MISSING</td>\n      <td>-17.5</td>\n      <td>-17.0</td>\n      <td>The Citadel</td>\n      <td>South Florida</td>\n      <td>-21.0</td>\n      <td>2020-09-12 23:00:00+00:00</td>\n    </tr>\n    <tr>\n      <th>15</th>\n      <td>401234562</td>\n      <td>2020</td>\n      <td>2</td>\n      <td>regular</td>\n      <td>Wake Forest</td>\n      <td>ACC</td>\n      <td>Clemson</td>\n      <td>ACC</td>\n      <td>36.0</td>\n      <td>40.0</td>\n      <td>Clemson</td>\n      <td>Clemson</td>\n      <td>24.0</td>\n      <td>2020-09-12 23:30:00+00:00</td>\n    </tr>\n    <tr>\n      <th>16</th>\n      <td>401239973</td>\n      <td>2020</td>\n      <td>2</td>\n      <td>regular</td>\n      <td>South Alabama</td>\n      <td>Sun Belt</td>\n      <td>Tulane</td>\n      <td>American Athletic</td>\n      <td>10.5</td>\n      <td>9.5</td>\n      <td>South Alabama</td>\n      <td>Tulane</td>\n      <td>3.0</td>\n      <td>2020-09-12 23:30:00+00:00</td>\n    </tr>\n    <tr>\n      <th>17</th>\n      <td>401236222</td>\n      <td>2020</td>\n      <td>2</td>\n      <td>regular</td>\n      <td>Texas</td>\n      <td>Big 12</td>\n      <td>UTEP</td>\n      <td>Conference USA</td>\n      <td>-44.0</td>\n      <td>-41.0</td>\n      <td>UTEP</td>\n      <td>Texas</td>\n      <td>-56.0</td>\n      <td>2020-09-13 00:00:00+00:00</td>\n    </tr>\n    <tr>\n      <th>18</th>\n      <td>401236039</td>\n      <td>2020</td>\n      <td>2</td>\n      <td>regular</td>\n      <td>Texas Tech</td>\n      <td>Big 12</td>\n      <td>Houston Baptist</td>\n      <td>MISSING</td>\n      <td>-40.0</td>\n      <td>-39.5</td>\n      <td>Houston Baptist</td>\n      <td>Texas Tech</td>\n      <td>-2.0</td>\n      <td>2020-09-13 00:00:00+00:00</td>\n    </tr>\n    <tr>\n      <th>19</th>\n      <td>401234564</td>\n      <td>2020</td>\n      <td>2</td>\n      <td>regular</td>\n      <td>Louisville</td>\n      <td>ACC</td>\n      <td>Western Kentucky</td>\n      <td>Conference USA</td>\n      <td>-13.5</td>\n      <td>-16.0</td>\n      <td>Louisville</td>\n      <td>Louisville</td>\n      <td>-14.0</td>\n      <td>2020-09-13 00:00:00+00:00</td>\n    </tr>\n    <tr>\n      <th>20</th>\n      <td>401236658</td>\n      <td>2020</td>\n      <td>2</td>\n      <td>regular</td>\n      <td>Kansas</td>\n      <td>Big 12</td>\n      <td>Coastal Carolina</td>\n      <td>Sun Belt</td>\n      <td>-6.5</td>\n      <td>-8.0</td>\n      <td>Kansas</td>\n      <td>Kansas</td>\n      <td>NaN</td>\n      <td>2020-09-13 02:00:00+00:00</td>\n    </tr>\n    <tr>\n      <th>21</th>\n      <td>401236041</td>\n      <td>2020</td>\n      <td>2</td>\n      <td>regular</td>\n      <td>Oklahoma State</td>\n      <td>Big 12</td>\n      <td>Tulsa</td>\n      <td>American Athletic</td>\n      <td>-22.0</td>\n      <td>-23.0</td>\n      <td>Oklahoma State</td>\n      <td>Oklahoma State</td>\n      <td>NaN</td>\n      <td>2020-09-19 16:00:00+00:00</td>\n    </tr>\n  </tbody>\n</table>\n</div>"
     },
     "metadata": {},
     "execution_count": 97
    }
   ],
   "source": [
    "predict_df"
   ]
  },
  {
   "cell_type": "code",
   "execution_count": 98,
   "metadata": {},
   "outputs": [],
   "source": [
    "# Spread Result Calculation\n",
    "won = ((predict_df['predicted_spread'] > predict_df['pre_game_spread']) & (predict_df['spread_target'].fillna(0) > predict_df['pre_game_spread'])) | (\n",
    "    (predict_df['predicted_spread'] <= predict_df['pre_game_spread']) & (predict_df['spread_target'].fillna(0) < predict_df['pre_game_spread']))\n",
    "\n",
    "push = predict_df['spread_target'].fillna(0) == predict_df['pre_game_spread']\n",
    "\n",
    "conditions = [won, push]\n",
    "choices = ['Won', 'Push']\n",
    "\n",
    "predict_df['spread_result'] = np.select(condlist=conditions, choicelist=choices, default='Lost')\n",
    "predict_df['spread_result'] = np.where(predict_df['spread_target'].isnull(), np.nan, predict_df['spread_result'])"
   ]
  },
  {
   "cell_type": "code",
   "execution_count": 99,
   "metadata": {},
   "outputs": [],
   "source": [
    "# Straight Up Result Calculation\n",
    "result = predict_df['spread_target'].fillna(1) * predict_df['predicted_spread']\n",
    "\n",
    "predict_df['straight_result'] = np.where(result > 0, 'Won', 'Lost')\n",
    "predict_df['straight_result'] = np.where(predict_df['spread_target'].isnull(), np.nan, predict_df['straight_result'])"
   ]
  },
  {
   "cell_type": "code",
   "execution_count": 100,
   "metadata": {},
   "outputs": [],
   "source": [
    "# Rename Column\n",
    "predict_df = predict_df.rename(columns={'spread_target':'actual_spread'})"
   ]
  },
  {
   "cell_type": "code",
   "execution_count": 101,
   "metadata": {},
   "outputs": [
    {
     "output_type": "execute_result",
     "data": {
      "text/plain": "      game_id  season  week season_type          home_team    home_conference  \\\n0   401234559    2020     2     regular              Miami                ACC   \n1   401236081    2020     2     regular  Appalachian State           Sun Belt   \n2   401234565    2020     2     regular     North Carolina                ACC   \n3   401236221    2020     2     regular         Iowa State             Big 12   \n4   401236038    2020     2     regular      West Virginia             Big 12   \n5   401236053    2020     2     regular       Kansas State             Big 12   \n6   401240296    2020     2     regular             Baylor             Big 12   \n7   401240113    2020     2     regular               Army   FBS Independents   \n8   401234574    2020     2     regular         Notre Dame   FBS Independents   \n9   401207113    2020     2     regular        Texas State           Sun Belt   \n10  401234563    2020     2     regular      Florida State                ACC   \n11  401240233    2020     2     regular         Pittsburgh                ACC   \n12  401215298    2020     2     regular   Georgia Southern           Sun Belt   \n13  401236054    2020     2     regular           Oklahoma             Big 12   \n14  401240039    2020     2     regular      South Florida  American Athletic   \n15  401234562    2020     2     regular        Wake Forest                ACC   \n16  401239973    2020     2     regular      South Alabama           Sun Belt   \n17  401236222    2020     2     regular              Texas             Big 12   \n18  401236039    2020     2     regular         Texas Tech             Big 12   \n19  401234564    2020     2     regular         Louisville                ACC   \n20  401236658    2020     2     regular             Kansas             Big 12   \n21  401236041    2020     2     regular     Oklahoma State             Big 12   \n\n           away_team    away_conference  pre_game_spread  predicted_spread  \\\n0                UAB     Conference USA            -14.5             -20.5   \n1          Charlotte     Conference USA            -16.5             -22.5   \n2           Syracuse                ACC            -24.0             -18.5   \n3          Louisiana           Sun Belt            -13.5             -17.0   \n4   Eastern Kentucky            MISSING            -41.0             -44.0   \n5     Arkansas State           Sun Belt            -14.5             -14.5   \n6     Louisiana Tech     Conference USA            -18.5             -21.5   \n7   Louisiana Monroe           Sun Belt            -24.5             -16.5   \n8               Duke                ACC            -21.5             -21.0   \n9     UT San Antonio     Conference USA             -6.0              -4.5   \n10      Georgia Tech                ACC            -13.5             -13.5   \n11       Austin Peay            MISSING            -30.5             -30.0   \n12          Campbell            MISSING            -27.5             -26.5   \n13    Missouri State            MISSING            -48.0             -49.5   \n14       The Citadel            MISSING            -17.5             -17.0   \n15           Clemson                ACC             36.0              40.0   \n16            Tulane  American Athletic             10.5               9.5   \n17              UTEP     Conference USA            -44.0             -41.0   \n18   Houston Baptist            MISSING            -40.0             -39.5   \n19  Western Kentucky     Conference USA            -13.5             -16.0   \n20  Coastal Carolina           Sun Belt             -6.5              -8.0   \n21             Tulsa  American Athletic            -22.0             -23.0   \n\n          spread_pick      straight_pick  actual_spread  \\\n0               Miami              Miami          -17.0   \n1   Appalachian State  Appalachian State          -15.0   \n2            Syracuse     North Carolina          -25.0   \n3          Iowa State         Iowa State           17.0   \n4       West Virginia      West Virginia          -46.0   \n5        Kansas State       Kansas State            4.0   \n6              Baylor             Baylor            0.0   \n7    Louisiana Monroe               Army          -30.0   \n8                Duke         Notre Dame          -14.0   \n9      UT San Antonio        Texas State            3.0   \n10      Florida State      Florida State            3.0   \n11        Austin Peay         Pittsburgh          -55.0   \n12           Campbell   Georgia Southern           -1.0   \n13           Oklahoma           Oklahoma          -48.0   \n14        The Citadel      South Florida          -21.0   \n15            Clemson            Clemson           24.0   \n16      South Alabama             Tulane            3.0   \n17               UTEP              Texas          -56.0   \n18    Houston Baptist         Texas Tech           -2.0   \n19         Louisville         Louisville          -14.0   \n20             Kansas             Kansas            NaN   \n21     Oklahoma State     Oklahoma State            NaN   \n\n                  start_date spread_result straight_result  \n0  2020-09-11 00:00:00+00:00           Won             Won  \n1  2020-09-12 16:00:00+00:00          Lost             Won  \n2  2020-09-12 16:00:00+00:00          Lost             Won  \n3  2020-09-12 16:00:00+00:00          Lost            Lost  \n4  2020-09-12 16:00:00+00:00           Won             Won  \n5  2020-09-12 16:00:00+00:00           Won            Lost  \n6  2020-09-12 16:00:00+00:00          Lost            Lost  \n7  2020-09-12 17:30:00+00:00          Lost             Won  \n8  2020-09-12 18:30:00+00:00           Won             Won  \n9  2020-09-12 19:30:00+00:00           Won            Lost  \n10 2020-09-12 20:00:00+00:00           Won            Lost  \n11 2020-09-12 20:00:00+00:00          Lost             Won  \n12 2020-09-12 20:14:00+00:00           Won             Won  \n13 2020-09-12 23:00:00+00:00          Push             Won  \n14 2020-09-12 23:00:00+00:00          Lost             Won  \n15 2020-09-12 23:30:00+00:00          Lost             Won  \n16 2020-09-12 23:30:00+00:00           Won             Won  \n17 2020-09-13 00:00:00+00:00          Lost             Won  \n18 2020-09-13 00:00:00+00:00           Won             Won  \n19 2020-09-13 00:00:00+00:00           Won             Won  \n20 2020-09-13 02:00:00+00:00           NaN             NaN  \n21 2020-09-19 16:00:00+00:00           NaN             NaN  ",
      "text/html": "<div>\n<style scoped>\n    .dataframe tbody tr th:only-of-type {\n        vertical-align: middle;\n    }\n\n    .dataframe tbody tr th {\n        vertical-align: top;\n    }\n\n    .dataframe thead th {\n        text-align: right;\n    }\n</style>\n<table border=\"1\" class=\"dataframe\">\n  <thead>\n    <tr style=\"text-align: right;\">\n      <th></th>\n      <th>game_id</th>\n      <th>season</th>\n      <th>week</th>\n      <th>season_type</th>\n      <th>home_team</th>\n      <th>home_conference</th>\n      <th>away_team</th>\n      <th>away_conference</th>\n      <th>pre_game_spread</th>\n      <th>predicted_spread</th>\n      <th>spread_pick</th>\n      <th>straight_pick</th>\n      <th>actual_spread</th>\n      <th>start_date</th>\n      <th>spread_result</th>\n      <th>straight_result</th>\n    </tr>\n  </thead>\n  <tbody>\n    <tr>\n      <th>0</th>\n      <td>401234559</td>\n      <td>2020</td>\n      <td>2</td>\n      <td>regular</td>\n      <td>Miami</td>\n      <td>ACC</td>\n      <td>UAB</td>\n      <td>Conference USA</td>\n      <td>-14.5</td>\n      <td>-20.5</td>\n      <td>Miami</td>\n      <td>Miami</td>\n      <td>-17.0</td>\n      <td>2020-09-11 00:00:00+00:00</td>\n      <td>Won</td>\n      <td>Won</td>\n    </tr>\n    <tr>\n      <th>1</th>\n      <td>401236081</td>\n      <td>2020</td>\n      <td>2</td>\n      <td>regular</td>\n      <td>Appalachian State</td>\n      <td>Sun Belt</td>\n      <td>Charlotte</td>\n      <td>Conference USA</td>\n      <td>-16.5</td>\n      <td>-22.5</td>\n      <td>Appalachian State</td>\n      <td>Appalachian State</td>\n      <td>-15.0</td>\n      <td>2020-09-12 16:00:00+00:00</td>\n      <td>Lost</td>\n      <td>Won</td>\n    </tr>\n    <tr>\n      <th>2</th>\n      <td>401234565</td>\n      <td>2020</td>\n      <td>2</td>\n      <td>regular</td>\n      <td>North Carolina</td>\n      <td>ACC</td>\n      <td>Syracuse</td>\n      <td>ACC</td>\n      <td>-24.0</td>\n      <td>-18.5</td>\n      <td>Syracuse</td>\n      <td>North Carolina</td>\n      <td>-25.0</td>\n      <td>2020-09-12 16:00:00+00:00</td>\n      <td>Lost</td>\n      <td>Won</td>\n    </tr>\n    <tr>\n      <th>3</th>\n      <td>401236221</td>\n      <td>2020</td>\n      <td>2</td>\n      <td>regular</td>\n      <td>Iowa State</td>\n      <td>Big 12</td>\n      <td>Louisiana</td>\n      <td>Sun Belt</td>\n      <td>-13.5</td>\n      <td>-17.0</td>\n      <td>Iowa State</td>\n      <td>Iowa State</td>\n      <td>17.0</td>\n      <td>2020-09-12 16:00:00+00:00</td>\n      <td>Lost</td>\n      <td>Lost</td>\n    </tr>\n    <tr>\n      <th>4</th>\n      <td>401236038</td>\n      <td>2020</td>\n      <td>2</td>\n      <td>regular</td>\n      <td>West Virginia</td>\n      <td>Big 12</td>\n      <td>Eastern Kentucky</td>\n      <td>MISSING</td>\n      <td>-41.0</td>\n      <td>-44.0</td>\n      <td>West Virginia</td>\n      <td>West Virginia</td>\n      <td>-46.0</td>\n      <td>2020-09-12 16:00:00+00:00</td>\n      <td>Won</td>\n      <td>Won</td>\n    </tr>\n    <tr>\n      <th>5</th>\n      <td>401236053</td>\n      <td>2020</td>\n      <td>2</td>\n      <td>regular</td>\n      <td>Kansas State</td>\n      <td>Big 12</td>\n      <td>Arkansas State</td>\n      <td>Sun Belt</td>\n      <td>-14.5</td>\n      <td>-14.5</td>\n      <td>Kansas State</td>\n      <td>Kansas State</td>\n      <td>4.0</td>\n      <td>2020-09-12 16:00:00+00:00</td>\n      <td>Won</td>\n      <td>Lost</td>\n    </tr>\n    <tr>\n      <th>6</th>\n      <td>401240296</td>\n      <td>2020</td>\n      <td>2</td>\n      <td>regular</td>\n      <td>Baylor</td>\n      <td>Big 12</td>\n      <td>Louisiana Tech</td>\n      <td>Conference USA</td>\n      <td>-18.5</td>\n      <td>-21.5</td>\n      <td>Baylor</td>\n      <td>Baylor</td>\n      <td>0.0</td>\n      <td>2020-09-12 16:00:00+00:00</td>\n      <td>Lost</td>\n      <td>Lost</td>\n    </tr>\n    <tr>\n      <th>7</th>\n      <td>401240113</td>\n      <td>2020</td>\n      <td>2</td>\n      <td>regular</td>\n      <td>Army</td>\n      <td>FBS Independents</td>\n      <td>Louisiana Monroe</td>\n      <td>Sun Belt</td>\n      <td>-24.5</td>\n      <td>-16.5</td>\n      <td>Louisiana Monroe</td>\n      <td>Army</td>\n      <td>-30.0</td>\n      <td>2020-09-12 17:30:00+00:00</td>\n      <td>Lost</td>\n      <td>Won</td>\n    </tr>\n    <tr>\n      <th>8</th>\n      <td>401234574</td>\n      <td>2020</td>\n      <td>2</td>\n      <td>regular</td>\n      <td>Notre Dame</td>\n      <td>FBS Independents</td>\n      <td>Duke</td>\n      <td>ACC</td>\n      <td>-21.5</td>\n      <td>-21.0</td>\n      <td>Duke</td>\n      <td>Notre Dame</td>\n      <td>-14.0</td>\n      <td>2020-09-12 18:30:00+00:00</td>\n      <td>Won</td>\n      <td>Won</td>\n    </tr>\n    <tr>\n      <th>9</th>\n      <td>401207113</td>\n      <td>2020</td>\n      <td>2</td>\n      <td>regular</td>\n      <td>Texas State</td>\n      <td>Sun Belt</td>\n      <td>UT San Antonio</td>\n      <td>Conference USA</td>\n      <td>-6.0</td>\n      <td>-4.5</td>\n      <td>UT San Antonio</td>\n      <td>Texas State</td>\n      <td>3.0</td>\n      <td>2020-09-12 19:30:00+00:00</td>\n      <td>Won</td>\n      <td>Lost</td>\n    </tr>\n    <tr>\n      <th>10</th>\n      <td>401234563</td>\n      <td>2020</td>\n      <td>2</td>\n      <td>regular</td>\n      <td>Florida State</td>\n      <td>ACC</td>\n      <td>Georgia Tech</td>\n      <td>ACC</td>\n      <td>-13.5</td>\n      <td>-13.5</td>\n      <td>Florida State</td>\n      <td>Florida State</td>\n      <td>3.0</td>\n      <td>2020-09-12 20:00:00+00:00</td>\n      <td>Won</td>\n      <td>Lost</td>\n    </tr>\n    <tr>\n      <th>11</th>\n      <td>401240233</td>\n      <td>2020</td>\n      <td>2</td>\n      <td>regular</td>\n      <td>Pittsburgh</td>\n      <td>ACC</td>\n      <td>Austin Peay</td>\n      <td>MISSING</td>\n      <td>-30.5</td>\n      <td>-30.0</td>\n      <td>Austin Peay</td>\n      <td>Pittsburgh</td>\n      <td>-55.0</td>\n      <td>2020-09-12 20:00:00+00:00</td>\n      <td>Lost</td>\n      <td>Won</td>\n    </tr>\n    <tr>\n      <th>12</th>\n      <td>401215298</td>\n      <td>2020</td>\n      <td>2</td>\n      <td>regular</td>\n      <td>Georgia Southern</td>\n      <td>Sun Belt</td>\n      <td>Campbell</td>\n      <td>MISSING</td>\n      <td>-27.5</td>\n      <td>-26.5</td>\n      <td>Campbell</td>\n      <td>Georgia Southern</td>\n      <td>-1.0</td>\n      <td>2020-09-12 20:14:00+00:00</td>\n      <td>Won</td>\n      <td>Won</td>\n    </tr>\n    <tr>\n      <th>13</th>\n      <td>401236054</td>\n      <td>2020</td>\n      <td>2</td>\n      <td>regular</td>\n      <td>Oklahoma</td>\n      <td>Big 12</td>\n      <td>Missouri State</td>\n      <td>MISSING</td>\n      <td>-48.0</td>\n      <td>-49.5</td>\n      <td>Oklahoma</td>\n      <td>Oklahoma</td>\n      <td>-48.0</td>\n      <td>2020-09-12 23:00:00+00:00</td>\n      <td>Push</td>\n      <td>Won</td>\n    </tr>\n    <tr>\n      <th>14</th>\n      <td>401240039</td>\n      <td>2020</td>\n      <td>2</td>\n      <td>regular</td>\n      <td>South Florida</td>\n      <td>American Athletic</td>\n      <td>The Citadel</td>\n      <td>MISSING</td>\n      <td>-17.5</td>\n      <td>-17.0</td>\n      <td>The Citadel</td>\n      <td>South Florida</td>\n      <td>-21.0</td>\n      <td>2020-09-12 23:00:00+00:00</td>\n      <td>Lost</td>\n      <td>Won</td>\n    </tr>\n    <tr>\n      <th>15</th>\n      <td>401234562</td>\n      <td>2020</td>\n      <td>2</td>\n      <td>regular</td>\n      <td>Wake Forest</td>\n      <td>ACC</td>\n      <td>Clemson</td>\n      <td>ACC</td>\n      <td>36.0</td>\n      <td>40.0</td>\n      <td>Clemson</td>\n      <td>Clemson</td>\n      <td>24.0</td>\n      <td>2020-09-12 23:30:00+00:00</td>\n      <td>Lost</td>\n      <td>Won</td>\n    </tr>\n    <tr>\n      <th>16</th>\n      <td>401239973</td>\n      <td>2020</td>\n      <td>2</td>\n      <td>regular</td>\n      <td>South Alabama</td>\n      <td>Sun Belt</td>\n      <td>Tulane</td>\n      <td>American Athletic</td>\n      <td>10.5</td>\n      <td>9.5</td>\n      <td>South Alabama</td>\n      <td>Tulane</td>\n      <td>3.0</td>\n      <td>2020-09-12 23:30:00+00:00</td>\n      <td>Won</td>\n      <td>Won</td>\n    </tr>\n    <tr>\n      <th>17</th>\n      <td>401236222</td>\n      <td>2020</td>\n      <td>2</td>\n      <td>regular</td>\n      <td>Texas</td>\n      <td>Big 12</td>\n      <td>UTEP</td>\n      <td>Conference USA</td>\n      <td>-44.0</td>\n      <td>-41.0</td>\n      <td>UTEP</td>\n      <td>Texas</td>\n      <td>-56.0</td>\n      <td>2020-09-13 00:00:00+00:00</td>\n      <td>Lost</td>\n      <td>Won</td>\n    </tr>\n    <tr>\n      <th>18</th>\n      <td>401236039</td>\n      <td>2020</td>\n      <td>2</td>\n      <td>regular</td>\n      <td>Texas Tech</td>\n      <td>Big 12</td>\n      <td>Houston Baptist</td>\n      <td>MISSING</td>\n      <td>-40.0</td>\n      <td>-39.5</td>\n      <td>Houston Baptist</td>\n      <td>Texas Tech</td>\n      <td>-2.0</td>\n      <td>2020-09-13 00:00:00+00:00</td>\n      <td>Won</td>\n      <td>Won</td>\n    </tr>\n    <tr>\n      <th>19</th>\n      <td>401234564</td>\n      <td>2020</td>\n      <td>2</td>\n      <td>regular</td>\n      <td>Louisville</td>\n      <td>ACC</td>\n      <td>Western Kentucky</td>\n      <td>Conference USA</td>\n      <td>-13.5</td>\n      <td>-16.0</td>\n      <td>Louisville</td>\n      <td>Louisville</td>\n      <td>-14.0</td>\n      <td>2020-09-13 00:00:00+00:00</td>\n      <td>Won</td>\n      <td>Won</td>\n    </tr>\n    <tr>\n      <th>20</th>\n      <td>401236658</td>\n      <td>2020</td>\n      <td>2</td>\n      <td>regular</td>\n      <td>Kansas</td>\n      <td>Big 12</td>\n      <td>Coastal Carolina</td>\n      <td>Sun Belt</td>\n      <td>-6.5</td>\n      <td>-8.0</td>\n      <td>Kansas</td>\n      <td>Kansas</td>\n      <td>NaN</td>\n      <td>2020-09-13 02:00:00+00:00</td>\n      <td>NaN</td>\n      <td>NaN</td>\n    </tr>\n    <tr>\n      <th>21</th>\n      <td>401236041</td>\n      <td>2020</td>\n      <td>2</td>\n      <td>regular</td>\n      <td>Oklahoma State</td>\n      <td>Big 12</td>\n      <td>Tulsa</td>\n      <td>American Athletic</td>\n      <td>-22.0</td>\n      <td>-23.0</td>\n      <td>Oklahoma State</td>\n      <td>Oklahoma State</td>\n      <td>NaN</td>\n      <td>2020-09-19 16:00:00+00:00</td>\n      <td>NaN</td>\n      <td>NaN</td>\n    </tr>\n  </tbody>\n</table>\n</div>"
     },
     "metadata": {},
     "execution_count": 101
    }
   ],
   "source": [
    "# predict_df['week'] = predict_df.week.astype(int)\n",
    "predict_df"
   ]
  },
  {
   "cell_type": "code",
   "execution_count": 102,
   "metadata": {},
   "outputs": [],
   "source": [
    "# Export\n",
    "filepath = Path('../zillion_picks/picks')\n",
    "\n",
    "for key, group in predict_df.groupby(['season', 'week', 'season_type']):\n",
    "    if group.season_type.unique() == 'postseason':\n",
    "        group.to_csv(filepath/f'premium/{key[0]}_postseason.csv', index=False)\n",
    "    else:\n",
    "        group.to_csv(filepath/f'premium/{key[0]}_{str(key[1]).rjust(2, \"0\")}.csv', index=False)"
   ]
  },
  {
   "cell_type": "code",
   "execution_count": 25,
   "metadata": {},
   "outputs": [],
   "source": []
  },
  {
   "cell_type": "code",
   "execution_count": 13,
   "metadata": {
    "tags": []
   },
   "outputs": [],
   "source": []
  },
  {
   "cell_type": "code",
   "execution_count": 103,
   "metadata": {},
   "outputs": [
    {
     "output_type": "execute_result",
     "data": {
      "text/plain": "pre_game_spread                    0.092599\nrushingYardsAway                   0.005658\ncommits_All PositionsHome          0.005430\naverageStars_Defensive BackHome    0.005231\nfirstDownsHome                     0.004877\n                                     ...   \ninterceptionTDsHome                0.000000\ncommits_Defensive BackHome         0.000000\npre_game_away_win_prob             0.000000\npre_game_home_win_prob             0.000000\nweek                               0.000000\nLength: 301, dtype: float32"
     },
     "metadata": {},
     "execution_count": 103
    }
   ],
   "source": [
    "important_features = pd.Series(data=spread_model.feature_importances_, index=X_train.columns)\n",
    "important_features.sort_values(ascending=False,inplace=True)\n",
    "important_features"
   ]
  },
  {
   "cell_type": "code",
   "execution_count": null,
   "metadata": {},
   "outputs": [],
   "source": []
  }
 ],
 "metadata": {
  "language_info": {
   "name": "python",
   "codemirror_mode": {
    "name": "ipython",
    "version": 3
   },
   "version": "3.8.2-final"
  },
  "orig_nbformat": 2,
  "file_extension": ".py",
  "mimetype": "text/x-python",
  "name": "python",
  "npconvert_exporter": "python",
  "pygments_lexer": "ipython3",
  "version": 3,
  "kernelspec": {
   "name": "python38264bitzillionpickscondadd1d5d1f064048d389c34f4ee92c62eb",
   "display_name": "Python 3.8.2 64-bit ('zillion_picks': conda)"
  }
 },
 "nbformat": 4,
 "nbformat_minor": 2
}